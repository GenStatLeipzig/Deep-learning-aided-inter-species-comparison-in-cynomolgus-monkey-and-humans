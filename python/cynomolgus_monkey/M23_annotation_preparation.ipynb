{
 "cells": [
  {
   "cell_type": "code",
   "execution_count": null,
   "id": "1d06b6c6-b9f0-4ed4-a078-30088d847690",
   "metadata": {},
   "outputs": [],
   "source": [
    "import numpy as np\n",
    "import scanpy as sc\n",
    "import seaborn as sns\n",
    "import os\n",
    "import pandas as pd\n",
    "import matplotlib.pyplot as plt\n",
    "import warnings\n",
    "import sys\n",
    "path_helper = [\"C:\\\\\",\"Users\",\"vfriedrich\",\"projects\",\"monkey_IZI\",\"git_documentation\",\"scRNAseq_cross_species_primate_human\",\"analysis\",\"helper\"]\n",
    "sys.path.append(os.path.join(*path_helper))\n",
    "import helperVDF as h\n",
    "print(sys.executable)"
   ]
  },
  {
   "cell_type": "code",
   "execution_count": null,
   "id": "00e85fde-e0d3-429f-b86d-e67031b345c0",
   "metadata": {},
   "outputs": [],
   "source": [
    "h.print_main_versions()"
   ]
  },
  {
   "cell_type": "code",
   "execution_count": null,
   "id": "0745b815-1f58-4de1-9e7a-dfbd39ee9980",
   "metadata": {},
   "outputs": [],
   "source": [
    "#env: scArches_env"
   ]
  },
  {
   "cell_type": "code",
   "execution_count": null,
   "id": "529ad4fd-d7a6-4ea8-b4ed-de9d6dd49004",
   "metadata": {},
   "outputs": [],
   "source": [
    "pre = \"M23\"\n",
    "drive = 'F'\n",
    "species = 'cyno'\n",
    "base_model_path,base_table_path,base_plots_path,base_anndata_objects = h.return_local_paths(drive = drive,\n",
    "                                                                                            pre = pre,\n",
    "                                                                                            add_path = True)\n",
    "#cyno\n",
    "_,base_table_path_H21,_,_ = h.return_local_paths(drive = drive,pre = \"H21\",add_path = False)\n",
    "\n",
    "#human\n",
    "_,base_table_path_M21,_,_ = h.return_local_paths(drive = drive,pre = \"M21\",add_path = False)"
   ]
  },
  {
   "cell_type": "code",
   "execution_count": null,
   "id": "29772c89-b732-40e9-80fc-f32172925b88",
   "metadata": {},
   "outputs": [],
   "source": [
    "#cyno\n",
    "species = 'cyno'\n",
    "warnings.filterwarnings(\"ignore\")\n",
    "IDs = h.return_cellranger_IDs(species)\n",
    "adata_all_cyno = h.read_bg_corrected_counts(drive,cellranger_IDs = IDs,pre_bg_correction = 'M05', species = species)\n",
    "#add MT nomenclature\n",
    "cynoanno = pd.read_csv(os.path.join(h.return_git_path_local(),\"preprocessing\",\"ensembl\",\"mart_export.txt.gz\"), compression='gzip')\n",
    "mt_genes_cyno = h.return_mt_genes_cyno(cynoanno)\n",
    "adata_all_cyno = h.add_MT_prefix(adata=adata_all_cyno,mt_genes=mt_genes_cyno)"
   ]
  },
  {
   "cell_type": "code",
   "execution_count": null,
   "id": "4942e7ee-5dc9-4b5d-b89d-6f2b2ec6f8c7",
   "metadata": {},
   "outputs": [],
   "source": [
    "anno_cyno = pd.read_csv((os.path.join(base_table_path_M21,'M21_'  + species + '_anno_QC.csv')),index_col=0)"
   ]
  },
  {
   "cell_type": "code",
   "execution_count": null,
   "id": "77cb8382-4a58-4d0e-9ab3-d7035071c0ff",
   "metadata": {},
   "outputs": [],
   "source": [
    "path_s0115_cellano_azimuth =  os.path.join('F:\\\\monkey_IZI\\\\analysisR','s0115_cellano_azimuth.txt')\n",
    "s0115_cellano_azimuth = pd.read_csv(path_s0115_cellano_azimuth,delimiter = \"\\t\",index_col =0)\n",
    "s0115_cellano_azimuth_cyno = s0115_cellano_azimuth[s0115_cellano_azimuth['species'] == species]"
   ]
  },
  {
   "cell_type": "code",
   "execution_count": null,
   "id": "4e4749d2-f4ac-4147-82e8-e813b1f2e81b",
   "metadata": {},
   "outputs": [],
   "source": [
    "adata_QC_cyno = h.add_anno_to_adata(adata=adata_all_cyno,\n",
    "                  anno_df=anno_cyno,\n",
    "                  anno_columns_to_add=anno_cyno.columns,\n",
    "                  rsuffix='_R')\n",
    "\n",
    "adata_QC_cyno = h.add_anno_to_adata(adata=adata_all_cyno,\n",
    "                  anno_df=s0115_cellano_azimuth_cyno,\n",
    "                  anno_columns_to_add=s0115_cellano_azimuth_cyno.columns,\n",
    "                  rsuffix='_RR')\n"
   ]
  },
  {
   "cell_type": "code",
   "execution_count": null,
   "id": "f82afaad-14d9-4358-952d-feb8d1dfebcf",
   "metadata": {},
   "outputs": [],
   "source": [
    "#standard filtering - remove cell with zero expression and genes appearing in less than 50 cells\n",
    "adata_QC_cyno,nr_removed_cells,nr_removed_genes = h.standard_scanpy_filter(adata_QC_cyno,min_genes_per_cell=1,min_cells_per_gene=50)\n",
    "\n",
    "print('nr_removed_cells : ' + str(nr_removed_cells))\n",
    "print('nr_removed_genes : ' + str(nr_removed_genes))"
   ]
  },
  {
   "cell_type": "code",
   "execution_count": null,
   "id": "a0ccb258-3fc2-4e8e-81fc-026deee4bc55",
   "metadata": {},
   "outputs": [],
   "source": [
    "adata_passedQC_cyno = h.filter_adata_obs(adata_all_cyno,col_name='QC_summary',val='passed_QC')\n",
    "adata_passedQC_cyno.obs = adata_passedQC_cyno.obs.loc[:, ~adata_passedQC_cyno.obs.columns.duplicated()]"
   ]
  },
  {
   "cell_type": "code",
   "execution_count": null,
   "id": "9d3f244a-0c97-4ad2-bf51-3035395932de",
   "metadata": {},
   "outputs": [],
   "source": [
    "adata_passedQC_cyno_backup = adata_passedQC_cyno.copy()"
   ]
  },
  {
   "cell_type": "markdown",
   "id": "1c3cfb66-827a-4839-8e16-00dc3870505d",
   "metadata": {},
   "source": [
    "### Integration via harmony\n",
    "using python port as described in https://scanpy.readthedocs.io/en/stable/generated/scanpy.external.pp.harmony_integrate.html"
   ]
  },
  {
   "cell_type": "code",
   "execution_count": null,
   "id": "83ad0170-b801-4336-833c-6f8fb1100bdd",
   "metadata": {},
   "outputs": [],
   "source": [
    "#compute umap -> creates key 'X_pca' in obsm\n",
    "sc.pp.pca(adata_passedQC_cyno)\n",
    "sc.pp.pca(adata_passedQC_cyno_backup)"
   ]
  },
  {
   "cell_type": "code",
   "execution_count": null,
   "id": "e7fcd02d-eb84-4650-9024-5cb1f9cada56",
   "metadata": {},
   "outputs": [],
   "source": [
    "sc.external.pp.harmony_integrate(adata_passedQC_cyno, 'experiment')"
   ]
  },
  {
   "cell_type": "code",
   "execution_count": null,
   "id": "a1fb102c-b215-4902-a6b2-a59011c03dcf",
   "metadata": {},
   "outputs": [],
   "source": [
    "sc.pp.neighbors(adata_passedQC_cyno,use_rep = 'X_pca_harmony')\n",
    "sc.pp.neighbors(adata_passedQC_cyno_backup)"
   ]
  },
  {
   "cell_type": "code",
   "execution_count": null,
   "id": "09cb67b9-dbc8-44a0-bfe3-33d4027fe69e",
   "metadata": {},
   "outputs": [],
   "source": [
    "sc.tl.umap(adata_passedQC_cyno)\n",
    "sc.tl.umap(adata_passedQC_cyno_backup)"
   ]
  },
  {
   "cell_type": "code",
   "execution_count": null,
   "id": "9757e8e8-0dd4-468f-a2dd-477d5dd3b7b8",
   "metadata": {},
   "outputs": [],
   "source": [
    "adata_passedQC_cyno.obsm['X_umap_harmony'] = adata_passedQC_cyno.obsm['X_umap'].copy() "
   ]
  },
  {
   "cell_type": "code",
   "execution_count": null,
   "id": "a18aac69-5a16-406f-a705-75698479b172",
   "metadata": {},
   "outputs": [],
   "source": [
    "#No batch correction\n",
    "with plt.rc_context():\n",
    "    plt.figure()\n",
    "    sc.pl.umap(adata_passedQC_cyno_backup,color = 'experiment',show = False,frameon=False)\n",
    "    plt.savefig(os.path.join(base_plots_path,pre + '_umap_no_batch_correction_.pdf'),dpi=300, bbox_inches=\"tight\")\n",
    "    plt.close()\n",
    "sc.pl.umap(adata_passedQC_cyno_backup,color = 'experiment',frameon=False)"
   ]
  },
  {
   "cell_type": "code",
   "execution_count": null,
   "id": "d9eac7e6-f2b0-471c-ad27-53724f337ee3",
   "metadata": {},
   "outputs": [],
   "source": [
    "#batch correction\n",
    "with plt.rc_context():\n",
    "    plt.figure()\n",
    "    sc.pl.umap(adata_passedQC_cyno,color = 'experiment',show = False,frameon=False)\n",
    "    plt.savefig(os.path.join(base_plots_path,pre + '_umap_batch_corrected_.pdf'),dpi=300, bbox_inches=\"tight\")\n",
    "    plt.close()\n",
    "sc.pl.umap(adata_passedQC_cyno,color = 'experiment',frameon=False)\n",
    "\n"
   ]
  },
  {
   "cell_type": "code",
   "execution_count": null,
   "id": "80342edb-175c-435a-8902-33324c1265b9",
   "metadata": {},
   "outputs": [],
   "source": [
    "sc.tl.louvain(adata_passedQC_cyno)"
   ]
  },
  {
   "cell_type": "code",
   "execution_count": null,
   "id": "61abd7c7-a77d-4a11-bef9-7976f2961750",
   "metadata": {},
   "outputs": [],
   "source": [
    "sc.tl.louvain(adata_passedQC_cyno,resolution=2,key_added = 'louvain_res_2')"
   ]
  },
  {
   "cell_type": "code",
   "execution_count": null,
   "id": "852c0dd0-9ce2-414e-bd7f-aefc2320dc37",
   "metadata": {},
   "outputs": [],
   "source": [
    "#batch correction\n",
    "sc.pl.umap(adata_passedQC_cyno,color = ['louvain','louvain_res_2'],legend_loc=\"on data\")"
   ]
  },
  {
   "cell_type": "code",
   "execution_count": null,
   "id": "83c9bb05-52ad-44af-9bd6-3e1a08eb4820",
   "metadata": {},
   "outputs": [],
   "source": [
    "sc.pl.umap(adata_passedQC_cyno,color = ['predicted.celltype.l1','Healty_WholeBlood_maj','COVID19_PBMC_maj'],legend_loc=\"on data\")"
   ]
  },
  {
   "cell_type": "code",
   "execution_count": null,
   "id": "b02078df-b385-4961-aa49-7ef17c20b55f",
   "metadata": {},
   "outputs": [],
   "source": [
    "#compare cell types from automated cell type annotation per louvain cluster (resolution:2)"
   ]
  },
  {
   "cell_type": "code",
   "execution_count": null,
   "id": "32456ce3-86f3-46c9-a0e5-195a2ef5ce6e",
   "metadata": {},
   "outputs": [],
   "source": [
    "tab1 = pd.DataFrame(adata_passedQC_cyno.obs.groupby('louvain_res_2')['predicted.celltype.l1'].value_counts())\n",
    "tab2 = pd.DataFrame(adata_passedQC_cyno.obs.groupby('louvain_res_2')['COVID19_PBMC_maj'].value_counts())\n",
    "tab3 = pd.DataFrame(adata_passedQC_cyno.obs.groupby('louvain_res_2')['Healty_WholeBlood_maj'].value_counts())\n",
    "#save\n",
    "tab1.to_csv(os.path.join(base_table_path,pre +'_' + species + '_' + 'ct_louvain_res_2_tab1.csv')) \n",
    "tab2.to_csv(os.path.join(base_table_path,pre +'_' + species + '_' + 'ct_louvain_res_2_tab2.csv'))\n",
    "tab3.to_csv(os.path.join(base_table_path,pre +'_' + species + '_' + 'ct_louvain_res_2_tab3.csv'))"
   ]
  },
  {
   "cell_type": "markdown",
   "id": "6ffdfc87-e1ad-43e4-8698-cbd456f36f88",
   "metadata": {},
   "source": [
    "### Save object"
   ]
  },
  {
   "cell_type": "code",
   "execution_count": null,
   "id": "f27b3c4d-35df-417f-84a9-78edd1e3c89b",
   "metadata": {},
   "outputs": [],
   "source": [
    "adata_passedQC_cyno.write(os.path.join(base_anndata_objects,pre + '_' + species + '_batch_corrected.h5ad'))"
   ]
  },
  {
   "cell_type": "markdown",
   "id": "49e44d19-e4f2-4d11-8eda-686233c822be",
   "metadata": {},
   "source": [
    "### Save session"
   ]
  },
  {
   "cell_type": "code",
   "execution_count": null,
   "id": "b9f5bec3-2bed-47ea-a59a-dea60d6d6acd",
   "metadata": {},
   "outputs": [],
   "source": [
    "base_package_version_path = h.return_package_version_local_path(drive=drive)\n",
    "h.save_package_versions(base_package_version_path,pre,do_print = True)\n",
    "h.print_main_versions()"
   ]
  }
 ],
 "metadata": {
  "kernelspec": {
   "display_name": "Python 3 (ipykernel)",
   "language": "python",
   "name": "python3"
  },
  "language_info": {
   "codemirror_mode": {
    "name": "ipython",
    "version": 3
   },
   "file_extension": ".py",
   "mimetype": "text/x-python",
   "name": "python",
   "nbconvert_exporter": "python",
   "pygments_lexer": "ipython3",
   "version": "3.8.19"
  }
 },
 "nbformat": 4,
 "nbformat_minor": 5
}
