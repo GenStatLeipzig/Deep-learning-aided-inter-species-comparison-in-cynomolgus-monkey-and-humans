{
 "cells": [
  {
   "cell_type": "code",
   "execution_count": null,
   "id": "f014a646-45d4-407b-bccf-27bb135e38d5",
   "metadata": {},
   "outputs": [],
   "source": [
    "import scanpy as sc\n",
    "import rpy2\n",
    "import anndata2ri\n",
    "import logging\n",
    "import os\n",
    "\n",
    "import rpy2.rinterface_lib.callbacks as rcb\n",
    "import rpy2.robjects as ro\n",
    "rcb.logger.setLevel(logging.ERROR)\n",
    "ro.pandas2ri.activate()\n",
    "anndata2ri.activate()\n",
    "%load_ext rpy2.ipython\n"
   ]
  },
  {
   "cell_type": "code",
   "execution_count": null,
   "id": "b1b1fc8e-2589-4175-b293-cf605e1aebb8",
   "metadata": {},
   "outputs": [],
   "source": [
    "# used environment r_cyno"
   ]
  },
  {
   "cell_type": "code",
   "execution_count": null,
   "id": "4d21e7ac-bae3-429d-b109-951448efd141",
   "metadata": {},
   "outputs": [],
   "source": [
    "base_package_version_path = os.path.join(\"D:\\\\\",\"monkey_IZI\",\"analysis\",\"package_versions\")\n",
    "pre = 'M05'"
   ]
  },
  {
   "cell_type": "markdown",
   "id": "9751f4a7-6dc6-4786-9d8f-7d97a929741a",
   "metadata": {},
   "source": [
    "#### Sample Cyno1_6hr_S3"
   ]
  },
  {
   "cell_type": "code",
   "execution_count": null,
   "id": "b9126e32-7fcb-4bed-961b-c53a5fc486f6",
   "metadata": {},
   "outputs": [],
   "source": [
    "ident = 'Cyno1_6hr_S3'\n",
    "path_filtered_counts = os.path.join(\"D:\\\\\",\"monkey_IZI\",\"nextflow\",\"output_dir\",\"cyno\",\"cellranger\",\"count\",ident,\"outs\",\"filtered_feature_bc_matrix.h5\")\n",
    "path_raw_counts = os.path.join(\"D:\\\\\",\"monkey_IZI\",\"nextflow\",\"output_dir\",\"cyno\",\"cellranger\",\"count\",ident,\"outs\",\"raw_feature_bc_matrix.h5\")\n",
    "\n",
    "adata_filtered_bc = sc.read_10x_h5(path_filtered_counts)\n",
    "adata_filtered_bc.var_names_make_unique()\n",
    "adata_raw_bc = sc.read_10x_h5(path_raw_counts)\n",
    "adata_raw_bc.var_names_make_unique()\n",
    "\n",
    "adata_pp = adata_filtered_bc.copy()\n",
    "sc.pp.normalize_per_cell(adata_pp)\n",
    "sc.pp.log1p(adata_pp)\n",
    "\n",
    "sc.pp.pca(adata_pp)\n",
    "sc.pp.neighbors(adata_pp)\n",
    "sc.tl.leiden(adata_pp, key_added=\"soupx_groups\")\n",
    "\n",
    "# Preprocess variables for SoupX\n",
    "soupx_groups = adata_pp.obs[\"soupx_groups\"]\n",
    "\n",
    "del adata_pp\n",
    "\n",
    "cells = adata_filtered_bc.obs_names\n",
    "genes = adata_filtered_bc.var_names\n",
    "data = adata_filtered_bc.X.T\n",
    "\n",
    "data_tod = adata_raw_bc.X.T\n",
    "\n",
    "del adata_raw_bc"
   ]
  },
  {
   "cell_type": "code",
   "execution_count": null,
   "id": "51c93e2d-4fbf-46f4-8999-117354d6cce9",
   "metadata": {},
   "outputs": [],
   "source": [
    "%%R -i data -i data_tod -i genes -i cells -i soupx_groups -o out \n",
    "library(SoupX)\n",
    "# specify row and column names of data\n",
    "rownames(data) = genes\n",
    "colnames(data) = cells\n",
    "# ensure correct sparse format for table of counts and table of droplets\n",
    "data <- as(data, \"sparseMatrix\")\n",
    "data_tod <- as(data_tod, \"sparseMatrix\")\n",
    "\n",
    "# Generate SoupChannel Object for SoupX \n",
    "sc = SoupChannel(data_tod, data, calcSoupProfile = FALSE)\n",
    "\n",
    "# Add extra meta data to the SoupChannel object\n",
    "soupProf = data.frame(row.names = rownames(data), est = rowSums(data)/sum(data), counts = rowSums(data))\n",
    "sc = setSoupProfile(sc, soupProf)\n",
    "# Set cluster information in SoupChannel\n",
    "sc = setClusters(sc, soupx_groups)\n",
    "\n",
    "# Estimate contamination fraction\n",
    "sc  = autoEstCont(sc, doPlot=FALSE)\n",
    "# Infer corrected table of counts and rount to integer\n",
    "out = adjustCounts(sc, roundToInt = TRUE)"
   ]
  },
  {
   "cell_type": "code",
   "execution_count": null,
   "id": "792eb619-626b-4c29-84b3-ee66b57dabf3",
   "metadata": {},
   "outputs": [],
   "source": [
    "adata_filtered_bc.layers[\"counts\"] = adata_filtered_bc.X\n",
    "adata_filtered_bc.layers[\"soupX_counts\"] = out.T\n",
    "adata_filtered_bc.X = adata_filtered_bc.layers[\"soupX_counts\"]\n",
    "\n",
    "save_object_path = os.path.join(\"D:\\\\\",\"monkey_IZI\",\"analysis\",\"anndata_objects\",\"M05\", pre + '_' + ident + '_bg_corrected.h5ad')\n",
    "adata_filtered_bc.write(save_object_path)"
   ]
  },
  {
   "cell_type": "markdown",
   "id": "dcb4d412-fdaf-4964-9d81-9f302c3e10cc",
   "metadata": {},
   "source": [
    "#### Sample Cyno1_24hr_S6"
   ]
  },
  {
   "cell_type": "code",
   "execution_count": null,
   "id": "733434fb-dccd-4d28-b1e6-2c92f8db7a17",
   "metadata": {},
   "outputs": [],
   "source": [
    "ident = 'Cyno1_24hr_S6'\n",
    "path_filtered_counts = os.path.join(\"D:\\\\\",\"monkey_IZI\",\"nextflow\",\"output_dir\",\"cyno\",\"cellranger\",\"count\",ident,\"outs\",\"filtered_feature_bc_matrix.h5\")\n",
    "path_raw_counts = os.path.join(\"D:\\\\\",\"monkey_IZI\",\"nextflow\",\"output_dir\",\"cyno\",\"cellranger\",\"count\",ident,\"outs\",\"raw_feature_bc_matrix.h5\")\n",
    "\n",
    "adata_filtered_bc = sc.read_10x_h5(path_filtered_counts)\n",
    "adata_filtered_bc.var_names_make_unique()\n",
    "adata_raw_bc = sc.read_10x_h5(path_raw_counts)\n",
    "adata_raw_bc.var_names_make_unique()\n",
    "\n",
    "adata_pp = adata_filtered_bc.copy()\n",
    "sc.pp.normalize_per_cell(adata_pp)\n",
    "sc.pp.log1p(adata_pp)\n",
    "\n",
    "sc.pp.pca(adata_pp)\n",
    "sc.pp.neighbors(adata_pp)\n",
    "sc.tl.leiden(adata_pp, key_added=\"soupx_groups\")\n",
    "\n",
    "# Preprocess variables for SoupX\n",
    "soupx_groups = adata_pp.obs[\"soupx_groups\"]\n",
    "\n",
    "del adata_pp\n",
    "\n",
    "cells = adata_filtered_bc.obs_names\n",
    "genes = adata_filtered_bc.var_names\n",
    "data = adata_filtered_bc.X.T\n",
    "\n",
    "data_tod = adata_raw_bc.X.T\n",
    "\n",
    "del adata_raw_bc"
   ]
  },
  {
   "cell_type": "code",
   "execution_count": null,
   "id": "0ab1109a-b833-4e30-8048-88c201108e88",
   "metadata": {},
   "outputs": [],
   "source": [
    "%%R -i data -i data_tod -i genes -i cells -i soupx_groups -o out \n",
    "library(SoupX)\n",
    "# specify row and column names of data\n",
    "rownames(data) = genes\n",
    "colnames(data) = cells\n",
    "# ensure correct sparse format for table of counts and table of droplets\n",
    "data <- as(data, \"sparseMatrix\")\n",
    "data_tod <- as(data_tod, \"sparseMatrix\")\n",
    "\n",
    "# Generate SoupChannel Object for SoupX \n",
    "sc = SoupChannel(data_tod, data, calcSoupProfile = FALSE)\n",
    "\n",
    "# Add extra meta data to the SoupChannel object\n",
    "soupProf = data.frame(row.names = rownames(data), est = rowSums(data)/sum(data), counts = rowSums(data))\n",
    "sc = setSoupProfile(sc, soupProf)\n",
    "# Set cluster information in SoupChannel\n",
    "sc = setClusters(sc, soupx_groups)\n",
    "\n",
    "# Estimate contamination fraction\n",
    "sc  = autoEstCont(sc, doPlot=FALSE)\n",
    "# Infer corrected table of counts and rount to integer\n",
    "out = adjustCounts(sc, roundToInt = TRUE)"
   ]
  },
  {
   "cell_type": "code",
   "execution_count": null,
   "id": "e081926e-66e0-456f-a9d6-ce98d53355b0",
   "metadata": {},
   "outputs": [],
   "source": [
    "adata_filtered_bc.layers[\"counts\"] = adata_filtered_bc.X\n",
    "adata_filtered_bc.layers[\"soupX_counts\"] = out.T\n",
    "adata_filtered_bc.X = adata_filtered_bc.layers[\"soupX_counts\"]\n",
    "\n",
    "save_object_path = os.path.join(\"D:\\\\\",\"monkey_IZI\",\"analysis\",\"anndata_objects\",\"M05\", pre + '_' + ident + '_bg_corrected.h5ad')\n",
    "adata_filtered_bc.write(save_object_path)"
   ]
  },
  {
   "cell_type": "markdown",
   "id": "4fe58b6f-5f3a-4eba-8088-df0b47e5105f",
   "metadata": {},
   "source": [
    "#### Cyno1_TimeZero_S1"
   ]
  },
  {
   "cell_type": "code",
   "execution_count": null,
   "id": "e62b5b93-be5d-4b4a-90ba-e77148866659",
   "metadata": {},
   "outputs": [],
   "source": [
    "ident = 'Cyno1_TimeZero_S1'\n",
    "path_filtered_counts = os.path.join(\"D:\\\\\",\"monkey_IZI\",\"nextflow\",\"output_dir\",\"cyno\",\"cellranger\",\"count\",ident,\"outs\",\"filtered_feature_bc_matrix.h5\")\n",
    "path_raw_counts = os.path.join(\"D:\\\\\",\"monkey_IZI\",\"nextflow\",\"output_dir\",\"cyno\",\"cellranger\",\"count\",ident,\"outs\",\"raw_feature_bc_matrix.h5\")\n",
    "\n",
    "adata_filtered_bc = sc.read_10x_h5(path_filtered_counts)\n",
    "adata_filtered_bc.var_names_make_unique()\n",
    "adata_raw_bc = sc.read_10x_h5(path_raw_counts)\n",
    "adata_raw_bc.var_names_make_unique()\n",
    "\n",
    "adata_pp = adata_filtered_bc.copy()\n",
    "sc.pp.normalize_per_cell(adata_pp)\n",
    "sc.pp.log1p(adata_pp)\n",
    "\n",
    "sc.pp.pca(adata_pp)\n",
    "sc.pp.neighbors(adata_pp)\n",
    "sc.tl.leiden(adata_pp, key_added=\"soupx_groups\")\n",
    "\n",
    "# Preprocess variables for SoupX\n",
    "soupx_groups = adata_pp.obs[\"soupx_groups\"]\n",
    "\n",
    "del adata_pp\n",
    "\n",
    "cells = adata_filtered_bc.obs_names\n",
    "genes = adata_filtered_bc.var_names\n",
    "data = adata_filtered_bc.X.T\n",
    "\n",
    "data_tod = adata_raw_bc.X.T\n",
    "\n",
    "del adata_raw_bc"
   ]
  },
  {
   "cell_type": "code",
   "execution_count": null,
   "id": "384ff16e-10e5-49c8-bc12-440a9bac1d95",
   "metadata": {},
   "outputs": [],
   "source": [
    "%%R -i data -i data_tod -i genes -i cells -i soupx_groups -o out \n",
    "library(SoupX)\n",
    "# specify row and column names of data\n",
    "rownames(data) = genes\n",
    "colnames(data) = cells\n",
    "# ensure correct sparse format for table of counts and table of droplets\n",
    "data <- as(data, \"sparseMatrix\")\n",
    "data_tod <- as(data_tod, \"sparseMatrix\")\n",
    "\n",
    "# Generate SoupChannel Object for SoupX \n",
    "sc = SoupChannel(data_tod, data, calcSoupProfile = FALSE)\n",
    "\n",
    "# Add extra meta data to the SoupChannel object\n",
    "soupProf = data.frame(row.names = rownames(data), est = rowSums(data)/sum(data), counts = rowSums(data))\n",
    "sc = setSoupProfile(sc, soupProf)\n",
    "# Set cluster information in SoupChannel\n",
    "sc = setClusters(sc, soupx_groups)\n",
    "\n",
    "# Estimate contamination fraction\n",
    "sc  = autoEstCont(sc, doPlot=FALSE)\n",
    "# Infer corrected table of counts and rount to integer\n",
    "out = adjustCounts(sc, roundToInt = TRUE)"
   ]
  },
  {
   "cell_type": "code",
   "execution_count": null,
   "id": "d81a2acd-e60f-42c7-81f3-5c9508cf9b8f",
   "metadata": {},
   "outputs": [],
   "source": [
    "adata_filtered_bc.layers[\"counts\"] = adata_filtered_bc.X\n",
    "adata_filtered_bc.layers[\"soupX_counts\"] = out.T\n",
    "adata_filtered_bc.X = adata_filtered_bc.layers[\"soupX_counts\"]\n",
    "\n",
    "save_object_path = os.path.join(\"D:\\\\\",\"monkey_IZI\",\"analysis\",\"anndata_objects\",\"M05\", pre + '_' + ident + '_bg_corrected.h5ad')\n",
    "adata_filtered_bc.write(save_object_path)"
   ]
  },
  {
   "cell_type": "markdown",
   "id": "2a79786a-4722-46ee-aea8-c5d957519782",
   "metadata": {},
   "source": [
    "#### Cyno2_6hr_S4"
   ]
  },
  {
   "cell_type": "code",
   "execution_count": null,
   "id": "d090b4b0-1e14-4fbe-84b4-5f24b510aee3",
   "metadata": {},
   "outputs": [],
   "source": [
    "ident = 'Cyno2_6hr_S4'\n",
    "path_filtered_counts = os.path.join(\"D:\\\\\",\"monkey_IZI\",\"nextflow\",\"output_dir\",\"cyno\",\"cellranger\",\"count\",ident,\"outs\",\"filtered_feature_bc_matrix.h5\")\n",
    "path_raw_counts = os.path.join(\"D:\\\\\",\"monkey_IZI\",\"nextflow\",\"output_dir\",\"cyno\",\"cellranger\",\"count\",ident,\"outs\",\"raw_feature_bc_matrix.h5\")\n",
    "\n",
    "adata_filtered_bc = sc.read_10x_h5(path_filtered_counts)\n",
    "adata_filtered_bc.var_names_make_unique()\n",
    "adata_raw_bc = sc.read_10x_h5(path_raw_counts)\n",
    "adata_raw_bc.var_names_make_unique()\n",
    "\n",
    "adata_pp = adata_filtered_bc.copy()\n",
    "sc.pp.normalize_per_cell(adata_pp)\n",
    "sc.pp.log1p(adata_pp)\n",
    "\n",
    "sc.pp.pca(adata_pp)\n",
    "sc.pp.neighbors(adata_pp)\n",
    "sc.tl.leiden(adata_pp, key_added=\"soupx_groups\")\n",
    "\n",
    "# Preprocess variables for SoupX\n",
    "soupx_groups = adata_pp.obs[\"soupx_groups\"]\n",
    "\n",
    "del adata_pp\n",
    "\n",
    "cells = adata_filtered_bc.obs_names\n",
    "genes = adata_filtered_bc.var_names\n",
    "data = adata_filtered_bc.X.T\n",
    "\n",
    "data_tod = adata_raw_bc.X.T\n",
    "\n",
    "del adata_raw_bc"
   ]
  },
  {
   "cell_type": "code",
   "execution_count": null,
   "id": "82a69b2c-1752-4856-874c-acd900cc1dd3",
   "metadata": {},
   "outputs": [],
   "source": [
    "%%R -i data -i data_tod -i genes -i cells -i soupx_groups -o out \n",
    "library(SoupX)\n",
    "# specify row and column names of data\n",
    "rownames(data) = genes\n",
    "colnames(data) = cells\n",
    "# ensure correct sparse format for table of counts and table of droplets\n",
    "data <- as(data, \"sparseMatrix\")\n",
    "data_tod <- as(data_tod, \"sparseMatrix\")\n",
    "\n",
    "# Generate SoupChannel Object for SoupX \n",
    "sc = SoupChannel(data_tod, data, calcSoupProfile = FALSE)\n",
    "\n",
    "# Add extra meta data to the SoupChannel object\n",
    "soupProf = data.frame(row.names = rownames(data), est = rowSums(data)/sum(data), counts = rowSums(data))\n",
    "sc = setSoupProfile(sc, soupProf)\n",
    "# Set cluster information in SoupChannel\n",
    "sc = setClusters(sc, soupx_groups)\n",
    "\n",
    "# Estimate contamination fraction\n",
    "sc  = autoEstCont(sc, doPlot=FALSE)\n",
    "# Infer corrected table of counts and rount to integer\n",
    "out = adjustCounts(sc, roundToInt = TRUE)"
   ]
  },
  {
   "cell_type": "code",
   "execution_count": null,
   "id": "0c0c83d4-8f34-42fe-a524-a7135d2b38bc",
   "metadata": {},
   "outputs": [],
   "source": [
    "adata_filtered_bc.layers[\"counts\"] = adata_filtered_bc.X\n",
    "adata_filtered_bc.layers[\"soupX_counts\"] = out.T\n",
    "adata_filtered_bc.X = adata_filtered_bc.layers[\"soupX_counts\"]\n",
    "\n",
    "save_object_path = os.path.join(\"D:\\\\\",\"monkey_IZI\",\"analysis\",\"anndata_objects\",\"M05\", pre + '_' + ident + '_bg_corrected.h5ad')\n",
    "adata_filtered_bc.write(save_object_path)"
   ]
  },
  {
   "cell_type": "markdown",
   "id": "521eb860-e0fa-4ac2-bfd0-5a8cfecf08e4",
   "metadata": {},
   "source": [
    "#### Cyno2_24hr_S5"
   ]
  },
  {
   "cell_type": "code",
   "execution_count": null,
   "id": "05a021d0-abcc-4e46-a4e4-22780bafa4c1",
   "metadata": {},
   "outputs": [],
   "source": [
    "ident = 'Cyno2_24hr_S5'\n",
    "path_filtered_counts = os.path.join(\"D:\\\\\",\"monkey_IZI\",\"nextflow\",\"output_dir\",\"cyno\",\"cellranger\",\"count\",ident,\"outs\",\"filtered_feature_bc_matrix.h5\")\n",
    "path_raw_counts = os.path.join(\"D:\\\\\",\"monkey_IZI\",\"nextflow\",\"output_dir\",\"cyno\",\"cellranger\",\"count\",ident,\"outs\",\"raw_feature_bc_matrix.h5\")\n",
    "\n",
    "adata_filtered_bc = sc.read_10x_h5(path_filtered_counts)\n",
    "adata_filtered_bc.var_names_make_unique()\n",
    "adata_raw_bc = sc.read_10x_h5(path_raw_counts)\n",
    "adata_raw_bc.var_names_make_unique()\n",
    "\n",
    "adata_pp = adata_filtered_bc.copy()\n",
    "sc.pp.normalize_per_cell(adata_pp)\n",
    "sc.pp.log1p(adata_pp)\n",
    "\n",
    "sc.pp.pca(adata_pp)\n",
    "sc.pp.neighbors(adata_pp)\n",
    "sc.tl.leiden(adata_pp, key_added=\"soupx_groups\")\n",
    "\n",
    "# Preprocess variables for SoupX\n",
    "soupx_groups = adata_pp.obs[\"soupx_groups\"]\n",
    "\n",
    "del adata_pp\n",
    "\n",
    "cells = adata_filtered_bc.obs_names\n",
    "genes = adata_filtered_bc.var_names\n",
    "data = adata_filtered_bc.X.T\n",
    "\n",
    "data_tod = adata_raw_bc.X.T\n",
    "\n",
    "del adata_raw_bc"
   ]
  },
  {
   "cell_type": "code",
   "execution_count": null,
   "id": "d3d645e0-1243-40d8-ae49-ff699a76405b",
   "metadata": {},
   "outputs": [],
   "source": [
    "%%R -i data -i data_tod -i genes -i cells -i soupx_groups -o out \n",
    "library(SoupX)\n",
    "# specify row and column names of data\n",
    "rownames(data) = genes\n",
    "colnames(data) = cells\n",
    "# ensure correct sparse format for table of counts and table of droplets\n",
    "data <- as(data, \"sparseMatrix\")\n",
    "data_tod <- as(data_tod, \"sparseMatrix\")\n",
    "\n",
    "# Generate SoupChannel Object for SoupX \n",
    "sc = SoupChannel(data_tod, data, calcSoupProfile = FALSE)\n",
    "\n",
    "# Add extra meta data to the SoupChannel object\n",
    "soupProf = data.frame(row.names = rownames(data), est = rowSums(data)/sum(data), counts = rowSums(data))\n",
    "sc = setSoupProfile(sc, soupProf)\n",
    "# Set cluster information in SoupChannel\n",
    "sc = setClusters(sc, soupx_groups)\n",
    "\n",
    "# Estimate contamination fraction\n",
    "sc  = autoEstCont(sc, doPlot=FALSE)\n",
    "# Infer corrected table of counts and rount to integer\n",
    "out = adjustCounts(sc, roundToInt = TRUE)"
   ]
  },
  {
   "cell_type": "code",
   "execution_count": null,
   "id": "34dbc77c-028c-4080-8458-cbd90aa036fd",
   "metadata": {},
   "outputs": [],
   "source": [
    "adata_filtered_bc.layers[\"counts\"] = adata_filtered_bc.X\n",
    "adata_filtered_bc.layers[\"soupX_counts\"] = out.T\n",
    "adata_filtered_bc.X = adata_filtered_bc.layers[\"soupX_counts\"]\n",
    "\n",
    "save_object_path = os.path.join(\"D:\\\\\",\"monkey_IZI\",\"analysis\",\"anndata_objects\",\"M05\", pre + '_' + ident + '_bg_corrected.h5ad')\n",
    "adata_filtered_bc.write(save_object_path)"
   ]
  },
  {
   "cell_type": "markdown",
   "id": "6fb8ab76-c2c7-4024-b1c7-f3169d6ea895",
   "metadata": {},
   "source": [
    "#### Cyno2_TimeZero_S2"
   ]
  },
  {
   "cell_type": "code",
   "execution_count": null,
   "id": "da981fcc-5734-4501-afc2-9239358b000f",
   "metadata": {},
   "outputs": [],
   "source": [
    "ident = 'Cyno2_TimeZero_S2'\n",
    "path_filtered_counts = os.path.join(\"D:\\\\\",\"monkey_IZI\",\"nextflow\",\"output_dir\",\"cyno\",\"cellranger\",\"count\",ident,\"outs\",\"filtered_feature_bc_matrix.h5\")\n",
    "path_raw_counts = os.path.join(\"D:\\\\\",\"monkey_IZI\",\"nextflow\",\"output_dir\",\"cyno\",\"cellranger\",\"count\",ident,\"outs\",\"raw_feature_bc_matrix.h5\")\n",
    "\n",
    "adata_filtered_bc = sc.read_10x_h5(path_filtered_counts)\n",
    "adata_filtered_bc.var_names_make_unique()\n",
    "adata_raw_bc = sc.read_10x_h5(path_raw_counts)\n",
    "adata_raw_bc.var_names_make_unique()\n",
    "\n",
    "adata_pp = adata_filtered_bc.copy()\n",
    "sc.pp.normalize_per_cell(adata_pp)\n",
    "sc.pp.log1p(adata_pp)\n",
    "\n",
    "sc.pp.pca(adata_pp)\n",
    "sc.pp.neighbors(adata_pp)\n",
    "sc.tl.leiden(adata_pp, key_added=\"soupx_groups\")\n",
    "\n",
    "# Preprocess variables for SoupX\n",
    "soupx_groups = adata_pp.obs[\"soupx_groups\"]\n",
    "\n",
    "del adata_pp\n",
    "\n",
    "cells = adata_filtered_bc.obs_names\n",
    "genes = adata_filtered_bc.var_names\n",
    "data = adata_filtered_bc.X.T\n",
    "\n",
    "data_tod = adata_raw_bc.X.T\n",
    "\n",
    "del adata_raw_bc"
   ]
  },
  {
   "cell_type": "code",
   "execution_count": null,
   "id": "1c3e3449-796a-411e-92f0-e70b220a19d3",
   "metadata": {},
   "outputs": [],
   "source": [
    "%%R -i data -i data_tod -i genes -i cells -i soupx_groups -o out \n",
    "library(SoupX)\n",
    "# specify row and column names of data\n",
    "rownames(data) = genes\n",
    "colnames(data) = cells\n",
    "# ensure correct sparse format for table of counts and table of droplets\n",
    "data <- as(data, \"sparseMatrix\")\n",
    "data_tod <- as(data_tod, \"sparseMatrix\")\n",
    "\n",
    "# Generate SoupChannel Object for SoupX \n",
    "sc = SoupChannel(data_tod, data, calcSoupProfile = FALSE)\n",
    "\n",
    "# Add extra meta data to the SoupChannel object\n",
    "soupProf = data.frame(row.names = rownames(data), est = rowSums(data)/sum(data), counts = rowSums(data))\n",
    "sc = setSoupProfile(sc, soupProf)\n",
    "# Set cluster information in SoupChannel\n",
    "sc = setClusters(sc, soupx_groups)\n",
    "\n",
    "# Estimate contamination fraction\n",
    "sc  = autoEstCont(sc, doPlot=FALSE)\n",
    "# Infer corrected table of counts and rount to integer\n",
    "out = adjustCounts(sc, roundToInt = TRUE)"
   ]
  },
  {
   "cell_type": "code",
   "execution_count": null,
   "id": "282a4d93-2908-4377-b842-4ee50799ad22",
   "metadata": {},
   "outputs": [],
   "source": [
    "adata_filtered_bc.layers[\"counts\"] = adata_filtered_bc.X\n",
    "adata_filtered_bc.layers[\"soupX_counts\"] = out.T\n",
    "adata_filtered_bc.X = adata_filtered_bc.layers[\"soupX_counts\"]\n",
    "\n",
    "save_object_path = os.path.join(\"D:\\\\\",\"monkey_IZI\",\"analysis\",\"anndata_objects\",\"M05\", pre + '_' + ident + '_bg_corrected.h5ad')\n",
    "adata_filtered_bc.write(save_object_path)"
   ]
  },
  {
   "cell_type": "markdown",
   "id": "d878ae9a-2bce-4790-aa55-96264a0584c3",
   "metadata": {},
   "source": [
    "Save versions"
   ]
  },
  {
   "cell_type": "code",
   "execution_count": null,
   "id": "1a7ea294-1bc7-4145-89b2-7ce1e7ec44b2",
   "metadata": {},
   "outputs": [],
   "source": [
    "import pkg_resources\n",
    "with open(os.path.join(base_package_version_path, pre + '_package_versions.txt'), \"w\") as file:\n",
    "    for package in pkg_resources.working_set:\n",
    "        file.write(f\"{package.key}=={package.version}\\n\")\n",
    "        print(f\"{package.key}=={package.version}\")"
   ]
  }
 ],
 "metadata": {
  "kernelspec": {
   "display_name": "Python 3 (ipykernel)",
   "language": "python",
   "name": "python3"
  },
  "language_info": {
   "codemirror_mode": {
    "name": "ipython",
    "version": 3
   },
   "file_extension": ".py",
   "mimetype": "text/x-python",
   "name": "python",
   "nbconvert_exporter": "python",
   "pygments_lexer": "ipython3",
   "version": "3.11.7"
  }
 },
 "nbformat": 4,
 "nbformat_minor": 5
}
