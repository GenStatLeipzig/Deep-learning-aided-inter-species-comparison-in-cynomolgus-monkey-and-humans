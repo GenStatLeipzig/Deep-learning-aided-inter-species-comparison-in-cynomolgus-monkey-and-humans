{
 "cells": [
  {
   "cell_type": "markdown",
   "id": "20b83261-8aaa-46ea-a14e-f21415d7fcae",
   "metadata": {},
   "source": [
    "# Cell Cell communication - ligand-receptor inference\n",
    "\n",
    "This notebook was designed based off of chapter 21 of the book [Single-cell best practices](https://www.sc-best-practices.org/preamble.html) after Heumos, L., Schaar, A.C., Lance, C. et al. Best practices for single-cell analysis across modalities. Nat Rev Genet (2023). https://doi.org/10.1038/s41576-023-00586-w "
   ]
  },
  {
   "cell_type": "markdown",
   "id": "9a1d5cf0-87c0-4fbf-b7be-f2306a6f7d8c",
   "metadata": {},
   "source": [
    "## Environment setup\n",
    "\n",
    "Set variables and load packages "
   ]
  },
  {
   "cell_type": "code",
   "execution_count": null,
   "id": "c2bf17d9-e102-4b7d-8aaf-b86c70cd3a47",
   "metadata": {},
   "outputs": [],
   "source": [
    "#################################################### SET VARIABLES #####################################################\n",
    "\n",
    "# Path to h5ad file for experiment\n",
    "path_in = \"../data/\"\n",
    "\n",
    "# Path to save results to\n",
    "path_out = \"../results/new_29_01_25/M26/\"\n",
    "\n",
    "# Set the experiment prefix to be added to all names of saved result files\n",
    "experiment_prefix = \"M26\"\n",
    "\n",
    "# Set name up input .h5ad file\n",
    "name_adata = \"MH112_adata_cyno_final_CCC.h5ad\"\n",
    "\n",
    "# Name of layer containing raw data counts\n",
    "# If set to \"X\", the raw data will be saved in the anndata.raw layer and X normalized after\n",
    "# If set to \"raw\", the raw layer will be used for normalization and X saved in a layer called \".X\" for later restoration\n",
    "# Any other value will assume it is the name of anndata.layers[layer_raw] where the raw data is saved. Here too, the X matrix is stored in layer \".X\" for later restoration\n",
    "layer_raw = \"X\"\n",
    "\n",
    "# Name of column in obs table that contains the conditions/timepoints of the experiment\n",
    "condition_col = \"timepoint\"\n",
    "\n",
    "# Name of column in obs table that contains the clusters/cell types to be compared\n",
    "cluster_col = \"cluster_azimut1_5_scanvi_v2\"\n",
    "\n",
    "# Name of column with cell types in cell type annotation file\n",
    "celltype_col = \"cluster_azimut1_5_scanvi_v2\"\n",
    "\n",
    "# Path in cell type annotation\n",
    "path_in_celltype_anno = \"../data/MH70_cluster_anno.csv\"\n",
    "\n",
    "##########################################################################################################################"
   ]
  },
  {
   "cell_type": "code",
   "execution_count": null,
   "id": "3bd98dd7-e806-4b4d-8813-c7789635caa9",
   "metadata": {},
   "outputs": [],
   "source": [
    "# Import Python packages\n",
    "\n",
    "import numpy as np\n",
    "import pandas as pd \n",
    "import matplotlib.pyplot as plt\n",
    "import seaborn as sns \n",
    "import plotly.graph_objects as go\n",
    "from plotnine import *\n",
    "import warnings\n",
    "import os\n",
    "import anndata as ad\n",
    "import glob\n",
    "\n",
    "import scanpy as sc\n",
    "import liana as li\n",
    "from liana.method import rank_aggregate\n",
    "\n",
    "import session_info"
   ]
  },
  {
   "cell_type": "code",
   "execution_count": null,
   "id": "ea7d697a",
   "metadata": {},
   "outputs": [],
   "source": [
    "# import helper functions \n",
    "import importlib.util\n",
    "\n",
    "spec = importlib.util.spec_from_file_location(\"helpers\", \"../helpers/helpersCCC.py\")\n",
    "helpers = importlib.util.module_from_spec(spec)\n",
    "spec.loader.exec_module(helpers)"
   ]
  },
  {
   "cell_type": "code",
   "execution_count": null,
   "id": "6759100d-0da0-4656-b45a-865b3e00055e",
   "metadata": {},
   "outputs": [],
   "source": [
    "# Setting up R dependencies\n",
    "\n",
    "import anndata2ri \n",
    "import rpy2 \n",
    "from rpy2.robjects import r\n",
    "from rpy2.robjects import pandas2ri\n",
    "import random\n",
    "\n",
    "pandas2ri.activate()\n",
    "anndata2ri.activate()\n",
    "\n",
    "%load_ext rpy2.ipython"
   ]
  },
  {
   "cell_type": "code",
   "execution_count": null,
   "id": "af37dd82-7058-4f3c-a769-24cf53abae5c",
   "metadata": {},
   "outputs": [],
   "source": [
    "%%R\n",
    "\n",
    "# Import R libraries\n",
    "suppressPackageStartupMessages({\n",
    "    library(circlize)\n",
    "    library(data.table)\n",
    "    library(stringr)\n",
    "    library(reticulate) \n",
    "    library(ggplot2) \n",
    "    library(tidyr)\n",
    "    library(dplyr) \n",
    "    library(tibble)\n",
    "    source(\"../helpers/helpersCCC.R\")\n",
    "})"
   ]
  },
  {
   "cell_type": "markdown",
   "id": "835c1225-8cd2-481e-acfa-6c9065fce23d",
   "metadata": {},
   "source": [
    "# Load data and data preparation\n",
    "\n",
    "Load experiment as AnnData object from .h5ad file and get an overview of the data."
   ]
  },
  {
   "cell_type": "code",
   "execution_count": null,
   "id": "261af73b-4112-446d-b503-bd25ad5c3035",
   "metadata": {},
   "outputs": [],
   "source": [
    "# Set full path to input file\n",
    "path_in_adata = os.path.join(path_in, name_adata)\n",
    "\n",
    "# Read in h5ad for experiment as AnnData object\n",
    "adata = sc.read_h5ad(path_in_adata)\n",
    "\n",
    "# Convert celltype and group colums to dtype categorial\n",
    "adata.obs[condition_col] = adata.obs[condition_col].astype(\"category\")"
   ]
  },
  {
   "cell_type": "markdown",
   "id": "314ecbdb",
   "metadata": {},
   "source": [
    "Add new cell type annotation."
   ]
  },
  {
   "cell_type": "code",
   "execution_count": null,
   "id": "16083949",
   "metadata": {},
   "outputs": [],
   "source": [
    "# Read in celltype annotation data frame\n",
    "celltype_df = pd.read_csv(path_in_celltype_anno, sep=\",\", index_col=0)\n",
    "\n",
    "# Add column for cell type annotaion to Anndata\n",
    "adata.obs[cluster_col] = celltype_df[celltype_col]\n",
    "\n",
    "# Convert celltype and group colums to dtype categorial\n",
    "adata.obs[cluster_col] = adata.obs[cluster_col].astype(\"category\")"
   ]
  },
  {
   "cell_type": "markdown",
   "id": "12bc80d2-a909-4830-bd16-ce0ddd871309",
   "metadata": {},
   "source": [
    "Get an overview of the loaded AnnDate object."
   ]
  },
  {
   "cell_type": "code",
   "execution_count": null,
   "id": "aa227940-d0af-4a4a-8ec8-cfa5ee1e7579",
   "metadata": {},
   "outputs": [],
   "source": [
    "adata"
   ]
  },
  {
   "cell_type": "code",
   "execution_count": null,
   "id": "ab9096f9-6fd4-47f6-b601-b2ddfedfd607",
   "metadata": {},
   "outputs": [],
   "source": [
    "adata.obs"
   ]
  },
  {
   "cell_type": "code",
   "execution_count": null,
   "id": "7b4dd3da-1fae-40d5-af1f-7382b49cb210",
   "metadata": {},
   "outputs": [],
   "source": [
    "adata.var"
   ]
  },
  {
   "cell_type": "markdown",
   "id": "8b0b25ee-efc5-4137-9111-534e62ce5b3b",
   "metadata": {},
   "source": [
    "### Normalize data\n",
    "\n",
    "Normalize raw data passed with AnnData object and set as new .X matrix. Do this to make sure inference methods work with data normalized in a way they can handle."
   ]
  },
  {
   "cell_type": "code",
   "execution_count": null,
   "id": "2c3f6d50-092e-490b-9bed-5ecb5ef1063d",
   "metadata": {},
   "outputs": [],
   "source": [
    "# If .X does not contain raw counts, save .X to layers for later restoration\n",
    "if layer_raw == \"X\":\n",
    "    # Save the raw data in the raw layer and continue\n",
    "    adata.raw = adata.copy()\n",
    "\n",
    "elif layer_raw == \"raw\":\n",
    "    # Save X matrix in layer \".X\" and set raw data as new X matrix\n",
    "    adata.layers[\".X\"] = adata.X.copy() \n",
    "    adata.X = adata.raw.X.copy()\n",
    "    \n",
    "else:\n",
    "    # If any other value for layer_raw is given, save X matrix in layer \".X\" and\n",
    "    # Set anndata.layers[layer_raw] as new X matrix\n",
    "    adata.layers[\".X\"] = adata.X.copy() \n",
    "    adata.X = adata.layers[layer_raw].copy()\n"
   ]
  },
  {
   "cell_type": "markdown",
   "id": "d4de679b",
   "metadata": {},
   "source": [
    "#### Visual inspection of data\n",
    "\n",
    "If an embendding for visualization has not yet been cacluated for the data or has not been passed on, execute the next cell to calculate it now. This may take some time."
   ]
  },
  {
   "cell_type": "code",
   "execution_count": null,
   "id": "58de0507",
   "metadata": {},
   "outputs": [],
   "source": [
    "# Normalization, highly variable genes selection, scaling and pca calculation before\n",
    "# embedding calculation for more Seurat v4 like results\n",
    "\n",
    "# Save the raw data in the raw layer\n",
    "adata_copy = adata.copy()\n",
    "\n",
    "# Normalize, then log1p transform the data\n",
    "sc.pp.normalize_total(adata_copy)\n",
    "sc.pp.log1p(adata_copy)\n",
    "\n",
    "# Identify highly variable genes\n",
    "sc.pp.highly_variable_genes(adata_copy)\n",
    "adata_copy = adata_copy[:, adata_copy.var.highly_variable]\n",
    "\n",
    "# Scale data (equivalent to Seurat's ScaleData)\n",
    "sc.pp.scale(adata_copy)\n",
    "\n",
    "# Calculate PCA\n",
    "sc.pp.pca(adata_copy, n_comps=50)\n",
    "\n",
    "# Calculate neighbors with Seurat-like parameters\n",
    "sc.pp.neighbors(adata_copy, \n",
    "                n_neighbors=20,      # Seurat default\n",
    "                n_pcs=30,            # Seurat typically uses 30 PCs\n",
    "                metric='euclidean',  # Seurat's default\n",
    "                use_rep='X_pca'      # Ensure using PCA, like Seurat\n",
    "               )"
   ]
  },
  {
   "cell_type": "code",
   "execution_count": null,
   "id": "07408fa4",
   "metadata": {},
   "outputs": [],
   "source": [
    "# Calculate embedding for data set with parameters finetuned for results closer to Seurat v4\n",
    "\n",
    "# Calculate UMAP with Seurat-like parameters\n",
    "sc.tl.umap(adata_copy, \n",
    "           min_dist=0.3,    # Seurat default=0.3\n",
    "           spread=0.5       # Seurat default=1.0\n",
    "          )"
   ]
  },
  {
   "cell_type": "code",
   "execution_count": null,
   "id": "2e81363d",
   "metadata": {},
   "outputs": [],
   "source": [
    "# Calculate tSNE with Seurat-like parameters\n",
    "# NOTE: Seurat uses a different perplexity calculation, but we can set it to 30\n",
    "sc.tl.tsne(adata_copy,\n",
    "           n_pcs=30,           # Seurat typically uses 30 PCs\n",
    "           perplexity=30,      # Seurat default is 30\n",
    "           learning_rate=adata_copy.n_obs/12, # Set to n_cells/12 in Seurat (or ~1000)\n",
    "           metric='euclidean', # Match Seurat's default\n",
    "           random_state=42,    # For reproducibility\n",
    "           n_jobs=8)     "
   ]
  },
  {
   "cell_type": "markdown",
   "id": "a90e750e",
   "metadata": {},
   "source": [
    "Plot the calculated embeddings."
   ]
  },
  {
   "cell_type": "code",
   "execution_count": null,
   "id": "6afd5fcb-c5a3-48d1-90ad-cb4fd332d33d",
   "metadata": {},
   "outputs": [],
   "source": [
    "# Show UMAP to showcase data\n",
    "sc.pl.embedding(adata_copy, \"X_umap\", color=[condition_col, cluster_col], wspace=0.2)"
   ]
  },
  {
   "cell_type": "code",
   "execution_count": null,
   "id": "5f9659aa",
   "metadata": {},
   "outputs": [],
   "source": [
    "# Show tSNE to showcase data\n",
    "sc.pl.embedding(adata_copy, \"X_tsne\", color=[condition_col, cluster_col], wspace=0.2)"
   ]
  },
  {
   "cell_type": "code",
   "execution_count": null,
   "id": "36a6c000",
   "metadata": {},
   "outputs": [],
   "source": [
    "# Add UMAP and tSNE to the original anndata object\n",
    "adata.obsm[\"X_umap\"] = adata_copy.obsm[\"X_umap\"].copy()\n",
    "adata.obsm[\"X_tsne\"] = adata_copy.obsm[\"X_tsne\"].copy()"
   ]
  },
  {
   "cell_type": "markdown",
   "id": "d2a051b6-ce99-4164-b0c9-1f25841c546c",
   "metadata": {},
   "source": [
    "## Ligand-receptor inference\n",
    "\n",
    "Inference of CCC events in steady state data using the gene expression of ligand and receptor genes in cell type cluster pairs.\n",
    "\n",
    "Liana generally works with all expressed genes and gene expression values that have been normalized and log-transformed. Hence this is the first step.\n"
   ]
  },
  {
   "cell_type": "code",
   "execution_count": null,
   "id": "4025c12f-8b87-4fc5-8a8d-ece2c31f0fad",
   "metadata": {},
   "outputs": [],
   "source": [
    "# Normalize, then log1p transform the data\n",
    "sc.pp.normalize_total(adata)\n",
    "sc.pp.log1p(adata)"
   ]
  },
  {
   "cell_type": "markdown",
   "id": "31739e55-b568-4aa5-8198-d7efc31c18c8",
   "metadata": {},
   "source": [
    "### Generate ligand-receptor inference consensus between different methods using LIANA\n",
    "\n",
    "The python package liana provides the implementation of 7 different methods to infer CCC events from single-cell gene expression data. These methods can all be applied to the data to generate a magnitude score and a specificity score for each ligand-receptor pair between two cell type clusters respectively. Liana then aggregates these scores into one magnitude and one specificity score per ligand-receptor pair per cell type cluster par for a stronger predictive power.\n",
    "\n",
    "All methods use prior knowledge resources in regards to ligand-receptor interactions. Liana has aggregated the seperate resources normally used be the different methods into one consesus resource that is used as default. There are a number of different smaller resources liana also provides or a custom resource can be set by the user. \n",
    "\n",
    "For more information on the liana package visit the [docs](https://liana-py.readthedocs.io/en/latest/index.html), the [git repo](https://github.com/saezlab/liana-py) or the [paper](https://www.nature.com/articles/s41467-022-30755-0)."
   ]
  },
  {
   "cell_type": "code",
   "execution_count": null,
   "id": "3b0daf99-cdfb-49c5-89b3-3f30e32d8d67",
   "metadata": {},
   "outputs": [],
   "source": [
    "# Get an overview of the methods (re-)implemented by liana, the scores they\n",
    "# generate and their source\n",
    "li.method.show_methods()"
   ]
  },
  {
   "cell_type": "markdown",
   "id": "f1caf271-8b49-487a-b38f-fb4a53b26ed4",
   "metadata": {},
   "source": [
    "### Steady state data\n",
    "\n",
    "Ligand-receptor inference methods as provided by the liana package work with steady state data. This means that if a dataset contains multiple different conditions or timepoints each timepoint must be assessed separately. Additonally, if the dataset contains bataches these should be well corrected.\n",
    "\n",
    "So, first it is decided which conditions/timepoints within the dataset to perform the ligand-receptor inference on."
   ]
  },
  {
   "cell_type": "code",
   "execution_count": null,
   "id": "32de8d9b-9fe7-4881-b301-a71ce3324bc1",
   "metadata": {},
   "outputs": [],
   "source": [
    "# Get overview of conditions/timepoints in experiment\n",
    "list(adata.obs[condition_col].cat.categories)"
   ]
  },
  {
   "cell_type": "markdown",
   "id": "30539460-6fe7-4d48-ae09-4500ba982fea",
   "metadata": {},
   "source": [
    "The following code sets all conditions/timepoints in the condition_col to be analyzed. Should you wish to use a subset of condtions/timepoints, set `liana_conds` as follows:\n",
    "\n",
    "```{python}\n",
    "liana_conds = [\"<condition/timepoint 1>\", \"<condition/timepoint 2>\", ...]\n",
    "```"
   ]
  },
  {
   "cell_type": "code",
   "execution_count": null,
   "id": "78289885-783a-4ee0-9925-a37d3aac5803",
   "metadata": {},
   "outputs": [],
   "source": [
    "# Give names of conditions/timepoints in conditoin_col of adata.obs table to use for \n",
    "# ligand-receptor inference\n",
    "liana_conds = adata.obs[condition_col].cat.categories"
   ]
  },
  {
   "cell_type": "markdown",
   "id": "640a86f3-abd4-4466-a16e-7a5a058743d1",
   "metadata": {},
   "source": [
    "### Score calculation\n",
    "\n",
    "Calculation of aggregated magnitude and specificity scores per ligand-receptor interaction between cell types"
   ]
  },
  {
   "cell_type": "code",
   "execution_count": null,
   "id": "c301c709-06e2-4934-8cc9-814c6151046e",
   "metadata": {
    "scrolled": true,
    "tags": []
   },
   "outputs": [],
   "source": [
    "# Split adata into one object per condition/timepoint and\n",
    "# calculate aggregated ligand-receptor scores for each condition/timepoint\n",
    "# This may take a couple of minutes\n",
    "cond_adatas = {}\n",
    "\n",
    "for cond in liana_conds:\n",
    "    print(\"Caclulating scores for condition/timepoint: \" + cond)\n",
    "    cond_adatas[cond] = adata[adata.obs[condition_col] == cond].copy()\n",
    "    with warnings.catch_warnings():\n",
    "        warnings.simplefilter('ignore')\n",
    "        \n",
    "        rank_aggregate(\n",
    "            cond_adatas[cond], \n",
    "            groupby=cluster_col, \n",
    "            return_all_lrs=True, \n",
    "            use_raw=False, \n",
    "            verbose=True\n",
    "        )\n",
    "    \n",
    "    print(\"\\n\")\n",
    "    display(cond_adatas[cond].uns[\"liana_res\"])\n",
    "    print(\"\\n\")"
   ]
  },
  {
   "cell_type": "markdown",
   "id": "bb740632",
   "metadata": {},
   "source": [
    "Add number of cells in cluster information for source clusters and target clsuters."
   ]
  },
  {
   "cell_type": "code",
   "execution_count": null,
   "id": "b8c11123",
   "metadata": {},
   "outputs": [],
   "source": [
    "for cond in liana_conds:\n",
    "    # Get number of cells per cluster\n",
    "    cells_per_cluster = cond_adatas[cond].obs[cluster_col].value_counts().reset_index()\n",
    "    for col in [\"source\", \"target\"]:\n",
    "        cells_per_cluster_tmp = cells_per_cluster.rename(columns={cluster_col:col})\n",
    "        new_liana_cond = cond_adatas[cond].uns['liana_res'].merge(cells_per_cluster_tmp, on=col, how='left')\n",
    "        cols = new_liana_cond.columns.to_list()\n",
    "        cols.remove('count')\n",
    "        if col == \"source\":\n",
    "            new_liana_cond = new_liana_cond[[cols[0], 'count'] + cols[1:]]\n",
    "        else:\n",
    "            new_liana_cond = new_liana_cond[cols[0:3] + ['count'] + cols[3:]]\n",
    "            \n",
    "        cond_adatas[cond].uns['liana_res'] = new_liana_cond.rename(columns={'count':'_'.join(['n_cells_in', col, 'cluster'])})"
   ]
  },
  {
   "cell_type": "code",
   "execution_count": null,
   "id": "57a64cba",
   "metadata": {},
   "outputs": [],
   "source": [
    "for cond in liana_conds:\n",
    "    print(cond)\n",
    "    display(cond_adatas[cond].uns['liana_res'])"
   ]
  },
  {
   "cell_type": "markdown",
   "id": "0f33d062-3583-4865-b798-eccb97066a02",
   "metadata": {},
   "source": [
    "#### Save liana results per condition/timepoint."
   ]
  },
  {
   "cell_type": "code",
   "execution_count": null,
   "id": "3b8a49fa-d9e3-45e2-99e5-612d325e9255",
   "metadata": {},
   "outputs": [],
   "source": [
    "for cond in liana_conds:\n",
    "    cond_adatas[cond].uns[\"liana_res\"].to_csv(path_or_buf=os.path.join(path_out, \"_\".join([experiment_prefix, cond, \"liana_res.txt.gz\"])))"
   ]
  },
  {
   "cell_type": "markdown",
   "id": "2a87850c-af05-4abd-a7f1-acc87ce8ef87",
   "metadata": {},
   "source": [
    "#### Add liana results per condition/timepoint to uns layer of experiment AnnData object.\n"
   ]
  },
  {
   "cell_type": "code",
   "execution_count": null,
   "id": "0cb4ffe3-9ca9-414d-a760-17dc13057e37",
   "metadata": {},
   "outputs": [],
   "source": [
    "for cond in liana_conds:\n",
    "    adata.uns[\"liana_res_\" + cond] = cond_adatas[cond].uns[\"liana_res\"]"
   ]
  },
  {
   "cell_type": "markdown",
   "id": "a3d4474a-4e85-42a8-80c9-12dfc4d22d0b",
   "metadata": {},
   "source": [
    "### Dotplots\n",
    "\n",
    "Generate plots to visualize results of aggregated scores filtered for significance for each condition/timepoint."
   ]
  },
  {
   "cell_type": "code",
   "execution_count": null,
   "id": "8174976c-abb2-4181-9e9c-cb2917ba1013",
   "metadata": {},
   "outputs": [],
   "source": [
    "# Get min and max values vor color scale and dot size of plots\n",
    "max_col = float('-inf')\n",
    "max_size = float('-inf')\n",
    "\n",
    "for cond in liana_conds:\n",
    "    liana_res = cond_adatas[cond].uns[\"liana_res\"]\n",
    "    cond_max_size = liana_res[\"specificity_rank\"].apply(lambda x: -np.log10(x + np.finfo(float).eps)).max()\n",
    "    cond_max_col = liana_res[\"magnitude_rank\"].apply(lambda x: -np.log10(x + np.finfo(float).eps)).max()\n",
    "    \n",
    "    max_col = cond_max_col if cond_max_col > max_col else max_col\n",
    "    max_size = cond_max_size if cond_max_size > max_size else max_size"
   ]
  },
  {
   "cell_type": "code",
   "execution_count": null,
   "id": "6f8f4514-b497-42cc-8062-036d1d18ef04",
   "metadata": {},
   "outputs": [],
   "source": [
    "dotplots = []\n",
    "\n",
    "for cond in liana_conds:\n",
    "    # Get cell type labels\n",
    "    celltypes_sender = adata.uns[\"liana_res_\" + cond][\"source\"].unique()\n",
    "    celltypes_receiver = adata.uns[\"liana_res_\" + cond][\"target\"].unique()\n",
    "\n",
    "    with warnings.catch_warnings():\n",
    "        warnings.simplefilter('ignore')\n",
    "        # Add custom scaling\n",
    "        top_n = 30\n",
    "        fig_width = max(max(len(celltype) for celltype in celltypes_sender), len(celltypes_receiver)) * max(len(celltypes_receiver), len(celltypes_sender)) / 5\n",
    "        fig_height = top_n // 2\n",
    "\n",
    "        dotplots.append(\n",
    "            li.pl.dotplot(\n",
    "                adata=cond_adatas[cond],\n",
    "                colour=\"magnitude_rank\",\n",
    "                size=\"specificity_rank\",\n",
    "                inverse_colour=True,  # we inverse sign since we want small p-values to have large sizes\n",
    "                inverse_size=True,\n",
    "                # We choose only the cell types which we wish to plot\n",
    "                source_labels=celltypes_sender,\n",
    "                target_labels=celltypes_receiver,\n",
    "                # since the rank_aggregate can also be interpreted as a probability distribution\n",
    "                # we can again filter them according to their specificity significance\n",
    "                # yet here the interactions are filtered according to\n",
    "                # how consistently highly-ranked their specificity is across the methods\n",
    "                filterby=\"specificity_rank\",\n",
    "                filter_lambda=lambda x: x <= 0.05,\n",
    "                # We can further order according to magnitude\n",
    "                orderby=\"magnitude_rank\",\n",
    "                orderby_ascending=True,  # prioritize those with lowest values\n",
    "                top_n=top_n,  # and we want to keep only the top 30 interactions\n",
    "                figure_size=(fig_width, fig_height),\n",
    "                size_range=(1, 6),\n",
    "            )\n",
    "            + ggtitle(cond + \" Source\")\n",
    "            + scale_size_continuous(range=(1, 6), limits=[0, max_size])\n",
    "            + scale_color_cmap('viridis', limits=[0, max_col]))\n",
    "    \n",
    "dotplots"
   ]
  },
  {
   "cell_type": "markdown",
   "id": "45db72f8-04fd-43b0-9ba7-2e8e9292acec",
   "metadata": {},
   "source": [
    "#### Save Dotplots."
   ]
  },
  {
   "cell_type": "code",
   "execution_count": null,
   "id": "5bc050f8-bce3-4a94-ac28-38deeec9720b",
   "metadata": {},
   "outputs": [],
   "source": [
    "for dotplot, cond in zip(dotplots, liana_conds):\n",
    "    with warnings.catch_warnings():\n",
    "        warnings.simplefilter('ignore')\n",
    "        for file_type in [\".png\", \".pdf\"]:\n",
    "            filename = \"_\".join([experiment_prefix, cond , \"liana_dotplot\" + file_type])\n",
    "            dotplot.save(os.path.join(path_out, filename), dpi=600, limitsize=False)        "
   ]
  },
  {
   "cell_type": "markdown",
   "id": "c0aa18b0-8b02-4057-8d1a-3aabb50ce88a",
   "metadata": {},
   "source": [
    "The aggregated scores of `magnitude_rank` and `specificity_rank` can be seen as probability distributions, i.e. p-values. Meaning, the smaller the value the higher the significance."
   ]
  },
  {
   "cell_type": "markdown",
   "id": "15f2ca83-1ac5-407d-8d50-4af45dae4d96",
   "metadata": {},
   "source": [
    "### Circos plots\n",
    "Generate one circos plot per condition/timepoint that shows the number of detected ligand-receptor interactions between celltypes."
   ]
  },
  {
   "cell_type": "code",
   "execution_count": null,
   "id": "7aae609d-c8fd-4ac8-8da0-a63a7493d6a8",
   "metadata": {},
   "outputs": [],
   "source": [
    "# Get counts tables for plotting\n",
    "%R counts_conds <- c()\n",
    "\n",
    "min_range = 1\n",
    "max_range = float('-inf')\n",
    "\n",
    "for cond in liana_conds:\n",
    "    # Get liana results tables and filter for significance in magnitude and specificity of ligand-receptor interactions\n",
    "    liana_res_cond = cond_adatas[cond].uns[\"liana_res\"].copy()\n",
    "    liana_res_cond = liana_res_cond[(liana_res_cond[\"magnitude_rank\"] <= 0.05) & (liana_res_cond[\"specificity_rank\"] <= 0.05)]\n",
    "    \n",
    "    # Get number of significant interactions per celltype pair\n",
    "    counts_cts_cond = liana_res_cond.groupby([\"source\", \"target\"]).count()[\"ligand_complex\"].reset_index()\n",
    "    # Rename colums for R function\n",
    "    counts_cts_cond_r = counts_cts_cond.rename(columns={\"source\": \"source_cluster\", \n",
    "                                                        \"target\": \"target_cluster\", \n",
    "                                                        \"ligand_complex\": \"number\"})\n",
    "    %Rpush counts_cts_cond_r cond\n",
    "    %R counts_conds[[cond]] <- counts_cts_cond_r\n",
    "\n",
    "    \n",
    "    # Update max_range to get experiment wide max number of interactions between a celltype pair\n",
    "    max_range = max_range if counts_cts_cond_r[\"number\"].max() < max_range else counts_cts_cond_r[\"number\"].max()\n",
    "    "
   ]
  },
  {
   "cell_type": "code",
   "execution_count": null,
   "id": "9d9a830a-159d-401b-ba45-a82b752242cd",
   "metadata": {},
   "outputs": [],
   "source": [
    "%%R -i liana_conds -i min_range -i max_range\n",
    "\n",
    "for (cond in liana_conds){\n",
    "    counts_cts_cond_r <- counts_conds[[cond]]\n",
    "    \n",
    "    # Plot title\n",
    "    plot_title <- paste0(\"CCC between celltypes \\nfor condition \", cond)\n",
    "    \n",
    "    # Plot cicos plots\n",
    "    visualize_interactions(counts_cts_cond_r, plot_title=plot_title, color_fill_arrows = c(\"yellow\", \"#9933CC\"), legendsize = 1.0, min_range=min_range, max_range=max_range)\n",
    "}"
   ]
  },
  {
   "cell_type": "markdown",
   "id": "2fdb4a0c-3747-4e22-8cd9-f455ee511fc3",
   "metadata": {},
   "source": [
    "The next cell plots all condition/timepoint circos plots onto a grid for better visual comparing. In the example data there were four conditions, hence we set a 2 x 2 grid for the four plots. Should the number of conditions/timepoints analyzed with LIANA for your data be differen, set `par(mfrwo=c())` accordingly:\n",
    "\n",
    "```{R}\n",
    "par(mfrow(<number of rows>, <number of columns>))\n",
    "```"
   ]
  },
  {
   "cell_type": "code",
   "execution_count": null,
   "id": "018854dc-cac4-4355-b14b-263ecffa1b5f",
   "metadata": {},
   "outputs": [],
   "source": [
    "%%R -i liana_conds\n",
    "# Set grid for plots\n",
    "grid_columns <- 3\n",
    "grid_rows <- ceiling(length(liana_conds) / 3)\n",
    "\n",
    "par(mfrow=c(grid_columns, grid_rows))\n",
    "\n",
    "for (cond in liana_conds) {\n",
    "  counts_cts_cond_r <- counts_conds[[cond]]\n",
    "  \n",
    "  # Set plot title\n",
    "  plot_title <- paste0(\"CCC between celltypes \\nfor condition \", cond)\n",
    "  \n",
    "  # Plot cicos plots\n",
    "  visualize_interactions(counts_cts_cond_r, plot_title=plot_title, color_fill_arrows = c(\"yellow\", \"#9933CC\"), legendsize = 1.0, min_range=min_range, max_range=max_range)\n",
    "}"
   ]
  },
  {
   "cell_type": "markdown",
   "id": "ac98b5eb-9acc-44f5-83d3-76ffbe128ec4",
   "metadata": {},
   "source": [
    "#### Save circos plots.\n",
    "\n",
    "Each plot in a separate file."
   ]
  },
  {
   "cell_type": "code",
   "execution_count": null,
   "id": "6848795b-e2be-4e0b-9cef-e3ee2e9d6602",
   "metadata": {},
   "outputs": [],
   "source": [
    "%%R -i liana_conds -i path_out -i experiment_prefix\n",
    "# Save plots separately \n",
    "for (cond in liana_conds) {\n",
    "    counts_cts_cond_r <- counts_conds[[cond]]\n",
    "  \n",
    "    # Plot title\n",
    "    plot_title <- paste0(\"CCC between celltypes \\nfor condition \", cond)\n",
    "\n",
    "    # Set filepath without fileneding\n",
    "    filepath <- paste0(path_out, experiment_prefix, \"_\", cond, \"_circos_plot_liana_res\")\n",
    "\n",
    "    # Save as PNG\n",
    "    png(paste0(filepath, \".png\"), units = \"in\", width=18, height=18, res=600)\n",
    "    visualize_interactions(counts_cts_cond_r, plot_title=plot_title, color_fill_arrows = c(\"yellow\", \"#9933CC\"), legendsize = 1.0)\n",
    "    dev.off()\n",
    "\n",
    "    # Save as PDF\n",
    "    pdf(paste0(filepath, \".pdf\"), width=18, height=18)\n",
    "    visualize_interactions(counts_cts_cond_r, plot_title=plot_title, color_fill_arrows = c(\"yellow\", \"#9933CC\"), legendsize = 1.0)\n",
    "    dev.off()\n",
    "}"
   ]
  },
  {
   "cell_type": "markdown",
   "id": "8753ff9d-4cd8-428d-b26b-385431ef2fde",
   "metadata": {},
   "source": [
    "Or all plots in one file on a grid. Set `mfrow(<number of rows>, <number of columns>)` according to the number of conditions/timepoints in analysed by LIANA."
   ]
  },
  {
   "cell_type": "code",
   "execution_count": null,
   "id": "9da95b0b-f11e-4cfe-97b8-c94b18afb764",
   "metadata": {},
   "outputs": [],
   "source": [
    "%%R -i liana_conds -i min_range -i max_range -i path_out -i experiment_prefix\n",
    "grid_columns <- 3\n",
    "grid_rows <- ceiling(length(liana_conds) / 3)\n",
    "\n",
    "# Save in one graphic as PNG\n",
    "filepath <- paste0(path_out, experiment_prefix, \"_\", \"All_conds_circos_plot.png\")\n",
    "png(filepath, units = \"in\", width=45, height=45, res=600)\n",
    "par(mfrow=c(grid_columns, grid_rows))\n",
    "\n",
    "for (cond in liana_conds) {\n",
    "  counts_cts_cond_r <- counts_conds[[cond]]\n",
    "  \n",
    "  # Plot title\n",
    "  plot_title <- paste(\"CCC between celltypes \\nfor condition \", cond)\n",
    "  \n",
    "  # Plot cicos plots\n",
    "  visualize_interactions(counts_cts_cond_r, plot_title=plot_title, color_fill_arrows = c(\"yellow\", \"#9933CC\"), legendsize = 1.0, min_range=min_range, max_range=max_range)\n",
    "}\n",
    "dev.off()\n",
    "\n",
    "\n",
    "# Save in one graphic as PDF\n",
    "filepath <- paste0(path_out, experiment_prefix, \"_\", \"All_conds_circos_plot.pdf\")\n",
    "pdf(filepath, width=45, height=45)\n",
    "par(mfrow=c(grid_columns, grid_rows))\n",
    "for (cond in liana_conds) {\n",
    "  counts_cts_cond_r <- counts_conds[[cond]]\n",
    "  \n",
    "  # Plot title\n",
    "  plot_title <- paste(\"CCC between celltypes \\nfor condition \", cond)\n",
    "  \n",
    "  # Plot cicos plots\n",
    "  visualize_interactions(counts_cts_cond_r, plot_title=plot_title, color_fill_arrows = c(\"yellow\", \"#9933CC\"), legendsize = 1.0, min_range=min_range, max_range=max_range)\n",
    "}\n",
    "dev.off()"
   ]
  },
  {
   "cell_type": "markdown",
   "id": "bdd03ba4-36c8-4e97-90b9-9f00434110a7",
   "metadata": {},
   "source": [
    "#### Save tables for plots."
   ]
  },
  {
   "cell_type": "code",
   "execution_count": null,
   "id": "8b56cae7-baea-4f56-a4b6-5ffa15ddd9d8",
   "metadata": {},
   "outputs": [],
   "source": [
    "%%R -i liana_conds -i path_out -i experiment_prefix\n",
    "\n",
    "for (cond in liana_conds) {\n",
    "    counts_cts_cond_r <- counts_conds[[cond]]\n",
    "  \n",
    "    # Plot title\n",
    "    plot_title <- paste0(\"CCC between celltypes \\nfor condition \", cond)\n",
    "    filepath <- paste0(path_out, experiment_prefix, \"_\", cond, \"_circos_plot_liana_res.txt\")\n",
    "    \n",
    "    write.csv(counts_cts_cond_r, file = filepath, row.names = FALSE)\n",
    "\n",
    "}"
   ]
  },
  {
   "cell_type": "markdown",
   "id": "cdc43e0a",
   "metadata": {},
   "source": [
    "## Heatmaps for interactions between celltypes\n",
    "\n",
    "Heatmaps to visualize the number of connections between celltypes per condition/timepoint, directed. First unweighted, then weighted by magnitude of interactions."
   ]
  },
  {
   "cell_type": "code",
   "execution_count": null,
   "id": "e7f4abe9",
   "metadata": {},
   "outputs": [],
   "source": [
    "# Get data frames for directed heatmaps\n",
    "# Get paths to import data frames as basis for heatmaps\n",
    "circos_suffix = \"_circos_plot_liana_res.txt\"\n",
    "path_glob_circos = os.path.join(path_out, \"*\" + circos_suffix) \n",
    "paths_circos = glob.glob(pathname=path_glob_circos)\n",
    "\n",
    "min_nr = 0\n",
    "max_nr_directed = float('-inf')\n",
    "\n",
    "circos_csvs_directed = {}\n",
    "\n",
    "for circos_csv in paths_circos:\n",
    "    # Read in condition data frame\n",
    "    cond = os.path.basename(circos_csv)[len(experiment_prefix)+1:-len(circos_suffix)]\n",
    "    csv_cond = pd.read_csv(circos_csv)\n",
    "\n",
    "    # Prepare data frame for heatmap plotting\n",
    "    csv_pivoted = helpers.prep_heatmap_df(csv_cond, directed=True, weighted=False)\n",
    "    circos_csvs_directed[cond] = csv_pivoted\n",
    "\n",
    "    # Get max value of current df and update max_nr_directed\n",
    "    max_cond_directed = csv_pivoted.max().max()\n",
    "    max_nr_directed = max_cond_directed if max_cond_directed > max_nr_directed else max_nr_directed"
   ]
  },
  {
   "cell_type": "code",
   "execution_count": null,
   "id": "2f93a0b6",
   "metadata": {},
   "outputs": [],
   "source": [
    "# Plot directed heatmaps\n",
    "heatmaps = {}\n",
    "\n",
    "for cond in liana_conds:\n",
    "    heatmaps[cond] = helpers.plot_heatmap(circos_csvs_directed[cond], title=cond, vmin=min_nr, vmax=max_nr_directed)\n",
    "    plt.show()\n"
   ]
  },
  {
   "cell_type": "markdown",
   "id": "f23ff507",
   "metadata": {},
   "source": [
    "Define order of conditions for the heatmaps in one file and set number of columns and number of rows.\n",
    "\n",
    "\n",
    "For `condtions` set an array in the shape of `[<condition 1>, <condition 2>, ...]` in the desired order. Condition names need to match the values in the condition column of the dataset. If conditions should be plotted in alphabetical order, ascending, set `condtions=liana_conds`.\n",
    "\n",
    "'row_breaks' determines when the plotting skips to the next row in the figure. Set as is it assumes that all axes are to be filled with plots. If axes should be skipped, set `row_breaks=[<row number for break 1>, <row number for break 2 multiplied by column number>, ... ]`."
   ]
  },
  {
   "cell_type": "code",
   "execution_count": null,
   "id": "ca556e2c",
   "metadata": {},
   "outputs": [],
   "source": [
    "n_cols = 3\n",
    "n_rows = 1\n",
    "\n",
    "conditions = ['00hr', '06hr', '24hr']\n",
    "\n",
    "row_breaks = [n_rows * n for n in range(1, n_cols)]"
   ]
  },
  {
   "cell_type": "code",
   "execution_count": null,
   "id": "0d1dd33a",
   "metadata": {},
   "outputs": [],
   "source": [
    "# Plot directed heatmaps in one figure\n",
    "heatmaps_fig, axes = plt.subplots(nrows=n_rows, ncols=n_cols, figsize=(40,10))\n",
    "\n",
    "col_nr = 0\n",
    "row_nr = 0 \n",
    "\n",
    "for idx in range(len(conditions)):\n",
    "    # Get condition name in predefined order\n",
    "    cond = conditions[idx]\n",
    "\n",
    "    #Breaks for switching to next column \n",
    "    if idx in row_breaks:\n",
    "        col_nr += 1\n",
    "        row_nr = 0\n",
    "\n",
    "    helpers.plot_heatmap(circos_csvs_directed[cond], title=cond, vmin=min_nr, vmax=max_nr_directed, ax=axes[row_nr, col_nr] if n_rows > 1 else axes[col_nr])\n",
    "\n",
    "    row_nr += 1\n",
    "\n",
    "plt.tight_layout(pad=2.0, w_pad=2.0, h_pad=3.0)\n",
    "\n",
    "plt.show()\n",
    "plt.close()"
   ]
  },
  {
   "cell_type": "code",
   "execution_count": null,
   "id": "5655abb1",
   "metadata": {},
   "outputs": [],
   "source": [
    "# Get dataframes for directed weighted heatmaps\n",
    "lianas_weighted_directed = {}\n",
    "\n",
    "min_score = 0\n",
    "max_score_directed = float('-inf')\n",
    "\n",
    "for cond in liana_conds:\n",
    "    # Get liana results tables and filter for significance in magnitude and specificity of ligand-receptor interactions\n",
    "    liana_res_cond = cond_adatas[cond].uns[\"liana_res\"].copy()\n",
    "    liana_res_cond = liana_res_cond[(liana_res_cond[\"magnitude_rank\"] <= 0.05) & (liana_res_cond[\"specificity_rank\"] <= 0.05)]\n",
    "    \n",
    "    # Get transformed heatmap for plotting\n",
    "    liana_weighted = helpers.prep_heatmap_df(liana_res_cond, directed=True, weighted=True)\n",
    "    lianas_weighted_directed[cond] = liana_weighted\n",
    "\n",
    "    # Set max score for heatmaps\n",
    "    cond_max_directed = liana_weighted.max().max()\n",
    "    max_score_directed = cond_max_directed if cond_max_directed > max_score_directed else max_score_directed"
   ]
  },
  {
   "cell_type": "code",
   "execution_count": null,
   "id": "fb3456a2",
   "metadata": {},
   "outputs": [],
   "source": [
    "# Plot directed weighted heatmap\n",
    "heatmaps_weighted = {}\n",
    "\n",
    "for cond in liana_conds:\n",
    "    heatmap = helpers.plot_heatmap(lianas_weighted_directed[cond], title=cond, vmin=min_score , vmax=max_score_directed)\n",
    "    heatmaps_weighted[cond] = heatmap\n",
    "    plt.show()"
   ]
  },
  {
   "cell_type": "code",
   "execution_count": null,
   "id": "b5bc8068",
   "metadata": {},
   "outputs": [],
   "source": [
    "# Plot directed weighted heatmaps in one figure\n",
    "heatmaps_weighted_fig, axes = plt.subplots(nrows=n_rows, ncols=n_cols, figsize=(40,10))\n",
    "\n",
    "col_nr = 0\n",
    "row_nr = 0 \n",
    "\n",
    "for idx in range(len(conditions)):\n",
    "    cond = conditions[idx]\n",
    "\n",
    "    if idx in row_breaks:\n",
    "        col_nr += 1\n",
    "        row_nr = 0\n",
    "\n",
    "    helpers.plot_heatmap(lianas_weighted_directed[cond], title=cond, vmin=min_score, vmax=max_score_directed, ax=axes[row_nr, col_nr] if n_rows > 1 else axes[col_nr])\n",
    "\n",
    "    row_nr += 1\n",
    "\n",
    "plt.tight_layout(pad=2.0, w_pad=2.0, h_pad=3.0)\n",
    "\n",
    "plt.show()\n",
    "plt.close()"
   ]
  },
  {
   "cell_type": "markdown",
   "id": "28f0e650",
   "metadata": {},
   "source": [
    "Heatmaps to visualize the number of connections between celltypes per condition/timepoint, undirected. First unweighted, then weighted by magnitude of interactions."
   ]
  },
  {
   "cell_type": "code",
   "execution_count": null,
   "id": "1bc8229a",
   "metadata": {},
   "outputs": [],
   "source": [
    "# Get data frames for undirected heatmaps\n",
    "# Get paths to heatmaps\n",
    "circos_suffix = \"_circos_plot_liana_res.txt\"\n",
    "path_glob_circos = os.path.join(path_out, \"*\" + circos_suffix) \n",
    "paths_circos = glob.glob(pathname=path_glob_circos)\n",
    "\n",
    "min_nr = 0\n",
    "max_nr = float('-inf')\n",
    "\n",
    "circos_csvs = {}\n",
    "\n",
    "for circos_csv in paths_circos:\n",
    "    # import heatmap data frame\n",
    "    cond = os.path.basename(circos_csv)[len(experiment_prefix)+1:-len(circos_suffix)]\n",
    "    csv_cond = pd.read_csv(circos_csv)\n",
    "\n",
    "    # Prepare the data frame for heatmap plotting\n",
    "    csv_mirrored = helpers.prep_heatmap_df(csv_cond, directed=False, weighted=False)\n",
    "    circos_csvs[cond] = csv_mirrored\n",
    "\n",
    "    # Get max value for count range\n",
    "    max_cond = csv_mirrored.max().max()\n",
    "    max_nr = max_cond if max_cond > max_nr else max_nr"
   ]
  },
  {
   "cell_type": "code",
   "execution_count": null,
   "id": "f47c7fe2",
   "metadata": {},
   "outputs": [],
   "source": [
    "# Plot undirected heatmaps\n",
    "heatmaps_undirected = {}\n",
    "for cond in liana_conds:\n",
    "    heatmap_undirected = helpers.plot_heatmap(circos_csvs[cond], title=cond, vmin=min_nr, vmax=max_nr)\n",
    "    heatmaps_undirected[cond] = heatmap_undirected\n",
    "    plt.show()"
   ]
  },
  {
   "cell_type": "code",
   "execution_count": null,
   "id": "83a14af5",
   "metadata": {},
   "outputs": [],
   "source": [
    "# Plot undirected heatmaps in one figure\n",
    "heatmaps_undirected_fig, axes = plt.subplots(nrows=n_rows, ncols=n_cols, figsize=(40,10))\n",
    "\n",
    "col_nr = 0\n",
    "row_nr = 0 \n",
    "\n",
    "for idx in range(len(conditions)):\n",
    "    cond = conditions[idx]\n",
    "\n",
    "    if idx in row_breaks:\n",
    "        col_nr += 1\n",
    "        row_nr = 0\n",
    "\n",
    "    helpers.plot_heatmap(circos_csvs[cond], title=cond, vmin=min_nr, vmax=max_nr, ax=axes[row_nr, col_nr] if n_rows > 1 else axes[col_nr])\n",
    "\n",
    "    row_nr += 1\n",
    "\n",
    "plt.tight_layout(pad=2.0, w_pad=2.0, h_pad=3.0)\n",
    "\n",
    "plt.show()\n",
    "plt.close()"
   ]
  },
  {
   "cell_type": "code",
   "execution_count": null,
   "id": "39bb9fdb",
   "metadata": {},
   "outputs": [],
   "source": [
    "# Get data frames for undirected weighted heatmaps \n",
    "lianas_weighted = {}\n",
    "\n",
    "min_score = 0\n",
    "max_score = float('-inf')\n",
    "\n",
    "for cond in liana_conds:\n",
    "    # Get liana results tables and filter for significance in magnitude and specificity of ligand-receptor interactions\n",
    "    liana_res_cond = cond_adatas[cond].uns[\"liana_res\"].copy()\n",
    "    liana_res_cond = liana_res_cond[(liana_res_cond[\"magnitude_rank\"] <= 0.05) & (liana_res_cond[\"specificity_rank\"] <= 0.05)]\n",
    "\n",
    "    # Get transformed data frame for heatmap plotting\n",
    "    liana_pivoted = helpers.prep_heatmap_df(liana_res_cond, directed=False, weighted=True)\n",
    "    lianas_weighted[cond] = liana_pivoted\n",
    "\n",
    "    # Get max value from weighted data frame and set max_score\n",
    "    cond_max = liana_pivoted.max().max()\n",
    "    max_score = cond_max if cond_max > max_score else max_score"
   ]
  },
  {
   "cell_type": "code",
   "execution_count": null,
   "id": "234c7200",
   "metadata": {},
   "outputs": [],
   "source": [
    "# Plot undirected weighted heatmaps\n",
    "heatmaps_undirected_weighted = {}\n",
    "\n",
    "for cond in liana_conds:\n",
    "    heatmap_undirected_weighted = helpers.plot_heatmap(lianas_weighted[cond], title=cond, vmin=min_score, vmax=max_score)\n",
    "    heatmaps_undirected_weighted[cond] = heatmap_undirected_weighted\n",
    "    plt.show()"
   ]
  },
  {
   "cell_type": "code",
   "execution_count": null,
   "id": "898ec92c",
   "metadata": {},
   "outputs": [],
   "source": [
    "# Plot undirected weighted heatmaps in one figure\n",
    "heatmaps_undirected_weighted_fig, axes = plt.subplots(nrows=n_rows, ncols=n_cols, figsize=(40,10))\n",
    "\n",
    "col_nr = 0\n",
    "row_nr = 0\n",
    "\n",
    "# Move to next column at row indexes [idx1, idx2, ...]\n",
    "breaks_at = [n_rows * col for col in range(1, n_cols)]\n",
    "\n",
    "for idx in range(len(conditions)):\n",
    "    cond = conditions[idx]\n",
    "\n",
    "    if idx in row_breaks:\n",
    "        col_nr += 1\n",
    "        row_nr = 0\n",
    "\n",
    "    helpers.plot_heatmap(lianas_weighted[cond], title=cond, vmin=min_score, vmax=max_score, ax=axes[row_nr, col_nr] if n_rows > 1 else axes[col_nr])\n",
    "\n",
    "    row_nr += 1\n",
    "\n",
    "plt.tight_layout(pad=2.0, w_pad=2.0, h_pad=3.0)\n",
    "\n",
    "plt.show()\n",
    "plt.close()"
   ]
  },
  {
   "cell_type": "markdown",
   "id": "1830d846",
   "metadata": {},
   "source": [
    "#### Save heatmaps"
   ]
  },
  {
   "cell_type": "code",
   "execution_count": null,
   "id": "1b5de67c",
   "metadata": {},
   "outputs": [],
   "source": [
    "# Save directed heatmaps\n",
    "for cond in heatmaps.keys():\n",
    "    fig = heatmaps[cond].get_figure()\n",
    "    for format in [\".pdf\", \".png\"]:\n",
    "        fig.savefig(os.path.join(path_out, '_'.join([experiment_prefix, cond, 'heatmap' + format])), bbox_inches='tight')"
   ]
  },
  {
   "cell_type": "code",
   "execution_count": null,
   "id": "137f761e",
   "metadata": {},
   "outputs": [],
   "source": [
    "# Save directed heatmaps in one figure\n",
    "for format in [\".pdf\", \".png\"]:\n",
    "    heatmaps_fig.savefig(os.path.join(path_out, '_'.join([experiment_prefix, 'all_heatmap' + format])), bbox_inches='tight')"
   ]
  },
  {
   "cell_type": "code",
   "execution_count": null,
   "id": "65ee8db0",
   "metadata": {},
   "outputs": [],
   "source": [
    "# Save directed weighted heatmaps\n",
    "for cond in heatmaps_weighted.keys():\n",
    "    fig = heatmaps_weighted[cond].get_figure()\n",
    "    for format in [\".pdf\", \".png\"]:\n",
    "        fig.savefig(os.path.join(path_out, '_'.join([experiment_prefix, cond, 'weighted_heatmap' + format])), bbox_inches='tight')"
   ]
  },
  {
   "cell_type": "code",
   "execution_count": null,
   "id": "e7ca28f3",
   "metadata": {},
   "outputs": [],
   "source": [
    "# Save directed weighted heatmaps in one figure\n",
    "for format in [\".pdf\", \".png\"]:\n",
    "    heatmaps_weighted_fig.savefig(os.path.join(path_out, '_'.join([experiment_prefix, 'all_weighted_heatmap' + format])), bbox_inches='tight')"
   ]
  },
  {
   "cell_type": "code",
   "execution_count": null,
   "id": "1d3364aa",
   "metadata": {},
   "outputs": [],
   "source": [
    "# Save undirected heatmaps\n",
    "for cond in heatmaps_undirected.keys():\n",
    "    fig = heatmaps_undirected[cond].get_figure()\n",
    "    for format in [\".pdf\", \".png\"]:\n",
    "        fig.savefig(os.path.join(path_out, '_'.join([experiment_prefix, cond, 'undirected_heatmap' + format])), bbox_inches='tight')"
   ]
  },
  {
   "cell_type": "code",
   "execution_count": null,
   "id": "08649208",
   "metadata": {},
   "outputs": [],
   "source": [
    "# Save undirected heatmaps in one figure\n",
    "for format in [\".pdf\", \".png\"]:\n",
    "    heatmaps_undirected_fig.savefig(os.path.join(path_out, '_'.join([experiment_prefix, 'all_undirected_heatmap' + format])), bbox_inches='tight')"
   ]
  },
  {
   "cell_type": "code",
   "execution_count": null,
   "id": "1376be9a",
   "metadata": {},
   "outputs": [],
   "source": [
    "# Save undirected weighted heatmaps\n",
    "for conds in heatmaps_undirected_weighted.keys():\n",
    "    fig = heatmaps_undirected_weighted[cond].get_figure()\n",
    "    for format in [\".pdf\", \".png\"]:\n",
    "        fig.savefig(os.path.join(path_out, '_'.join([experiment_prefix, cond, 'undirected_weighted_heatmap' + format])), bbox_inches='tight')"
   ]
  },
  {
   "cell_type": "code",
   "execution_count": null,
   "id": "7015529a",
   "metadata": {},
   "outputs": [],
   "source": [
    "# Save undirected weighted heatmaps in one figure\n",
    "for format in [\".pdf\", \".png\"]:\n",
    "    heatmaps_undirected_weighted_fig.savefig(os.path.join(path_out, '_'.join([experiment_prefix, 'all_undirected_weighted_heatmap' + format])), bbox_inches='tight')"
   ]
  },
  {
   "cell_type": "markdown",
   "id": "d7c15f13",
   "metadata": {},
   "source": [
    "#### Save data frames for heatmaps"
   ]
  },
  {
   "cell_type": "code",
   "execution_count": null,
   "id": "25b2c7ec",
   "metadata": {},
   "outputs": [],
   "source": [
    "# Save datafrimes for directed heatmaps\n",
    "for cond in circos_csvs_directed.keys():\n",
    "    circos_csvs_directed[cond].to_csv(path_or_buf=os.path.join(path_out, \"_\".join([experiment_prefix, cond, \"heatmap.txt.gz\"])))"
   ]
  },
  {
   "cell_type": "code",
   "execution_count": null,
   "id": "13cdb458",
   "metadata": {},
   "outputs": [],
   "source": [
    "# Save data frames for directed weighted heatmaps\n",
    "for cond in lianas_weighted_directed.keys():\n",
    "    lianas_weighted_directed[cond].to_csv(path_or_buf=os.path.join(path_out, \"_\".join([experiment_prefix, cond, \"weighted_heatmap.txt.gz\"])))"
   ]
  },
  {
   "cell_type": "code",
   "execution_count": null,
   "id": "32149d34",
   "metadata": {},
   "outputs": [],
   "source": [
    "# Save data frames for undirected heatmaps\n",
    "for cond in circos_csvs.keys():\n",
    "    circos_csvs[cond].to_csv(path_or_buf=os.path.join(path_out, \"_\".join([experiment_prefix, cond, \"undirected_heatmap.txt.gz\"])))"
   ]
  },
  {
   "cell_type": "code",
   "execution_count": null,
   "id": "d5b61f17",
   "metadata": {},
   "outputs": [],
   "source": [
    "# Save data frames for undirected weighted heatmaps\n",
    "for cond in lianas_weighted.keys():\n",
    "    lianas_weighted[cond].to_csv(path_or_buf=os.path.join(path_out, \"_\".join([experiment_prefix, cond, \"undirected_weighted_heatmap.txt.gz\"])))"
   ]
  },
  {
   "cell_type": "markdown",
   "id": "b0143d79",
   "metadata": {},
   "source": [
    "## Normalized interactions plottet\n",
    "\n",
    "Starting with unweighted interaction counts."
   ]
  },
  {
   "cell_type": "code",
   "execution_count": null,
   "id": "796e9df6",
   "metadata": {},
   "outputs": [],
   "source": [
    "# Get data frames with unfiltered ligand-receptor interactions per cell type pair\n",
    "csv_conds_unfiltered = {}\n",
    "\n",
    "for cond in liana_conds:\n",
    "    # Get liana results tables and filter for significance in magnitude and specificity of ligand-receptor interactions\n",
    "    liana_res_cond = cond_adatas[cond].uns[\"liana_res\"].copy()\n",
    "    #liana_res_cond = liana_res_cond[(liana_res_cond[\"magnitude_rank\"] <= 0.05) & (liana_res_cond[\"specificity_rank\"] <= 0.05)]\n",
    "    \n",
    "    # Get number of significant interactions per celltype pair\n",
    "    counts_cts_cond = liana_res_cond.groupby([\"source\", \"target\"]).count()[\"ligand_complex\"].reset_index()\n",
    "    # Rename colums for R function\n",
    "    counts_cts_cond_r = counts_cts_cond.rename(columns={\"source\": \"source_cluster\", \n",
    "                                                        \"target\": \"target_cluster\", \n",
    "                                                        \"ligand_complex\": \"number\"})\n",
    "    \n",
    "    csv_conds_unfiltered[cond] = counts_cts_cond_r"
   ]
  },
  {
   "cell_type": "code",
   "execution_count": null,
   "id": "3a5ba674",
   "metadata": {},
   "outputs": [],
   "source": [
    "for cond in liana_conds:\n",
    "    print(\"Number of ligand-receptor interactions per cell type pair for condition \" + cond + \": \" + str(csv_conds_unfiltered[cond]['number'].unique()))"
   ]
  },
  {
   "cell_type": "code",
   "execution_count": null,
   "id": "fd5491db",
   "metadata": {},
   "outputs": [],
   "source": [
    "# Get data frames with filtered ligand-receptor interactions per cell type pair\n",
    "# Get paths to import data frames as basis for heatmaps\n",
    "circos_suffix = \"_circos_plot_liana_res.txt\"\n",
    "path_glob_circos = os.path.join(path_out, \"*\" + circos_suffix) \n",
    "paths_circos = glob.glob(pathname=path_glob_circos)\n",
    "\n",
    "csv_conds = {}\n",
    "\n",
    "for circos_csv in paths_circos:\n",
    "    # Read in condition data frame\n",
    "    cond = os.path.basename(circos_csv)[len(experiment_prefix)+1:-len(circos_suffix)]\n",
    "    csv_cond = pd.read_csv(circos_csv)\n",
    "\n",
    "    # Add to dict\n",
    "    csv_conds[cond] = csv_cond"
   ]
  },
  {
   "cell_type": "code",
   "execution_count": null,
   "id": "ce963f40",
   "metadata": {},
   "outputs": [],
   "source": [
    "# Get data frames with normalized ligand-receptor interactions per cell type pair (# filtered interactions/# unfiltered interactions)\n",
    "csv_conds_norm = {}\n",
    "\n",
    "for cond in liana_conds:\n",
    "    csv_conds_norm[cond] = csv_conds[cond].drop(columns=['number'])\n",
    "    csv_conds_norm[cond]['number'] = csv_conds[cond]['number'] / csv_conds_unfiltered[cond]['number']"
   ]
  },
  {
   "cell_type": "markdown",
   "id": "41a68150",
   "metadata": {},
   "source": [
    "### Heatmaps with normalized interactions\n",
    "\n",
    "Heatmaps to visualize the number of connections between celltypes per condition/timepoint normalized against the total number of ligand-receptor pairs in the data set, directed. First unweighted."
   ]
  },
  {
   "cell_type": "code",
   "execution_count": null,
   "id": "562c06f3",
   "metadata": {},
   "outputs": [],
   "source": [
    "# Get data frames for directed heatmaps with normalized values\n",
    "min_nr_norm = 0\n",
    "max_nr_directed_norm = float('-inf')\n",
    "\n",
    "circos_csvs_directed_norm = {}\n",
    "\n",
    "for cond in liana_conds:\n",
    "    # Prepare data frame for heatmap plotting\n",
    "    csv_pivoted_norm = helpers.prep_heatmap_df(csv_conds_norm[cond], directed=True, weighted=False)\n",
    "    circos_csvs_directed_norm[cond] = csv_pivoted_norm\n",
    "\n",
    "    # Get max value of current df and update max_nr_directed\n",
    "    max_cond_directed_norm = csv_pivoted_norm.max().max()\n",
    "    max_nr_directed_norm = max_cond_directed_norm if max_cond_directed_norm > max_nr_directed_norm else max_nr_directed_norm"
   ]
  },
  {
   "cell_type": "code",
   "execution_count": null,
   "id": "3cacb261",
   "metadata": {},
   "outputs": [],
   "source": [
    "# Plot directed heatmaps\n",
    "heatmaps_norm = {}\n",
    "\n",
    "for cond in liana_conds:\n",
    "    heatmaps_norm[cond] = helpers.plot_heatmap(circos_csvs_directed_norm[cond], title=cond, vmin=min_nr_norm, vmax=max_nr_directed_norm)\n",
    "    plt.show()"
   ]
  },
  {
   "cell_type": "markdown",
   "id": "2349fd2e",
   "metadata": {},
   "source": [
    "Define order of conditions for the heatmaps in one file and set number of columns and number of rows.\n",
    "\n",
    "\n",
    "For `condtions` set an array in the shape of `[<condition 1>, <condition 2>, ...]` in the desired order. Condition names need to match the values in the condition column of the dataset. If conditions should be plotted in alphabetical order, ascending, set `condtions=liana_conds`.\n",
    "\n",
    "'row_breaks' determines when the plotting skips to the next row in the figure. Set as is it assumes that all axes are to be filled with plots. If axes should be skipped, set `row_breaks=[<row number for break 1>, <row number for break 2 multiplied by column number>, ... ]`."
   ]
  },
  {
   "cell_type": "code",
   "execution_count": null,
   "id": "9d4400bc",
   "metadata": {},
   "outputs": [],
   "source": [
    "n_cols = 3\n",
    "n_rows = 1\n",
    "\n",
    "conditions = ['00hr', '06hr', '24hr']\n",
    "\n",
    "\n",
    "row_breaks = [n_rows * n for n in range(1, n_cols)]"
   ]
  },
  {
   "cell_type": "code",
   "execution_count": null,
   "id": "3db2e56f",
   "metadata": {},
   "outputs": [],
   "source": [
    "# Plot directed heatmaps in one figure\n",
    "heatmaps_fig_norm, axes = plt.subplots(nrows=n_rows, ncols=n_cols, figsize=(40,10))\n",
    "\n",
    "col_nr = 0\n",
    "row_nr = 0 \n",
    "\n",
    "for idx in range(len(conditions)):\n",
    "    # Get condition name in predefined order\n",
    "    cond = conditions[idx]\n",
    "\n",
    "    #Breaks for switching to next column \n",
    "    if idx in row_breaks:\n",
    "        col_nr += 1\n",
    "        row_nr = 0\n",
    "\n",
    "    helpers.plot_heatmap(circos_csvs_directed_norm[cond], title=cond, vmin=min_nr_norm, vmax=max_nr_directed_norm, ax=axes[row_nr, col_nr] if n_rows > 1 else axes[col_nr])\n",
    "\n",
    "    row_nr += 1\n",
    "\n",
    "plt.tight_layout(pad=2.0, w_pad=2.0, h_pad=3.0)\n",
    "\n",
    "plt.show()\n",
    "plt.close()"
   ]
  },
  {
   "cell_type": "markdown",
   "id": "8fe0c3cf",
   "metadata": {},
   "source": [
    "Heatmaps to visualize the number of connections between celltypes per condition/timepoint normalized against total number of ligand-receptor pairs in the data set, undirected. First unweighted."
   ]
  },
  {
   "cell_type": "code",
   "execution_count": null,
   "id": "e40fb374",
   "metadata": {},
   "outputs": [],
   "source": [
    "# Get data frames for undirected heatmaps with normalized values\n",
    "min_nr_norm = 0\n",
    "max_nr_norm = float('-inf')\n",
    "\n",
    "circos_csvs_norm = {}\n",
    "\n",
    "for cond in liana_conds:\n",
    "    # Prepare the data frame for heatmap plotting\n",
    "    csv_mirrored_norm = helpers.prep_heatmap_df(csv_conds_norm[cond], directed=False, weighted=False)\n",
    "    circos_csvs_norm[cond] = csv_mirrored_norm\n",
    "\n",
    "    # Get max value for count range\n",
    "    max_cond_norm = csv_mirrored_norm.max().max()\n",
    "    max_nr_norm = max_cond_norm if max_cond_norm > max_nr_norm else max_nr_norm"
   ]
  },
  {
   "cell_type": "code",
   "execution_count": null,
   "id": "5b60fd8b",
   "metadata": {},
   "outputs": [],
   "source": [
    "# Plot undirected heatmaps\n",
    "heatmaps_undirected_norm = {}\n",
    "\n",
    "for cond in liana_conds:\n",
    "    heatmap_undirected_norm = helpers.plot_heatmap(circos_csvs_norm[cond], title=cond, vmin=min_nr_norm, vmax=max_nr_norm)\n",
    "    heatmaps_undirected_norm[cond] = heatmap_undirected_norm\n",
    "    plt.show()"
   ]
  },
  {
   "cell_type": "code",
   "execution_count": null,
   "id": "f7aa5bf7",
   "metadata": {},
   "outputs": [],
   "source": [
    "# Plot undirected heatmaps in one figure\n",
    "heatmaps_undirected_fig_norm, axes = plt.subplots(nrows=n_rows, ncols=n_cols, figsize=(40,10))\n",
    "\n",
    "col_nr = 0\n",
    "row_nr = 0 \n",
    "\n",
    "for idx in range(len(conditions)):\n",
    "    cond = conditions[idx]\n",
    "\n",
    "    if idx in row_breaks:\n",
    "        col_nr += 1\n",
    "        row_nr = 0\n",
    "\n",
    "    helpers.plot_heatmap(circos_csvs_norm[cond], title=cond, vmin=min_nr_norm, vmax=max_nr_norm, ax=axes[row_nr, col_nr] if n_rows > 1 else axes[col_nr])\n",
    "\n",
    "    row_nr += 1\n",
    "\n",
    "plt.tight_layout(pad=2.0, w_pad=2.0, h_pad=3.0)\n",
    "\n",
    "plt.show()\n",
    "plt.close()"
   ]
  },
  {
   "cell_type": "markdown",
   "id": "5532b20f",
   "metadata": {},
   "source": [
    "#### Save heatmaps"
   ]
  },
  {
   "cell_type": "code",
   "execution_count": null,
   "id": "c57a2f15",
   "metadata": {},
   "outputs": [],
   "source": [
    "# Save directed heatmaps\n",
    "for cond in heatmaps_norm.keys():\n",
    "    fig = heatmaps_norm[cond].get_figure()\n",
    "    for format in [\".pdf\", \".png\"]:\n",
    "        fig.savefig(os.path.join(path_out, '_'.join([experiment_prefix, cond, 'heatmap_normalized' + format])), bbox_inches='tight')\n",
    "\n",
    "# Save directed heatmaps in one figure\n",
    "for format in [\".pdf\", \".png\"]:\n",
    "    heatmaps_fig_norm.savefig(os.path.join(path_out, '_'.join([experiment_prefix, 'all_heatmap_normalied' + format])), bbox_inches='tight')\n",
    "\n",
    "# Save undirected heatmaps\n",
    "for cond in heatmaps_undirected_norm.keys():\n",
    "    fig = heatmaps_undirected_norm[cond].get_figure()\n",
    "    for format in [\".pdf\", \".png\"]:\n",
    "        fig.savefig(os.path.join(path_out, '_'.join([experiment_prefix, cond, 'undirected_heatmap_normalized' + format])), bbox_inches='tight')\n",
    "\n",
    "# Save undirected heatmaps in one figure\n",
    "for format in [\".pdf\", \".png\"]:\n",
    "    heatmaps_undirected_fig_norm.savefig(os.path.join(path_out, '_'.join([experiment_prefix, 'all_undirected_heatmap_normalized' + format])), bbox_inches='tight')"
   ]
  },
  {
   "cell_type": "markdown",
   "id": "2344c250",
   "metadata": {},
   "source": [
    "#### Save heatmap data frames"
   ]
  },
  {
   "cell_type": "code",
   "execution_count": null,
   "id": "200980c4",
   "metadata": {},
   "outputs": [],
   "source": [
    "# Save datafrimes for directed heatmaps\n",
    "for cond in circos_csvs_directed.keys():\n",
    "    circos_csvs_directed[cond].to_csv(path_or_buf=os.path.join(path_out, \"_\".join([experiment_prefix, cond, \"heatmap_normalized.txt.gz\"])))\n",
    "\n",
    "# Save data frames for undirected heatmaps\n",
    "for cond in circos_csvs.keys():\n",
    "    circos_csvs[cond].to_csv(path_or_buf=os.path.join(path_out, \"_\".join([experiment_prefix, cond, \"undirected_heatmap_normalized.txt.gz\"])))"
   ]
  },
  {
   "cell_type": "markdown",
   "id": "4bd11597-6857-4da3-ac09-ff4f9f8e6ce1",
   "metadata": {},
   "source": [
    "## Plots showing difference in number of interactions between celltypes between conditions/timepoints."
   ]
  },
  {
   "cell_type": "markdown",
   "id": "88f4cce8-6136-4367-a032-fbfc0b5319f7",
   "metadata": {},
   "source": [
    "Choose one condition/timepoint to look at. Compare the difference in LIANA detected CCC events in relation to each of the other conditions/timepoints."
   ]
  },
  {
   "cell_type": "markdown",
   "id": "0354628e-6d30-488a-a8d8-21450545b3b7",
   "metadata": {},
   "source": [
    "### Diverging Barplots"
   ]
  },
  {
   "cell_type": "code",
   "execution_count": null,
   "id": "a8aa5c2a-30ec-41f9-a650-4b84145093ab",
   "metadata": {
    "scrolled": true,
    "tags": []
   },
   "outputs": [],
   "source": [
    "%%R -i liana_conds -i path_out\n",
    "\n",
    "barplots <- c()\n",
    "barplot_dfs <- c()\n",
    "\n",
    "for (condition1 in liana_conds) {\n",
    "    for (condition2 in liana_conds){\n",
    "        # Don't do the comparison if condition one and two are the same\n",
    "        if (condition1 == condition2) next\n",
    "        \n",
    "        # Get data frame with differences for plotting\n",
    "        result <- prep_data_barplot(counts_conds[[condition1]], counts_conds[[condition2]])\n",
    "        \n",
    "        # Set plot title\n",
    "        plot_title <- paste0(\"Changes in number of CCC events between celltypes in condition \\n\", condition1, \" vs \", condition2)\n",
    "\n",
    "        # Create the plot\n",
    "        p <- visualize_differences(result, title=plot_title)\n",
    "        \n",
    "        vs = paste0(condition1, \"_vs_\", condition2)\n",
    "        \n",
    "        barplots[[vs]] <- p\n",
    "        barplot_dfs[[vs]] <- result\n",
    "        \n",
    "        print(p)\n",
    "    }\n",
    "}\n"
   ]
  },
  {
   "cell_type": "markdown",
   "id": "4551d926-24a6-4aad-87d9-711e8f265c05",
   "metadata": {},
   "source": [
    "#### Save Barplots."
   ]
  },
  {
   "cell_type": "code",
   "execution_count": null,
   "id": "ed4bb811-5590-4836-9e7f-5c000b028cdb",
   "metadata": {},
   "outputs": [],
   "source": [
    "%%R -i path_out -i experiment_prefix\n",
    "\n",
    "for (name in names(barplots)) {\n",
    "    # Set flexible file width and height\n",
    "    file_width <- max(max(nchar(barplot_dfs[[name]]$pair_label)) / 2, 14)\n",
    "    file_height <- max(length(barplot_dfs[[name]]$source_cluster) / 4, 12)\n",
    "\n",
    "    # Save plot as PNG\n",
    "    filepath <- paste0(path_out, experiment_prefix, \"_\", name, \"_diverging_barplot.png\")\n",
    "    ggsave(filepath, plot=barplots[[name]], width=file_width, height=file_height, units=\"in\", dpi=300, limitsize=FALSE)\n",
    "\n",
    "    # Save plot as PDF\n",
    "    filepath <- paste0(path_out, experiment_prefix, \"_\", name, \"_diverging_barplot.pdf\")\n",
    "    ggsave(filepath, plot=barplots[[name]], width=file_width, height=file_height, units=\"in\", dpi=300, limitsize=FALSE)\n",
    "}"
   ]
  },
  {
   "cell_type": "markdown",
   "id": "7d398de6-ecb4-4ea4-8ed9-18421794f034",
   "metadata": {},
   "source": [
    "#### Save tables for Barplots."
   ]
  },
  {
   "cell_type": "code",
   "execution_count": null,
   "id": "df3427c9-e708-484f-8939-160314b7d2d2",
   "metadata": {},
   "outputs": [],
   "source": [
    "%%R -i path_out -i experiment_prefix\n",
    "\n",
    "for (name in names(barplot_dfs)) {       \n",
    "    # Set path for data frame saving\n",
    "    filepath <- paste0(path_out, experiment_prefix, \"_\", name, \"_diverging_barplot.txt.gz\")\n",
    "    # Save data frame\n",
    "    write.csv(barplot_dfs[[name]][, c(\"source_cluster\", \"target_cluster\", \"number\")], filepath, row.names = FALSE)\n",
    "}"
   ]
  },
  {
   "cell_type": "markdown",
   "id": "ee0fa24a-7458-465c-aa6e-ade67c4e7c06",
   "metadata": {},
   "source": [
    "# Save condition AnnDatas\n",
    "\n",
    "Save the AnnData objects for the conditions/timepoints with the ligand-receptor inference information to .h5ad files."
   ]
  },
  {
   "cell_type": "code",
   "execution_count": null,
   "id": "7c4ed899-81c9-4f96-8eac-dd026ecb654f",
   "metadata": {},
   "outputs": [],
   "source": [
    "for cond in liana_conds:\n",
    "    cond_adatas[cond].write_h5ad(filename=os.path.join(path_out, \"_\".join([experiment_prefix, cond, \"liana_results.h5ad\"])))"
   ]
  },
  {
   "cell_type": "markdown",
   "id": "7f47e1ab-f5f5-4ff6-8a61-72bb735d521d",
   "metadata": {},
   "source": [
    "# Save experiment AnnData\n",
    "\n",
    "Save full experiment AnnData object with all condition liana results tables."
   ]
  },
  {
   "cell_type": "code",
   "execution_count": null,
   "id": "9fb0a642-a811-40e0-90f3-9c61a80015d0",
   "metadata": {},
   "outputs": [],
   "source": [
    "# Make sure the original X matrix of the AnnData is restored\n",
    "if layer_raw == \"X\":\n",
    "    adata.X = adata.raw.X.copy()\n",
    "    del adata.raw\n",
    "else:\n",
    "    adata.X = adata.layers[\".X\"]\n",
    "    del adata.layers[\".X\"]\n",
    "\n",
    "# Add max_col and max_size to Anndata\n",
    "adata.uns['max_col_liana'] = max_col\n",
    "adata.uns['max_size_liana'] = max_size\n",
    "    \n",
    "# Get filename from path_in_adata and edit for saveing new adata\n",
    "file_name = \"_\".join([experiment_prefix, \"liana_results.h5ad\"])\n",
    "\n",
    "# Save adata as .h5ad file to out path\n",
    "adata.write_h5ad(filename=os.path.join(path_out, file_name))"
   ]
  },
  {
   "cell_type": "markdown",
   "id": "80717bf8-680f-4aa0-aa76-3990e8cc89c3",
   "metadata": {},
   "source": [
    "# Session info\n",
    "\n",
    "Show session info for reproducability."
   ]
  },
  {
   "cell_type": "code",
   "execution_count": null,
   "id": "47672bf1-50b2-4bc6-b9a8-61228283a84a",
   "metadata": {},
   "outputs": [],
   "source": [
    "%%R\n",
    "sessionInfo()"
   ]
  },
  {
   "cell_type": "code",
   "execution_count": null,
   "id": "aee0fe28-d2ba-4332-bad3-133251ca950c",
   "metadata": {},
   "outputs": [],
   "source": [
    "session_info.show()"
   ]
  },
  {
   "cell_type": "markdown",
   "id": "fe4fab58-43a4-4c5c-a227-cd1d2faff4e2",
   "metadata": {},
   "source": [
    "# Save notebook"
   ]
  },
  {
   "cell_type": "code",
   "execution_count": null,
   "id": "49038d28-2b08-4a0b-9910-d01ab0246936",
   "metadata": {},
   "outputs": [],
   "source": [
    "%notebook -e # path_out -> doesn't recognise path_out as variable"
   ]
  }
 ],
 "metadata": {
  "kernelspec": {
   "display_name": "cell_cell_commu2",
   "language": "python",
   "name": "python3"
  },
  "language_info": {
   "codemirror_mode": {
    "name": "ipython",
    "version": 3
   },
   "file_extension": ".py",
   "mimetype": "text/x-python",
   "name": "python",
   "nbconvert_exporter": "python",
   "pygments_lexer": "ipython3",
   "version": "3.12.3"
  }
 },
 "nbformat": 4,
 "nbformat_minor": 5
}
