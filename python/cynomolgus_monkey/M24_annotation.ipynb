{
 "cells": [
  {
   "cell_type": "code",
   "execution_count": null,
   "id": "1d06b6c6-b9f0-4ed4-a078-30088d847690",
   "metadata": {},
   "outputs": [],
   "source": [
    "import numpy as np\n",
    "import scanpy as sc\n",
    "import seaborn as sns\n",
    "import os\n",
    "import pandas as pd\n",
    "import matplotlib.pyplot as plt\n",
    "import warnings\n",
    "import sys\n",
    "path_helper = [\"C:\\\\\",\"Users\",\"vfriedrich\",\"projects\",\"monkey_IZI\",\"git_documentation\",\"scRNAseq_cross_species_primate_human\",\"analysis\",\"helper\"]\n",
    "sys.path.append(os.path.join(*path_helper))\n",
    "import helperVDF as h\n",
    "print(sys.executable)"
   ]
  },
  {
   "cell_type": "code",
   "execution_count": null,
   "id": "00e85fde-e0d3-429f-b86d-e67031b345c0",
   "metadata": {},
   "outputs": [],
   "source": [
    "h.print_main_versions()"
   ]
  },
  {
   "cell_type": "code",
   "execution_count": null,
   "id": "0745b815-1f58-4de1-9e7a-dfbd39ee9980",
   "metadata": {},
   "outputs": [],
   "source": [
    "#env: scArches_env"
   ]
  },
  {
   "cell_type": "code",
   "execution_count": null,
   "id": "6fbad03d-ba61-461e-9dc2-ecd7094f363e",
   "metadata": {},
   "outputs": [],
   "source": [
    "pre = \"M24\"\n",
    "drive = 'F'\n",
    "species = 'cyno'\n",
    "base_model_path,base_table_path,base_plots_path,base_anndata_objects = h.return_local_paths(drive = drive,\n",
    "                                                                                            pre = pre,\n",
    "                                                                                            add_path = True)"
   ]
  },
  {
   "cell_type": "code",
   "execution_count": null,
   "id": "0c213eb9-ddb2-463a-a321-1db6178d6951",
   "metadata": {},
   "outputs": [],
   "source": [
    "#cyno\n",
    "_,_,_,base_anndata_objects_M23 = h.return_local_paths(drive = drive,pre = \"M23\",add_path = False)"
   ]
  },
  {
   "cell_type": "code",
   "execution_count": null,
   "id": "569da4d2-42c3-476a-ac67-fe8debf0f8cc",
   "metadata": {},
   "outputs": [],
   "source": [
    "adata_passedQC_cyno = sc.read_h5ad(os.path.join(base_anndata_objects_M23,'M23' + '_' + species + '_batch_corrected.h5ad'))"
   ]
  },
  {
   "cell_type": "code",
   "execution_count": null,
   "id": "1cb8f450-8ca2-47c0-a9fd-b33788faf5e5",
   "metadata": {},
   "outputs": [],
   "source": [
    "tab1 = pd.DataFrame(adata_passedQC_cyno.obs.groupby('louvain_res_2')['predicted.celltype.l1'].value_counts())\n",
    "tab2 = pd.DataFrame(adata_passedQC_cyno.obs.groupby('louvain_res_2')['COVID19_PBMC_maj'].value_counts())\n",
    "tab3 = pd.DataFrame(adata_passedQC_cyno.obs.groupby('louvain_res_2')['Healty_WholeBlood_maj'].value_counts())"
   ]
  },
  {
   "cell_type": "markdown",
   "id": "2959ed70-2e90-4007-9f77-a9b3c8d0e00f",
   "metadata": {},
   "source": [
    "### Manual annotation\n",
    "we compare the annotation of 'predicted.celltype.l1','Healty_WholeBlood_maj','COVID19_PBMC_maj' per louvain cluster for annotation"
   ]
  },
  {
   "cell_type": "markdown",
   "id": "e6cac00d-1ac1-4d72-9ace-f9fc414e5846",
   "metadata": {},
   "source": [
    "##### cluster 0"
   ]
  },
  {
   "cell_type": "code",
   "execution_count": null,
   "id": "317acbe1-b3d4-4ce2-b925-dc473f5404e7",
   "metadata": {},
   "outputs": [],
   "source": [
    "cluster ='0'"
   ]
  },
  {
   "cell_type": "code",
   "execution_count": null,
   "id": "75dd3d9b-5237-4f3f-abdc-ad6d8009ce8b",
   "metadata": {},
   "outputs": [],
   "source": [
    "h.print_top_annotations(tab1,tab2,tab3,cluster=cluster)"
   ]
  },
  {
   "cell_type": "code",
   "execution_count": null,
   "id": "aee312d0-bf02-4dc4-ad7c-d2b556e38a3c",
   "metadata": {},
   "outputs": [],
   "source": [
    "cl_annotation = {\n",
    "    \"0\": \"CD4 T cell\"\n",
    "}"
   ]
  },
  {
   "cell_type": "markdown",
   "id": "0d28c613-7eb6-4da9-9d5f-181e3ea73d3d",
   "metadata": {},
   "source": [
    "##### cluster 1"
   ]
  },
  {
   "cell_type": "code",
   "execution_count": null,
   "id": "c8fdb1ab-a450-47ba-87a2-1d1533f512d3",
   "metadata": {},
   "outputs": [],
   "source": [
    "cluster ='1'\n",
    "h.print_top_annotations(tab1,tab2,tab3,cluster=cluster)"
   ]
  },
  {
   "cell_type": "code",
   "execution_count": null,
   "id": "ba1ae4b9-7924-4226-aa59-a423706fd098",
   "metadata": {},
   "outputs": [],
   "source": [
    "cl_annotation[cluster] = \"CD8 T cell\""
   ]
  },
  {
   "cell_type": "markdown",
   "id": "3cc61da3-1f77-4fc3-bc36-62052759f708",
   "metadata": {},
   "source": [
    "##### cluster 2"
   ]
  },
  {
   "cell_type": "code",
   "execution_count": null,
   "id": "d544b22b-6c2c-4538-bd18-c10fb2e94e00",
   "metadata": {},
   "outputs": [],
   "source": [
    "cluster ='2'\n",
    "h.print_top_annotations(tab1,tab2,tab3,cluster=cluster)"
   ]
  },
  {
   "cell_type": "code",
   "execution_count": null,
   "id": "08ba9c47-3672-4a91-8f0d-a37a897d7e22",
   "metadata": {},
   "outputs": [],
   "source": [
    "cl_annotation[cluster] = \"CD4 T cell\""
   ]
  },
  {
   "cell_type": "markdown",
   "id": "bf9d7192-1af0-42a7-be39-3660ca84d4c5",
   "metadata": {},
   "source": [
    "##### cluster 3"
   ]
  },
  {
   "cell_type": "code",
   "execution_count": null,
   "id": "0c5c6a37-e3fc-44b3-b074-58ced93cdb9f",
   "metadata": {},
   "outputs": [],
   "source": [
    "cluster ='3'\n",
    "h.print_top_annotations(tab1,tab2,tab3,cluster=cluster)"
   ]
  },
  {
   "cell_type": "code",
   "execution_count": null,
   "id": "fe5ec2c8-5039-4195-95ff-b0257c860cdc",
   "metadata": {},
   "outputs": [],
   "source": [
    "cl_annotation[cluster] = \"B cell\""
   ]
  },
  {
   "cell_type": "markdown",
   "id": "b41ac8b2-1836-4e9c-a6fe-48c0313859ee",
   "metadata": {},
   "source": [
    "##### cluster 4"
   ]
  },
  {
   "cell_type": "code",
   "execution_count": null,
   "id": "6df46cf0-d53c-4aa3-ac94-ca745f4907d8",
   "metadata": {},
   "outputs": [],
   "source": [
    "cluster ='4'\n",
    "h.print_top_annotations(tab1,tab2,tab3,cluster=cluster)"
   ]
  },
  {
   "cell_type": "code",
   "execution_count": null,
   "id": "45a42f53-2b54-42ab-8c72-aa32d55ee4c7",
   "metadata": {},
   "outputs": [],
   "source": [
    "#further look CD8 or NK cell\n",
    "cl_annotation[cluster] = \"NK cell\""
   ]
  },
  {
   "cell_type": "markdown",
   "id": "4472e896-9a1a-4856-b9f9-fc3eb2e8a33c",
   "metadata": {},
   "source": [
    "##### cluster 5"
   ]
  },
  {
   "cell_type": "code",
   "execution_count": null,
   "id": "bcbc3581-c613-4971-aea2-dd16affd7e6b",
   "metadata": {},
   "outputs": [],
   "source": [
    "cluster ='5'\n",
    "h.print_top_annotations(tab1,tab2,tab3,cluster=cluster)"
   ]
  },
  {
   "cell_type": "code",
   "execution_count": null,
   "id": "39f2bb14-358c-41ca-8755-0b538089799b",
   "metadata": {},
   "outputs": [],
   "source": [
    "cl_annotation[cluster] = \"CD4 T cell\""
   ]
  },
  {
   "cell_type": "code",
   "execution_count": null,
   "id": "b3bd8ded-5289-45a1-80bb-a5ac75feba53",
   "metadata": {},
   "outputs": [],
   "source": [
    "##### cluster 6"
   ]
  },
  {
   "cell_type": "code",
   "execution_count": null,
   "id": "cf4a384d-939a-4fd9-90d6-7a15b890337b",
   "metadata": {},
   "outputs": [],
   "source": [
    "cluster ='6'\n",
    "h.print_top_annotations(tab1,tab2,tab3,cluster=cluster)"
   ]
  },
  {
   "cell_type": "code",
   "execution_count": null,
   "id": "15f1e307-be1b-4424-9776-19a815fd4190",
   "metadata": {},
   "outputs": [],
   "source": [
    "cl_annotation[cluster] = \"CD4 T cell\""
   ]
  },
  {
   "cell_type": "markdown",
   "id": "2e0533ce-6d37-47f1-8efe-3b195cbe075c",
   "metadata": {},
   "source": [
    "##### cluster 7"
   ]
  },
  {
   "cell_type": "code",
   "execution_count": null,
   "id": "438fc2ac-348a-40ce-8145-2b1291d3cc1a",
   "metadata": {},
   "outputs": [],
   "source": [
    "cluster ='7'\n",
    "h.print_top_annotations(tab1,tab2,tab3,cluster=cluster)"
   ]
  },
  {
   "cell_type": "code",
   "execution_count": null,
   "id": "84b5d985-450e-4bbd-9992-91ab6846d5ab",
   "metadata": {},
   "outputs": [],
   "source": [
    "cl_annotation[cluster] = \"NK cell\""
   ]
  },
  {
   "cell_type": "markdown",
   "id": "b07bd314-9508-4779-ab7a-1b99b8ea8183",
   "metadata": {},
   "source": [
    "##### cluster 8"
   ]
  },
  {
   "cell_type": "code",
   "execution_count": null,
   "id": "3f439099-6c71-4af9-a8df-fc9fdd3c4ce0",
   "metadata": {},
   "outputs": [],
   "source": [
    "cluster ='8'\n",
    "h.print_top_annotations(tab1,tab2,tab3,cluster=cluster)"
   ]
  },
  {
   "cell_type": "code",
   "execution_count": null,
   "id": "802d42f3-d36a-4afc-b0ec-8769e0273912",
   "metadata": {},
   "outputs": [],
   "source": [
    "cl_annotation[cluster] = \"CD4 T cell\""
   ]
  },
  {
   "cell_type": "markdown",
   "id": "4fdb35d5-acfd-48c4-9c66-87e1469a630a",
   "metadata": {},
   "source": [
    "##### cluster 9"
   ]
  },
  {
   "cell_type": "code",
   "execution_count": null,
   "id": "705f399f-2f8d-4aff-b3c1-87c42bdb49af",
   "metadata": {},
   "outputs": [],
   "source": [
    "cluster ='9'\n",
    "h.print_top_annotations(tab1,tab2,tab3,cluster=cluster,n_top=4)"
   ]
  },
  {
   "cell_type": "code",
   "execution_count": null,
   "id": "53ecbe20-5d1d-4ef9-b1d1-63ae15a729c0",
   "metadata": {},
   "outputs": [],
   "source": [
    "cl_annotation[cluster] = \"CD8 T cell\""
   ]
  },
  {
   "cell_type": "markdown",
   "id": "96e0040f-9094-4242-a1fd-856cc992513d",
   "metadata": {},
   "source": [
    "##### cluster 10"
   ]
  },
  {
   "cell_type": "code",
   "execution_count": null,
   "id": "fdb7f126-9e1c-45b7-8927-bd26377ca3c7",
   "metadata": {},
   "outputs": [],
   "source": [
    "cluster ='10'\n",
    "h.print_top_annotations(tab1,tab2,tab3,cluster=cluster,n_top=6)"
   ]
  },
  {
   "cell_type": "code",
   "execution_count": null,
   "id": "2d9f2b26-277e-4ece-970a-03af9d4bd9ac",
   "metadata": {},
   "outputs": [],
   "source": [
    "cl_annotation[cluster] = \"CD8 T cell\""
   ]
  },
  {
   "cell_type": "markdown",
   "id": "83407c18-ac21-4ff5-bdce-a7a1523a5327",
   "metadata": {},
   "source": [
    "##### cluster 11"
   ]
  },
  {
   "cell_type": "code",
   "execution_count": null,
   "id": "de6f5bc5-1365-4c39-acf7-13c369db3400",
   "metadata": {},
   "outputs": [],
   "source": [
    "cluster ='11'\n",
    "h.print_top_annotations(tab1,tab2,tab3,cluster=cluster)"
   ]
  },
  {
   "cell_type": "code",
   "execution_count": null,
   "id": "dbf11444-78cb-4d1a-b20b-54ac83e80560",
   "metadata": {},
   "outputs": [],
   "source": [
    "cl_annotation[cluster] = \"Monocyte\""
   ]
  },
  {
   "cell_type": "markdown",
   "id": "a7af44a5-7596-459d-a0dc-0a73e1607899",
   "metadata": {},
   "source": [
    "##### cluster 12"
   ]
  },
  {
   "cell_type": "code",
   "execution_count": null,
   "id": "9e871a4a-e591-4492-b374-97bf7e41ec97",
   "metadata": {},
   "outputs": [],
   "source": [
    "cluster ='12'\n",
    "h.print_top_annotations(tab1,tab2,tab3,cluster=cluster)"
   ]
  },
  {
   "cell_type": "code",
   "execution_count": null,
   "id": "0adbf760-a85c-4268-a775-1af9573e6174",
   "metadata": {},
   "outputs": [],
   "source": [
    "cl_annotation[cluster] = \"CD8 T cell\""
   ]
  },
  {
   "cell_type": "markdown",
   "id": "84066022-3a1e-4bce-9609-078e806e2792",
   "metadata": {},
   "source": [
    "##### cluster 13"
   ]
  },
  {
   "cell_type": "code",
   "execution_count": null,
   "id": "522bcaaa-9a09-44f6-b970-2cd337e7ca2d",
   "metadata": {},
   "outputs": [],
   "source": [
    "cluster ='13'\n",
    "h.print_top_annotations(tab1,tab2,tab3,cluster=cluster)"
   ]
  },
  {
   "cell_type": "code",
   "execution_count": null,
   "id": "65faf40e-c2e9-4143-af44-7e73b69f23ad",
   "metadata": {},
   "outputs": [],
   "source": [
    "cl_annotation[cluster] = \"Monocyte\""
   ]
  },
  {
   "cell_type": "markdown",
   "id": "075265b1-931a-477f-a82d-b4cb2fca8899",
   "metadata": {},
   "source": [
    "##### cluster 14"
   ]
  },
  {
   "cell_type": "code",
   "execution_count": null,
   "id": "ed423ac4-7950-4ef2-a0e2-2cc62498176c",
   "metadata": {},
   "outputs": [],
   "source": [
    "cluster ='14'\n",
    "h.print_top_annotations(tab1,tab2,tab3,cluster=cluster)"
   ]
  },
  {
   "cell_type": "code",
   "execution_count": null,
   "id": "f374e0ce-5ebf-4410-94e2-e3020fb84e03",
   "metadata": {},
   "outputs": [],
   "source": [
    "cl_annotation[cluster] = \"Monocyte\""
   ]
  },
  {
   "cell_type": "markdown",
   "id": "fd3433f6-7d24-48f9-87f7-43e0499bd91e",
   "metadata": {},
   "source": [
    "##### cluster 15"
   ]
  },
  {
   "cell_type": "code",
   "execution_count": null,
   "id": "427cf102-bb6f-40d0-9049-aaef0bd7daa1",
   "metadata": {},
   "outputs": [],
   "source": [
    "cluster ='15'\n",
    "h.print_top_annotations(tab1,tab2,tab3,cluster=cluster,n_top=4)"
   ]
  },
  {
   "cell_type": "code",
   "execution_count": null,
   "id": "5138b0ec-4474-4804-b2c5-e50c46d01325",
   "metadata": {},
   "outputs": [],
   "source": [
    "cl_annotation[cluster] = \"other\""
   ]
  },
  {
   "cell_type": "code",
   "execution_count": null,
   "id": "de5ada4c-c008-4c49-b9c9-4fc713745c02",
   "metadata": {},
   "outputs": [],
   "source": [
    "##### cluster 16"
   ]
  },
  {
   "cell_type": "code",
   "execution_count": null,
   "id": "7ccf09db-d70e-4137-8a75-b0bdce9b5f1b",
   "metadata": {},
   "outputs": [],
   "source": [
    "cluster ='16'\n",
    "h.print_top_annotations(tab1,tab2,tab3,cluster=cluster,n_top=6)"
   ]
  },
  {
   "cell_type": "code",
   "execution_count": null,
   "id": "b2c6d154-acba-4e2b-9e73-1627475912d0",
   "metadata": {},
   "outputs": [],
   "source": [
    "cl_annotation[cluster] = \"other\""
   ]
  },
  {
   "cell_type": "code",
   "execution_count": null,
   "id": "2de3b5a2-9b3a-4d7d-aca3-0bbb0bab598c",
   "metadata": {},
   "outputs": [],
   "source": [
    "##### cluster 17"
   ]
  },
  {
   "cell_type": "code",
   "execution_count": null,
   "id": "521357a8-d1d9-4ba2-b839-c085c1702ff4",
   "metadata": {},
   "outputs": [],
   "source": [
    "cluster ='17'\n",
    "h.print_top_annotations(tab1,tab2,tab3,cluster=cluster,n_top=4)"
   ]
  },
  {
   "cell_type": "code",
   "execution_count": null,
   "id": "b9373252-852e-4541-aa7e-8e2cce88a5e9",
   "metadata": {},
   "outputs": [],
   "source": [
    "cl_annotation[cluster] = \"Monocyte\""
   ]
  },
  {
   "cell_type": "code",
   "execution_count": null,
   "id": "07a3410d-1b80-4d76-acbd-4d5a81331f20",
   "metadata": {},
   "outputs": [],
   "source": [
    "##### cluster 18"
   ]
  },
  {
   "cell_type": "code",
   "execution_count": null,
   "id": "f9f3e1d9-5b06-416a-94c5-144a481c1180",
   "metadata": {},
   "outputs": [],
   "source": [
    "cluster ='18'\n",
    "h.print_top_annotations(tab1,tab2,tab3,cluster=cluster,n_top=4)"
   ]
  },
  {
   "cell_type": "code",
   "execution_count": null,
   "id": "d7c880cd-2d81-44a9-8ab1-7d811214f11d",
   "metadata": {},
   "outputs": [],
   "source": [
    "cl_annotation[cluster] = \"DC\""
   ]
  },
  {
   "cell_type": "code",
   "execution_count": null,
   "id": "98eea5e9-a7d2-4c77-b10d-c943e6ebe36f",
   "metadata": {},
   "outputs": [],
   "source": [
    "##### cluster 19"
   ]
  },
  {
   "cell_type": "code",
   "execution_count": null,
   "id": "d6345281-3446-4b46-a8cd-0733452d3330",
   "metadata": {},
   "outputs": [],
   "source": [
    "cluster ='19'\n",
    "h.print_top_annotations(tab1,tab2,tab3,cluster=cluster,n_top=4)"
   ]
  },
  {
   "cell_type": "code",
   "execution_count": null,
   "id": "2f9141d6-1715-4f15-a1cc-583f3bce768e",
   "metadata": {},
   "outputs": [],
   "source": [
    "cl_annotation[cluster] = \"Activated CD8 T cell\""
   ]
  },
  {
   "cell_type": "code",
   "execution_count": null,
   "id": "b1a776cf-1e92-4739-b670-7886c36c2ef5",
   "metadata": {},
   "outputs": [],
   "source": [
    "##### cluster 20"
   ]
  },
  {
   "cell_type": "code",
   "execution_count": null,
   "id": "738545b1-dfd4-481d-816f-a38cfcf14364",
   "metadata": {},
   "outputs": [],
   "source": [
    "cluster ='20'\n",
    "h.print_top_annotations(tab1,tab2,tab3,cluster=cluster,n_top=4)"
   ]
  },
  {
   "cell_type": "code",
   "execution_count": null,
   "id": "1e03620e-0997-463f-ba2d-1b30958ab56b",
   "metadata": {},
   "outputs": [],
   "source": [
    "cl_annotation[cluster] = \"CD4 T cell\""
   ]
  },
  {
   "cell_type": "code",
   "execution_count": null,
   "id": "b7041e99-b0be-4111-ae91-e1dade87f9de",
   "metadata": {},
   "outputs": [],
   "source": [
    "##### cluster 21"
   ]
  },
  {
   "cell_type": "code",
   "execution_count": null,
   "id": "609c8926-9ba8-4cab-bb71-ac64372f0d77",
   "metadata": {},
   "outputs": [],
   "source": [
    "cluster ='21'\n",
    "h.print_top_annotations(tab1,tab2,tab3,cluster=cluster,n_top=4)"
   ]
  },
  {
   "cell_type": "code",
   "execution_count": null,
   "id": "e96c8f22-9a31-4256-9c0a-efea999ad5ba",
   "metadata": {},
   "outputs": [],
   "source": [
    "cl_annotation[cluster] = \"CD4 T cell\""
   ]
  },
  {
   "cell_type": "code",
   "execution_count": null,
   "id": "b96a84be-735b-4fe7-a8e3-dcf529f74b27",
   "metadata": {},
   "outputs": [],
   "source": [
    "##### cluster 22"
   ]
  },
  {
   "cell_type": "code",
   "execution_count": null,
   "id": "75b2f327-300d-4889-876d-af7062d0466f",
   "metadata": {},
   "outputs": [],
   "source": [
    "cluster ='22'\n",
    "h.print_top_annotations(tab1,tab2,tab3,cluster=cluster,n_top=4)"
   ]
  },
  {
   "cell_type": "code",
   "execution_count": null,
   "id": "34414968-47ee-44dd-bbc8-0b3c8cce0b4a",
   "metadata": {},
   "outputs": [],
   "source": [
    "cl_annotation[cluster] = \"DC\""
   ]
  },
  {
   "cell_type": "code",
   "execution_count": null,
   "id": "bf6c65f4-13e3-4c81-9758-1cf5de0ee480",
   "metadata": {},
   "outputs": [],
   "source": [
    "##### cluster 23"
   ]
  },
  {
   "cell_type": "code",
   "execution_count": null,
   "id": "c36bbd0d-6a02-45d8-b476-ae314f8d3e1a",
   "metadata": {},
   "outputs": [],
   "source": [
    "cluster ='23'\n",
    "h.print_top_annotations(tab1,tab2,tab3,cluster=cluster,n_top=4)"
   ]
  },
  {
   "cell_type": "code",
   "execution_count": null,
   "id": "bfdad259-484f-40aa-bdcb-2b09b4c54006",
   "metadata": {},
   "outputs": [],
   "source": [
    "cl_annotation[cluster] = \"Plasma cell\""
   ]
  },
  {
   "cell_type": "markdown",
   "id": "b1604374-1dfd-4f1d-b365-d58081da0550",
   "metadata": {},
   "source": [
    "##### add new annotation"
   ]
  },
  {
   "cell_type": "code",
   "execution_count": null,
   "id": "f3320f41-b53d-4543-9be4-650bf563ed0a",
   "metadata": {},
   "outputs": [],
   "source": [
    "adata_passedQC_cyno.obs['celltypes_v0'] = adata_passedQC_cyno.obs.louvain_res_2.map(cl_annotation)"
   ]
  },
  {
   "cell_type": "code",
   "execution_count": null,
   "id": "4fe0054f-1fcc-41c8-a68f-0b290f88ad0a",
   "metadata": {},
   "outputs": [],
   "source": [
    "#batch correction\n",
    "with plt.rc_context():\n",
    "    plt.figure()\n",
    "    sc.pl.umap(adata_passedQC_cyno,color = ['louvain_res_2','celltypes_v0'],legend_loc=\"on data\",show = False,frameon=False)\n",
    "    plt.savefig(os.path.join(base_plots_path,pre + '_umap_' + species + '_celltypes_v0.pdf'),dpi=300, bbox_inches=\"tight\")\n",
    "    plt.close()\n",
    "sc.pl.umap(adata_passedQC_cyno,color = ['louvain_res_2','celltypes_v0'],legend_loc=\"on data\",show = True,frameon=False)"
   ]
  },
  {
   "cell_type": "markdown",
   "id": "4f54a305-3e9e-4f30-963d-65fbbe592f32",
   "metadata": {},
   "source": [
    "### Save object"
   ]
  },
  {
   "cell_type": "code",
   "execution_count": null,
   "id": "b86b601c-79ac-4c7e-92a2-40babc15c9cd",
   "metadata": {},
   "outputs": [],
   "source": [
    "adata_passedQC_cyno.write(os.path.join(base_anndata_objects,pre + '_' + species + '_anno_celltypes_v0.h5ad'))"
   ]
  },
  {
   "cell_type": "markdown",
   "id": "5a04e361-4af6-4f7e-b9cd-7e35e0f77d27",
   "metadata": {},
   "source": [
    "### Check marker genes"
   ]
  },
  {
   "cell_type": "code",
   "execution_count": null,
   "id": "feebd293-9527-4e8d-b56c-67290b2e7374",
   "metadata": {},
   "outputs": [],
   "source": [
    "#normalization and log\n",
    "adata_passedQC_cyno.layers['counts'] = adata_passedQC_cyno.X.copy()\n",
    "sc.pp.normalize_total(adata_passedQC_cyno,\n",
    "                          target_sum = None,\n",
    "                          inplace = True)\n",
    "\n",
    "adata_passedQC_cyno.X = sc.pp.log1p(adata_passedQC_cyno.X,copy=True)"
   ]
  },
  {
   "cell_type": "code",
   "execution_count": null,
   "id": "0e26c474-4edd-4edc-a5fb-6dc8398d7e7d",
   "metadata": {},
   "outputs": [],
   "source": [
    "#marker genes from https://db.cngb.org/nhpca/ "
   ]
  },
  {
   "cell_type": "code",
   "execution_count": null,
   "id": "e8a8bccc-d166-4c74-b197-2e2cddf2453e",
   "metadata": {},
   "outputs": [],
   "source": [
    "marker_genes_dict_NHPA = {'B': ['MS4A1','Mafa-DRA'],\n",
    "                    'CD4 T': ['RFLNB','TCF7'],\n",
    "                    'Erythrocyte' :['HBB'],\n",
    "                    'CD8 T': ['GZMK','KLRG1'],\n",
    "                    'NKT' : ['GZMB','NKG7'],\n",
    "                    'Plasma B':['JCHAIN'],\n",
    "                    'NK': ['GNLY','CCL5'],\n",
    "                    'Monocyte': ['CFD','CST3']}"
   ]
  },
  {
   "cell_type": "code",
   "execution_count": null,
   "id": "8b42bc06-0b06-46a3-a193-2293ab1f17a0",
   "metadata": {},
   "outputs": [],
   "source": [
    "marker_genes_in_data_NHPA = dict()\n",
    "for ct, markers in marker_genes_dict_NHPA.items():\n",
    "    markers_found = list()\n",
    "    for marker in markers:\n",
    "        if marker in adata_passedQC_cyno.var.index:\n",
    "            markers_found.append(marker)\n",
    "    marker_genes_in_data_NHPA[ct] = markers_found"
   ]
  },
  {
   "cell_type": "code",
   "execution_count": null,
   "id": "8ef7cf15-1547-4ebe-8405-6e7ae41ee3b8",
   "metadata": {},
   "outputs": [],
   "source": [
    "save = os.path.join(base_plots_path,pre + '_'+ species + '_marker_genes_NHPA.pdf')\n",
    "plt.figure()\n",
    "sc.pl.dotplot(adata_passedQC_cyno, marker_genes_in_data_NHPA, groupby='celltypes_v0',show = False)\n",
    "plt.savefig(save,dpi=300, bbox_inches=\"tight\")"
   ]
  },
  {
   "cell_type": "code",
   "execution_count": null,
   "id": "fe180973-7c61-422f-8dea-69e3594c1f23",
   "metadata": {},
   "outputs": [],
   "source": [
    "# marker genes based on  from https://www.sc-best-practices.org/cellular_structure/annotation.html\n",
    "\n",
    "marker_genes_dict_bp = {\"Naive CD20+ B\": [\"MS4A1\", \"IL4R\", \"IGHD\", \"FCRL1\", \"IGHM\"],\n",
    "                       \"B1 B\": [\n",
    "        \"MS4A1\",\n",
    "        \"SSPN\",\n",
    "        \"ITGB1\",\n",
    "        \"EPHA4\",\n",
    "        \"COL4A4\",\n",
    "        \"PRDM1\",\n",
    "        \"IRF4\",\n",
    "        \"CD38\",\n",
    "        \"XBP1\",\n",
    "        \"PAX5\",\n",
    "        \"BCL11A\",\n",
    "        \"BLK\",\n",
    "        \"IGHD\",\n",
    "        \"IGHM\",\n",
    "        \"ZNF215\",\n",
    "    ],\n",
    "    \"Plasmablast\": [\"XBP1\", \"RF4\", \"PRDM1\", \"PAX5\"],\n",
    "    \"pDC\": [\"GZMB\", \"IL3RA\", \"COBLL1\", \"TCF4\"],\n",
    "     \"Transitional B\": [\"MME\", \"CD38\", \"CD24\", \"ACSM3\", \"MSI2\"],\n",
    "    \"Plasma cells\": [\"MZB1\", \"HSP90B1\", \"FNDC3B\", \"PRDM1\", \"IGKC\", \"JCHAIN\"],\n",
    "    \"CD14+ Mono\": [\"FCN1\", \"CD14\"],\n",
    "    \"CD16+ Mono\": [\"TCF7L2\", \"FCGR3A\", \"LYN\"],\n",
    "    \"CD4+ T activated\": [\"CD4\", \"IL7R\", \"TRBC2\", \"ITGB1\"],\n",
    "    \"CD4+ T naive\": [\"CD4\", \"IL7R\", \"TRBC2\", \"CCR7\"],\n",
    "    \"CD8+ T\": [\"CD8A\", \"CD8B\", \"GZMK\", \"GZMA\", \"CCL5\", \"GZMB\", \"GZMH\", \"GZMA\"],\n",
    "    \"T activation\": [\"CD69\", \"CD38\"],  # CD69 much better marker!\n",
    "    \"T naive\": [\"LEF1\", \"CCR7\", \"TCF7\"],\n",
    "    \"NK\": [\"GNLY\", \"NKG7\", \"CD247\", \"GRIK4\", \"FCER1G\", \"TYROBP\", \"KLRG1\", \"FCGR3A\"]}"
   ]
  },
  {
   "cell_type": "code",
   "execution_count": null,
   "id": "174c7085-8dcd-40fa-a551-f509c84aa52f",
   "metadata": {},
   "outputs": [],
   "source": [
    "marker_genes_in_data_bp = dict()\n",
    "for ct, markers in marker_genes_dict_bp.items():\n",
    "    markers_found = list()\n",
    "    for marker in markers:\n",
    "        if marker in adata_passedQC_cyno.var.index:\n",
    "            markers_found.append(marker)\n",
    "    marker_genes_in_data_bp[ct] = markers_found"
   ]
  },
  {
   "cell_type": "code",
   "execution_count": null,
   "id": "6d83d885-904c-4ba2-88bb-880cadb324c6",
   "metadata": {},
   "outputs": [],
   "source": [
    "save = os.path.join(base_plots_path,pre + '_'+ species + '_marker_genes_bp.pdf')\n",
    "plt.figure()\n",
    "sc.pl.dotplot(adata_passedQC_cyno, marker_genes_in_data_bp, groupby='celltypes_v0',show = False)\n",
    "plt.savefig(save,dpi=300, bbox_inches=\"tight\")"
   ]
  },
  {
   "cell_type": "markdown",
   "id": "d6199229-a3e6-468b-9f8a-9609bebab202",
   "metadata": {},
   "source": [
    "### Save session"
   ]
  },
  {
   "cell_type": "code",
   "execution_count": null,
   "id": "bad91647-f4d6-470d-b5b1-9254df6e9d9d",
   "metadata": {},
   "outputs": [],
   "source": [
    "base_package_version_path = h.return_package_version_local_path(drive=drive)\n",
    "h.save_package_versions(base_package_version_path,pre,do_print = True)\n",
    "h.print_main_versions()"
   ]
  }
 ],
 "metadata": {
  "kernelspec": {
   "display_name": "Python 3 (ipykernel)",
   "language": "python",
   "name": "python3"
  },
  "language_info": {
   "codemirror_mode": {
    "name": "ipython",
    "version": 3
   },
   "file_extension": ".py",
   "mimetype": "text/x-python",
   "name": "python",
   "nbconvert_exporter": "python",
   "pygments_lexer": "ipython3",
   "version": "3.8.19"
  }
 },
 "nbformat": 4,
 "nbformat_minor": 5
}
