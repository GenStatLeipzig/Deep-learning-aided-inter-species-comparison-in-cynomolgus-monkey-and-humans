{
 "cells": [
  {
   "cell_type": "code",
   "execution_count": null,
   "id": "b17a77e3-0e49-45cc-903e-ef118dea2d69",
   "metadata": {},
   "outputs": [],
   "source": [
    "import numpy as np\n",
    "import scanpy as sc\n",
    "import os\n",
    "import pandas as pd\n",
    "import doubletdetection"
   ]
  },
  {
   "cell_type": "code",
   "execution_count": null,
   "id": "96190964-f078-4a41-86fa-bc8f0efbef42",
   "metadata": {},
   "outputs": [],
   "source": [
    "# env: cyno_env_local"
   ]
  },
  {
   "cell_type": "markdown",
   "id": "9bb0f1ca",
   "metadata": {},
   "source": [
    "doublet detection algorithm according to https://doubletdetection.readthedocs.io/en/latest/tutorial.html"
   ]
  },
  {
   "cell_type": "code",
   "execution_count": null,
   "id": "7d33c066",
   "metadata": {},
   "outputs": [],
   "source": [
    "pre = \"M07\"\n",
    "base_model_path = os.path.join(\"D:\\\\\",\"monkey_IZI\",\"analysis\",\"models\",pre)\n",
    "base_package_version_path = os.path.join(\"D:\\\\\",\"monkey_IZI\",\"analysis\",\"package_versions\")\n",
    "base_table_path = os.path.join(\"D:\\\\\",\"monkey_IZI\",\"analysis\",\"tables\",pre)\n",
    "idents = ['Cyno1_6hr_S3','Cyno1_24hr_S6','Cyno1_TimeZero_S1','Cyno2_6hr_S4','Cyno2_24hr_S5','Cyno2_TimeZero_S2']"
   ]
  },
  {
   "cell_type": "markdown",
   "id": "a1f4f422",
   "metadata": {},
   "source": [
    "run doubletdetection separately for each sample"
   ]
  },
  {
   "cell_type": "code",
   "execution_count": null,
   "id": "77d5550c-80f6-46d0-9dca-a3a648a7425d",
   "metadata": {},
   "outputs": [],
   "source": [
    "for ident in idents:\n",
    "    path_filtered_counts = os.path.join(\"D:\\\\\",\"monkey_IZI\",\"nextflow\",\"output_dir\",\"cyno\",\"cellranger\",\"count\",ident,\"outs\",\"filtered_feature_bc_matrix.h5\")\n",
    "    adata_filtered_bc = sc.read_10x_h5(path_filtered_counts)\n",
    "    adata_filtered_bc.var_names_make_unique()\n",
    "    sc.pp.filter_genes(adata_filtered_bc, min_cells=1)\n",
    "    \n",
    "    clf = doubletdetection.BoostClassifier(\n",
    "        n_iters=10,\n",
    "        clustering_algorithm=\"louvain\",\n",
    "        standard_scaling=True,\n",
    "        pseudocount=0.1,\n",
    "        n_jobs=-1,\n",
    "    )\n",
    "    doublets = clf.fit(adata_filtered_bc.X).predict(p_thresh=1e-16, voter_thresh=0.5)\n",
    "    doublet_score = clf.doublet_score()\n",
    "    \n",
    "    adata_filtered_bc.obs[\"doublet\"] = doublets.copy()\n",
    "    adata_filtered_bc.obs[\"doublet_score\"] = doublet_score.copy()\n",
    "    adata_filtered_bc.obs['sample'] = ident\n",
    "    adata_filtered_bc.obs.to_csv(os.path.join(base_table_path,ident + '_DT_doub_pred.csv'))"
   ]
  },
  {
   "cell_type": "markdown",
   "id": "4669530d",
   "metadata": {},
   "source": [
    "save session infos"
   ]
  },
  {
   "cell_type": "code",
   "execution_count": null,
   "id": "397cbb8a",
   "metadata": {},
   "outputs": [],
   "source": [
    "sc.logging.print_header()"
   ]
  },
  {
   "cell_type": "code",
   "execution_count": null,
   "id": "0e18f393",
   "metadata": {},
   "outputs": [],
   "source": [
    "import pkg_resources\n",
    "with open(os.path.join(base_package_version_path, pre + '_package_versions.txt'), \"w\") as file:\n",
    "    for package in pkg_resources.working_set:\n",
    "        file.write(f\"{package.key}=={package.version}\\n\")\n",
    "        print(f\"{package.key}=={package.version}\")"
   ]
  }
 ],
 "metadata": {
  "kernelspec": {
   "display_name": "Python 3 (ipykernel)",
   "language": "python",
   "name": "python3"
  },
  "language_info": {
   "codemirror_mode": {
    "name": "ipython",
    "version": 3
   },
   "file_extension": ".py",
   "mimetype": "text/x-python",
   "name": "python",
   "nbconvert_exporter": "python",
   "pygments_lexer": "ipython3",
   "version": "3.9.18"
  }
 },
 "nbformat": 4,
 "nbformat_minor": 5
}
