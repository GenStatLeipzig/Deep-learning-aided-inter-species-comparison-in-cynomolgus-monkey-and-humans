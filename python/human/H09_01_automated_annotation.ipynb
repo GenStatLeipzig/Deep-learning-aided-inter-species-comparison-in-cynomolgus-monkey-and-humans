{
 "cells": [
  {
   "cell_type": "code",
   "execution_count": null,
   "id": "dd3e3dce-a298-40b4-ac9e-dcc48a4ec56c",
   "metadata": {},
   "outputs": [],
   "source": [
    "import numpy as np\n",
    "import scanpy as sc\n",
    "import os\n",
    "import pandas as pd\n",
    "import matplotlib.pyplot as plt\n",
    "import warnings\n",
    "\n",
    "import celltypist\n",
    "from celltypist import models"
   ]
  },
  {
   "cell_type": "code",
   "execution_count": null,
   "id": "3abc7813-65cb-44a4-8595-2f5129760477",
   "metadata": {},
   "outputs": [],
   "source": [
    "# conda env: celltypist_env"
   ]
  },
  {
   "cell_type": "code",
   "execution_count": null,
   "id": "929a58a7-c021-48c3-b090-e4109ce25a0a",
   "metadata": {},
   "outputs": [],
   "source": [
    "pre = \"H09_01\"\n",
    "drive = \"F\"\n",
    "base_package_version_path = os.path.join(drive + \":\\\\\",\"monkey_IZI\",\"analysis\",\"package_versions\")\n",
    "base_table_path = os.path.join(drive + \":\\\\\",\"monkey_IZI\",\"analysis\",\"tables\",pre)\n",
    "base_analysis_path = os.path.join(drive + \":\\\\\",\"monkey_IZI\",\"analysis\")\n",
    "base_plots_path = os.path.join(drive + \":\\\\\",\"monkey_IZI\",\"analysis\",\"plots\")\n",
    "base_package_version_path = os.path.join(drive + \":\\\\\",\"monkey_IZI\",\"analysis\",\"package_versions\")\n",
    "plots_path = os.path.join(base_plots_path,pre)\n",
    "if not os.path.exists(plots_path):\n",
    "        os.mkdir(plots_path)"
   ]
  },
  {
   "cell_type": "code",
   "execution_count": null,
   "id": "ad69376c-60da-43a3-a662-5c55e1153c8d",
   "metadata": {},
   "outputs": [],
   "source": [
    "#models.download_models(force_update = True)"
   ]
  },
  {
   "cell_type": "code",
   "execution_count": null,
   "id": "5038e190-aed5-415a-8fbc-706029f431b6",
   "metadata": {},
   "outputs": [],
   "source": [
    "models.models_path"
   ]
  },
  {
   "cell_type": "code",
   "execution_count": null,
   "id": "22ca5233-d0ed-4c4c-9c37-bf845ff1c70d",
   "metadata": {},
   "outputs": [],
   "source": [
    "models.models_description()"
   ]
  },
  {
   "cell_type": "code",
   "execution_count": null,
   "id": "2287c70c-c6e6-460a-85a5-638fa6fa196d",
   "metadata": {},
   "outputs": [],
   "source": [
    "model_COVID19_HumanChallenge_Blood ='COVID19_HumanChallenge_Blood.pkl'\n",
    "model_Healthy_COVID19_PBMC ='Healthy_COVID19_PBMC.pkl'\n",
    "idents = ['Human1_6hr_S3','Human1_24hr_S5','Human1_TimeZero_S1','Human2_6hr_S4','Human2_24hr_S6','Human2_TimeZero_S2']\n",
    "\n",
    "for ident in idents:\n",
    "    path_filtered_counts = os.path.join(drive + \":\\\\\",\"monkey_IZI\",\"nextflow\",\"outdir_human_ensemble\",\"human\",\"cellranger\",\"count\",ident,\"outs\",\"filtered_feature_bc_matrix.h5\")\n",
    "    adata_filtered_bc = sc.read_10x_h5(path_filtered_counts)\n",
    "    adata_filtered_bc.var_names_make_unique()\n",
    "    \n",
    "    #prepare for celltypist analysis\n",
    "    adata_celltypist = adata_filtered_bc.copy() \n",
    "    \n",
    "    sc.pp.normalize_per_cell(\n",
    "            adata_celltypist, counts_per_cell_after=10**4\n",
    "        )  # normalize to 10,000 counts per cell\n",
    "    sc.pp.log1p(adata_celltypist)  # log-transform\n",
    "    \n",
    "    #model COVID19_HumanChallenge_Blood\n",
    "    predictions_model_COVID19_HumanChallenge_Blood = celltypist.annotate(\n",
    "        adata_celltypist, model=model_COVID19_HumanChallenge_Blood, majority_voting=True,\n",
    "    )\n",
    "    \n",
    "    predictions_model_COVID19_HumanChallenge_Blood = predictions_model_COVID19_HumanChallenge_Blood.to_adata()\n",
    "    \n",
    "    predictions_model_COVID19_HumanChallenge_Blood.obs.to_csv(os.path.join(base_table_path,ident + '_anno_model_COVID19_HumanChallenge_Blood.csv'))\n",
    "    \n",
    "    #prepare for celltypist analysis\n",
    "    adata_celltypist = adata_filtered_bc.copy() \n",
    "    \n",
    "    sc.pp.normalize_per_cell(\n",
    "            adata_celltypist, counts_per_cell_after=10**4\n",
    "        )  # normalize to 10,000 counts per cell\n",
    "    sc.pp.log1p(adata_celltypist)  # log-transform\n",
    "    \n",
    "    #model Healthy_COVID19_PBMC\n",
    "    predictions_model_Healthy_COVID19_PBMC = celltypist.annotate(\n",
    "        adata_celltypist, model=model_Healthy_COVID19_PBMC, majority_voting=True,\n",
    "    )\n",
    "    \n",
    "    predictions_model_Healthy_COVID19_PBMC = predictions_model_Healthy_COVID19_PBMC.to_adata()\n",
    "    \n",
    "    predictions_model_Healthy_COVID19_PBMC.obs.to_csv(os.path.join(base_table_path,ident + '_anno_model_Healthy_COVID19_PBMC.csv'))"
   ]
  },
  {
   "cell_type": "code",
   "execution_count": null,
   "id": "bb1bceaa-c2db-41d5-abfa-e2aac1406d9c",
   "metadata": {},
   "outputs": [],
   "source": [
    "sc.logging.print_header()"
   ]
  },
  {
   "cell_type": "code",
   "execution_count": null,
   "id": "38bfdc94-949d-4e88-82ad-fd33e85d01ef",
   "metadata": {},
   "outputs": [],
   "source": [
    "import pkg_resources\n",
    "with open(os.path.join(base_package_version_path, pre + '_package_versions.txt'), \"w\") as file:\n",
    "    for package in pkg_resources.working_set:\n",
    "        file.write(f\"{package.key}=={package.version}\\n\")\n",
    "        print(f\"{package.key}=={package.version}\")"
   ]
  }
 ],
 "metadata": {
  "kernelspec": {
   "display_name": "Python 3 (ipykernel)",
   "language": "python",
   "name": "python3"
  },
  "language_info": {
   "codemirror_mode": {
    "name": "ipython",
    "version": 3
   },
   "file_extension": ".py",
   "mimetype": "text/x-python",
   "name": "python",
   "nbconvert_exporter": "python",
   "pygments_lexer": "ipython3",
   "version": "3.11.7"
  }
 },
 "nbformat": 4,
 "nbformat_minor": 5
}
