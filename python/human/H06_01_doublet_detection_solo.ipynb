{
 "cells": [
  {
   "cell_type": "code",
   "execution_count": null,
   "id": "b17a77e3-0e49-45cc-903e-ef118dea2d69",
   "metadata": {},
   "outputs": [],
   "source": [
    "import numpy as np\n",
    "import scanpy as sc\n",
    "import os\n",
    "import scvi\n",
    "import solo\n",
    "import pandas as pd"
   ]
  },
  {
   "cell_type": "markdown",
   "id": "9bb0f1ca",
   "metadata": {},
   "source": [
    "using solo doublet detection from https://docs.scvi-tools.org/en/stable/user_guide/models/solo.html\n",
    "based on https://docs.scvi-tools.org/en/stable/api/reference/scvi.external.SOLO.html#scvi.external.SOLO.view_anndata_setup"
   ]
  },
  {
   "cell_type": "code",
   "execution_count": null,
   "id": "9137c5fa",
   "metadata": {},
   "outputs": [],
   "source": [
    "#env: solo_env"
   ]
  },
  {
   "cell_type": "code",
   "execution_count": null,
   "id": "7e4b2dce",
   "metadata": {},
   "outputs": [],
   "source": [
    "pre = \"H06_01\"\n",
    "drive = \"F\"\n",
    "base_model_path = os.path.join(drive + \":\\\\\",\"monkey_IZI\",\"analysis\",\"models\",pre)\n",
    "base_package_version_path = os.path.join(drive + \":\\\\\",\"monkey_IZI\",\"analysis\",\"package_versions\")\n",
    "base_table_path = os.path.join(drive + \":\\\\\",\"monkey_IZI\",\"analysis\",\"tables\",pre)\n",
    "idents = ['Human1_6hr_S3','Human1_24hr_S5','Human1_TimeZero_S1','Human2_6hr_S4','Human2_24hr_S6','Human2_TimeZero_S2']"
   ]
  },
  {
   "cell_type": "markdown",
   "id": "44510510",
   "metadata": {},
   "source": [
    "run solo separately for each sample"
   ]
  },
  {
   "cell_type": "code",
   "execution_count": null,
   "id": "5220d299",
   "metadata": {},
   "outputs": [],
   "source": [
    "for ident in idents:\n",
    "    path_filtered_counts = os.path.join(drive + \":\\\\\",\"monkey_IZI\",\"nextflow\",\"outdir_human_ensemble\",\"human\",\"cellranger\",\"count\",ident,\"outs\",\"filtered_feature_bc_matrix.h5\")\n",
    "    adata_filtered_bc = sc.read_10x_h5(path_filtered_counts)\n",
    "    adata_filtered_bc.var_names_make_unique()\n",
    "\n",
    "    #filter genes for solo scvi model\n",
    "    sc.pp.filter_genes(adata_filtered_bc, min_counts=3)\n",
    "\n",
    "    adata_filtered_bc_log = adata_filtered_bc.copy()\n",
    "    sc.pp.log1p(adata_filtered_bc_log)\n",
    "\n",
    "    #compute highly variable genes as input for scvi model \n",
    "    sc.pp.highly_variable_genes(adata_filtered_bc_log, n_top_genes=1200, flavor=\"cell_ranger\")\n",
    "\n",
    "    adata_filtered_bc.var['highly_variable'] = adata_filtered_bc_log.var['highly_variable'].copy()\n",
    "    mask = (adata_filtered_bc.var['highly_variable'] == True)\n",
    "    adata_filtered_bc = adata_filtered_bc[:,mask].copy()\n",
    "\n",
    "    #ensure that no cell has zero expression in complete hvg gene space\n",
    "    sc.pp.filter_cells(adata_filtered_bc, min_genes=1)\n",
    "\n",
    "    #pretrain scvi model\n",
    "    scvi.model.SCVI.setup_anndata(adata_filtered_bc)\n",
    "    vae = scvi.model.SCVI(adata_filtered_bc)\n",
    "    vae.train(max_epochs=400)\n",
    "\n",
    "    #train solo model \n",
    "    solo = scvi.external.SOLO.from_scvi_model(vae)\n",
    "    solo.train()\n",
    "\n",
    "    #do doublette preidction\n",
    "    predictions = solo.predict(soft= False)\n",
    "    pred_prob = solo.predict(soft= True)\n",
    "    pred_df = pd.DataFrame(predictions,columns = ['doublet_prediction'])\n",
    "    pred_df['sample'] = ident\n",
    "    out_df = pd.concat([pred_df,pred_prob],axis = 1) \n",
    "\n",
    "    #save solo doublette prediction\n",
    "    out_df.to_csv(os.path.join(base_table_path,ident + '_solo_doub_pred.csv'))\n",
    "\n",
    "    #save solo model\n",
    "    solo.save(dir_path=os.path.join(base_model_path,ident),save_anndata = True)"
   ]
  },
  {
   "cell_type": "markdown",
   "id": "5bd9e1d7",
   "metadata": {},
   "source": [
    "save session infos"
   ]
  },
  {
   "cell_type": "code",
   "execution_count": null,
   "id": "6929b591",
   "metadata": {},
   "outputs": [],
   "source": [
    "sc.logging.print_header()"
   ]
  },
  {
   "cell_type": "code",
   "execution_count": null,
   "id": "9df02142",
   "metadata": {},
   "outputs": [],
   "source": [
    "import pkg_resources\n",
    "with open(os.path.join(base_package_version_path, pre + '_package_versions.txt'), \"w\") as file:\n",
    "    for package in pkg_resources.working_set:\n",
    "        file.write(f\"{package.key}=={package.version}\\n\")\n",
    "        print(f\"{package.key}=={package.version}\")"
   ]
  },
  {
   "cell_type": "code",
   "execution_count": null,
   "id": "b374fd6b",
   "metadata": {},
   "outputs": [],
   "source": [
    "# env: solo_env"
   ]
  }
 ],
 "metadata": {
  "kernelspec": {
   "display_name": "Python 3 (ipykernel)",
   "language": "python",
   "name": "python3"
  },
  "language_info": {
   "codemirror_mode": {
    "name": "ipython",
    "version": 3
   },
   "file_extension": ".py",
   "mimetype": "text/x-python",
   "name": "python",
   "nbconvert_exporter": "python",
   "pygments_lexer": "ipython3",
   "version": "3.7.1"
  }
 },
 "nbformat": 4,
 "nbformat_minor": 5
}
