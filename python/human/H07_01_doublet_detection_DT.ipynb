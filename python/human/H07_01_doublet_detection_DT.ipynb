{
 "cells": [
  {
   "cell_type": "code",
   "execution_count": null,
   "id": "7ca934a1-48d1-45c8-bd5a-e9e73a3d5598",
   "metadata": {},
   "outputs": [],
   "source": [
    "import numpy as np\n",
    "import scanpy as sc\n",
    "import os\n",
    "import pandas as pd\n",
    "import doubletdetection"
   ]
  },
  {
   "cell_type": "code",
   "execution_count": null,
   "id": "af0f8ad5-5945-4a7c-ba77-d38c740ac438",
   "metadata": {},
   "outputs": [],
   "source": [
    "# env: cyno_env_local"
   ]
  },
  {
   "cell_type": "markdown",
   "id": "a950af51-7734-406c-8d7e-db20265500d0",
   "metadata": {},
   "source": [
    "doublet detection algorithm according to https://doubletdetection.readthedocs.io/en/latest/tutorial.html"
   ]
  },
  {
   "cell_type": "code",
   "execution_count": null,
   "id": "dc62e2c8-32cd-4c87-a3fb-7e7071eab727",
   "metadata": {},
   "outputs": [],
   "source": [
    "pre = \"H07_01\"\n",
    "drive = \"F\"\n",
    "base_package_version_path = os.path.join(drive + \":\\\\\",\"monkey_IZI\",\"analysis\",\"package_versions\")\n",
    "base_table_path = os.path.join(drive + \":\\\\\",\"monkey_IZI\",\"analysis\",\"tables\",pre)\n",
    "idents = ['Human1_6hr_S3','Human1_24hr_S5','Human1_TimeZero_S1','Human2_6hr_S4','Human2_24hr_S6','Human2_TimeZero_S2']"
   ]
  },
  {
   "cell_type": "markdown",
   "id": "9621f051-0b9c-4c9c-842d-5613c6207f77",
   "metadata": {},
   "source": [
    "run doubletdetection separately for each sample"
   ]
  },
  {
   "cell_type": "code",
   "execution_count": null,
   "id": "fa7c97b4-8fb5-4af7-a47b-a535fa93f840",
   "metadata": {},
   "outputs": [],
   "source": [
    "for ident in idents:\n",
    "    path_filtered_counts = os.path.join(drive + \":\\\\\",\"monkey_IZI\",\"nextflow\",\"outdir_human_ensemble\",\"human\",\"cellranger\",\"count\",ident,\"outs\",\"filtered_feature_bc_matrix.h5\")\n",
    "    adata_filtered_bc = sc.read_10x_h5(path_filtered_counts)\n",
    "    adata_filtered_bc.var_names_make_unique()\n",
    "    sc.pp.filter_genes(adata_filtered_bc, min_cells=1)\n",
    "    \n",
    "    clf = doubletdetection.BoostClassifier(\n",
    "        n_iters=10,\n",
    "        clustering_algorithm=\"louvain\",\n",
    "        standard_scaling=True,\n",
    "        pseudocount=0.1,\n",
    "        n_jobs=-1,\n",
    "    )\n",
    "    doublets = clf.fit(adata_filtered_bc.X).predict(p_thresh=1e-16, voter_thresh=0.5)\n",
    "    doublet_score = clf.doublet_score()\n",
    "    \n",
    "    adata_filtered_bc.obs[\"doublet\"] = doublets.copy()\n",
    "    adata_filtered_bc.obs[\"doublet_score\"] = doublet_score.copy()\n",
    "    adata_filtered_bc.obs['sample'] = ident\n",
    "    adata_filtered_bc.obs.to_csv(os.path.join(base_table_path,ident + '_DT_doub_pred.csv'))"
   ]
  },
  {
   "cell_type": "markdown",
   "id": "bc04f03a-d957-4135-ae22-021616951a8e",
   "metadata": {},
   "source": [
    "save session infos"
   ]
  },
  {
   "cell_type": "code",
   "execution_count": null,
   "id": "dc175030-985b-400b-bd94-4ddc20249857",
   "metadata": {},
   "outputs": [],
   "source": [
    "sc.logging.print_header()"
   ]
  },
  {
   "cell_type": "code",
   "execution_count": null,
   "id": "3b826abd-0f31-43a5-b333-7e9f9e6fbc58",
   "metadata": {},
   "outputs": [],
   "source": [
    "import pkg_resources\n",
    "with open(os.path.join(base_package_version_path, pre + '_package_versions.txt'), \"w\") as file:\n",
    "    for package in pkg_resources.working_set:\n",
    "        file.write(f\"{package.key}=={package.version}\\n\")\n",
    "        print(f\"{package.key}=={package.version}\")"
   ]
  }
 ],
 "metadata": {
  "kernelspec": {
   "display_name": "Python 3 (ipykernel)",
   "language": "python",
   "name": "python3"
  },
  "language_info": {
   "codemirror_mode": {
    "name": "ipython",
    "version": 3
   },
   "file_extension": ".py",
   "mimetype": "text/x-python",
   "name": "python",
   "nbconvert_exporter": "python",
   "pygments_lexer": "ipython3",
   "version": "3.11.7"
  }
 },
 "nbformat": 4,
 "nbformat_minor": 5
}
