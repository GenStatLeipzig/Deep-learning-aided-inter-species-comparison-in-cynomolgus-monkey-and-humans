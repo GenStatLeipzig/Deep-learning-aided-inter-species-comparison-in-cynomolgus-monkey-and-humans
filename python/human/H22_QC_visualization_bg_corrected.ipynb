{
 "cells": [
  {
   "cell_type": "code",
   "execution_count": null,
   "id": "e48cd9ab-25de-4051-a320-44a497b47635",
   "metadata": {},
   "outputs": [],
   "source": [
    "import numpy as np\n",
    "import scanpy as sc\n",
    "import os\n",
    "import pandas as pd\n",
    "import matplotlib.pyplot as plt\n",
    "import warnings\n",
    "import sys\n",
    "path_helper = [\"C:\\\\\",\"Users\",\"vfriedrich\",\"projects\",\"monkey_IZI\",\"git_documentation\",\"scRNAseq_cross_species_primate_human\",\"analysis\",\"helper\"]\n",
    "sys.path.append(os.path.join(*path_helper))\n",
    "import helperVDF as h\n",
    "print(sys.executable)"
   ]
  },
  {
   "cell_type": "code",
   "execution_count": null,
   "id": "f57eb528-b1d5-4876-ae5a-77c8a68b77f1",
   "metadata": {},
   "outputs": [],
   "source": [
    "h.print_main_versions()"
   ]
  },
  {
   "cell_type": "code",
   "execution_count": null,
   "id": "51939631-f7d6-4ecc-90f9-034107813143",
   "metadata": {},
   "outputs": [],
   "source": [
    "#env: scArches_env"
   ]
  },
  {
   "cell_type": "code",
   "execution_count": null,
   "id": "7ca8f1d0-b7ca-4714-9876-f09a2779a768",
   "metadata": {},
   "outputs": [],
   "source": [
    "pre = \"H22\"\n",
    "drive = 'F'\n",
    "base_model_path,base_table_path,base_plots_path,base_anndata_objects = h.return_local_paths(drive = drive,\n",
    "                                                                                            pre = pre,\n",
    "                                                                                            add_path = True)\n",
    "_,base_table_path_H21,_,_ = h.return_local_paths(drive = drive,pre = \"H21\",add_path = False)"
   ]
  },
  {
   "cell_type": "code",
   "execution_count": null,
   "id": "cd4dfaa4-445c-4765-9f71-4bb5f2ab11f8",
   "metadata": {},
   "outputs": [],
   "source": [
    "#human\n",
    "species = 'human'\n",
    "warnings.filterwarnings(\"ignore\")\n",
    "IDs = h.return_cellranger_IDs(species)\n",
    "adata_all_human = h.read_bg_corrected_counts(drive,cellranger_IDs = IDs,pre_bg_correction = 'H05_01', species = species)"
   ]
  },
  {
   "cell_type": "code",
   "execution_count": null,
   "id": "22991432-67ba-4aad-8061-1be67a2ceb80",
   "metadata": {},
   "outputs": [],
   "source": [
    "anno = pd.read_csv((os.path.join(base_table_path_H21,'H21_'  + species + '_anno_QC.csv')),index_col=0)"
   ]
  },
  {
   "cell_type": "code",
   "execution_count": null,
   "id": "1263e78b-2086-46b4-9e72-f3bc03225d93",
   "metadata": {},
   "outputs": [],
   "source": [
    "adata_QC = h.add_anno_to_adata(adata=adata_all_human,\n",
    "                  anno_df=anno,\n",
    "                  anno_columns_to_add=anno.columns,\n",
    "                  rsuffix='_R')"
   ]
  },
  {
   "cell_type": "code",
   "execution_count": null,
   "id": "b2fa613e-36d7-485d-8b28-9ac8d077f05e",
   "metadata": {},
   "outputs": [],
   "source": [
    "adata_QC,nr_removed_cells,nr_removed_genes = h.standard_scanpy_filter(adata_QC,min_genes_per_cell=1,min_cells_per_gene=50)\n",
    "\n",
    "print('nr_removed_cells : ' + str(nr_removed_cells))\n",
    "print('nr_removed_genes : ' + str(nr_removed_genes))"
   ]
  },
  {
   "cell_type": "code",
   "execution_count": null,
   "id": "7be03fc4-42a6-4e99-ae9e-a3d3e1bba9c4",
   "metadata": {},
   "outputs": [],
   "source": [
    "h.prepare_umap(adata_QC)"
   ]
  },
  {
   "cell_type": "code",
   "execution_count": null,
   "id": "5ca743d5-c07f-43da-9517-6b529050b72b",
   "metadata": {},
   "outputs": [],
   "source": [
    "for color in ['doublet_QC','basic_QC','QC_summary','louvain_res_7','timepoint','individual','scDblFinder.class2','dblt_doubldetect_guess2','dblt_scrublet_predicted2']:\n",
    "    h.umap_plot(adata = adata_QC,\n",
    "            color = color,\n",
    "            base_plots_path = base_plots_path,\n",
    "            plot_name = pre + '_umap_human_' + color +  '_.pdf',\n",
    "            show_in_nb = True,\n",
    "            frameon=False)"
   ]
  },
  {
   "cell_type": "code",
   "execution_count": null,
   "id": "27a44598-29ac-4500-bac7-f9be3ffd6875",
   "metadata": {},
   "outputs": [],
   "source": [
    "#add initial celltype annotation from celltypist or azimuth"
   ]
  },
  {
   "cell_type": "code",
   "execution_count": null,
   "id": "762d4919-a419-454f-8f37-77d68c34009c",
   "metadata": {},
   "outputs": [],
   "source": [
    "path_s0115_cellano_azimuth =  os.path.join('F:\\\\monkey_IZI\\\\analysisR','s0115_cellano_azimuth.txt')\n",
    "s0115_cellano_azimuth = pd.read_csv(path_s0115_cellano_azimuth,delimiter = \"\\t\",index_col =0)"
   ]
  },
  {
   "cell_type": "code",
   "execution_count": null,
   "id": "adf3a202-a29e-453e-a833-00469635e16c",
   "metadata": {},
   "outputs": [],
   "source": [
    "#human\n",
    "species = 'human'"
   ]
  },
  {
   "cell_type": "code",
   "execution_count": null,
   "id": "a9af3102-0b3f-4d91-a8bf-304b35bb1b2d",
   "metadata": {},
   "outputs": [],
   "source": [
    "s0115_cellano_azimuth_human = s0115_cellano_azimuth[s0115_cellano_azimuth['species'] == 'human']\n",
    "adata_QC = h.add_anno_to_adata(adata=adata_QC,\n",
    "                    anno_df=s0115_cellano_azimuth_human,\n",
    "                    anno_columns_to_add=s0115_cellano_azimuth_human.columns,rsuffix='_RR')"
   ]
  },
  {
   "cell_type": "code",
   "execution_count": null,
   "id": "071945af-48bd-4cba-91fd-baf2246dfe77",
   "metadata": {},
   "outputs": [],
   "source": [
    "initial_ct_columns = ['predicted.celltype.l1','predicted.celltype.l2','predicted.celltype.l3','Healty_WholeBlood_maj','COVID19_PBMC_maj']"
   ]
  },
  {
   "cell_type": "code",
   "execution_count": null,
   "id": "a862119e-3767-452b-8b14-4a74eee473cc",
   "metadata": {},
   "outputs": [],
   "source": [
    "for color in initial_ct_columns:\n",
    "    h.umap_plot(adata = adata_QC,\n",
    "            color = color,\n",
    "            base_plots_path = base_plots_path,\n",
    "            plot_name = pre + '_umap_human_' + color +  '_.pdf',\n",
    "            show_in_nb = True,\n",
    "            frameon=False)"
   ]
  },
  {
   "cell_type": "code",
   "execution_count": null,
   "id": "95bf2150-d652-49b6-b701-5a5498a67633",
   "metadata": {},
   "outputs": [],
   "source": [
    "for anno_column in initial_ct_columns:\n",
    "    _ = h.distrubtion_per_obs_column(adata_QC,\n",
    "                           obs_column_group=anno_column,\n",
    "                           obs_column_cat='QC_summary',\n",
    "                           normalize = True,\n",
    "                           sort_by ='passed_QC',\n",
    "                           ascending = True,\n",
    "                            save=os.path.join(base_table_path,pre + '_' + anno_column + '_QC_overview_perc.csv'))\n",
    "    _ = h.distrubtion_per_obs_column(adata_QC,\n",
    "                           obs_column_group=anno_column,\n",
    "                           obs_column_cat='QC_summary',\n",
    "                           normalize = False,\n",
    "                           sort_by ='passed_QC',\n",
    "                           ascending = True,\n",
    "                            save=os.path.join(base_table_path,pre + '_' + anno_column + '_QC_overview_abs.csv'))"
   ]
  },
  {
   "cell_type": "code",
   "execution_count": null,
   "id": "7b7196b0-bb72-4e14-9ce4-6d4d43c8f05e",
   "metadata": {},
   "outputs": [],
   "source": [
    "initial_ct_columns"
   ]
  },
  {
   "cell_type": "code",
   "execution_count": null,
   "id": "9ed76921-fbfc-43fa-acc2-22d09837de5d",
   "metadata": {},
   "outputs": [],
   "source": [
    "df_azimuth_lv1_perc = pd.read_csv(os.path.join(base_table_path,pre + '_' + 'predicted.celltype.l1' + '_QC_overview_perc.csv'),index_col=0)\n",
    "\n",
    "df_azimuth_lv2_perc = pd.read_csv(os.path.join(base_table_path,pre + '_' + 'predicted.celltype.l2' + '_QC_overview_perc.csv'),index_col=0)\n",
    "\n",
    "df_azimuth_lv3_perc = pd.read_csv(os.path.join(base_table_path,pre + '_' + 'predicted.celltype.l3' + '_QC_overview_perc.csv'),index_col=0)\n",
    "\n",
    "df_celltypist_H_WB_maj_perc = pd.read_csv(os.path.join(base_table_path,pre + '_' + 'Healty_WholeBlood_maj' + '_QC_overview_perc.csv'),index_col=0)\n",
    "\n",
    "df_celltypist_COV_PBMC_maj_perc = pd.read_csv(os.path.join(base_table_path,pre + '_' + 'COVID19_PBMC_maj' + '_QC_overview_perc.csv'),index_col=0)"
   ]
  },
  {
   "cell_type": "code",
   "execution_count": null,
   "id": "dcf9b225-2a9a-499e-9931-4351d80f0496",
   "metadata": {},
   "outputs": [],
   "source": [
    "df_azimuth_lv1_perc"
   ]
  },
  {
   "cell_type": "code",
   "execution_count": null,
   "id": "0fcbea69-7736-4347-9c8f-0df238764887",
   "metadata": {},
   "outputs": [],
   "source": [
    "adata_QC.obs['predicted.celltype.l1'].value_counts(ascending=True)"
   ]
  },
  {
   "cell_type": "code",
   "execution_count": null,
   "id": "0cc080ec-e514-41bd-97e5-1ab2e24e43a2",
   "metadata": {},
   "outputs": [],
   "source": [
    "df_azimuth_lv2_perc"
   ]
  },
  {
   "cell_type": "code",
   "execution_count": null,
   "id": "bfbdb69c-1147-4b92-bec1-1b3e7192fce2",
   "metadata": {},
   "outputs": [],
   "source": [
    "adata_QC.obs['predicted.celltype.l2'].value_counts(ascending=True)"
   ]
  },
  {
   "cell_type": "code",
   "execution_count": null,
   "id": "213984b9-675f-4015-951d-94b4a81f987e",
   "metadata": {},
   "outputs": [],
   "source": [
    "df_azimuth_lv3_perc"
   ]
  },
  {
   "cell_type": "code",
   "execution_count": null,
   "id": "5d435430-35f5-4dac-bbbc-5b6e3153f8c6",
   "metadata": {},
   "outputs": [],
   "source": [
    "adata_QC.obs['predicted.celltype.l3'].value_counts(ascending=True)"
   ]
  },
  {
   "cell_type": "code",
   "execution_count": null,
   "id": "34a6e8db-f90b-4b87-b421-77f33fc3006a",
   "metadata": {},
   "outputs": [],
   "source": [
    "df_celltypist_H_WB_maj_perc"
   ]
  },
  {
   "cell_type": "code",
   "execution_count": null,
   "id": "54027d6e-00fe-4ac3-a151-bd223fde87d6",
   "metadata": {},
   "outputs": [],
   "source": [
    "adata_QC.obs['Healty_WholeBlood_maj'].value_counts(ascending=True)"
   ]
  },
  {
   "cell_type": "code",
   "execution_count": null,
   "id": "8c087e1d-3bf5-4e13-9a5b-fe5c38cec823",
   "metadata": {},
   "outputs": [],
   "source": [
    "df_celltypist_COV_PBMC_maj_perc"
   ]
  },
  {
   "cell_type": "code",
   "execution_count": null,
   "id": "7bab5f4e-6e84-45d4-a2a4-e65d60bbead7",
   "metadata": {},
   "outputs": [],
   "source": [
    "adata_QC.obs['COVID19_PBMC_maj'].value_counts(ascending=True)"
   ]
  },
  {
   "cell_type": "code",
   "execution_count": null,
   "id": "cefa75cc-1159-46ee-898a-31ea2fa67fbd",
   "metadata": {},
   "outputs": [],
   "source": [
    "#separete anndata objects according to result of cluster-based QC"
   ]
  },
  {
   "cell_type": "code",
   "execution_count": null,
   "id": "188fa136-f4c3-478f-9859-ef0c28108032",
   "metadata": {},
   "outputs": [],
   "source": [
    "adata_QC_in = adata_QC[adata_QC.obs['QC_summary'] == 'passed_QC']\n",
    "adata_QC_out = adata_QC[~(adata_QC.obs['QC_summary'] == 'passed_QC')]"
   ]
  },
  {
   "cell_type": "code",
   "execution_count": null,
   "id": "fb3bebba-9b17-43df-ac4c-d8f2af2201dd",
   "metadata": {},
   "outputs": [],
   "source": [
    "#compare distribution of initial cell type annotations"
   ]
  },
  {
   "cell_type": "code",
   "execution_count": null,
   "id": "dd0aae0b-bf5f-4e8b-b316-e85a160b5a9e",
   "metadata": {},
   "outputs": [],
   "source": [
    "for anno_column in initial_ct_columns:\n",
    "    h.make_pie_plot_QC(adata_QC_out.obs[anno_column].value_counts(),title =anno_column,\n",
    "                   save=os.path.join(base_plots_path,pre + '_pie_QC_out' + anno_column + '.pdf'),\n",
    "                   show=True)\n",
    "    h.make_pie_plot_QC(adata_QC_in.obs[anno_column].value_counts(),title =anno_column,\n",
    "                       save=os.path.join(base_plots_path,pre + '_pie_QC_in' + anno_column + '.pdf'),\n",
    "                       show=True)"
   ]
  },
  {
   "cell_type": "code",
   "execution_count": null,
   "id": "6a1be2f0-9d20-41d7-8685-3eb95526bbce",
   "metadata": {},
   "outputs": [],
   "source": [
    "#adata_QC.write_h5ad(os.path.join(base_anndata_objects,pre + '_QC_human_all.h5ad'))\n",
    "#adata_QC_in.write_h5ad(os.path.join(base_anndata_objects,pre + '_QC_human_passedQC.h5ad'))\n",
    "#adata_QC_out.write_h5ad(os.path.join(base_anndata_objects,pre + '_QC_human_failedQC.h5ad'))"
   ]
  },
  {
   "cell_type": "markdown",
   "id": "a76e9ef9-d258-41d5-b235-e33cb9da894f",
   "metadata": {},
   "source": [
    "# Save session"
   ]
  },
  {
   "cell_type": "code",
   "execution_count": null,
   "id": "efbcd826-b7b9-4565-8cf1-f466a80fc0ef",
   "metadata": {},
   "outputs": [],
   "source": [
    "base_package_version_path = h.return_package_version_local_path(drive=drive)\n",
    "h.save_package_versions(base_package_version_path,pre,do_print = True)\n",
    "h.print_main_versions()"
   ]
  }
 ],
 "metadata": {
  "kernelspec": {
   "display_name": "Python 3 (ipykernel)",
   "language": "python",
   "name": "python3"
  },
  "language_info": {
   "codemirror_mode": {
    "name": "ipython",
    "version": 3
   },
   "file_extension": ".py",
   "mimetype": "text/x-python",
   "name": "python",
   "nbconvert_exporter": "python",
   "pygments_lexer": "ipython3",
   "version": "3.8.19"
  }
 },
 "nbformat": 4,
 "nbformat_minor": 5
}
