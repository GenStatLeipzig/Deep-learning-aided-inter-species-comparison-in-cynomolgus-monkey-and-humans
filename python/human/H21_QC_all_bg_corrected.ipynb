{
 "cells": [
  {
   "cell_type": "code",
   "execution_count": null,
   "id": "75a52929-4ddf-4b33-8082-9d3eec7133f5",
   "metadata": {},
   "outputs": [],
   "source": [
    "import numpy as np\n",
    "import scanpy as sc\n",
    "import os\n",
    "import pandas as pd\n",
    "import matplotlib.pyplot as plt\n",
    "import warnings\n",
    "import sys\n",
    "path_helper = [\"C:\\\\\",\"Users\",\"vfriedrich\",\"projects\",\"monkey_IZI\",\"git_documentation\",\"scRNAseq_cross_species_primate_human\",\"analysis\",\"helper\"]\n",
    "sys.path.append(os.path.join(*path_helper))\n",
    "import helperVDF as h\n",
    "import seaborn as sns\n",
    "print(sys.executable)"
   ]
  },
  {
   "cell_type": "code",
   "execution_count": null,
   "id": "cf526a69-eaba-42d7-9176-3641ca014e83",
   "metadata": {},
   "outputs": [],
   "source": [
    "h.print_main_versions()"
   ]
  },
  {
   "cell_type": "code",
   "execution_count": null,
   "id": "bba3021b-0dce-4dae-b389-0774cae2a0ca",
   "metadata": {},
   "outputs": [],
   "source": [
    "#env: scArches_env"
   ]
  },
  {
   "cell_type": "code",
   "execution_count": null,
   "id": "814a76c7-f298-4fe1-9d98-ffcbc7bda689",
   "metadata": {},
   "outputs": [],
   "source": [
    "pre = \"H21\"\n",
    "drive = 'F'\n",
    "base_model_path,base_table_path,base_plots_path,base_anndata_objects = h.return_local_paths(drive = drive,\n",
    "                                                                                            pre = pre,\n",
    "                                                                                            add_path = True)\n",
    "#anno R world\n",
    "path_s0110_scrublet_andother =  os.path.join('F:\\\\monkey_IZI\\\\analysisR','s0110_scrublet_andother.txt')\n",
    "s0110_scrublet_andother = pd.read_csv(path_s0110_scrublet_andother,index_col=0)"
   ]
  },
  {
   "cell_type": "code",
   "execution_count": null,
   "id": "bfbc071c-0736-4587-871d-edf97552d39a",
   "metadata": {},
   "outputs": [],
   "source": [
    "#human\n",
    "species = 'human'\n",
    "warnings.filterwarnings(\"ignore\")\n",
    "IDs = h.return_cellranger_IDs(species)\n",
    "adata_all_human = h.read_bg_corrected_counts(drive,cellranger_IDs = IDs,pre_bg_correction = 'H05_01', species = species)\n",
    "\n",
    "s0110_scrublet_andother_human = s0110_scrublet_andother[s0110_scrublet_andother['species'] == 'human']\n",
    "adata_all_human = h.add_anno_to_adata(adata=adata_all_human,\n",
    "                    anno_df=s0110_scrublet_andother_human,\n",
    "                    anno_columns_to_add=s0110_scrublet_andother_human.columns,rsuffix='_R')\n",
    "\n",
    "#standard filtering - remove cell with zero expression and genes appearing in less than 50 cells\n",
    "adata_all_human,nr_removed_cells,nr_removed_genes = h.standard_scanpy_filter(adata_all_human,min_genes_per_cell=1,min_cells_per_gene=50)\n",
    "\n",
    "print('nr_removed_cells : ' + str(nr_removed_cells))\n",
    "print('nr_removed_genes : ' + str(nr_removed_genes))"
   ]
  },
  {
   "cell_type": "markdown",
   "id": "47d73490-1b18-4748-9a4f-928a780e9950",
   "metadata": {},
   "source": [
    "## Low quality QC\n",
    "- on experimental level\n",
    "- partly based on https://www.sc-best-practices.org/preprocessing_visualization/quality_control.html\n",
    "- cutoffs for \"log1p_n_genes_by_counts\",\"log1p_total_counts\" obtained via MAD with nmad factor 6\n",
    "- mito-cutoff for cyno 15%\n",
    "- low quality cluster cutoff: 0.25 "
   ]
  },
  {
   "cell_type": "code",
   "execution_count": null,
   "id": "1b4c0a4f-723a-464e-93aa-a9f4c6064af2",
   "metadata": {},
   "outputs": [],
   "source": [
    "experiments = list(pd.unique(adata_all_human.obs['experiment_ori']))\n",
    "columns_QC= [\"log1p_n_genes_by_counts\",\"log1p_total_counts\",\"pct_counts_mt\"]\n",
    "cutoff_bad_cluster = 0.25\n",
    "\n",
    "for exp in experiments:\n",
    "    print(exp)\n",
    "    adata_exp = h.filter_adata_obs(adata=adata_all_human,col_name='experiment_ori', val=exp)\n",
    "    adata_exp = h.best_practice_base_preprocessing(adata_exp,nmad=6)\n",
    "    adata_exp.obs['outlier_pct_counts_mt'] = adata_exp.obs[\"pct_counts_mt\"] > 15\n",
    "    for column in columns_QC:\n",
    "        h.violinplot_QC(adata=adata_exp,\n",
    "                column=column,\n",
    "               save = os.path.join(base_plots_path,pre + '_' +exp + '_' + species + '_violin_' + column + '.pdf'),\n",
    "               show = True)\n",
    "    h.save_QC_cutoffsMAD(adata= adata_exp,\n",
    "                         columns = columns_QC,\n",
    "                         save =os.path.join(base_table_path,pre + '_' +exp + '_' + species + '_cutoffs_basicQC.csv'),\n",
    "                         return_df = False)\n",
    "    sc.pp.neighbors(adata_exp)\n",
    "    sc.tl.louvain(adata_exp,resolution=7,key_added='louvain_res_7_' + exp)\n",
    "    adata_exp.obs['low_quality_cell'] = (adata_exp.obs['outlier_log1p_total_counts'] | adata_exp.obs['outlier_log1p_n_genes_by_counts'] | adata_exp.obs['outlier_pct_counts_mt'])\n",
    "    adata_exp.obs['low_quality_cell2'] = adata_exp.obs['low_quality_cell'].map({True: 'low_quality_cell', False: 'high_quality_cell'})\n",
    "    \n",
    "    adata_exp,bad_clusters,perc_df = h.do_clusterbasedQC_basicQC(adata=adata_exp,\n",
    "                              obs_column_qc = 'low_quality_cell2',\n",
    "                              obs_column_clustering='louvain_res_7_' + exp,\n",
    "                              sort_by='low_quality_cell',\n",
    "                              ID='basic_QC',\n",
    "                              cutoff_bad_cluster=cutoff_bad_cluster)\n",
    "    perc_df['low_quality_cell'] = perc_df['low_quality_cell'].fillna(0.0)\n",
    "    h.basic_QC_plot_doublett_cutoff(df=perc_df,\n",
    "                                  column = 'low_quality_cell',\n",
    "                                  cutoff = cutoff_bad_cluster,\n",
    "                                 xlabel='Cluster',\n",
    "                                 ylabel = 'Low quality percentage',\n",
    "                                 title= 'Low quality fraction per cluster ' + exp,\n",
    "                                 save = os.path.join(base_plots_path,pre + '_' +exp + '_' + species + '_QC_cutoff_bad_cluster_' + species + '.pdf'))\n",
    "    h.make_pie_plot_QC(adata_exp.obs['basic_QC'].value_counts(),\n",
    "                     title = 'QC overview basic QC ' + exp,\n",
    "                     save = os.path.join(base_plots_path,pre+exp + '_' + species + '_QC_basic_QC_piechart.pdf'),\n",
    "                     show = True)\n",
    "    adata_exp.obs.to_csv(os.path.join(base_table_path,pre + '_' +exp + '_' + species + '_anno_basicQC.csv'))"
   ]
  },
  {
   "cell_type": "markdown",
   "id": "d0c3c1b7-3cbd-4411-9844-347ae7802021",
   "metadata": {},
   "source": [
    "## Doublet QC"
   ]
  },
  {
   "cell_type": "code",
   "execution_count": null,
   "id": "27dbb09e-e8b1-4f85-8f08-851610a8d20c",
   "metadata": {},
   "outputs": [],
   "source": [
    "h.prepare_umap(adata_all_human)\n",
    "\n",
    "sc.pl.umap(adata_all_human,color = ['timepoint','individual'])"
   ]
  },
  {
   "cell_type": "code",
   "execution_count": null,
   "id": "da3bce30-0a6a-42ed-a94e-babf479225c6",
   "metadata": {},
   "outputs": [],
   "source": [
    "sc.pl.umap(adata_all_human,color = ['scDblFinder.class2','dblt_doubldetect_guess2','dblt_scrublet_predicted2'])\n"
   ]
  },
  {
   "cell_type": "code",
   "execution_count": null,
   "id": "22788c25-7429-4491-8bac-e2664a6635fb",
   "metadata": {},
   "outputs": [],
   "source": [
    "sc.tl.louvain(adata_all_human,resolution=7,key_added='louvain_res_7')\n",
    "\n",
    "sc.pl.umap(adata_all_human,color = 'louvain_res_7')"
   ]
  },
  {
   "cell_type": "code",
   "execution_count": null,
   "id": "3538fee4-1fd9-442e-982b-8bce42975ff8",
   "metadata": {},
   "outputs": [],
   "source": [
    "# three doublet detection tools\n",
    "db_tool_1 = 'scDblFinder.class2'\n",
    "db_tool_2 = 'dblt_doubldetect_guess2'\n",
    "db_tool_3 = 'dblt_scrublet_predicted2'"
   ]
  },
  {
   "cell_type": "code",
   "execution_count": null,
   "id": "5debf24e-f595-4247-8095-e2828954ab23",
   "metadata": {},
   "outputs": [],
   "source": [
    "adata_all_human = h.add_doublet_summary_three_tools(adata=adata_all_human,db_tool_1=db_tool_1,\n",
    "                                                 db_tool_2 = db_tool_2,\n",
    "                                                 db_tool_3 =db_tool_3)\n",
    "\n",
    "adata_all_human,bad_clusters,doub_perc_df =  h.do_clusterbased_QCv2(adata=adata_all_human,\n",
    "                                                   obs_column_clustering='louvain_res_7',\n",
    "                                                   cutoff_bad_cluster=0.25)"
   ]
  },
  {
   "cell_type": "code",
   "execution_count": null,
   "id": "a225a703-5b83-4e62-8df0-a79bd5672b62",
   "metadata": {},
   "outputs": [],
   "source": [
    "h.basic_QC_plot_doublett_cutoff(df=doub_perc_df,\n",
    "                              column = 'doublet',\n",
    "                              cutoff = 0.25,\n",
    "                             xlabel='Cluster',\n",
    "                             ylabel = 'Doublette percentage',\n",
    "                             title= 'Doublette fraction per cluster',\n",
    "                             save = os.path.join(base_plots_path,pre + '_QC_cutoff_bad_cluster_' + species + '.pdf'))"
   ]
  },
  {
   "cell_type": "code",
   "execution_count": null,
   "id": "67fefad4-be58-4365-bbdc-3ad3dd7eeb8f",
   "metadata": {},
   "outputs": [],
   "source": [
    "QC_summary = adata_all_human.obs['doublet_QC'].value_counts()\n",
    "h.make_pie_plot_QC(QC_summary,\n",
    "                 title = 'QC overview human doublettes',\n",
    "                 save = os.path.join(base_plots_path,pre + '_human_QC_doublet_piechart.pdf'),\n",
    "                 show = True)"
   ]
  },
  {
   "cell_type": "markdown",
   "id": "874d4d1c-46ed-4fd0-8c28-f4205298eb11",
   "metadata": {},
   "source": [
    "## Combine low quality QC and doublet QC"
   ]
  },
  {
   "cell_type": "code",
   "execution_count": null,
   "id": "e527b497-6bbb-43fe-8a67-0164a11b9ab3",
   "metadata": {},
   "outputs": [],
   "source": [
    "anno_basic_QC = pd.DataFrame(columns =['low_quality_cell', 'low_quality_cell', 'cell_quality_clusterbasic_QC','basic_QC'])\n",
    "for exp in experiments:\n",
    "    anno_basic_QC=anno_basic_QC.append(pd.read_csv(os.path.join(base_table_path,pre + '_' +exp + '_' + species + '_anno_basicQC.csv'),index_col=0)[['low_quality_cell','low_quality_cell','cell_quality_clusterbasic_QC','basic_QC']])"
   ]
  },
  {
   "cell_type": "code",
   "execution_count": null,
   "id": "db6953ff-e2bf-43fb-800c-27648c84605a",
   "metadata": {},
   "outputs": [],
   "source": [
    "adata_all_human = h.add_anno_to_adata(adata=adata_all_human,\n",
    "                  anno_df=anno_basic_QC,\n",
    "                  anno_columns_to_add=anno_basic_QC.columns)"
   ]
  },
  {
   "cell_type": "code",
   "execution_count": null,
   "id": "1867ae3f-d6de-4112-94e9-5e0e8c150590",
   "metadata": {},
   "outputs": [],
   "source": [
    "adata_all_human.obs['QC_summary'] = np.where((adata_all_human.obs['doublet_QC'] == 'good_cluster_good_cell') & (adata_all_human.obs['basic_QC'] == 'high_quality_cluster_high_quality_cell'), \n",
    "                                   'passed_QC', 'failedQC')\n",
    "\n",
    "h.make_pie_plot_QC(adata_all_human.obs['QC_summary'].value_counts(),\n",
    "                 title = 'QC summary human',\n",
    "                 save = os.path.join(base_plots_path,pre + '_human_QC_summary_piechart.pdf'),\n",
    "                 show = True)"
   ]
  },
  {
   "cell_type": "code",
   "execution_count": null,
   "id": "523cc429-8b41-4f0e-a794-6114cf290094",
   "metadata": {},
   "outputs": [],
   "source": [
    "adata_all_human.obs.to_csv(os.path.join(base_table_path,pre + '_'  + species + '_anno_QC.csv'))\n",
    "#adata_all_human.write_h5ad(os.path.join(base_anndata_objects,pre + '_QC_bg_corrected.h5ad'))"
   ]
  },
  {
   "cell_type": "markdown",
   "id": "9bc3903c-377d-4d27-9fb7-12fd89396af7",
   "metadata": {},
   "source": [
    "# Save session"
   ]
  },
  {
   "cell_type": "code",
   "execution_count": null,
   "id": "0b83588d-78a8-406b-8d1e-f24c87974c3f",
   "metadata": {},
   "outputs": [],
   "source": [
    "base_package_version_path = h.return_package_version_local_path(drive=drive)\n",
    "h.save_package_versions(base_package_version_path,pre,do_print = True)\n",
    "h.print_main_versions()"
   ]
  }
 ],
 "metadata": {
  "kernelspec": {
   "display_name": "Python 3 (ipykernel)",
   "language": "python",
   "name": "python3"
  },
  "language_info": {
   "codemirror_mode": {
    "name": "ipython",
    "version": 3
   },
   "file_extension": ".py",
   "mimetype": "text/x-python",
   "name": "python",
   "nbconvert_exporter": "python",
   "pygments_lexer": "ipython3",
   "version": "3.8.19"
  }
 },
 "nbformat": 4,
 "nbformat_minor": 5
}
