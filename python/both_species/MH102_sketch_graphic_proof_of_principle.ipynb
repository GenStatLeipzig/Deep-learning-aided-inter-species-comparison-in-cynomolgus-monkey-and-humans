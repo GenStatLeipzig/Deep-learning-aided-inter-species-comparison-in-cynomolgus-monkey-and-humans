{
 "cells": [
  {
   "cell_type": "code",
   "execution_count": null,
   "id": "7e1758d1",
   "metadata": {},
   "outputs": [],
   "source": [
    "import numpy as np\n",
    "import anndata as ad\n",
    "import scanpy as sc\n",
    "import seaborn as sns\n",
    "import os\n",
    "import pandas as pd\n",
    "import matplotlib.pyplot as plt\n",
    "import warnings\n",
    "import sys\n",
    "path_helper = [\"C:\\\\\",\"Users\",\"vfriedrich\",\"projects\",\"monkey_IZI\",\"git_documentation\",\"scRNAseq_cross_species_primate_human\",\"analysis\",\"helper\"]\n",
    "sys.path.append(os.path.join(*path_helper))\n",
    "import helperVDF as h\n",
    "import helper_scgen as hscg\n",
    "print(sys.executable)\n",
    "import anndata as ad\n",
    "import time\n",
    "import scgen\n",
    "import scvi\n",
    "from sklearn.metrics.pairwise import cosine_similarity\n",
    "from sklearn.metrics import r2_score\n",
    "warnings.filterwarnings('ignore')\n",
    "h.print_main_versions()"
   ]
  },
  {
   "cell_type": "code",
   "execution_count": null,
   "id": "c7e8ae10",
   "metadata": {},
   "outputs": [],
   "source": [
    "# proof principle with models from MH29_v2_c"
   ]
  },
  {
   "cell_type": "code",
   "execution_count": null,
   "id": "092ef258",
   "metadata": {},
   "outputs": [],
   "source": [
    "pre = \"MH102\"\n",
    "drive = 'F'\n",
    "_,base_table_path,base_plots_path,base_anndata_objects = h.return_local_paths(drive = drive,\n",
    "                                                                              pre = pre,\n",
    "                                                                              add_path = True)\n",
    "\n",
    "#base_model_path = os.path.join(drive + \":\\\\\",\"monkey_IZI\",\"analysis\",\"cluster_runs\",cluster_pre,\"output\")\n",
    "\n",
    "celltypes = ['CD4 T', 'CD8 T','B','Mono','NK','other T','other']\n",
    "\n",
    "all_species = ['cyno','human']\n",
    "all_conditions = ['00hr','06hr','24hr']\n",
    "n_latent = 10\n",
    "shifts_within_species = ['00hr->06hr','00hr->24hr','06hr->24hr']"
   ]
  },
  {
   "cell_type": "code",
   "execution_count": null,
   "id": "10568cd1",
   "metadata": {},
   "outputs": [],
   "source": [
    "#base_model_path_MH31_c = \n",
    "#_,_,_,base_anndata_objects_MH27 = h.return_local_paths(drive = drive,pre = 'MH27',add_path = False)"
   ]
  },
  {
   "cell_type": "markdown",
   "id": "a1b1c85e",
   "metadata": {},
   "source": [
    "### Humanization proof-of-principle\n",
    "- train set: human1, cyno1\n",
    "- test set: human2, cyno2"
   ]
  },
  {
   "cell_type": "code",
   "execution_count": null,
   "id": "9110f899",
   "metadata": {},
   "outputs": [],
   "source": [
    "cluster_pre = \"MH31_c\"\n",
    "base_model_path = os.path.join(drive + \":\\\\\",\"monkey_IZI\",\"analysis\",\"cluster_runs\",cluster_pre,\"output\")"
   ]
  },
  {
   "cell_type": "code",
   "execution_count": null,
   "id": "cd36c05b",
   "metadata": {},
   "outputs": [],
   "source": [
    "#for celltype in ['CD4 T']:\n",
    "celltype = 'CD4 T'\n",
    "loader = os.path.join(base_model_path,cluster_pre + '_scgen_model_' + celltype +  '.pt')\n",
    "model_loaded = scgen.SCGEN.load(loader)\n",
    "\n",
    "adata_model = model_loaded.adata\n",
    "latent_adata_train = hscg.get_latent_representation_object(model=model_loaded,adata=adata_model)"
   ]
  },
  {
   "cell_type": "code",
   "execution_count": null,
   "id": "636ae840",
   "metadata": {},
   "outputs": [],
   "source": [
    "#train set\n",
    "latent_adata_train_human_00hr = hscg.filter_multiple_adata_obs(adata=latent_adata_train,\n",
    "                                                               col_names=['timepoint','species'],\n",
    "                                                               val_names=['00hr','human'])\n",
    "\n",
    "\n",
    "latent_adata_train_cyno_00hr = hscg.filter_multiple_adata_obs(adata=latent_adata_train,\n",
    "                                                               col_names=['timepoint','species'],\n",
    "                                                               val_names=['00hr','cyno'])\n",
    "\n",
    "#get species shift\n",
    "delta_cross_species_train = hscg.get_delta_in_latent_space(adata_lat_base=latent_adata_train_cyno_00hr,\n",
    "                              adata_lat_dest=latent_adata_train_human_00hr)"
   ]
  },
  {
   "cell_type": "code",
   "execution_count": null,
   "id": "f0721347",
   "metadata": {},
   "outputs": [],
   "source": [
    "# train set"
   ]
  },
  {
   "cell_type": "code",
   "execution_count": null,
   "id": "34c818f3",
   "metadata": {},
   "outputs": [],
   "source": [
    "set_type = 'train'\n",
    "adata_train = sc.read_h5ad(os.path.join(base_model_path,'MH31_c_adata_train.h5ad'))\n",
    "\n",
    "adata_train_00hr = hscg.filter_multiple_adata_obs(adata=adata_train,\n",
    "                                                 col_names=[\"predicted.celltype.l1\",'timepoint'],\n",
    "                                                 val_names=['CD4 T','00hr'])"
   ]
  },
  {
   "cell_type": "code",
   "execution_count": null,
   "id": "f0032436",
   "metadata": {},
   "outputs": [],
   "source": [
    "adata_train_00hr_cyno = hscg.filter_multiple_adata_obs(adata=adata_train,col_names=[\"predicted.celltype.l1\",'timepoint','species'],\n",
    "                                                      val_names=['CD4 T','00hr','cyno'])\n",
    "adata_train_00hr_human = hscg.filter_multiple_adata_obs(adata=adata_train,col_names=[\"predicted.celltype.l1\",'timepoint','species'],\n",
    "                                                      val_names=['CD4 T','00hr','human'])"
   ]
  },
  {
   "cell_type": "code",
   "execution_count": null,
   "id": "b9b3b252",
   "metadata": {},
   "outputs": [],
   "source": [
    "h.prepare_umap(adata_train_00hr)\n",
    "palette = ['#178f92',\"#d8c29d\"]\n",
    "h.umap_plot_v2(adata=adata_train_00hr,\n",
    "             color='species',\n",
    "             base_plots_path = base_plots_path,\n",
    "             plot_name = pre +'_'+ set_type +'_umap_GE_pre_' + str(celltype) + '.pdf',\n",
    "            palette = palette) "
   ]
  },
  {
   "cell_type": "code",
   "execution_count": null,
   "id": "6d5e5d82",
   "metadata": {},
   "outputs": [],
   "source": [
    "latent_adata_train_00hr = hscg.get_latent_representation_object(model=model_loaded,adata=adata_train_00hr)"
   ]
  },
  {
   "cell_type": "code",
   "execution_count": null,
   "id": "0315986d",
   "metadata": {},
   "outputs": [],
   "source": [
    "latent_adata_train_00hr_human_00hr = hscg.filter_multiple_adata_obs(adata=latent_adata_train_00hr ,\n",
    "                                                               col_names=['timepoint','species'],\n",
    "                                                               val_names=['00hr','human'])\n",
    "latent_adata_train_00hr_cyno_00hr = hscg.filter_multiple_adata_obs(adata=latent_adata_train_00hr ,\n",
    "                                                               col_names=['timepoint','species'],\n",
    "                                                               val_names=['00hr','cyno'])\n",
    "\n",
    "latent_adata_train_00hr_cyno_shifted = hscg.shift_adata_in_latent_space_v2(adata_base=latent_adata_train_00hr_cyno_00hr,\n",
    "                                                                   delta=delta_cross_species_train,\n",
    "                                                                   cols_suffix=['timepoint','species'],\n",
    "                                                                   suffix=['_shifted','_shifted'])\n",
    "\n",
    "adata_latent_comp_train = ad.concat([latent_adata_train_00hr_human_00hr,latent_adata_train_00hr_cyno_00hr,latent_adata_train_00hr_cyno_shifted])\n",
    "\n",
    "h.prepare_umap(adata_latent_comp_train)\n",
    "\n",
    "palette = ['#178f92','#175f5d',\"#d8c29d\"]\n",
    "h.umap_plot_v2(adata=adata_latent_comp_train,\n",
    "             color='species',\n",
    "             base_plots_path = base_plots_path,\n",
    "             plot_name = pre +'_'+ set_type +'_umap_latent' + str(celltype) + '.pdf',\n",
    "            palette = palette) "
   ]
  },
  {
   "cell_type": "code",
   "execution_count": null,
   "id": "de19193f",
   "metadata": {},
   "outputs": [],
   "source": [
    "#encode - shift - decode"
   ]
  },
  {
   "cell_type": "code",
   "execution_count": null,
   "id": "3394f9b9",
   "metadata": {},
   "outputs": [],
   "source": [
    "latent_adata_train_00hr_cyno = hscg.get_latent_representation_object(model=model_loaded,adata= adata_train_00hr_cyno)\n",
    "\n",
    "latent_adata_train_00hr_cyno_shifted = hscg.shift_adata_in_latent_space_v2(adata_base=latent_adata_train_00hr_cyno,delta=delta_cross_species_train)\n",
    "\n",
    "decoded_adata_train_00hr_cyno_shifted =hscg.decode(model=model_loaded,\n",
    "                                          latent_adata=latent_adata_train_00hr_cyno_shifted,\n",
    "                                          input_adata=adata_train_00hr_cyno) \n",
    "\n",
    "decoded_adata_train_00hr_cyno_shifted.obs['timepoint'] = decoded_adata_train_00hr_cyno_shifted.obs['timepoint'].astype(str) + '_shifted'\n",
    "decoded_adata_train_00hr_cyno_shifted.obs['species'] = decoded_adata_train_00hr_cyno_shifted.obs['species'].astype(str) + '_shifted'\n",
    "\n",
    "adata_train_00hr_decoded = ad.concat([adata_train_00hr_cyno,adata_train_00hr_human,decoded_adata_train_00hr_cyno_shifted])\n",
    "\n",
    "h.prepare_umap(adata_train_00hr_decoded)\n",
    "\n",
    "palette = ['#178f92','#175f5d',\"#d8c29d\"]\n",
    "h.umap_plot_v2(adata=adata_train_00hr_decoded,\n",
    "             color='species',\n",
    "             base_plots_path = base_plots_path,\n",
    "             plot_name = pre +'_'+ set_type +'_umap_GE_' + str(celltype) + '.pdf',\n",
    "            palette = palette) "
   ]
  },
  {
   "cell_type": "code",
   "execution_count": null,
   "id": "2cb8cd90",
   "metadata": {},
   "outputs": [],
   "source": [
    "#test set"
   ]
  },
  {
   "cell_type": "code",
   "execution_count": null,
   "id": "5a1786e2",
   "metadata": {},
   "outputs": [],
   "source": [
    "set_type = 'test'\n",
    "adata_test = sc.read_h5ad(os.path.join(base_model_path,'MH31_c_adata_test.h5ad'))\n",
    "\n",
    "adata_test_00hr = hscg.filter_multiple_adata_obs(adata=adata_test,\n",
    "                                                 col_names=[\"predicted.celltype.l1\",'timepoint'],\n",
    "                                                 val_names=['CD4 T','00hr'])"
   ]
  },
  {
   "cell_type": "code",
   "execution_count": null,
   "id": "5bac114a",
   "metadata": {},
   "outputs": [],
   "source": [
    "adata_test_00hr_cyno = hscg.filter_multiple_adata_obs(adata=adata_test,col_names=[\"predicted.celltype.l1\",'timepoint','species'],\n",
    "                                                      val_names=['CD4 T','00hr','cyno'])\n",
    "adata_test_00hr_human = hscg.filter_multiple_adata_obs(adata=adata_test,col_names=[\"predicted.celltype.l1\",'timepoint','species'],\n",
    "                                                      val_names=['CD4 T','00hr','human'])"
   ]
  },
  {
   "cell_type": "code",
   "execution_count": null,
   "id": "4b0d8a3b",
   "metadata": {},
   "outputs": [],
   "source": [
    "h.prepare_umap(adata_test_00hr)\n",
    "palette = ['#178f92',\"#d8c29d\"]\n",
    "h.umap_plot_v2(adata=adata_test_00hr,\n",
    "             color='species',\n",
    "             base_plots_path = base_plots_path,\n",
    "             plot_name = pre +'_'+ set_type +'_umap_GE_pre_' + str(celltype) + '.pdf',\n",
    "            palette = palette) "
   ]
  },
  {
   "cell_type": "code",
   "execution_count": null,
   "id": "a5213feb",
   "metadata": {},
   "outputs": [],
   "source": [
    "latent_adata_test_00hr = hscg.get_latent_representation_object(model=model_loaded,adata=adata_test_00hr)"
   ]
  },
  {
   "cell_type": "code",
   "execution_count": null,
   "id": "f5bd4eaa",
   "metadata": {},
   "outputs": [],
   "source": [
    "latent_adata_test_00hr_human_00hr = hscg.filter_multiple_adata_obs(adata=latent_adata_test_00hr ,\n",
    "                                                               col_names=['timepoint','species'],\n",
    "                                                               val_names=['00hr','human'])\n",
    "latent_adata_test_00hr_cyno_00hr = hscg.filter_multiple_adata_obs(adata=latent_adata_test_00hr ,\n",
    "                                                               col_names=['timepoint','species'],\n",
    "                                                               val_names=['00hr','cyno'])\n",
    "\n",
    "latent_adata_test_00hr_cyno_shifted = hscg.shift_adata_in_latent_space_v2(adata_base=latent_adata_test_00hr_cyno_00hr,\n",
    "                                                                   delta=delta_cross_species_train,\n",
    "                                                                   cols_suffix=['timepoint','species'],\n",
    "                                                                   suffix=['_shifted','_shifted'])\n",
    "\n",
    "adata_latent_comp_test = ad.concat([latent_adata_test_00hr_human_00hr,latent_adata_test_00hr_cyno_00hr,latent_adata_test_00hr_cyno_shifted])\n",
    "\n",
    "h.prepare_umap(adata_latent_comp_test)\n",
    "\n",
    "palette = ['#178f92','#175f5d',\"#d8c29d\"]\n",
    "h.umap_plot_v2(adata=adata_latent_comp_test,\n",
    "             color='species',\n",
    "             base_plots_path = base_plots_path,\n",
    "             plot_name = pre +'_'+ set_type +'_umap_latent' + str(celltype) + '.pdf',\n",
    "            palette = palette) \n",
    "#sc.pl.umap(adata_latent_comp,color = ['timepoint','species','individual'])"
   ]
  },
  {
   "cell_type": "code",
   "execution_count": null,
   "id": "0005bd65",
   "metadata": {},
   "outputs": [],
   "source": [
    "#encode - shift - decode"
   ]
  },
  {
   "cell_type": "code",
   "execution_count": null,
   "id": "25f910ee",
   "metadata": {},
   "outputs": [],
   "source": [
    "latent_adata_test_00hr_cyno = hscg.get_latent_representation_object(model=model_loaded,adata= adata_test_00hr_cyno)\n",
    "\n",
    "latent_adata_test_00hr_cyno_shifted = hscg.shift_adata_in_latent_space_v2(adata_base=latent_adata_test_00hr_cyno,delta=delta_cross_species_train)\n",
    "\n",
    "decoded_adata_test_00hr_cyno_shifted =hscg.decode(model=model_loaded,\n",
    "                                          latent_adata=latent_adata_test_00hr_cyno_shifted,\n",
    "                                          input_adata=adata_test_00hr_cyno) \n",
    "\n",
    "decoded_adata_test_00hr_cyno_shifted.obs['timepoint'] = decoded_adata_test_00hr_cyno_shifted.obs['timepoint'].astype(str) + '_shifted'\n",
    "decoded_adata_test_00hr_cyno_shifted.obs['species'] = decoded_adata_test_00hr_cyno_shifted.obs['species'].astype(str) + '_shifted'\n",
    "\n",
    "adata_test_00hr_decoded = ad.concat([adata_test_00hr_cyno,adata_test_00hr_human,decoded_adata_test_00hr_cyno_shifted])\n",
    "\n",
    "h.prepare_umap(adata_test_00hr_decoded)\n",
    "\n",
    "palette = ['#178f92','#175f5d',\"#d8c29d\"]\n",
    "h.umap_plot_v2(adata=adata_test_00hr_decoded,\n",
    "             color='species',\n",
    "             base_plots_path = base_plots_path,\n",
    "             plot_name = pre +'_'+ set_type +'_umap_GE_' + str(celltype) + '.pdf',\n",
    "            palette = palette) "
   ]
  },
  {
   "cell_type": "code",
   "execution_count": null,
   "id": "d79747f6",
   "metadata": {},
   "outputs": [],
   "source": [
    "base_package_version_path = h.return_package_version_local_path(drive=drive)\n",
    "h.save_package_versions(base_package_version_path,pre,do_print = True)\n",
    "h.print_main_versions()"
   ]
  }
 ],
 "metadata": {
  "kernelspec": {
   "display_name": "Python 3 (ipykernel)",
   "language": "python",
   "name": "python3"
  },
  "language_info": {
   "codemirror_mode": {
    "name": "ipython",
    "version": 3
   },
   "file_extension": ".py",
   "mimetype": "text/x-python",
   "name": "python",
   "nbconvert_exporter": "python",
   "pygments_lexer": "ipython3",
   "version": "3.8.17"
  }
 },
 "nbformat": 4,
 "nbformat_minor": 5
}
