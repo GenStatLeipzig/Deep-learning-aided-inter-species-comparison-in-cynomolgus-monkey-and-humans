{
 "cells": [
  {
   "cell_type": "code",
   "execution_count": null,
   "id": "b6346905-8f4c-41ad-8c25-3a20ec861c63",
   "metadata": {},
   "outputs": [],
   "source": [
    "import numpy as np\n",
    "import anndata as ad\n",
    "import scanpy as sc\n",
    "import seaborn as sns\n",
    "import os\n",
    "import pandas as pd\n",
    "import matplotlib.pyplot as plt\n",
    "import warnings\n",
    "import sys\n",
    "path_helper = [\"C:\\\\\",\"Users\",\"vfriedrich\",\"projects\",\"monkey_IZI\",\"git_documentation\",\"scRNAseq_cross_species_primate_human\",\"analysis\",\"helper\"]\n",
    "sys.path.append(os.path.join(*path_helper))\n",
    "import helperVDF as h\n",
    "import helper_scgen as hscg\n",
    "print(sys.executable)\n",
    "import anndata as ad\n",
    "import time\n",
    "import scgen\n",
    "import scvi\n",
    "from sklearn.metrics.pairwise import cosine_similarity\n",
    "from sklearn.metrics import r2_score\n",
    "warnings.filterwarnings('ignore')\n",
    "h.print_main_versions()\n",
    "\n"
   ]
  },
  {
   "cell_type": "code",
   "execution_count": null,
   "id": "5e1e6e2e-649a-4945-9ae2-8eaf23c33b8e",
   "metadata": {},
   "outputs": [],
   "source": [
    "pre = \"MH47\"\n",
    "drive = 'F'\n",
    "base_model_path,base_table_path,base_plots_path,base_anndata_objects = h.return_local_paths(drive = drive,\n",
    "                                                                              pre = pre,\n",
    "                                                                              add_path = True)"
   ]
  },
  {
   "cell_type": "code",
   "execution_count": null,
   "id": "ea5963ca",
   "metadata": {},
   "outputs": [],
   "source": [
    "test_adata = sc.read_h5ad(os.path.join(\"F:\\\\monkey_IZI\\\\analysis\",\n",
    "             \"cluster_runs\",\n",
    "             \"mh89exih-runVAE\",\"output\",\"MH45_c\",\"anndata_objects\",\n",
    "             \"MH45_c_test_adata_hyperparameter.h5ad\"))"
   ]
  },
  {
   "cell_type": "code",
   "execution_count": null,
   "id": "dbf7f1c5",
   "metadata": {},
   "outputs": [],
   "source": [
    "base_model_path_MH45_c =os.path.join(\"F:\\\\monkey_IZI\\\\analysis\",\n",
    "             \"cluster_runs\",\n",
    "             \"mh89exih-runVAE\",\"output\",\"MH45_c\",\"models\")"
   ]
  },
  {
   "cell_type": "code",
   "execution_count": null,
   "id": "31e722c7-3339-4254-8b22-16a7cab0bcc8",
   "metadata": {},
   "outputs": [],
   "source": [
    "n_latents = [6,8,10,12]\n",
    "batch_sizes = [8,16,32,64]"
   ]
  },
  {
   "cell_type": "code",
   "execution_count": null,
   "id": "3f940131-2fbe-4680-8718-37872bd65b04",
   "metadata": {},
   "outputs": [],
   "source": [
    "df_eval = pd.DataFrame(columns = ['tool','n_latent','batch_size','MSE_test'])\n",
    "X = test_adata.X.toarray()\n",
    "for n_latent in n_latents:\n",
    "    for batch_size in batch_sizes:\n",
    "        load_string = os.path.join(\n",
    "            base_model_path_MH45_c,'nlat' +str(n_latent) + '_bs' +  str(batch_size),\n",
    "    'MH45_c_scgen_model_nlat' + str(n_latent) + '_bs' + str(batch_size)  + '.pt'\n",
    ")\n",
    "        model = scgen.SCGEN.load(load_string)\n",
    "        reconstructed_X = model.get_decoded_expression(adata=test_adata)\n",
    "        mse = np.mean((X - reconstructed_X) ** 2)\n",
    "        row_to_add = pd.DataFrame(['scgen',n_latent,batch_size,mse],index = ['tool','n_latent','batch_size','MSE_test']).T\n",
    "        df_eval = df_eval.append(row_to_add) "
   ]
  },
  {
   "cell_type": "code",
   "execution_count": null,
   "id": "2926897d",
   "metadata": {},
   "outputs": [],
   "source": [
    "df_eval['rank_MSE_test'] = df_eval['MSE_test'].rank(ascending=True).astype(int)\n",
    "df_eval.to_csv(os.path.join(base_table_path,pre + '_df_eval_hypserach_scgen.csv'))"
   ]
  },
  {
   "cell_type": "code",
   "execution_count": null,
   "id": "22965953",
   "metadata": {},
   "outputs": [],
   "source": [
    "df_eval[df_eval['rank_MSE_test'] == 1]"
   ]
  },
  {
   "cell_type": "code",
   "execution_count": null,
   "id": "86a160cb",
   "metadata": {},
   "outputs": [],
   "source": [
    "base_package_version_path = h.return_package_version_local_path(drive=drive)\n",
    "h.save_package_versions(base_package_version_path,pre,do_print = True)\n",
    "h.print_main_versions()"
   ]
  }
 ],
 "metadata": {
  "kernelspec": {
   "display_name": "Python 3 (ipykernel)",
   "language": "python",
   "name": "python3"
  },
  "language_info": {
   "codemirror_mode": {
    "name": "ipython",
    "version": 3
   },
   "file_extension": ".py",
   "mimetype": "text/x-python",
   "name": "python",
   "nbconvert_exporter": "python",
   "pygments_lexer": "ipython3",
   "version": "3.8.17"
  }
 },
 "nbformat": 4,
 "nbformat_minor": 5
}
