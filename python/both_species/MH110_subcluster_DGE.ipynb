{
 "cells": [
  {
   "cell_type": "code",
   "execution_count": null,
   "id": "0f54f06b-996a-45eb-bccf-8a9bb9c36b20",
   "metadata": {},
   "outputs": [],
   "source": [
    "import numpy as np\n",
    "import scanpy as sc\n",
    "import seaborn as sns\n",
    "import os\n",
    "import pandas as pd\n",
    "import matplotlib.pyplot as plt\n",
    "import warnings\n",
    "import sys\n",
    "import pickle as pkl\n",
    "path_helper = [\"C:\\\\\",\"Users\",\"vfriedrich\",\"projects\",\"monkey_IZI\",\"git_documentation\",\"scRNAseq_cross_species_primate_human\",\"analysis\",\"helper\"]\n",
    "sys.path.append(os.path.join(*path_helper))\n",
    "import helperVDF as h\n",
    "#import decoupler\n",
    "print(sys.executable)\n",
    "import gseapy\n",
    "from gseapy.plot import barplot, dotplot\n",
    "warnings.filterwarnings(\"ignore\")"
   ]
  },
  {
   "cell_type": "code",
   "execution_count": null,
   "id": "d58bb39a-5c62-472e-b3d0-f6f8b8b78c41",
   "metadata": {},
   "outputs": [],
   "source": [
    "pre = \"MH110\"\n",
    "drive = 'F'\n",
    "base_model_path,base_table_path,base_plots_path,base_anndata_objects = h.return_local_paths(drive = drive,\n",
    "                                                                                            pre = pre,\n",
    "                                                                                            add_path = True)"
   ]
  },
  {
   "cell_type": "markdown",
   "id": "4d0d480f-eaf9-41b2-94bf-4225ee3c4422",
   "metadata": {},
   "source": [
    "### Human"
   ]
  },
  {
   "cell_type": "code",
   "execution_count": null,
   "id": "91b36fb9-ae18-47a8-a995-d22545bc63b9",
   "metadata": {},
   "outputs": [],
   "source": [
    "def make_df_annotation_azimut1_5_scanvi_v2(df):\n",
    "    df['cluster_azimut1_5_scanvi_v2'] = df['cluster_azimut1_5_scanvi'].replace(\n",
    "    {'NK': 'NK+Proliferating', 'NK Proliferating': 'NK+Proliferating'})\n",
    "    return df\n",
    "\n",
    "def make_overview_from_rank_gene_group(adata,cluster_of_interest,species):\n",
    "    dge_results = adata.uns['rank_genes_groups']\n",
    "    pvals_adj = dge_results['pvals_adj'][cluster_of_interest]\n",
    "    pvals = dge_results['pvals'][cluster_of_interest]\n",
    "    logfoldchanges = dge_results['logfoldchanges'][cluster_of_interest]\n",
    "    scores = dge_results['scores'][cluster_of_interest]\n",
    "    gene_names = dge_results['names'][cluster_of_interest]\n",
    "    df_gene_ranks = pd.DataFrame([pvals_adj,pvals,logfoldchanges,scores,gene_names],\n",
    "                                 index = ['pvals_adj','pvals','logfoldchanges','scores','gene_names']).T\n",
    "    df_gene_ranks['scvi_cluster'] = cluster_of_interest\n",
    "    df_gene_ranks['species'] = species\n",
    "    df_gene_ranks['pvals_adj_0.05'] = df_gene_ranks['pvals_adj'] <= 0.05\n",
    "    df_gene_ranks['pvals_adj_0.2'] = df_gene_ranks['pvals_adj'] <= 0.2\n",
    "    df_gene_ranks = df_gene_ranks.sort_values(by='pvals_adj',ascending = True)\n",
    "    return df_gene_ranks"
   ]
  },
  {
   "cell_type": "code",
   "execution_count": null,
   "id": "8fdfbbdb-6d0f-4160-a880-a33835368595",
   "metadata": {},
   "outputs": [],
   "source": [
    "path_clusteranno_s0140 = 'F:\\\\monkey_IZI\\\\analysis\\\\tables\\\\s0140_clusteranno_scvi.txt.gz'\n",
    "clusteranno_s0140 = pd.read_csv(path_clusteranno_s0140,compression = 'gzip',index_col=0)"
   ]
  },
  {
   "cell_type": "code",
   "execution_count": null,
   "id": "93a1905a-88c5-44fc-b3d2-81e5f5a10ff1",
   "metadata": {},
   "outputs": [],
   "source": [
    "species = 'human'\n",
    "_,_,_,base_anndata_objects_H24 = h.return_local_paths(drive,pre='H24',add_path = False)\n",
    "adata_human = sc.read_h5ad(os.path.join(base_anndata_objects_H24,'H24' + '_' + species + '_anno_celltypes_v0.h5ad'))\n",
    "adata_human.obs = pd.merge(adata_human.obs, clusteranno_s0140, left_index=True, right_index=True)\n",
    "adata_human.obs = make_df_annotation_azimut1_5_scanvi_v2(adata_human.obs)\n",
    "adata_human.obs.rename(columns={\"timepoint_x\": \"timepoint\", \"individual_x\": \"individual\",\"species_x\" : \"species\"}, inplace=True)"
   ]
  },
  {
   "cell_type": "code",
   "execution_count": null,
   "id": "14180e3a-6acb-4e45-97d7-ae86d8e96c06",
   "metadata": {},
   "outputs": [],
   "source": [
    "celltype_col ='cluster_azimut1_5_scanvi_v2'"
   ]
  },
  {
   "cell_type": "code",
   "execution_count": null,
   "id": "64bc7331-c4f4-4857-a3e5-ce9be17d4439",
   "metadata": {},
   "outputs": [],
   "source": [
    "sc.pp.normalize_total(adata_human)\n",
    "sc.pp.log1p(adata_human)"
   ]
  },
  {
   "cell_type": "code",
   "execution_count": null,
   "id": "ee1367e5-88e8-42f3-8e0f-337e9e31ae88",
   "metadata": {},
   "outputs": [],
   "source": [
    "#databases = ['Reactome_Pathways_2024','WikiPathway_2023_Human','GO_Biological_Process_2023']\n",
    "cluster_of_interest = '10'\n",
    "species = 'human'\n",
    "database = 'Reactome_Pathways_2024'"
   ]
  },
  {
   "cell_type": "code",
   "execution_count": null,
   "id": "b1f97759-8b29-4b10-a729-fbac63da96df",
   "metadata": {},
   "outputs": [],
   "source": [
    "def make_enrichment_enrichr_human(adata_human,celltype,celltype_col,database,cluster_of_interest,species = 'human'):\n",
    "    adata_human_ct = h.filter_adata_obs(adata_human,col_name=celltype_col,val=celltype)\n",
    "    adata_human_ct.obs['scvi_clusters'] = adata_human_ct.obs['scvi_clusters'].astype('category')\n",
    "    \n",
    "    sc.tl.rank_genes_groups(\n",
    "        adata_human_ct,\n",
    "        groupby='scvi_clusters',\n",
    "        reference=\"rest\",\n",
    "        method=\"wilcoxon\"\n",
    "    )\n",
    "    \n",
    "    df_gene_ranks = make_overview_from_rank_gene_group(adata=adata_human_ct,\n",
    "                                                       cluster_of_interest = cluster_of_interest,\n",
    "                                                       species = 'human')\n",
    "    df_gene_ranks.to_csv(os.path.join(base_table_path,pre + '_df_gene_ranks_' + str(celltype) + '_' + str(cluster_of_interest) + '_' +str(species) + '.csv'))\n",
    "    \n",
    "    #DGE_0_05_genes = df_gene_ranks[df_gene_ranks['pvals_adj_0.05']]['gene_names'].tolist()\n",
    "    top_200_genes = df_gene_ranks.head(200)['gene_names'].tolist()\n",
    "    \n",
    "    enrichment = gseapy.enrichr(gene_list=top_200_genes,\n",
    "     gene_sets=database,\n",
    "     organism='Human', \n",
    "     cutoff=0.05 \n",
    "     )\n",
    "    \n",
    "    enrichment.results.to_csv(os.path.join(base_table_path,pre+'_' +str(species) + '_' + str(database) + '_' + str(celltype) + '_' + str(cluster_of_interest) + '_' + 'res_pathway.csv'))\n",
    "    \n",
    "    \n",
    "    plt.figure()\n",
    "    barplot(enrichment.res2d,title= str(database) + '_' + str(celltype) + '_' + str(cluster_of_interest),color = 'r')\n",
    "    plt.savefig(os.path.join(base_plots_path, pre +'_' +str(species) + '_' + str(database) + '_' + str(celltype) + '_' + str(cluster_of_interest) + '.pdf'),dpi=300, bbox_inches='tight')\n",
    "    plt.show()"
   ]
  },
  {
   "cell_type": "markdown",
   "id": "46a60819-b56b-4cfb-8ebd-6e3423b0dc78",
   "metadata": {},
   "source": [
    "### Human CD8 T\n",
    "- cluster 10"
   ]
  },
  {
   "cell_type": "code",
   "execution_count": null,
   "id": "dc15052d-a4fc-424b-8948-47023a2f39b0",
   "metadata": {},
   "outputs": [],
   "source": [
    "celltype = 'CD8 T'\n",
    "cluster_of_interest = '10'\n",
    "species = 'human'\n",
    "#database = 'Reactome_Pathways_2024'"
   ]
  },
  {
   "cell_type": "code",
   "execution_count": null,
   "id": "6082000f-b05b-4684-aefb-1dc838224956",
   "metadata": {},
   "outputs": [],
   "source": [
    "for database in ['Reactome_Pathways_2024','WikiPathway_2023_Human','GO_Biological_Process_2023']:\n",
    "    make_enrichment_enrichr_human(adata_human=adata_human,\n",
    "                                  celltype = celltype,\n",
    "                                  celltype_col=celltype_col,\n",
    "                                  database=database,\n",
    "                                  cluster_of_interest=cluster_of_interest,\n",
    "                                  species = 'human')"
   ]
  },
  {
   "cell_type": "markdown",
   "id": "59840e8b-666a-487b-959e-d9d08e541fac",
   "metadata": {},
   "source": [
    "### Human NK+Proliferating\n",
    "- cluster 13"
   ]
  },
  {
   "cell_type": "code",
   "execution_count": null,
   "id": "e9d32a2e-b248-4c12-8240-2a0dfbeba596",
   "metadata": {},
   "outputs": [],
   "source": [
    "celltype = 'NK+Proliferating'\n",
    "cluster_of_interest = '13'\n",
    "species = 'human'\n",
    "#database = 'Reactome_Pathways_2024'"
   ]
  },
  {
   "cell_type": "markdown",
   "id": "f826f5fc-e7a3-4d13-baa1-bcf9245397bf",
   "metadata": {},
   "source": [
    "for database in ['Reactome_Pathways_2024','WikiPathway_2023_Human','GO_Biological_Process_2023']:\n",
    "    make_enrichment_enrichr_human(adata_human=adata_human,\n",
    "                                  celltype = celltype,\n",
    "                                  celltype_col=celltype_col,\n",
    "                                  database=database,\n",
    "                                  cluster_of_interest=cluster_of_interest,\n",
    "                                  species = 'human')"
   ]
  },
  {
   "cell_type": "markdown",
   "id": "4a98dad4-0ff3-4b68-8a5a-05ba7cb4eaa4",
   "metadata": {},
   "source": [
    "### Cynomolgus monkey"
   ]
  },
  {
   "cell_type": "code",
   "execution_count": null,
   "id": "64c79b96-73f4-406c-b921-536970ab892e",
   "metadata": {},
   "outputs": [],
   "source": [
    "species = 'cyno'\n",
    "_,_,_,base_anndata_objects_M24 = h.return_local_paths(drive,pre='M24',add_path = False)\n",
    "adata_cyno = sc.read_h5ad(os.path.join(base_anndata_objects_M24,'M24' + '_' + species + '_anno_celltypes_v0.h5ad'))\n",
    "adata_cyno.obs = pd.merge(adata_cyno.obs, clusteranno_s0140, left_index=True, right_index=True)\n",
    "adata_cyno.obs = make_df_annotation_azimut1_5_scanvi_v2(adata_cyno.obs)\n",
    "adata_cyno.obs.rename(columns={\"timepoint_x\": \"timepoint\", \"individual_x\": \"individual\",\"species_x\" : \"species\"}, inplace=True)"
   ]
  },
  {
   "cell_type": "code",
   "execution_count": null,
   "id": "38657dac-acc7-45c9-bc05-11f318b00e35",
   "metadata": {},
   "outputs": [],
   "source": [
    "sc.pp.normalize_total(adata_cyno)\n",
    "sc.pp.log1p(adata_cyno)"
   ]
  },
  {
   "cell_type": "code",
   "execution_count": null,
   "id": "3b4d4cf8-820b-4ad3-bc17-dfc44a21790f",
   "metadata": {},
   "outputs": [],
   "source": [
    "def make_enrichment_enrichr_cyno(adata_cyno,celltype,celltype_col,database,cluster_of_interest,species = 'cyno'):\n",
    "    adata_cyno_ct = h.filter_adata_obs(adata_cyno,col_name=celltype_col,val=celltype)\n",
    "    adata_cyno_ct.obs['scvi_clusters'] = adata_cyno_ct.obs['scvi_clusters'].astype('category')\n",
    "    \n",
    "    sc.tl.rank_genes_groups(\n",
    "        adata_cyno_ct,\n",
    "        groupby='scvi_clusters',\n",
    "        reference=\"rest\",\n",
    "        method=\"wilcoxon\"\n",
    "    )\n",
    "    \n",
    "    df_gene_ranks = make_overview_from_rank_gene_group(adata=adata_cyno_ct,\n",
    "                                                       cluster_of_interest = cluster_of_interest,\n",
    "                                                       species = 'cyno')\n",
    "    df_gene_ranks.to_csv(os.path.join(base_table_path,pre + '_df_gene_ranks_' + str(celltype) + '_' + str(cluster_of_interest) + '_' +str(species) + '.csv'))\n",
    "    \n",
    "    \n",
    "    ortho_tab_s0120_nm_path = os.path.join(*[\"C:\\\\\",\"Users\",\"vfriedrich\",\"projects\",\"monkey_IZI\",\"git_documentation\",\"scRNAseq_cross_species_primate_human\",\"analysisR\",\n",
    "     \"results_GIT\",\"s0120_cyno2human_n_to_m_orthologues.csv.gz\"])\n",
    "    df_ortho_tab_s0120_nm = pd.read_csv(ortho_tab_s0120_nm_path, compression='gzip')\n",
    "    \n",
    "    df_gene_ranks_duplicates = pd.DataFrame(columns= df_gene_ranks.columns)\n",
    "    for cyno_gene in df_gene_ranks['gene_names']:\n",
    "        tab = df_ortho_tab_s0120_nm[df_ortho_tab_s0120_nm['seurat_gene'] == cyno_gene]\n",
    "        gene_idx = df_gene_ranks['gene_names'].tolist().index(cyno_gene)\n",
    "        #print(gene_idx)\n",
    "        human_gene_names = tab[tab['Human gene name'].notna()]['Human gene name'].values\n",
    "        for human_gene_name in list(human_gene_names):\n",
    "            tab_exact = tab[tab['Human gene name'] == human_gene_name]\n",
    "            #new_gene_name = (tab_exact['Human gene name'].values + '--' + tab_exact['seurat_gene'].values)[0] \n",
    "            if tab_exact['ortho_1to1_cyno2human'].values[0] == True:\n",
    "                temp_list = df_gene_ranks['gene_names'].tolist()\n",
    "                temp_list[gene_idx] = human_gene_name\n",
    "                df_gene_ranks['gene_names'] = temp_list\n",
    "            if tab_exact['ortho_1to1_cyno2human'].values[0] == False:\n",
    "                row_to_add = df_gene_ranks[df_gene_ranks['gene_names'] == cyno_gene]\n",
    "                row_to_add['gene_names'] = human_gene_name\n",
    "                df_gene_ranks_duplicates = df_gene_ranks_duplicates.append(row_to_add)\n",
    "    df_gene_ranks_humanized = df_gene_ranks.append(df_gene_ranks_duplicates)\n",
    "    df_gene_ranks_humanized.to_csv(os.path.join(base_table_path,pre + '_df_gene_ranks_humanized_' + str(celltype) + '_' + str(cluster_of_interest) + '_' +str(species) + '.csv'))\n",
    "    \n",
    "    top_200_genes = df_gene_ranks_humanized.head(200)['gene_names'].tolist()\n",
    "    enrichment = gseapy.enrichr(gene_list=top_200_genes,\n",
    "     gene_sets=database,\n",
    "     organism='Human', \n",
    "     cutoff=0.05 \n",
    "     )\n",
    "    \n",
    "    enrichment.results.to_csv(os.path.join(base_table_path,pre+'_' +str(species) + '_' + str(database) + '_' + str(celltype) + '_' + str(cluster_of_interest) + '_' + 'res_pathway.csv'))\n",
    "    \n",
    "    \n",
    "    plt.figure()\n",
    "    barplot(enrichment.res2d,title= str(database) + '_' + str(celltype) + '_' + str(cluster_of_interest),color = 'r')\n",
    "    plt.savefig(os.path.join(base_plots_path, pre +'_' +str(species) + '_' + str(database) + '_' + str(celltype) + '_' + str(cluster_of_interest) + '.pdf'),dpi=300, bbox_inches='tight')\n",
    "    plt.show()"
   ]
  },
  {
   "cell_type": "markdown",
   "id": "ef93bf66-1f7f-4ae9-80ff-2e5b5c7ad116",
   "metadata": {},
   "source": [
    "## CD8 cyno\n",
    "- cluster 10"
   ]
  },
  {
   "cell_type": "code",
   "execution_count": null,
   "id": "abac941a-48a3-47ae-8501-a3ca8369e4ac",
   "metadata": {},
   "outputs": [],
   "source": [
    "celltype = 'CD8 T'\n",
    "cluster_of_interest = '10'\n",
    "species = 'cyno'\n",
    "#database = 'Reactome_Pathways_2024'"
   ]
  },
  {
   "cell_type": "code",
   "execution_count": null,
   "id": "f6cc1612-2d44-454a-bca3-8dd83a77cbc8",
   "metadata": {},
   "outputs": [],
   "source": [
    "for database in ['Reactome_Pathways_2024','WikiPathway_2023_Human','GO_Biological_Process_2023']:\n",
    "    make_enrichment_enrichr_cyno(adata_cyno=adata_cyno,\n",
    "                                  celltype = celltype,\n",
    "                                  celltype_col=celltype_col,\n",
    "                                  database=database,\n",
    "                                  cluster_of_interest=cluster_of_interest,\n",
    "                                  species = 'cyno')"
   ]
  },
  {
   "cell_type": "code",
   "execution_count": null,
   "id": "14a82fe8-6a2b-4730-86a4-2f11612ca9b5",
   "metadata": {},
   "outputs": [],
   "source": [
    "celltype = 'CD8 T'\n",
    "cluster_of_interest = '10'\n",
    "species = 'cyno'\n",
    "database = 'Reactome_Pathways_2024'"
   ]
  },
  {
   "cell_type": "markdown",
   "id": "09e1b6ac-5d72-49c8-a2dd-6fdd60faaadd",
   "metadata": {},
   "source": [
    "## NK \n",
    "- cluster 13"
   ]
  },
  {
   "cell_type": "code",
   "execution_count": null,
   "id": "e5bdeb92-2616-4b53-b10e-d97430eca0d3",
   "metadata": {},
   "outputs": [],
   "source": [
    "celltype = 'NK+Proliferating'\n",
    "cluster_of_interest = '13'\n",
    "species = 'cyno'\n",
    "#database = 'Reactome_Pathways_2024'"
   ]
  },
  {
   "cell_type": "code",
   "execution_count": null,
   "id": "dada8e33-f149-47fb-8ae7-52530d8c3fe9",
   "metadata": {},
   "outputs": [],
   "source": [
    "for database in ['Reactome_Pathways_2024','WikiPathway_2023_Human','GO_Biological_Process_2023']:\n",
    "    make_enrichment_enrichr_cyno(adata_cyno=adata_cyno,\n",
    "                                  celltype = celltype,\n",
    "                                  celltype_col=celltype_col,\n",
    "                                  database=database,\n",
    "                                  cluster_of_interest=cluster_of_interest,\n",
    "                                  species = 'cyno')"
   ]
  },
  {
   "cell_type": "markdown",
   "id": "b5f7395d-3223-4701-8958-3dcc460c3134",
   "metadata": {},
   "source": [
    "## CD16 Mono \n",
    "- cluster 21"
   ]
  },
  {
   "cell_type": "code",
   "execution_count": null,
   "id": "13b1866e-a39a-4d55-a367-712870fca788",
   "metadata": {},
   "outputs": [],
   "source": [
    "celltype = 'CD16 Mono'\n",
    "cluster_of_interest = '21'\n",
    "species = 'cyno'\n",
    "#database = 'Reactome_Pathways_2024'\n",
    "for database in ['Reactome_Pathways_2024','WikiPathway_2023_Human','GO_Biological_Process_2023']:\n",
    "    make_enrichment_enrichr_cyno(adata_cyno=adata_cyno,\n",
    "                                  celltype = celltype,\n",
    "                                  celltype_col=celltype_col,\n",
    "                                  database=database,\n",
    "                                  cluster_of_interest=cluster_of_interest,\n",
    "                                  species = 'cyno')"
   ]
  },
  {
   "cell_type": "markdown",
   "id": "7eae615a-4a9b-44ff-8d6e-f6e57c5cba5f",
   "metadata": {},
   "source": [
    "### Save session"
   ]
  },
  {
   "cell_type": "code",
   "execution_count": null,
   "id": "639b7dd9-1032-45a2-8249-70be59070b6d",
   "metadata": {},
   "outputs": [],
   "source": [
    "base_package_version_path = h.return_package_version_local_path(drive=drive)\n",
    "h.save_package_versions(base_package_version_path,pre,do_print = True)\n",
    "h.print_main_versions()"
   ]
  }
 ],
 "metadata": {
  "kernelspec": {
   "display_name": "Python 3 (ipykernel)",
   "language": "python",
   "name": "python3"
  },
  "language_info": {
   "codemirror_mode": {
    "name": "ipython",
    "version": 3
   },
   "file_extension": ".py",
   "mimetype": "text/x-python",
   "name": "python",
   "nbconvert_exporter": "python",
   "pygments_lexer": "ipython3",
   "version": "3.8.19"
  }
 },
 "nbformat": 4,
 "nbformat_minor": 5
}
