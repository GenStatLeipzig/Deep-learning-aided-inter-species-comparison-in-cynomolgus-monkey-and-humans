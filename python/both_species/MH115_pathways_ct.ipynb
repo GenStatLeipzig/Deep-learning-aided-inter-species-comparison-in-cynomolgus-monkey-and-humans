{
 "cells": [
  {
   "cell_type": "code",
   "execution_count": null,
   "id": "8d951095-5903-40ff-9304-4c10d8362a5a",
   "metadata": {},
   "outputs": [],
   "source": [
    "import numpy as np\n",
    "import scanpy as sc\n",
    "import seaborn as sns\n",
    "import os\n",
    "import pandas as pd\n",
    "import matplotlib.pyplot as plt\n",
    "import warnings\n",
    "import sys\n",
    "import pickle as pkl\n",
    "path_helper = [\"C:\\\\\",\"Users\",\"vfriedrich\",\"projects\",\"monkey_IZI\",\"git_documentation\",\"scRNAseq_cross_species_primate_human\",\"analysis\",\"helper\"]\n",
    "sys.path.append(os.path.join(*path_helper))\n",
    "import helperVDF as h\n",
    "#import decoupler\n",
    "print(sys.executable)\n",
    "import gseapy\n",
    "from gseapy.plot import barplot, dotplot\n",
    "warnings.filterwarnings(\"ignore\")\n",
    "import re"
   ]
  },
  {
   "cell_type": "code",
   "execution_count": null,
   "id": "b8e4079c-b450-4992-8b9e-898dd585bfc9",
   "metadata": {},
   "outputs": [],
   "source": [
    "pre = \"MH115\"\n",
    "drive = 'F'\n",
    "base_model_path,base_table_path,base_plots_path,base_anndata_objects = h.return_local_paths(drive = drive,\n",
    "                                                                                            pre = pre,\n",
    "                                                                                            add_path = True)\n",
    "def remove_go(term):\n",
    "    # Use regular expression to find and replace GO terms, ensuring the string is treated as a raw string\n",
    "    new_term = re.sub(r'\\s*\\(GO:\\d+\\)', '', term)  # Corrected regex finds the GO term pattern and removes it\n",
    "    return new_term.strip() \n",
    "\n",
    "col_human =  \"#e35e28\"\n",
    "col_cyno =\"#31c7ba\"\n",
    "_,base_table_path_MH86,_,_ = h.return_local_paths(drive = drive,pre = 'MH86',add_path = True)"
   ]
  },
  {
   "cell_type": "code",
   "execution_count": null,
   "id": "38d6def8-0871-480a-93b5-30adf3483d8c",
   "metadata": {},
   "outputs": [],
   "source": [
    "base_table_path_MH86"
   ]
  },
  {
   "cell_type": "code",
   "execution_count": null,
   "id": "70a67148-4ce9-4249-aa41-ea07c304341b",
   "metadata": {},
   "outputs": [],
   "source": [
    "df_dge_M_final = pd.read_csv(os.path.join(base_table_path_MH86,'MH86_df_dge_M_final.csv'),index_col=0)\n",
    "df_dge_M_final = df_dge_M_final[df_dge_M_final['FDR_0.2']]"
   ]
  },
  {
   "cell_type": "code",
   "execution_count": null,
   "id": "33be4571-9210-4cd1-8665-97efade0e548",
   "metadata": {},
   "outputs": [],
   "source": [
    "species = 'cyno'\n",
    "conditions  = ['timepoints06hr','timepoints24hr']\n",
    "celltypes_cyno = ['CD4_T', 'CD14_Mono', 'NKProliferating', 'CD8_T', 'B', 'MAIT', 'dnT']"
   ]
  },
  {
   "cell_type": "code",
   "execution_count": null,
   "id": "9aa73d86-80e1-4f03-9355-97487b99f896",
   "metadata": {},
   "outputs": [],
   "source": [
    "all_filtered_dfs_cyno = []\n",
    "for celltype in celltypes_cyno:\n",
    "    for condition in conditions:\n",
    "        df_dge_M_final_ct_cond = df_dge_M_final[(df_dge_M_final['celltype'] == celltype)&(df_dge_M_final['comparison.vs.00hr'] == condition)] \n",
    "        df_dge_M_final_ct_cond['abs_logfoldchanges'] = np.abs(df_dge_M_final_ct_cond['logFC'])\n",
    "        df_dge_M_final_ct_cond = df_dge_M_final_ct_cond.sort_values(by='logFC', ascending=False)\n",
    "        df_dge_M_final_ct_cond.to_csv(os.path.join(base_table_path,pre + '_df_dge_M_' + str(celltype) + '_' + str(condition) + '_' +str(species) + '.csv'))\n",
    "        top_200_genes = df_dge_M_final_ct_cond.head(200)['genes'].tolist()\n",
    "        #df_dge_M_final_ct = df_dge_M_final[df_dge_M_final['celltype'] == celltype]\n",
    "        \n",
    "        enrichment = gseapy.enrichr(gene_list=top_200_genes,\n",
    "             gene_sets=['Reactome_Pathways_2024','WikiPathway_2023_Human','GO_Biological_Process_2023','KEGG_2021_Human','KEGG_2016'],\n",
    "             organism='Human', \n",
    "             cutoff=1\n",
    "             )\n",
    "        \n",
    "        #at this point dont drop duplicate pathways\n",
    "        df = enrichment.results\n",
    "        df['species'] = species\n",
    "        df['celltype'] = celltype\n",
    "        df['comparison.vs.00hr'] = condition\n",
    "        df.to_csv(os.path.join(base_table_path,pre + '_df_pathways_' + str(celltype) + '_' + str(condition) + '_' +str(species) + '.csv'))\n",
    "        filtered_df = df[df['Adjusted P-value'] < 0.05]\n",
    "        filtered_df['Foreground Count'] = filtered_df['Overlap'].apply(lambda x: int(x.split('/')[0]))\n",
    "        filtered_df = filtered_df[filtered_df['Foreground Count'] >= 2]\n",
    "        filtered_df = filtered_df.sort_values(by='Odds Ratio', ascending=False)\n",
    "        filtered_df['Log Odds Ratio'] = np.log(filtered_df['Odds Ratio'])\n",
    "        filtered_df = filtered_df.drop_duplicates(subset=['Genes'], keep='first')\n",
    "        filtered_df['short_term'] = filtered_df['Term'].apply(remove_go)\n",
    "        filtered_df.to_csv(os.path.join(base_table_path,pre + '_filtered_df_pathways_' + str(celltype) + '_' + str(condition) + '_' +str(species) + '.csv'))\n",
    "        all_filtered_dfs_cyno.append(filtered_df)"
   ]
  },
  {
   "cell_type": "code",
   "execution_count": null,
   "id": "3e4de644-87a7-4b3d-a276-4a1bc056f3c0",
   "metadata": {},
   "outputs": [],
   "source": [
    "species = 'human'\n",
    "conditions  = ['timepoints06hr','timepoints24hr']\n",
    "celltypes_human = ['CD4_T', 'CD14_Mono', 'NKProliferating', 'CD8_T', 'B', 'MAIT']"
   ]
  },
  {
   "cell_type": "code",
   "execution_count": null,
   "id": "f34239c8-9155-424c-91f7-5f3fafaf4713",
   "metadata": {},
   "outputs": [],
   "source": [
    "_,base_table_path_H82,_,_ = h.return_local_paths(drive = drive,pre = \"H82\",add_path = False)\n",
    "df_dge_H = pd.read_csv(os.path.join(base_table_path_H82,'H82_dge_tab_edgeR.csv'),index_col=0)\n",
    "\n",
    "df_dge_H['FDR_0.25'] = df_dge_H['FDR'] <= 0.25\n",
    "df_dge_H['FDR_0.5'] = df_dge_H['FDR'] <= 0.5\n",
    "df_dge_H['FDR_0.2'] = df_dge_H['FDR'] <= 0.2"
   ]
  },
  {
   "cell_type": "code",
   "execution_count": null,
   "id": "4ee0c3aa-abd4-451d-8316-33e54f2a0efc",
   "metadata": {},
   "outputs": [],
   "source": [
    "all_filtered_dfs_human = []\n",
    "for celltype in celltypes_human:\n",
    "    for condition in conditions:\n",
    "        df_dge_H_ct_cond = df_dge_H[(df_dge_H['celltype'] == celltype)&(df_dge_H['comparison.vs.00hr'] == condition)] \n",
    "        df_dge_H_ct_cond['abs_logfoldchanges'] = np.abs(df_dge_H_ct_cond['logFC'])\n",
    "        df_dge_H_ct_cond = df_dge_H_ct_cond.sort_values(by='logFC', ascending=False)\n",
    "        df_dge_H_ct_cond.to_csv(os.path.join(base_table_path,pre + '_df_dge_M_' + str(celltype) + '_' + str(condition) + '_' +str(species) + '.csv'))\n",
    "        top_200_genes = df_dge_H_ct_cond.head(200)['genes'].tolist()\n",
    "        #df_dge_H_ct = df_dge_H[df_dge_H['celltype'] == celltype]\n",
    "        \n",
    "        enrichment = gseapy.enrichr(gene_list=top_200_genes,\n",
    "             gene_sets=['Reactome_Pathways_2024','WikiPathway_2023_Human','GO_Biological_Process_2023','KEGG_2021_Human','KEGG_2016'],\n",
    "             organism='Human', \n",
    "             cutoff=0.05\n",
    "             )\n",
    "        \n",
    "        #at this point dont drop duplicate pathways\n",
    "        df = enrichment.results\n",
    "        df['species'] = species\n",
    "        df['celltype'] = celltype\n",
    "        df['comparison.vs.00hr'] = condition\n",
    "        df.to_csv(os.path.join(base_table_path,pre + '_df_pathways_' + str(celltype) + '_' + str(condition) + '_' +str(species) + '.csv'))\n",
    "        filtered_df = df[df['Adjusted P-value'] < 0.05]\n",
    "        filtered_df['Foreground Count'] = filtered_df['Overlap'].apply(lambda x: int(x.split('/')[0]))\n",
    "        filtered_df = filtered_df[filtered_df['Foreground Count'] >= 2]\n",
    "        filtered_df = filtered_df.sort_values(by='Odds Ratio', ascending=False)\n",
    "        filtered_df['Log Odds Ratio'] = np.log(filtered_df['Odds Ratio'])\n",
    "        filtered_df = filtered_df.drop_duplicates(subset=['Genes'], keep='first')\n",
    "        filtered_df['short_term'] = filtered_df['Term'].apply(remove_go)\n",
    "        filtered_df.to_csv(os.path.join(base_table_path,pre + '_filtered_df_pathways_' + str(celltype) + '_' + str(condition) + '_' +str(species) + '.csv'))\n",
    "        all_filtered_dfs_human.append(filtered_df)"
   ]
  },
  {
   "cell_type": "markdown",
   "id": "699f2eee-9f94-48dd-ae02-c0c5aabcb267",
   "metadata": {},
   "source": [
    "summarize results and save"
   ]
  },
  {
   "cell_type": "code",
   "execution_count": null,
   "id": "8579d46e-ccf1-41d9-a8c2-4935c868996a",
   "metadata": {},
   "outputs": [],
   "source": [
    "all_human_df = pd.concat(all_filtered_dfs_human,ignore_index=True)\n",
    "all_cyno_df = pd.concat(all_filtered_dfs_cyno,ignore_index=True)\n",
    "all_df = pd.concat([all_human_df,all_cyno_df],ignore_index=True)\n",
    "all_df.to_csv(os.path.join(base_table_path,pre + '_all_df_pathways_.csv'))"
   ]
  },
  {
   "cell_type": "markdown",
   "id": "30a801f6-a594-4524-941a-a401a3a7670b",
   "metadata": {},
   "source": [
    "save session"
   ]
  },
  {
   "cell_type": "code",
   "execution_count": null,
   "id": "6555b562-ec24-4cc8-8a34-cfa4fafd904f",
   "metadata": {},
   "outputs": [],
   "source": [
    "base_package_version_path = h.return_package_version_local_path(drive=drive)\n",
    "h.save_package_versions(base_package_version_path,pre,do_print = True)\n",
    "h.print_main_versions()"
   ]
  }
 ],
 "metadata": {
  "kernelspec": {
   "display_name": "Python 3 (ipykernel)",
   "language": "python",
   "name": "python3"
  },
  "language_info": {
   "codemirror_mode": {
    "name": "ipython",
    "version": 3
   },
   "file_extension": ".py",
   "mimetype": "text/x-python",
   "name": "python",
   "nbconvert_exporter": "python",
   "pygments_lexer": "ipython3",
   "version": "3.8.19"
  }
 },
 "nbformat": 4,
 "nbformat_minor": 5
}
