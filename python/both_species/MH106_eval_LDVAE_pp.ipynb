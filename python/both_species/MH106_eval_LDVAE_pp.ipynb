{
 "cells": [
  {
   "cell_type": "code",
   "execution_count": null,
   "id": "5d2649f5-e91b-483b-bbb6-c7779164bd91",
   "metadata": {},
   "outputs": [],
   "source": [
    "from imports_LDVAE_local import *\n",
    "from scipy.stats import spearmanr\n",
    "from matplotlib.colors import Normalize\n",
    "warnings.filterwarnings('ignore')"
   ]
  },
  {
   "cell_type": "code",
   "execution_count": null,
   "id": "185a1b54-bab0-4ee0-896c-55febc1eb1b3",
   "metadata": {},
   "outputs": [],
   "source": [
    "pre = \"MH106\"\n",
    "drive = 'F'\n",
    "base_model_path,base_table_path,base_plots_path,base_anndata_objects = h.return_local_paths(drive = drive,\n",
    "                                                                              pre = pre,\n",
    "                                                                              add_path = True)"
   ]
  },
  {
   "cell_type": "code",
   "execution_count": null,
   "id": "5ddd12c9-df0c-4bc6-be7e-8985a9b101b3",
   "metadata": {},
   "outputs": [],
   "source": [
    "#load proof of principle results from MH80\n",
    "_,base_table_path_MH80,_,_ = h.return_local_paths(drive = drive,pre = 'MH80',add_path = False)"
   ]
  },
  {
   "cell_type": "code",
   "execution_count": null,
   "id": "c18f136d-460d-4c10-be96-499da2625ef8",
   "metadata": {},
   "outputs": [],
   "source": [
    "set_types = ['train','test']\n",
    "celltypes = ['B',\n",
    " 'CD14 Mono',\n",
    " 'CD16 Mono',\n",
    " 'CD4 T',\n",
    " 'CD8 T',\n",
    " 'MAIT',\n",
    " 'NK+Proliferating']"
   ]
  },
  {
   "cell_type": "code",
   "execution_count": null,
   "id": "d907fbd4-faad-4fe6-aa7b-72bca3682e74",
   "metadata": {},
   "outputs": [],
   "source": [
    "warnings.filterwarnings(\"ignore\")\n",
    "df_spearman = pd.DataFrame(columns = ['r_cyno_human','r_cyno_shifted_human',\n",
    "                                      'pval_cyno_human','pval_cyno_shifted_human',\n",
    "                                      'r_cyno_human_filtered','r_cyno_shifted_human_filtered',\n",
    "                                      'pval_cyno_human_filtered','pval_cyno_shifted_human_filtered',\n",
    "                                      'set_type','celltype'])\n",
    "for set_type in set_types:\n",
    "    for celltype in celltypes:\n",
    "        df_temp = pd.read_csv(os.path.join(base_table_path_MH80,'MH80_df_ct_mean_expr_' + str(set_type) + '_' + str(celltype) + '.csv'),index_col=0).T\n",
    "        df_temp['rank_00hr_cyno_'+ str(set_type) ] = df_temp['mean_expression_00hr_cyno_'+ str(set_type) ].rank(method='dense', ascending=False).astype(int)\n",
    "\n",
    "        df_temp['rank_00hr_human_'+ str(set_type) ] = df_temp['mean_expression_00hr_human_'+ str(set_type) ].rank(method='dense', ascending=False).astype(int)\n",
    "\n",
    "        df_temp['rank_00hr_cyno_shifted_'+ str(set_type) ] =  df_temp['mean_expression_00hr_cyno_shifted_'+ str(set_type) ].rank(method='dense', ascending=False).astype(int)\n",
    "        df_temp.to_csv(os.path.join(base_table_path,pre + '_' + set_type + '_' + str(celltype) + '_df_temp_rank.csv'))\n",
    "        r_cyno_human = spearmanr(df_temp['rank_00hr_cyno_'+ str(set_type)],\n",
    "                                 df_temp['rank_00hr_human_'+ str(set_type)])[0]\n",
    "        \n",
    "        pval_cyno_human = spearmanr(df_temp['rank_00hr_cyno_'+ str(set_type)],\n",
    "                                 df_temp['rank_00hr_human_'+ str(set_type)])[1]\n",
    "\n",
    "        r_cyno_shifted_human = spearmanr(df_temp['rank_00hr_cyno_shifted_'+ str(set_type)],\n",
    "                                         df_temp['rank_00hr_human_'+ str(set_type)])[0]\n",
    "        pval_cyno_shifted_human = spearmanr(df_temp['rank_00hr_cyno_shifted_'+ str(set_type)],\n",
    "                                         df_temp['rank_00hr_human_'+ str(set_type)])[1]\n",
    "        df_temp_filtered = df_temp[df_temp['mean_expression_00hr_human_' +str(set_type)] > 0]\n",
    "        \n",
    "\n",
    "        df_temp_filtered['rank_00hr_cyno_' +str(set_type)] = df_temp_filtered['rank_00hr_cyno_' +str(set_type)].rank(method='dense',ascending = True).astype(int)\n",
    "        df_temp_filtered['rank_00hr_cyno_shifted_' +str(set_type)] = df_temp_filtered['rank_00hr_cyno_shifted_' +str(set_type)].rank(method='dense',ascending = True).astype(int)\n",
    "        df_temp_filtered.to_csv(os.path.join(base_table_path,pre + '_' + set_type + '_' + str(celltype) + '_df_temp_filtered_rank.csv'))\n",
    "\n",
    "        df_temp_filtered.to_csv(os.path.join(base_table_path,pre + '_' + set_type + '_' + str(celltype) + '_df_temp_filtered_rank.csv'))\n",
    "\n",
    "        r_cyno_human_filtered = spearmanr(df_temp_filtered['rank_00hr_cyno_'+ str(set_type)],\n",
    "                                         df_temp_filtered['rank_00hr_human_'+ str(set_type)])[0]\n",
    "\n",
    "        pval_cyno_human_filtered = spearmanr(df_temp_filtered['rank_00hr_cyno_'+ str(set_type)],\n",
    "                                 df_temp_filtered['rank_00hr_human_'+ str(set_type)])[1]\n",
    "\n",
    "        r_cyno_shifted_human_filtered = spearmanr(df_temp_filtered['rank_00hr_cyno_shifted_'+ str(set_type)],\n",
    "                                         df_temp_filtered['rank_00hr_human_'+ str(set_type)])[0]\n",
    "        pval_cyno_shifted_human_filtered = spearmanr(df_temp_filtered['rank_00hr_cyno_shifted_'+ str(set_type)],\n",
    "                                         df_temp_filtered['rank_00hr_human_'+ str(set_type)])[1]\n",
    "        df_spearman = df_spearman.append(\n",
    "            pd.DataFrame([r_cyno_human,r_cyno_shifted_human,\n",
    "                          pval_cyno_human,pval_cyno_shifted_human,\n",
    "                          r_cyno_human_filtered,r_cyno_shifted_human_filtered,\n",
    "                            pval_cyno_human_filtered,pval_cyno_shifted_human_filtered,\n",
    "                          set_type,celltype]\n",
    "                         ,index = ['r_cyno_human','r_cyno_shifted_human',\n",
    "                                   'pval_cyno_human','pval_cyno_shifted_human',\n",
    "                                   'r_cyno_human_filtered','r_cyno_shifted_human_filtered',\n",
    "                                    'pval_cyno_human_filtered','pval_cyno_shifted_human_filtered',\n",
    "                                   'set_type','celltype']).T\n",
    "        )  "
   ]
  },
  {
   "cell_type": "markdown",
   "id": "f4e93247-3612-48da-b2fc-a67b701bc4a9",
   "metadata": {},
   "source": [
    "## Plot rank scatter"
   ]
  },
  {
   "cell_type": "code",
   "execution_count": null,
   "id": "8f48b0bb-a3d0-4516-a4a0-b942470cc4bb",
   "metadata": {},
   "outputs": [],
   "source": [
    "set_type = 'train'\n",
    "\n",
    "fig, axes = plt.subplots(len(celltypes), 2, figsize=(6, 2.5 * len(celltypes)))  \n",
    "\n",
    "\n",
    "for i, celltype in enumerate(celltypes):\n",
    "    df_temp_rank = pd.read_csv(os.path.join(base_table_path,pre + '_' + set_type + '_' + str(celltype) + '_df_temp_rank.csv'),index_col=0)\n",
    "    axes[i, 0].scatter(df_temp_rank['rank_00hr_human_train'], df_temp_rank['rank_00hr_cyno_train'],s=6,color = \"#022a2a\",alpha =0.9)  # Replace x1, y1 with data for the first plot\n",
    "    axes[i, 0].set_title(celltype + ' - ' + set_type + ' set',fontsize =10)\n",
    "    axes[i, 0].set_xlabel('A')\n",
    "    axes[i, 0].set_xlabel('human rank')\n",
    "    axes[i, 0].set_ylabel('cyno rank')\n",
    "    \n",
    "\n",
    "    axes[i, 1].scatter(df_temp_rank['rank_00hr_human_train'], df_temp_rank['rank_00hr_cyno_shifted_train'],s=6,color = \"#022a2a\",alpha =0.9)  # Replace x2, y2 with data for the second plot\n",
    "    axes[i, 1].set_title(celltype + ' - ' + set_type + ' set',fontsize =10)\n",
    "    axes[i, 1].set_xlabel('human rank')\n",
    "    axes[i, 1].set_ylabel('humanized cyno rank')\n",
    "\n",
    "plt.tight_layout()\n",
    "plt.savefig(os.path.join(base_plots_path,pre + '_scatter_all_ct_' + set_type+ '.pdf'),bbox_inches='tight')\n",
    "plt.show()"
   ]
  },
  {
   "cell_type": "code",
   "execution_count": null,
   "id": "3d95e89f-7b68-425f-a81b-95978a1507a5",
   "metadata": {},
   "outputs": [],
   "source": [
    "#filtered\n",
    "set_type = 'train'\n",
    "\n",
    "fig, axes = plt.subplots(len(celltypes), 2, figsize=(6, 2.5 * len(celltypes)))  \n",
    "\n",
    "\n",
    "for i, celltype in enumerate(celltypes):\n",
    "    df_temp_rank = pd.read_csv(os.path.join(base_table_path,pre + '_' + set_type + '_' + str(celltype) + '_df_temp_filtered_rank.csv'),index_col=0)\n",
    "    axes[i, 0].scatter(df_temp_rank['rank_00hr_human_train'], df_temp_rank['rank_00hr_cyno_train'],s=6,color = \"#022a2a\",alpha =0.9)  # Replace x1, y1 with data for the first plot\n",
    "    axes[i, 0].set_title(celltype + ' - ' + set_type + ' set',fontsize =10)\n",
    "    axes[i, 0].set_xlabel('A')\n",
    "    axes[i, 0].set_xlabel('human rank')\n",
    "    axes[i, 0].set_ylabel('cyno rank')\n",
    "    \n",
    "\n",
    "    axes[i, 1].scatter(df_temp_rank['rank_00hr_human_train'], df_temp_rank['rank_00hr_cyno_shifted_train'],s=6,color = \"#022a2a\",alpha =0.9)  # Replace x2, y2 with data for the second plot\n",
    "    axes[i, 1].set_title(celltype + ' - ' + set_type + ' set',fontsize =10)\n",
    "    axes[i, 1].set_xlabel('human rank')\n",
    "    axes[i, 1].set_ylabel('humanized cyno rank')\n",
    "\n",
    "plt.tight_layout()\n",
    "plt.savefig(os.path.join(base_plots_path,pre + '_scatter_all_ct_' + set_type+ '_filtered_rank.pdf'),bbox_inches='tight')\n",
    "plt.show()"
   ]
  },
  {
   "cell_type": "code",
   "execution_count": null,
   "id": "471e4a3a-fe4e-4837-a7f6-1d7d327ce692",
   "metadata": {},
   "outputs": [],
   "source": [
    "#Filtered\n",
    "set_type = 'test'\n",
    "fig, axes = plt.subplots(len(celltypes), 2, figsize=(6, 2.5 * len(celltypes)))  \n",
    "\n",
    "for i, celltype in enumerate(celltypes):\n",
    "    df_temp_rank = pd.read_csv(os.path.join(base_table_path,pre + '_' + set_type + '_' + str(celltype) + '_df_temp_filtered_rank.csv'),index_col=0)\n",
    "    axes[i, 0].scatter(df_temp_rank['rank_00hr_human_test'], df_temp_rank['rank_00hr_cyno_test'],s=6,color = \"#022a2a\",alpha =0.9)  # Replace x1, y1 with data for the first plot\n",
    "    axes[i, 0].set_title(celltype + ' - ' + set_type + ' set',fontsize =10)\n",
    "    axes[i, 0].set_xlabel('A')\n",
    "    axes[i, 0].set_xlabel('human rank')\n",
    "    axes[i, 0].set_ylabel('cyno rank')\n",
    "    \n",
    "\n",
    "    axes[i, 1].scatter(df_temp_rank['rank_00hr_human_test'], df_temp_rank['rank_00hr_cyno_shifted_test'],s=6,color = \"#022a2a\",alpha =0.9)  # Replace x2, y2 with data for the second plot\n",
    "    axes[i, 1].set_title(celltype + ' - ' + set_type + ' set',fontsize =10)\n",
    "    axes[i, 1].set_xlabel('human rank')\n",
    "    axes[i, 1].set_ylabel('humanized cyno rank')\n",
    "\n",
    "\n",
    "plt.tight_layout()\n",
    "plt.savefig(os.path.join(base_plots_path,pre + '_scatter_all_ct_' + set_type+ 'filtered_rank.pdf'),bbox_inches='tight')\n",
    "\n",
    "plt.show()"
   ]
  },
  {
   "cell_type": "code",
   "execution_count": null,
   "id": "cc3b4376-467c-4773-813f-1391613dd81b",
   "metadata": {},
   "outputs": [],
   "source": [
    "set_type = 'test'\n",
    "fig, axes = plt.subplots(len(celltypes), 2, figsize=(6, 2.5 * len(celltypes)))  \n",
    "\n",
    "for i, celltype in enumerate(celltypes):\n",
    "    df_temp_rank = pd.read_csv(os.path.join(base_table_path,pre + '_' + set_type + '_' + str(celltype) + '_df_temp_rank.csv'),index_col=0)\n",
    "    axes[i, 0].scatter(df_temp_rank['rank_00hr_human_test'], df_temp_rank['rank_00hr_cyno_test'],s=6,color = \"#022a2a\",alpha =0.9)  # Replace x1, y1 with data for the first plot\n",
    "    axes[i, 0].set_title(celltype + ' - ' + set_type + ' set',fontsize =10)\n",
    "    axes[i, 0].set_xlabel('A')\n",
    "    axes[i, 0].set_xlabel('human rank')\n",
    "    axes[i, 0].set_ylabel('cyno rank')\n",
    "    \n",
    "\n",
    "    axes[i, 1].scatter(df_temp_rank['rank_00hr_human_test'], df_temp_rank['rank_00hr_cyno_shifted_test'],s=6,color = \"#022a2a\",alpha =0.9)  # Replace x2, y2 with data for the second plot\n",
    "    axes[i, 1].set_title(celltype + ' - ' + set_type + ' set',fontsize =10)\n",
    "    axes[i, 1].set_xlabel('human rank')\n",
    "    axes[i, 1].set_ylabel('humanized cyno rank')\n",
    "\n",
    "\n",
    "plt.tight_layout()\n",
    "plt.savefig(os.path.join(base_plots_path,pre + '_scatter_all_ct_' + set_type+ '.pdf'),bbox_inches='tight')\n",
    "\n",
    "plt.show()"
   ]
  },
  {
   "cell_type": "code",
   "execution_count": null,
   "id": "b6c8ba1a-be65-41cc-82e6-6a9fac29bcd1",
   "metadata": {},
   "outputs": [],
   "source": [
    "df_spearman['r_cyno_shifted_human_filtered'] = pd.to_numeric(df_spearman['r_cyno_shifted_human_filtered'],errors='coerce')\n",
    "\n",
    "df_spearman['r_cyno_human_filtered'] = pd.to_numeric(df_spearman['r_cyno_human_filtered'], errors='coerce')"
   ]
  },
  {
   "cell_type": "code",
   "execution_count": null,
   "id": "7bc22028-21cb-4f1b-b816-71be850d4edf",
   "metadata": {},
   "outputs": [],
   "source": [
    "df_spearman['set_type+celltype'] = df_spearman['set_type'].astype(str) + '_' + df_spearman['celltype'].astype(str)\n",
    "\n",
    "df_spearman['r_cyno_shifted_human_filtered'] = pd.to_numeric(df_spearman['r_cyno_shifted_human_filtered'],errors='coerce')\n",
    "\n",
    "df_spearman['r_cyno_human_filtered'] = pd.to_numeric(df_spearman['r_cyno_human_filtered'], errors='coerce')\n",
    "\n",
    "\n",
    "\n",
    "df_pivot_r_cyno_human_filtered = df_spearman.pivot(index='set_type', columns='celltype', values='r_cyno_human_filtered')\n",
    "df_pivot_r_cyno_shifted_human_filtered = df_spearman.pivot(index='set_type', columns='celltype', values='r_cyno_shifted_human_filtered')\n",
    "\n",
    "df_pivot_r_cyno_shifted_human_filtered = df_pivot_r_cyno_shifted_human_filtered.reindex(['train', 'test'])\n",
    "\n",
    "df_pivot_r_cyno_human_filtered = df_pivot_r_cyno_human_filtered.reindex(['train', 'test'])\n",
    "\n",
    "df_pivot_r_cyno_human_filtered = df_pivot_r_cyno_human_filtered.reindex(['train', 'test'])\n",
    "\n",
    "df_all_filtered = df_pivot_r_cyno_human_filtered.append(df_pivot_r_cyno_shifted_human_filtered)\n",
    "df_all_filtered.index =['train_human_cyno_filtered', 'test_human_cyno_filtered', 'train_human_shifted_cyno_filtered', 'test_human_shifted_cyno_filtered']\n",
    "df_all_filtered.to_csv(os.path.join(base_table_path,pre + '_df_all_filtered_spearman.csv'))"
   ]
  },
  {
   "cell_type": "code",
   "execution_count": null,
   "id": "35fa8da4-0d4f-45ec-b344-9253aa9ffdf4",
   "metadata": {},
   "outputs": [],
   "source": [
    "plt.figure(figsize=(10, 6))\n",
    "ax=sns.heatmap(df_all_filtered.T, cmap=\"BuPu\", annot=True, fmt=\".4f\",\n",
    "           cbar_kws={'label': 'Spearman rank correlation'},\n",
    "            norm=Normalize(vmin=0.55, vmax=1),\n",
    "           linecolor='grey',\n",
    "            linewidths=0.05)\n",
    "\n",
    "plt.title('Rank correlation proof principle')\n",
    "plt.xticks(rotation=45)\n",
    "plt.yticks(rotation=0)\n",
    "\n",
    "#darl middle line\n",
    "middle_line_index = 2 \n",
    "ax.vlines(middle_line_index, *ax.get_ylim(), color='black', linewidth=4) \n",
    "plt.savefig(os.path.join(base_plots_path,pre + '_heatmap_rank_correlation_all_filtered.pdf'),bbox_inches='tight')\n",
    "plt.show()"
   ]
  },
  {
   "cell_type": "code",
   "execution_count": null,
   "id": "1c44a536-af1e-48f7-a332-98bb78104f01",
   "metadata": {},
   "outputs": [],
   "source": [
    "df_spearman['set_type+celltype'] = df_spearman['set_type'].astype(str) + '_' + df_spearman['celltype'].astype(str)\n",
    "\n",
    "df_spearman['r_cyno_shifted_human'] = pd.to_numeric(df_spearman['r_cyno_shifted_human'],errors='coerce')\n",
    "\n",
    "df_spearman['r_cyno_human'] = pd.to_numeric(df_spearman['r_cyno_human'], errors='coerce')\n",
    "\n",
    "\n",
    "\n",
    "df_pivot_r_cyno_human = df_spearman.pivot(index='set_type', columns='celltype', values='r_cyno_human')\n",
    "df_pivot_r_cyno_shifted_human = df_spearman.pivot(index='set_type', columns='celltype', values='r_cyno_shifted_human')\n",
    "\n",
    "df_pivot_r_cyno_shifted_human = df_pivot_r_cyno_shifted_human.reindex(['train', 'test'])\n",
    "\n",
    "df_pivot_r_cyno_human = df_pivot_r_cyno_human.reindex(['train', 'test'])\n",
    "\n",
    "df_pivot_r_cyno_human = df_pivot_r_cyno_human.reindex(['train', 'test'])\n",
    "\n",
    "df_all = df_pivot_r_cyno_human.append(df_pivot_r_cyno_shifted_human)"
   ]
  },
  {
   "cell_type": "code",
   "execution_count": null,
   "id": "58e6d0f2-6352-4ccd-89e0-6571cbebd178",
   "metadata": {},
   "outputs": [],
   "source": [
    "df_all.index =['train_human_cyno', 'test_human_cyno', 'train_human_shifted_cyno', 'test_human_shifted_cyno']"
   ]
  },
  {
   "cell_type": "code",
   "execution_count": null,
   "id": "ceadff38-ab6c-485d-bc54-c4a4aa6e66d2",
   "metadata": {},
   "outputs": [],
   "source": [
    "df_all.to_csv(os.path.join(base_table_path,pre + '_df_all_spearman.csv'))"
   ]
  },
  {
   "cell_type": "code",
   "execution_count": null,
   "id": "e639a00a-507f-4af8-b181-89da8bfd92e0",
   "metadata": {},
   "outputs": [],
   "source": [
    "plt.figure(figsize=(10, 6))\n",
    "ax=sns.heatmap(df_all.T, cmap=\"BuPu\", annot=True, fmt=\".4f\",\n",
    "           cbar_kws={'label': 'Spearman rank correlation'},\n",
    "            norm=Normalize(vmin=0.55, vmax=1),\n",
    "           linecolor='grey',\n",
    "            linewidths=0.05)\n",
    "\n",
    "plt.title('Rank correlation proof principle')\n",
    "plt.xticks(rotation=45)\n",
    "plt.yticks(rotation=0)\n",
    "\n",
    "#darl middle line\n",
    "middle_line_index = 2 \n",
    "ax.vlines(middle_line_index, *ax.get_ylim(), color='black', linewidth=4) \n",
    "plt.savefig(os.path.join(base_plots_path,pre + '_heatmap_rank_correlation_all.pdf'),bbox_inches='tight')\n",
    "plt.show()"
   ]
  },
  {
   "cell_type": "code",
   "execution_count": null,
   "id": "ff300132-b3a1-422a-83e3-d8488a70d678",
   "metadata": {},
   "outputs": [],
   "source": [
    "df_all_filtered_only_train = df_all_filtered.T[['train_human_cyno_filtered','train_human_shifted_cyno_filtered']].T\n",
    "df_all_filtered_only_train.to_csv(os.path.join(base_table_path,pre + '_df_all_filtered_only_train_spearman.csv'))"
   ]
  },
  {
   "cell_type": "code",
   "execution_count": null,
   "id": "ff7f26eb-3fa4-4736-9d88-96555bc2c6b1",
   "metadata": {},
   "outputs": [],
   "source": [
    "plt.figure(figsize=(5, 6))\n",
    "ax=sns.heatmap(df_all_filtered_only_train.T, cmap=\"RdYlGn\", annot=True, fmt=\".4f\",\n",
    "           cbar_kws={'label': 'Spearman rank correlation'},\n",
    "            norm=Normalize(vmin=0.55, vmax=1),\n",
    "           linecolor='grey',\n",
    "            linewidths=0.05)\n",
    "\n",
    "plt.title('train set')\n",
    "plt.xticks(rotation=45)\n",
    "plt.yticks(rotation=0)\n",
    "#darl middle line\n",
    "middle_line_index = 1 \n",
    "ax.vlines(middle_line_index, *ax.get_ylim(), color='black', linewidth=4)\n",
    "plt.tight_layout()\n",
    "plt.savefig(os.path.join(base_plots_path,pre + '_heatmap_rank_correlation_train_filtered.pdf'),bbox_inches='tight')\n",
    "plt.show()"
   ]
  },
  {
   "cell_type": "code",
   "execution_count": null,
   "id": "b5e97c16-7e16-4105-b318-78025edc89c4",
   "metadata": {},
   "outputs": [],
   "source": [
    "df_all_only_train = df_all.T[['train_human_cyno','train_human_shifted_cyno']].T\n",
    "df_all_only_train.to_csv(os.path.join(base_table_path,pre + '_df_all_only_train_spearman.csv'))"
   ]
  },
  {
   "cell_type": "code",
   "execution_count": null,
   "id": "7f3d7f7f-1d42-4a71-8a15-f6bd86000cbd",
   "metadata": {},
   "outputs": [],
   "source": [
    "plt.figure(figsize=(5, 6))\n",
    "ax=sns.heatmap(df_all_only_train.T, cmap=\"RdYlGn\", annot=True, fmt=\".4f\",\n",
    "           cbar_kws={'label': 'Spearman rank correlation'},\n",
    "            norm=Normalize(vmin=0.55, vmax=1),\n",
    "           linecolor='grey',\n",
    "            linewidths=0.05)\n",
    "\n",
    "plt.title('train set')\n",
    "plt.xticks(rotation=45)\n",
    "plt.yticks(rotation=0)\n",
    "#darl middle line\n",
    "middle_line_index = 1 \n",
    "ax.vlines(middle_line_index, *ax.get_ylim(), color='black', linewidth=4) \n",
    "plt.tight_layout()\n",
    "plt.savefig(os.path.join(base_plots_path,pre + '_heatmap_rank_correlation_train.pdf'),bbox_inches='tight')\n",
    "plt.show()"
   ]
  },
  {
   "cell_type": "code",
   "execution_count": null,
   "id": "ad16a3db-605d-40a9-ab79-ca9394e68365",
   "metadata": {},
   "outputs": [],
   "source": [
    "df_all_filtered_only_test = df_all_filtered.T[['test_human_cyno_filtered','test_human_shifted_cyno_filtered']].T\n",
    "df_all_filtered_only_test.to_csv(os.path.join(base_table_path,pre + '_df_all_filtered_only_test_spearman.csv'))"
   ]
  },
  {
   "cell_type": "code",
   "execution_count": null,
   "id": "e7df79db-1e96-4342-83e0-8fcf9f74daa5",
   "metadata": {},
   "outputs": [],
   "source": [
    "plt.figure(figsize=(5, 6))\n",
    "ax=sns.heatmap(df_all_filtered_only_test.T, cmap=\"RdYlGn\", annot=True, fmt=\".4f\",\n",
    "           cbar_kws={'label': 'Spearman rank correlation'},\n",
    "            norm=Normalize(vmin=0.55, vmax=1),\n",
    "           linecolor='grey',\n",
    "            linewidths=0.05)\n",
    "\n",
    "plt.title('test set')\n",
    "plt.xticks(rotation=45)\n",
    "plt.yticks(rotation=0)\n",
    "#darl middle line\n",
    "middle_line_index = 1 \n",
    "ax.vlines(middle_line_index, *ax.get_ylim(), color='black', linewidth=4)\n",
    "plt.tight_layout()\n",
    "plt.savefig(os.path.join(base_plots_path,pre + '_heatmap_rank_correlation_test_filtered.pdf'),bbox_inches='tight')\n",
    "plt.show()"
   ]
  },
  {
   "cell_type": "code",
   "execution_count": null,
   "id": "82216c6d-3392-4c73-9d77-bfdc93e9977b",
   "metadata": {},
   "outputs": [],
   "source": [
    "df_all_only_test = df_all.T[['test_human_cyno','test_human_shifted_cyno']].T\n",
    "df_all_only_test.to_csv(os.path.join(base_table_path,pre + '_df_all_only_test_spearman.csv'))"
   ]
  },
  {
   "cell_type": "code",
   "execution_count": null,
   "id": "eca88dc0-d2d2-47e5-b4a4-626b61427fd0",
   "metadata": {},
   "outputs": [],
   "source": [
    "plt.figure(figsize=(5, 6))\n",
    "ax=sns.heatmap(df_all_only_test.T, cmap=\"RdYlGn\", annot=True, fmt=\".4f\",\n",
    "           cbar_kws={'label': 'Spearman rank correlation'},\n",
    "            norm=Normalize(vmin=0.55, vmax=1),\n",
    "           linecolor='grey',\n",
    "            linewidths=0.05)\n",
    "\n",
    "plt.title('test set')\n",
    "plt.xticks(rotation=45)\n",
    "plt.yticks(rotation=0)\n",
    "#darl middle line\n",
    "middle_line_index = 1 \n",
    "ax.vlines(middle_line_index, *ax.get_ylim(), color='black', linewidth=4) \n",
    "plt.tight_layout()\n",
    "plt.savefig(os.path.join(base_plots_path,pre + '_heatmap_rank_correlation_test.pdf'),bbox_inches='tight')\n",
    "plt.show()"
   ]
  },
  {
   "cell_type": "markdown",
   "id": "b702a758-9713-4b55-adf8-3272138e286c",
   "metadata": {},
   "source": [
    "## Save session"
   ]
  },
  {
   "cell_type": "code",
   "execution_count": null,
   "id": "45c1dc35-b97d-44ae-a5ed-2ec27dc4c06f",
   "metadata": {},
   "outputs": [],
   "source": [
    "\n",
    "base_package_version_path = h.return_package_version_local_path(drive=drive)\n",
    "h.save_package_versions(base_package_version_path,pre,do_print = True)"
   ]
  }
 ],
 "metadata": {
  "kernelspec": {
   "display_name": "Python 3 (ipykernel)",
   "language": "python",
   "name": "python3"
  },
  "language_info": {
   "codemirror_mode": {
    "name": "ipython",
    "version": 3
   },
   "file_extension": ".py",
   "mimetype": "text/x-python",
   "name": "python",
   "nbconvert_exporter": "python",
   "pygments_lexer": "ipython3",
   "version": "3.8.19"
  }
 },
 "nbformat": 4,
 "nbformat_minor": 5
}
