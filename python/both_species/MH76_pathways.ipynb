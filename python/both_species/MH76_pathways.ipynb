{
 "cells": [
  {
   "cell_type": "code",
   "execution_count": null,
   "id": "b4c2bbb0-bd6a-464b-9006-6f7389d70486",
   "metadata": {},
   "outputs": [],
   "source": [
    "import numpy as np\n",
    "import scanpy as sc\n",
    "import seaborn as sns\n",
    "import os\n",
    "import pandas as pd\n",
    "import matplotlib.pyplot as plt\n",
    "import warnings\n",
    "import sys\n",
    "path_helper = [\"C:\\\\\",\"Users\",\"vfriedrich\",\"projects\",\"monkey_IZI\",\"git_documentation\",\"scRNAseq_cross_species_primate_human\",\"analysis\",\"helper\"]\n",
    "sys.path.append(os.path.join(*path_helper))\n",
    "import helperVDF as h\n",
    "import decoupler\n",
    "print(sys.executable)"
   ]
  },
  {
   "cell_type": "code",
   "execution_count": null,
   "id": "186308bc-3521-47fc-963d-bd82360082c2",
   "metadata": {},
   "outputs": [],
   "source": [
    "pre = \"MH76\"\n",
    "drive = 'F'\n",
    "base_model_path,base_table_path,base_plots_path,base_anndata_objects = h.return_local_paths(drive = drive,\n",
    "                                                                                            pre = pre,\n",
    "                                                                                            add_path = True)"
   ]
  },
  {
   "cell_type": "markdown",
   "id": "562528bc-706f-4774-9c08-42bc860af3d6",
   "metadata": {},
   "source": [
    "### KEGG"
   ]
  },
  {
   "cell_type": "code",
   "execution_count": null,
   "id": "515aa0cf-983d-40db-a1f4-167e0a83edc6",
   "metadata": {},
   "outputs": [],
   "source": [
    "#cyno\n",
    "_,base_table_path_M71,_,_ = h.return_local_paths(drive = drive,pre = \"M71\",add_path = False)\n",
    "df_dge_M = pd.read_csv(os.path.join(base_table_path_M71,'M71_dge_tab_edgeR.csv'),index_col=0)\n",
    "df_dge_M['FDR_0.25'] = df_dge_M['FDR'] <= 0.25\n",
    "df_dge_M['FDR_0.5'] = df_dge_M['FDR'] <= 0.5\n",
    "df_dge_M['FDR_0.2'] = df_dge_M['FDR'] <= 0.2\n",
    "\n",
    "#human\n",
    "_,base_table_path_H71,_,_ = h.return_local_paths(drive = drive,pre = \"H71\",add_path = False)\n",
    "df_dge_H = pd.read_csv(os.path.join(base_table_path_H71,'H71_dge_tab_edgeR.csv'),index_col=0)\n",
    "df_dge_H['FDR_0.25'] = df_dge_H['FDR'] <= 0.25\n",
    "df_dge_H['FDR_0.5'] = df_dge_H['FDR'] <= 0.5\n",
    "df_dge_H['FDR_0.2'] = df_dge_H['FDR'] <= 0.2\n",
    "\n",
    "\n",
    "\n",
    "\n",
    "db_collection = 'KEGG'\n",
    "\n",
    "msigdb = decoupler.get_resource(\"MSigDB\")\n",
    "msigdb = msigdb[msigdb['collection']=='kegg_pathways']\n",
    "msigdb = msigdb[~msigdb.duplicated(['geneset', 'genesymbol'])]"
   ]
  },
  {
   "cell_type": "code",
   "execution_count": null,
   "id": "70f1f0b3-8f4d-4efe-b9c1-1eaf086d2f11",
   "metadata": {},
   "outputs": [],
   "source": [
    "celltypes_M = list(pd.unique(df_dge_M['celltype']))\n",
    "celltypes_H = list(pd.unique(df_dge_H['celltype']))\n",
    "conditions = list(pd.unique(df_dge_M['comparison.vs.00hr']))"
   ]
  },
  {
   "cell_type": "code",
   "execution_count": null,
   "id": "ffdc6145-2c0e-4773-8fc5-475cc5798b1e",
   "metadata": {},
   "outputs": [],
   "source": [
    "conditions"
   ]
  },
  {
   "cell_type": "code",
   "execution_count": null,
   "id": "90ea90c4-549f-46a6-bfb4-50df5b5d5012",
   "metadata": {},
   "outputs": [],
   "source": [
    "species = 'cyno'\n",
    "for celltype in celltypes_M:\n",
    "    for condition in conditions:\n",
    "        df_dge_M_ct_cond = df_dge_M[(df_dge_M['celltype'] == celltype)&(df_dge_M['comparison.vs.00hr'] == condition)]\n",
    "        df_dge_M_ct_cond_FDR = df_dge_M_ct_cond[df_dge_M_ct_cond['PValue'] <= 0.05] \n",
    "        df_dge_M_ct_cond_FDR = df_dge_M_ct_cond_FDR.set_index('genes')\n",
    "        ora_df = decoupler.get_ora_df(\n",
    "                df=df_dge_M_ct_cond_FDR,\n",
    "                net=msigdb,\n",
    "                source='geneset',\n",
    "                target='genesymbol'\n",
    "            )\n",
    "        ora_df.to_csv(os.path.join(base_table_path,\n",
    "                                 pre + '_' + str(species) + '_' +str(celltype) + '_' + str(condition)+ '_'+str(db_collection) + '_ora_df.csv')) "
   ]
  },
  {
   "cell_type": "code",
   "execution_count": null,
   "id": "884549d1-1e1d-4a84-a117-814afcb4b46c",
   "metadata": {},
   "outputs": [],
   "source": [
    "species = 'human'\n",
    "for celltype in celltypes_H:\n",
    "    for condition in conditions:\n",
    "        df_dge_H_ct_cond = df_dge_H[(df_dge_H['celltype'] == celltype)&(df_dge_H['comparison.vs.00hr'] == condition)]\n",
    "        df_dge_H_ct_cond_FDR = df_dge_H_ct_cond[df_dge_H_ct_cond['PValue'] <= 0.05] \n",
    "        df_dge_H_ct_cond_FDR = df_dge_H_ct_cond_FDR.set_index('genes')\n",
    "        ora_df = decoupler.get_ora_df(\n",
    "                df=df_dge_H_ct_cond_FDR,\n",
    "                net=msigdb,\n",
    "                source='geneset',\n",
    "                target='genesymbol'\n",
    "            )\n",
    "        ora_df.to_csv(os.path.join(base_table_path,\n",
    "                                 pre + '_' + str(species) + '_' +str(celltype) + '_' + str(condition)+ '_'+str(db_collection) + '_ora_df.csv')) "
   ]
  },
  {
   "cell_type": "markdown",
   "id": "04e2bae0-2c02-488d-a1f5-9e233bec809d",
   "metadata": {},
   "source": [
    "### Human"
   ]
  },
  {
   "cell_type": "code",
   "execution_count": null,
   "id": "d3dcc394-76e5-426a-8697-53bc63c67aef",
   "metadata": {},
   "outputs": [],
   "source": [
    "species = 'human'\n",
    "conditions = ['timepoints06hr', 'timepoints24hr']\n",
    "db_collection = 'KEGG'\n",
    "human_KEGG_dict = {} \n",
    "for celltype in celltypes_H:\n",
    "    condition_dict = {}\n",
    "    for condition in conditions:\n",
    "        KEGG_df=pd.read_csv(os.path.join(base_table_path,\n",
    "                         pre + \"_\" +  str(species) + '_' + str(celltype) + '_' + str(condition)+ '_'+str(db_collection) + '_ora_df.csv'),\n",
    "           index_col=0)\n",
    "\n",
    "        condition_dict[condition] = list(KEGG_df.sort_values(by = 'Odds ratio',ascending=False).head(4).Term.values)\n",
    "        condition_dict['KEGG_df'] = KEGG_df\n",
    "    human_KEGG_dict[celltype] = condition_dict"
   ]
  },
  {
   "cell_type": "markdown",
   "id": "a6550375-5a9b-4fe6-918e-25811ebc58a7",
   "metadata": {},
   "source": [
    "### Cyno"
   ]
  },
  {
   "cell_type": "code",
   "execution_count": null,
   "id": "ae364e69-948a-4253-baa7-c7c6cb125583",
   "metadata": {},
   "outputs": [],
   "source": [
    "species = 'cyno'\n",
    "conditions = ['timepoints06hr', 'timepoints24hr']\n",
    "db_collection = 'KEGG'\n",
    "cyno_KEGG_dict = {} \n",
    "for celltype in celltypes_M:\n",
    "    condition_dict = {}\n",
    "    for condition in conditions:\n",
    "        KEGG_df=pd.read_csv(os.path.join(base_table_path,\n",
    "                         pre + \"_\" +  str(species) + '_' + str(celltype) + '_' + str(condition)+ '_'+str(db_collection) + '_ora_df.csv'),\n",
    "           index_col=0)\n",
    "\n",
    "        condition_dict[condition] = list(KEGG_df.sort_values(by = 'Odds ratio',ascending=False).head(4).Term.values)\n",
    "        condition_dict['KEGG_df'] = KEGG_df\n",
    "    cyno_KEGG_dict[celltype] = condition_dict"
   ]
  },
  {
   "cell_type": "markdown",
   "id": "1c1ab4d0-a389-4234-8e68-db1e33ab219b",
   "metadata": {},
   "source": [
    "### Top pathways"
   ]
  },
  {
   "cell_type": "code",
   "execution_count": null,
   "id": "416ca670-1aa2-4dd8-b74a-a2c2c12fc31d",
   "metadata": {},
   "outputs": [],
   "source": [
    "pathways = []\n",
    "for celltype in list(set(celltypes_M) & set(celltypes_H)):\n",
    "    cond_dict = {}\n",
    "    for condition in conditions:\n",
    "        cyno_top_pathways = list(cyno_KEGG_dict[celltype][condition])\n",
    "        human_top_pathways = list(human_KEGG_dict[celltype][condition])\n",
    "        \n",
    "        pathways = list(set(pathways).union(set(cyno_top_pathways).union(set(human_top_pathways))))"
   ]
  },
  {
   "cell_type": "code",
   "execution_count": null,
   "id": "a5607fa0-e142-4d26-8373-6baa337aace5",
   "metadata": {},
   "outputs": [],
   "source": [
    "warnings.simplefilter(\"ignore\")\n",
    "KEGG_top_pathway_dict = {}\n",
    "for celltype in list(set(celltypes_M) & set(celltypes_H)):\n",
    "    cond_dict = {}\n",
    "    for condition in conditions:\n",
    "        KEGG_df_human = human_KEGG_dict[celltype]['KEGG_df']\n",
    "        KEGG_df_cyno = cyno_KEGG_dict[celltype]['KEGG_df']\n",
    "        \n",
    "        KEGG_df_cyno_top_pathways = KEGG_df_cyno[KEGG_df_cyno['Term'].isin(pathways)]\n",
    "        KEGG_df_cyno_top_pathways['species'] = 'cyno'\n",
    "        KEGG_df_cyno_top_pathways['species+celltype+condition'] = 'cyno_' + celltype + '_' + condition[-4:]\n",
    "        \n",
    "        KEGG_df_human_top_pathways = KEGG_df_human[KEGG_df_human['Term'].isin(pathways)]\n",
    "        KEGG_df_human_top_pathways['species'] = 'human'\n",
    "        KEGG_df_human_top_pathways['species+celltype+condition'] = 'human_' + celltype + '_' + condition[-4:]\n",
    "        \n",
    "        KEGG_top_pathways =KEGG_df_human_top_pathways.append(KEGG_df_cyno_top_pathways)\n",
    "        cond_dict[condition] = KEGG_top_pathways\n",
    "    KEGG_top_pathway_dict[celltype] = cond_dict"
   ]
  },
  {
   "cell_type": "code",
   "execution_count": null,
   "id": "f120ab99-893d-4681-949b-72b2b9933e80",
   "metadata": {},
   "outputs": [],
   "source": [
    "columns_df = ['Term', 'Set size', 'Overlap ratio', 'p-value', 'FDR p-value',\n",
    "       'Odds ratio', 'Combined score', 'Features', 'species',\n",
    "       'species+celltype+condition']"
   ]
  },
  {
   "cell_type": "code",
   "execution_count": null,
   "id": "27339229-f3a3-4ea9-8422-fe0666061e40",
   "metadata": {},
   "outputs": [],
   "source": [
    "df_KEGG_plot = pd.DataFrame(columns=columns_df)\n",
    "\n",
    "for celltype in ['CD4_T','CD8_T','B']:\n",
    "    for condition in conditions:\n",
    "        df_KEGG_plot=df_KEGG_plot.append(KEGG_top_pathway_dict[celltype][condition])\n",
    "\n",
    "df_KEGG_plot.to_csv(os.path.join(base_table_path,pre + '_df_KEGG_plot.csv'))"
   ]
  },
  {
   "cell_type": "code",
   "execution_count": null,
   "id": "d28fe1d9-7e0d-46ca-b85f-b603aacddb73",
   "metadata": {},
   "outputs": [],
   "source": [
    "plt.figure(figsize=(10, 12))\n",
    "scatter = sns.scatterplot(\n",
    "    x='species+celltype+condition',\n",
    "    y='Term',\n",
    "    size='Odds ratio',\n",
    "    hue='FDR p-value',\n",
    "    data=df_KEGG_plot,\n",
    "    palette='Reds_r',\n",
    "    sizes=(100, 800),\n",
    "    alpha=1,\n",
    "    edgecolor='black',\n",
    "    legend=True\n",
    ")\n",
    "plt.xticks(rotation=90)\n",
    "ax = plt.gca()\n",
    "ax.legend(bbox_to_anchor=(1.2, 1))\n",
    "plt.savefig(os.path.join(base_plots_path,pre + '_scatter_DGE_KEGG.pdf'),bbox_inches = 'tight')\n",
    "plt.show()"
   ]
  },
  {
   "cell_type": "markdown",
   "id": "d838b04c-3de7-4a3e-85c7-dd94efa80ee8",
   "metadata": {},
   "source": [
    "### Save session"
   ]
  },
  {
   "cell_type": "code",
   "execution_count": null,
   "id": "135b180d-4d7c-45e3-a8ee-39d301e8f0c1",
   "metadata": {},
   "outputs": [],
   "source": [
    "base_package_version_path = h.return_package_version_local_path(drive=drive)\n",
    "h.save_package_versions(base_package_version_path,pre,do_print = True)\n",
    "h.print_main_versions()"
   ]
  }
 ],
 "metadata": {
  "kernelspec": {
   "display_name": "Python 3 (ipykernel)",
   "language": "python",
   "name": "python3"
  },
  "language_info": {
   "codemirror_mode": {
    "name": "ipython",
    "version": 3
   },
   "file_extension": ".py",
   "mimetype": "text/x-python",
   "name": "python",
   "nbconvert_exporter": "python",
   "pygments_lexer": "ipython3",
   "version": "3.8.19"
  }
 },
 "nbformat": 4,
 "nbformat_minor": 5
}
