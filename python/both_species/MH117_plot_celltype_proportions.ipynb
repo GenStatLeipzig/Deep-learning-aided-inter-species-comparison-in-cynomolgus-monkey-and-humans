{
 "cells": [
  {
   "cell_type": "code",
   "execution_count": null,
   "id": "0a66884e-46a5-4bdb-8499-273a2ee351c6",
   "metadata": {},
   "outputs": [],
   "source": [
    "import numpy as np\n",
    "import scanpy as sc\n",
    "import seaborn as sns\n",
    "import os\n",
    "import pandas as pd\n",
    "import matplotlib.pyplot as plt\n",
    "import warnings\n",
    "import sys\n",
    "import pickle as pkl\n",
    "path_helper = [\"C:\\\\\",\"Users\",\"vfriedrich\",\"projects\",\"monkey_IZI\",\"git_documentation\",\"scRNAseq_cross_species_primate_human\",\"analysis\",\"helper\"]\n",
    "sys.path.append(os.path.join(*path_helper))\n",
    "import helperVDF as h"
   ]
  },
  {
   "cell_type": "code",
   "execution_count": null,
   "id": "e1e7d449-bc75-49f0-a050-9636237f474a",
   "metadata": {},
   "outputs": [],
   "source": [
    "pre = \"MH117\"\n",
    "drive = 'F'\n",
    "base_model_path,base_table_path,base_plots_path,base_anndata_objects = h.return_local_paths(drive = drive,\n",
    "                                                                                            pre = pre,\n",
    "                                                                                            add_path = True)\n",
    "\n",
    "def rel_change(base_val,new_val):\n",
    "    return (new_val -base_val)/base_val"
   ]
  },
  {
   "cell_type": "code",
   "execution_count": null,
   "id": "09495a5a-2744-4498-abef-695f42079365",
   "metadata": {},
   "outputs": [],
   "source": [
    "_,base_table_path_MH100,_,_ = h.return_local_paths(drive = drive,pre = 'MH100',add_path = False)"
   ]
  },
  {
   "cell_type": "markdown",
   "id": "6c706423-6244-4b5f-8a95-c233cfcd3a4f",
   "metadata": {},
   "source": [
    "## Human"
   ]
  },
  {
   "cell_type": "code",
   "execution_count": null,
   "id": "b31a98fe-180b-4c3e-9a0c-a9aa998c0927",
   "metadata": {},
   "outputs": [],
   "source": [
    "proportions_human = pd.read_csv(os.path.join(base_table_path_MH100,'MH100_proportions_human.csv'),index_col=0)\n",
    "\n",
    "proportions_human['rel06hr'] = proportions_human.apply(lambda row: rel_change(row['00hr'], row['06hr']), axis=1)\n",
    "proportions_human['rel24hr'] = proportions_human.apply(lambda row: rel_change(row['00hr'], row['24hr']), axis=1)\n",
    "\n",
    "save_path_human = os.path.join(base_table_path_MH100,'MH100_scoda_sim_results_human.pkl')\n",
    "# loading\n",
    "with open(save_path_human, \"rb\") as f:\n",
    "    sim_results_loaded = pkl.load(f)\n",
    "\n",
    "cred_effects = sim_results_loaded.credible_effects()\n",
    "\n",
    "cred_effects_df = pd.DataFrame(cred_effects).reset_index()\n",
    "\n",
    "cred_effects_df06hr = cred_effects_df[cred_effects_df['Covariate'] == 'Condition[T.06hr]']\n",
    "cred_effects_df06hr = cred_effects_df06hr.rename(columns={'Final Parameter': 'cred_effect_06hr'})\n",
    "\n",
    "cred_effects_df24hr = cred_effects_df[cred_effects_df['Covariate'] == 'Condition[T.24hr]']\n",
    "cred_effects_df24hr = cred_effects_df24hr.rename(columns={'Final Parameter': 'cred_effect_24hr'})\n",
    "\n",
    "proportions_human.index.name = 'Cell Type'\n",
    "\n",
    "proportions_human_with_cred = pd.merge(cred_effects_df06hr[['Cell Type','cred_effect_06hr']], proportions_human, left_on='Cell Type', right_index=True)\n",
    "\n",
    "proportions_human_with_cred =  pd.merge(cred_effects_df24hr[['Cell Type','cred_effect_24hr']], proportions_human_with_cred, left_on='Cell Type',right_on='Cell Type')\n",
    "\n",
    "proportions_human_with_cred.index = proportions_human_with_cred['Cell Type']\n",
    "\n",
    "proportions_human_with_cred.to_csv(os.path.join(base_table_path,pre + '_proportions_human_with_cred_.csv'))"
   ]
  },
  {
   "cell_type": "code",
   "execution_count": null,
   "id": "b68edd89-c45b-4fcf-8757-cdd1f9efaf86",
   "metadata": {},
   "outputs": [],
   "source": [
    "color_timepoints = [\"#3b7c70\", \"#ce9642\", \"#3b3a3e\"]\n",
    "proportions_human_with_cred[['00hr', '06hr', '24hr']].plot(kind='bar', figsize=(10, 4), width=0.9, color=color_timepoints)  # Increased width to 0.9\n",
    "plt.title('celltype proportions - human')\n",
    "plt.xlabel('Cell type')\n",
    "plt.ylabel('Proportion')\n",
    "plt.xticks(rotation=90)\n",
    "plt.ylim([0, 0.87])\n",
    "\n",
    "n_groups = len(proportions_human_with_cred)\n",
    "n_bars_per_group = 3  \n",
    "bar_width = 0.9 / n_bars_per_group\n",
    "# Adding stars based on cred_effect conditions\n",
    "for i, (idx, row) in enumerate(proportions_human_with_cred.iterrows()):\n",
    "    # Positions of the 06hr and 24hr bars within the group\n",
    "    position_06hr = i  \n",
    "    position_24hr = i + bar_width \n",
    "    \n",
    "    offset = -0.02  # You can adjust this value as needed\n",
    "    \n",
    "\n",
    "    if row['cred_effect_06hr']:  # Check if True for 06hr\n",
    "        plt.text(position_06hr , row['06hr'] + offset, '*', color='black', ha='center', va='bottom', fontsize=20)\n",
    "        if row['rel06hr'] > 0:\n",
    "            plt.text(position_06hr + 0.015, row['06hr'] + 0.07, r\"$\\mathbf{+}$\" + f\"{row['rel06hr'] * 100:.2f}%\", color=\"#ce9642\", ha='center', va='bottom', fontsize=10, rotation=90)\n",
    "        else:\n",
    "            plt.text(position_06hr + 0.015, row['06hr'] + 0.07, r\"$\\mathbf{-}$\" + f\"{-1*row['rel06hr'] * 100:.2f}%\", color=\"#ce9642\", ha='center', va='bottom', fontsize=10, rotation=90)\n",
    "    if row['cred_effect_24hr']:  # Check if True for 24hr\n",
    "        plt.text(position_24hr, row['24hr'] + offset, '*', color='black', ha='center', va='bottom', fontsize=20)\n",
    "        if row['rel24hr'] > 0:\n",
    "            plt.text(position_24hr + 0.015, row['24hr'] + 0.07, r\"$\\mathbf{+}$\" + f\"{row['rel24hr'] * 100:.2f}%\", color=\"#3b3a3e\", ha='center', va='bottom', fontsize=10, rotation=90)\n",
    "        else:\n",
    "            plt.text(position_24hr + 0.015, row['24hr'] + 0.07, r\"$\\mathbf{-}$\" + f\"{-1*row['rel24hr'] * 100:.2f}%\", color=\"#3b3a3e\", ha='center', va='bottom', fontsize=10, rotation=90)\n",
    "plt.savefig(os.path.join(base_plots_path,pre + '_barplot_proportion_human.pdf'),bbox_inches='tight')\n"
   ]
  },
  {
   "cell_type": "markdown",
   "id": "235c8797-a1aa-47de-bd78-d7fe4aff530c",
   "metadata": {},
   "source": [
    "## Cyno"
   ]
  },
  {
   "cell_type": "code",
   "execution_count": null,
   "id": "46f0017a-2909-4cbc-b179-cfa0e53fdf54",
   "metadata": {},
   "outputs": [],
   "source": [
    "proportions_cyno = pd.read_csv(os.path.join(base_table_path_MH100,'MH100_proportions_cyno.csv'),index_col=0)\n",
    "\n",
    "proportions_cyno['rel06hr'] = proportions_cyno.apply(lambda row: rel_change(row['00hr'], row['06hr']), axis=1)\n",
    "proportions_cyno['rel24hr'] = proportions_cyno.apply(lambda row: rel_change(row['00hr'], row['24hr']), axis=1)\n",
    "\n",
    "save_path_cyno = os.path.join(base_table_path_MH100,'MH100_scoda_sim_results_cyno.pkl')\n",
    "# loading\n",
    "with open(save_path_cyno, \"rb\") as f:\n",
    "    sim_results_loaded = pkl.load(f)\n",
    "\n",
    "cred_effects = sim_results_loaded.credible_effects()\n",
    "\n",
    "cred_effects_df = pd.DataFrame(cred_effects).reset_index()\n",
    "\n",
    "cred_effects_df06hr = cred_effects_df[cred_effects_df['Covariate'] == 'Condition[T.06hr]']\n",
    "cred_effects_df06hr = cred_effects_df06hr.rename(columns={'Final Parameter': 'cred_effect_06hr'})\n",
    "\n",
    "cred_effects_df24hr = cred_effects_df[cred_effects_df['Covariate'] == 'Condition[T.24hr]']\n",
    "cred_effects_df24hr = cred_effects_df24hr.rename(columns={'Final Parameter': 'cred_effect_24hr'})\n",
    "\n",
    "proportions_cyno.index.name = 'Cell Type'\n",
    "\n",
    "proportions_cyno_with_cred = pd.merge(cred_effects_df06hr[['Cell Type','cred_effect_06hr']], proportions_cyno, left_on='Cell Type', right_index=True)\n",
    "\n",
    "proportions_cyno_with_cred =  pd.merge(cred_effects_df24hr[['Cell Type','cred_effect_24hr']], proportions_cyno_with_cred, left_on='Cell Type',right_on='Cell Type')\n",
    "\n",
    "proportions_cyno_with_cred.index = proportions_cyno_with_cred['Cell Type']\n",
    "\n",
    "proportions_cyno_with_cred.to_csv(os.path.join(base_table_path,pre + '_proportions_cyno_with_cred_.csv'))"
   ]
  },
  {
   "cell_type": "code",
   "execution_count": null,
   "id": "5baa174d-d21b-4111-aaae-b6257e26a491",
   "metadata": {},
   "outputs": [],
   "source": [
    "color_timepoints = [\"#3b7c70\", \"#ce9642\", \"#3b3a3e\"]\n",
    "proportions_cyno_with_cred[['00hr', '06hr', '24hr']].plot(kind='bar', figsize=(10, 4), width=0.9, color=color_timepoints)  # Increased width to 0.9\n",
    "plt.title('celltype proportions - cyno')\n",
    "plt.xlabel('Cell type')\n",
    "plt.ylabel('Proportion')\n",
    "plt.xticks(rotation=90)\n",
    "plt.ylim([0, 0.87])\n",
    "\n",
    "n_groups = len(proportions_cyno_with_cred)\n",
    "n_bars_per_group = 3  \n",
    "bar_width = 0.9 / n_bars_per_group\n",
    "# Adding stars based on cred_effect conditions\n",
    "for i, (idx, row) in enumerate(proportions_cyno_with_cred.iterrows()):\n",
    "    # Positions of the 06hr and 24hr bars within the group\n",
    "    position_06hr = i  \n",
    "    position_24hr = i + bar_width \n",
    "    \n",
    "    offset = -0.02  # You can adjust this value as needed\n",
    "    \n",
    "\n",
    "    if row['cred_effect_06hr']:  # Check if True for 06hr\n",
    "        plt.text(position_06hr , row['06hr'] + offset, '*', color='black', ha='center', va='bottom', fontsize=20)\n",
    "        if row['rel06hr'] > 0:\n",
    "            plt.text(position_06hr + 0.015, row['06hr'] + 0.07, r\"$\\mathbf{+}$\" + f\"{row['rel06hr'] * 100:.2f}%\", color=\"#ce9642\", ha='center', va='bottom', fontsize=10, rotation=90)\n",
    "        else:\n",
    "            plt.text(position_06hr + 0.015, row['06hr'] + 0.07, r\"$\\mathbf{-}$\" + f\"{-1*row['rel06hr'] * 100:.2f}%\", color=\"#ce9642\", ha='center', va='bottom', fontsize=10, rotation=90)\n",
    "    if row['cred_effect_24hr']:  # Check if True for 24hr\n",
    "        plt.text(position_24hr, row['24hr'] + offset, '*', color='black', ha='center', va='bottom', fontsize=20)\n",
    "        if row['rel24hr'] > 0:\n",
    "            plt.text(position_24hr + 0.015, row['24hr'] + 0.07, r\"$\\mathbf{+}$\" + f\"{row['rel24hr'] * 100:.2f}%\", color=\"#3b3a3e\", ha='center', va='bottom', fontsize=10, rotation=90)\n",
    "        else:\n",
    "            plt.text(position_24hr + 0.015, row['24hr'] + 0.07, r\"$\\mathbf{-}$\" + f\"{-1*row['rel24hr'] * 100:.2f}%\", color=\"#3b3a3e\", ha='center', va='bottom', fontsize=10, rotation=90)\n",
    "plt.savefig(os.path.join(base_plots_path,pre + '_barplot_proportion_cyno.pdf'),bbox_inches='tight')\n"
   ]
  },
  {
   "cell_type": "markdown",
   "id": "93e64f3f-4840-467b-bb5d-77df7a76e3f9",
   "metadata": {},
   "source": [
    "## Save session"
   ]
  },
  {
   "cell_type": "code",
   "execution_count": null,
   "id": "578e9092-355b-4c1f-8b17-8b9b38ba945a",
   "metadata": {},
   "outputs": [],
   "source": [
    "base_package_version_path = h.return_package_version_local_path(drive=drive)\n",
    "h.save_package_versions(base_package_version_path,pre,do_print = True)\n",
    "h.print_main_versions()"
   ]
  }
 ],
 "metadata": {
  "kernelspec": {
   "display_name": "Python 3 (ipykernel)",
   "language": "python",
   "name": "python3"
  },
  "language_info": {
   "codemirror_mode": {
    "name": "ipython",
    "version": 3
   },
   "file_extension": ".py",
   "mimetype": "text/x-python",
   "name": "python",
   "nbconvert_exporter": "python",
   "pygments_lexer": "ipython3",
   "version": "3.8.19"
  }
 },
 "nbformat": 4,
 "nbformat_minor": 5
}
