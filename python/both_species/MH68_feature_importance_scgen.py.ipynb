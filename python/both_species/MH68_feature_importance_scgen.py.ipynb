{
 "cells": [
  {
   "cell_type": "code",
   "execution_count": null,
   "id": "ae6c88cd",
   "metadata": {},
   "outputs": [],
   "source": [
    "from imports_scgen_local import * #imports_scgen_local have to be in same folder"
   ]
  },
  {
   "cell_type": "code",
   "execution_count": null,
   "id": "f3cfd3c8",
   "metadata": {},
   "outputs": [],
   "source": [
    "pre = 'MH68'\n",
    "drive = 'F'\n",
    "base_model_path,base_table_path,base_plots_path,base_anndata_objects = h.return_local_paths(drive = drive,\n",
    "                                                                              pre = pre,\n",
    "                                                                              add_path = True)\n",
    "_,base_table_path_MH66_c,_,_ = h.return_local_paths(drive = drive,\n",
    "                                                       pre = 'MH66_c',\n",
    "                                                       add_path = False)"
   ]
  },
  {
   "cell_type": "code",
   "execution_count": null,
   "id": "a49a6621",
   "metadata": {},
   "outputs": [],
   "source": [
    "base_table_path_MH66_c"
   ]
  },
  {
   "cell_type": "code",
   "execution_count": null,
   "id": "090c0152",
   "metadata": {},
   "outputs": [],
   "source": [
    "base_table_path_MH66_c = 'F:\\\\monkey_IZI\\\\analysis\\\\cluster_runs\\\\workspace-runVAE\\\\output\\\\MH66_c\\\\tables'\n",
    "celltypes = ['B',\n",
    " 'CD14 Mono',\n",
    " 'CD16 Mono',\n",
    " 'CD4 T',\n",
    " 'CD8 T',\n",
    " 'MAIT',\n",
    " 'NK+Proliferating']\n",
    "columns_lat_dim = [f'latent_dim_{i+1}' for i in range(10)]"
   ]
  },
  {
   "cell_type": "code",
   "execution_count": null,
   "id": "0757883e",
   "metadata": {},
   "outputs": [],
   "source": [
    "df_list = []\n",
    "for celltype in celltypes:\n",
    "    df_pert = pd.read_csv(os.path.join(base_table_path_MH66_c,'MH66_c_' + str(celltype) +'_pert.csv'),index_col=0)\n",
    "    df_pert = df_pert.set_index('gene',drop=False)\n",
    "    df_list.append(df_pert) \n",
    "df_pert_all = pd.concat(df_list)\n",
    "df_pert_all['mean_perturbation_effect'] = df_pert_all[columns_lat_dim].mean(axis=1)\n",
    "df_pert_all['median_perturbation_effect'] = df_pert_all[columns_lat_dim].median(axis=1)\n",
    "#Save\n",
    "df_pert_all.to_csv(os.path.join(base_table_path,pre + 'df_pert_all.csv'))"
   ]
  },
  {
   "cell_type": "markdown",
   "id": "a8976512",
   "metadata": {},
   "source": [
    "### Visualize"
   ]
  },
  {
   "cell_type": "code",
   "execution_count": null,
   "id": "6b4c4f22",
   "metadata": {},
   "outputs": [],
   "source": [
    "top_genes_list = []\n",
    "for celltype in celltypes:\n",
    "    df_pert_all_ct = df_pert_all[df_pert_all['celltype'] == celltype]\n",
    "    top_genes_list = top_genes_list + list(df_pert_all_ct.sort_values(by='mean_perturbation_effect',ascending=False).head(10)['gene'])"
   ]
  },
  {
   "cell_type": "code",
   "execution_count": null,
   "id": "a901f079",
   "metadata": {},
   "outputs": [],
   "source": [
    "unique_top_genes = pd.unique( top_genes_list)\n",
    "df_dict = {}\n",
    "df_sum_pert_per_group = {}\n",
    "for celltype in celltypes:\n",
    "    df_pert_all_ct = df_pert_all[(df_pert_all['celltype'] == celltype)]\n",
    "    available_genes = [gene for gene in unique_top_genes if gene in df_pert_all_ct['gene'].values]\n",
    "    df_sum_pert_per_group[celltype] = np.sum(df_pert_all_ct['mean_perturbation_effect'])\n",
    "    df_dict[celltype] = df_pert_all_ct.loc[available_genes][['celltype','mean_perturbation_effect']]"
   ]
  },
  {
   "cell_type": "code",
   "execution_count": null,
   "id": "4dd3106f",
   "metadata": {},
   "outputs": [],
   "source": [
    "merged_df = pd.concat([pd.DataFrame(df_dict[celltype]['mean_perturbation_effect']).rename_axis('genes') for celltype in celltypes], \n",
    "                      axis=1, \n",
    "                      keys=celltypes,\n",
    "                      sort=False).reset_index()"
   ]
  },
  {
   "cell_type": "code",
   "execution_count": null,
   "id": "b3bfd6fa",
   "metadata": {},
   "outputs": [],
   "source": [
    "df= pd.concat([pd.DataFrame(df_dict[celltype]['mean_perturbation_effect']).rename_axis('genes') for celltype in celltypes],axis=1)\n",
    "df = df.fillna(0)\n",
    "df.columns = celltypes\n",
    "for celltype in celltypes:\n",
    "    df[celltype] = (df[celltype]/df_sum_pert_per_group[celltype])*100\n",
    "\n",
    "df_long = df.reset_index().melt(id_vars='genes', var_name='celltype', value_name='value')"
   ]
  },
  {
   "cell_type": "code",
   "execution_count": null,
   "id": "a114fe60",
   "metadata": {},
   "outputs": [],
   "source": [
    "df_pivot = df_long.pivot('genes', 'celltype', 'value')\n",
    "df_pivot = df_pivot[celltypes]\n",
    "df_pivot = df_pivot.reindex(unique_top_genes)\n",
    "#df_pivot.to_csv(os.path.join(save_loc_tables_rev06_visualization,species +  '_df_pivot_heatmap.csv'))\n",
    "df_pivot.to_csv(os.path.join(base_table_path,pre + '_df_pivot.csv'))\n",
    "plt.figure(figsize=(6, 15))\n",
    "#sns.scatterplot(data=df_long, x='condition', y='genes', size='value', hue='value', legend=True, sizes=(30, 200))\n",
    "sns.heatmap(df_pivot, annot=False, cmap='PuBuGn',linecolor='grey',\n",
    "            linewidths=0.01)\n",
    "plt.title('Effect of perturbing gene')\n",
    "plt.xticks(rotation=90)\n",
    "plt.savefig(os.path.join(base_plots_path,pre +'_heatmap_top_genes_VAE.pdf'),bbox_inches='tight')\n",
    "plt.show()"
   ]
  },
  {
   "cell_type": "code",
   "execution_count": null,
   "id": "45b1a902",
   "metadata": {},
   "outputs": [],
   "source": [
    "base_package_version_path = h.return_package_version_local_path(drive=drive)\n",
    "h.save_package_versions(base_package_version_path,pre,do_print = True)"
   ]
  }
 ],
 "metadata": {
  "kernelspec": {
   "display_name": "Python 3 (ipykernel)",
   "language": "python",
   "name": "python3"
  },
  "language_info": {
   "codemirror_mode": {
    "name": "ipython",
    "version": 3
   },
   "file_extension": ".py",
   "mimetype": "text/x-python",
   "name": "python",
   "nbconvert_exporter": "python",
   "pygments_lexer": "ipython3",
   "version": "3.8.17"
  }
 },
 "nbformat": 4,
 "nbformat_minor": 5
}
