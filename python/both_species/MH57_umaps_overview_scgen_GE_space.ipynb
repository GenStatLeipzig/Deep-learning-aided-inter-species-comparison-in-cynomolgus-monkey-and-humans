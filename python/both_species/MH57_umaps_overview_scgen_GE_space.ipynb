{
 "cells": [
  {
   "cell_type": "code",
   "execution_count": null,
   "id": "60737ec7",
   "metadata": {},
   "outputs": [],
   "source": [
    "import numpy as np\n",
    "import scanpy as sc\n",
    "import seaborn as sns\n",
    "import os\n",
    "import pandas as pd\n",
    "import matplotlib.pyplot as plt\n",
    "import warnings\n",
    "import sys\n",
    "path_helper = [\"C:\\\\\",\"Users\",\"vfriedrich\",\"projects\",\"monkey_IZI\",\"git_documentation\",\"scRNAseq_cross_species_primate_human\",\"analysis\",\"helper\"]\n",
    "sys.path.append(os.path.join(*path_helper))\n",
    "import helperVDF as h\n",
    "#import decoupler\n",
    "print(sys.executable)\n",
    "import torchmetrics\n",
    "#import scgen\n",
    "import numpy as np\n",
    "import scanpy as sc\n",
    "import seaborn as sns\n",
    "import os\n",
    "import pandas as pd\n",
    "import matplotlib.pyplot as plt\n",
    "import scipy.sparse as sp\n",
    "from scipy.spatial.distance import cdist\n",
    "import warnings\n",
    "\n",
    "\n",
    "import sys\n",
    "print(sys.executable)\n",
    "import scgen"
   ]
  },
  {
   "cell_type": "code",
   "execution_count": null,
   "id": "f2816e47",
   "metadata": {},
   "outputs": [],
   "source": [
    "pre = \"MH57\"\n",
    "drive = 'F'\n",
    "base_model_path,base_table_path,base_plots_path,base_anndata_objects = h.return_local_paths(drive = drive,\n",
    "                                                                              pre = pre,\n",
    "                                                                              add_path = True)"
   ]
  },
  {
   "cell_type": "markdown",
   "id": "7244c89e",
   "metadata": {},
   "source": [
    "### scgen"
   ]
  },
  {
   "cell_type": "code",
   "execution_count": null,
   "id": "94f0b4de",
   "metadata": {},
   "outputs": [],
   "source": [
    "model_path = os.path.join(*[\"F:\\\\\",\"monkey_IZI\",\"analysis\",\"cluster_runs\",\"workspace-runVAE\",\n",
    "                            \"output\",\"MH49_c\",\"models\"])\n",
    "model_dir_names = os.listdir(model_path)\n",
    "\n",
    "warnings.filterwarnings(\"ignore\")\n",
    "model_dict = {}\n",
    "for model_dir_name in model_dir_names:\n",
    "    load_string = os.path.join(model_path,model_dir_name,'MH49_c_scgen_model_' + str(model_dir_name)+'.pt')\n",
    "    model = scgen.SCGEN.load(load_string)\n",
    "    #df_ct = model.history['train_loss_epoch'].join(model.history['validation_loss'])\n",
    "    model_dict[model_dir_name] = model"
   ]
  },
  {
   "cell_type": "code",
   "execution_count": null,
   "id": "4433ecc3",
   "metadata": {},
   "outputs": [],
   "source": [
    "celltype = model_dir_names[0]\n",
    "color_00hr = \"#d7aca1\"\n",
    "color_06hr = \"#34b6c6\"\n",
    "color_24hr =\"#4063a3\"\n",
    "color_human = '#178F92'\n",
    "color_cyno = \"#094568\"\n",
    "\n",
    "color_cyno1 = \"#134130\"\n",
    "color_cyno2 = \"#8cae9e\"\n",
    "color_human1 = \"#508ca7\"\n",
    "color_human2 = \"#0f252f\"\n",
    "\n",
    "color_human = '#178F92'\n",
    "color_cyno = \"#094568\"\n",
    "\n",
    "palette_species = [color_human,color_cyno]\n",
    "palette_timepoints = [color_00hr,color_06hr,color_24hr]\n",
    "palette_individual = [color_cyno1,color_cyno2,color_human1,color_human2]"
   ]
  },
  {
   "cell_type": "code",
   "execution_count": null,
   "id": "92a5eeb3",
   "metadata": {},
   "outputs": [],
   "source": [
    "main_folder_path = os.path.join(base_plots_path,\"MH49_c\")\n",
    "subfolders = ['timepoint','species','clusters','individual']\n",
    "if not os.path.exists(main_folder_path):\n",
    "    os.mkdir(main_folder_path)\n",
    "\n",
    "\n",
    "for subfolder in subfolders:\n",
    "    subfolder_path = os.path.join(main_folder_path, subfolder)\n",
    "    if not os.path.exists(subfolder_path):\n",
    "        os.mkdir(subfolder_path)"
   ]
  },
  {
   "cell_type": "code",
   "execution_count": null,
   "id": "2f2cba57",
   "metadata": {},
   "outputs": [],
   "source": [
    "for celltype in model_dir_names:\n",
    "    adata = model_dict[celltype].adata\n",
    "    adata.obs.rename(columns={'species_x': 'species'}, inplace=True)\n",
    "    adata.obs['scvi_clusters']=adata.obs['scvi_clusters'].astype('category')\n",
    "    h.prepare_umap(adata)\n",
    "\n",
    "    h.umap_plot_palette(adata=adata,\n",
    "              color = 'timepoint',\n",
    "              base_plots_path=os.path.join(main_folder_path,'timepoint'),\n",
    "              plot_name = pre + '_umap_GE_MH49_' + celltype + '.pdf',\n",
    "              show_in_nb = True, frameon=False,palette=palette_timepoints)   \n",
    "    h.umap_plot_palette(adata=adata,\n",
    "          color = 'species',\n",
    "          base_plots_path=os.path.join(main_folder_path,'species'),\n",
    "          plot_name = pre + '_umap_GE_MH49_species_' + celltype + '.pdf',\n",
    "          show_in_nb = True, frameon=False,palette=palette_species)\n",
    "    \n",
    "    h.umap_plot_palette(adata=adata,\n",
    "          color = 'scvi_clusters',\n",
    "          base_plots_path=os.path.join(main_folder_path,'clusters'),\n",
    "          plot_name = pre + '_umap_GE_MH49_clusters_' + celltype + '.pdf',\n",
    "          show_in_nb = True, frameon=False,palette=None)\n",
    "    \n",
    "    h.umap_plot_palette(adata=adata,\n",
    "          color = 'individual',\n",
    "          base_plots_path=os.path.join(main_folder_path,'individual'),\n",
    "          plot_name = pre + '_umap_GE_MH49_individual_' + celltype + '.pdf',\n",
    "          show_in_nb = True, frameon=False,palette=palette_individual)"
   ]
  },
  {
   "cell_type": "markdown",
   "id": "82d26242",
   "metadata": {},
   "source": [
    "### MH50_c"
   ]
  },
  {
   "cell_type": "code",
   "execution_count": null,
   "id": "68cdf767",
   "metadata": {},
   "outputs": [],
   "source": [
    "model_path = os.path.join(*[\"F:\\\\\",\"monkey_IZI\",\"analysis\",\"cluster_runs\",\"workspace-runVAE\",\n",
    "                            \"output\",\"MH50_c\",\"models\"])\n",
    "model_dir_names = os.listdir(model_path)\n",
    "\n",
    "warnings.filterwarnings(\"ignore\")\n",
    "model_dict = {}\n",
    "for model_dir_name in model_dir_names:\n",
    "    load_string = os.path.join(model_path,model_dir_name,'MH50_c_scgen_model_' + str(model_dir_name)+'.pt')\n",
    "    model = scgen.SCGEN.load(load_string)\n",
    "    #df_ct = model.history['train_loss_epoch'].join(model.history['validation_loss'])\n",
    "    model_dict[model_dir_name] = model"
   ]
  },
  {
   "cell_type": "code",
   "execution_count": null,
   "id": "dc34b9d4",
   "metadata": {},
   "outputs": [],
   "source": [
    "main_folder_path = os.path.join(base_plots_path,\"MH50_c\")\n",
    "subfolders = ['timepoint','species','clusters','individual']\n",
    "if not os.path.exists(main_folder_path):\n",
    "    os.mkdir(main_folder_path)\n",
    "\n",
    "\n",
    "for subfolder in subfolders:\n",
    "    subfolder_path = os.path.join(main_folder_path, subfolder)\n",
    "    if not os.path.exists(subfolder_path):\n",
    "        os.mkdir(subfolder_path)\n"
   ]
  },
  {
   "cell_type": "code",
   "execution_count": null,
   "id": "22f9fb90",
   "metadata": {},
   "outputs": [],
   "source": [
    "for celltype in model_dir_names:\n",
    "    adata = model_dict[celltype].adata\n",
    "    adata.obs.rename(columns={'species_x': 'species'}, inplace=True)\n",
    "    adata.obs['scvi_clusters']=adata.obs['scvi_clusters'].astype('category')\n",
    "    h.prepare_umap(adata)\n",
    "\n",
    "    h.umap_plot_palette(adata=adata,\n",
    "              color = 'timepoint',\n",
    "              base_plots_path=os.path.join(main_folder_path,'timepoint'),\n",
    "              plot_name = pre + '_umap_GE_MH50_' + celltype + '.pdf',\n",
    "              show_in_nb = True, frameon=False,palette=palette_timepoints)   \n",
    "    \n",
    "    h.umap_plot_palette(adata=adata,\n",
    "          color = 'species',\n",
    "          base_plots_path=os.path.join(main_folder_path,'species'),\n",
    "          plot_name = pre + '_umap_GE_MH50_species_' + celltype + '.pdf',\n",
    "          show_in_nb = True, frameon=False,palette=palette_species)\n",
    "    \n",
    "    h.umap_plot_palette(adata=adata,\n",
    "          color = 'scvi_clusters',\n",
    "          base_plots_path=os.path.join(main_folder_path,'clusters'),\n",
    "          plot_name = pre + '_umap_GE_MH50_clusters_' + celltype + '.pdf',\n",
    "          show_in_nb = True, frameon=False,palette=None)\n",
    "    \n",
    "    h.umap_plot_palette(adata=adata,\n",
    "          color = 'individual',\n",
    "          base_plots_path=os.path.join(main_folder_path,'individual'),\n",
    "          plot_name = pre + '_umap_GE_MH50_individual_' + celltype + '.pdf',\n",
    "          show_in_nb = True, frameon=False,palette= [color_cyno1,color_human1])"
   ]
  },
  {
   "cell_type": "markdown",
   "id": "68cc31f7",
   "metadata": {},
   "source": [
    "### MH51_c"
   ]
  },
  {
   "cell_type": "code",
   "execution_count": null,
   "id": "b3eea62f",
   "metadata": {},
   "outputs": [],
   "source": [
    "model_path = os.path.join(*[\"F:\\\\\",\"monkey_IZI\",\"analysis\",\"cluster_runs\",\"workspace-runVAE\",\n",
    "                            \"output\",\"MH51_c\",\"models\"])\n",
    "model_dir_names = os.listdir(model_path)\n",
    "\n",
    "warnings.filterwarnings(\"ignore\")\n",
    "model_dict = {}\n",
    "for model_dir_name in model_dir_names:\n",
    "    load_string = os.path.join(model_path,model_dir_name,'MH51_c_scgen_model_' + str(model_dir_name)+'.pt')\n",
    "    model = scgen.SCGEN.load(load_string)\n",
    "    #df_ct = model.history['train_loss_epoch'].join(model.history['validation_loss'])\n",
    "    model_dict[model_dir_name] = model"
   ]
  },
  {
   "cell_type": "code",
   "execution_count": null,
   "id": "feed1ef5",
   "metadata": {},
   "outputs": [],
   "source": [
    "main_folder_path = os.path.join(base_plots_path,\"MH51_c\")\n",
    "subfolders = ['timepoint','species','clusters','individual']\n",
    "if not os.path.exists(main_folder_path):\n",
    "    os.mkdir(main_folder_path)\n",
    "\n",
    "\n",
    "for subfolder in subfolders:\n",
    "    subfolder_path = os.path.join(main_folder_path, subfolder)\n",
    "    if not os.path.exists(subfolder_path):\n",
    "        os.mkdir(subfolder_path)"
   ]
  },
  {
   "cell_type": "code",
   "execution_count": null,
   "id": "4da352b4",
   "metadata": {},
   "outputs": [],
   "source": [
    "for celltype in model_dir_names:\n",
    "    adata = model_dict[celltype].adata\n",
    "    adata.obs.rename(columns={'species_x': 'species'}, inplace=True)\n",
    "    adata.obs['scvi_clusters']=adata.obs['scvi_clusters'].astype('category')\n",
    "    h.prepare_umap(adata)\n",
    "\n",
    "    h.umap_plot_palette(adata=adata,\n",
    "              color = 'timepoint',\n",
    "              base_plots_path=os.path.join(main_folder_path,'timepoint'),\n",
    "              plot_name = pre + '_umap_GE_MH51_' + celltype + '.pdf',\n",
    "              show_in_nb = True, frameon=False,palette=palette_timepoints)   \n",
    "    h.umap_plot_palette(adata=adata,\n",
    "          color = 'species',\n",
    "          base_plots_path=os.path.join(main_folder_path,'species'),\n",
    "          plot_name = pre + '_umap_GE_MH51_species_' + celltype + '.pdf',\n",
    "          show_in_nb = True, frameon=False,palette=palette_species)\n",
    "    \n",
    "    h.umap_plot_palette(adata=adata,\n",
    "          color = 'scvi_clusters',\n",
    "          base_plots_path=os.path.join(main_folder_path,'clusters'),\n",
    "          plot_name = pre + '_umap_GE_MH51_clusters_' + celltype + '.pdf',\n",
    "          show_in_nb = True, frameon=False,palette=None)\n",
    "    \n",
    "    h.umap_plot_palette(adata=adata,\n",
    "          color = 'individual',\n",
    "          base_plots_path=os.path.join(main_folder_path,'individual'),\n",
    "          plot_name = pre + '_umap_GE_MH51_individual_' + celltype + '.pdf',\n",
    "          show_in_nb = True, frameon=False,palette=palette_individual)"
   ]
  },
  {
   "cell_type": "markdown",
   "id": "fd00fde9",
   "metadata": {},
   "source": [
    "#### MH49_c"
   ]
  },
  {
   "cell_type": "code",
   "execution_count": null,
   "id": "9b4f8e3d",
   "metadata": {},
   "outputs": [],
   "source": [
    "model_path = os.path.join(*[\"F:\\\\\",\"monkey_IZI\",\"analysis\",\"cluster_runs\",\"workspace-runVAE\",\n",
    "                            \"output\",\"MH49_c\",\"models\"])\n",
    "model_dir_names = os.listdir(model_path)\n",
    "\n",
    "warnings.filterwarnings(\"ignore\")\n",
    "model_dict = {}\n",
    "for model_dir_name in model_dir_names:\n",
    "    load_string = os.path.join(model_path,model_dir_name,'MH49_c_scgen_model_' + str(model_dir_name)+'.pt')\n",
    "    model = scgen.SCGEN.load(load_string)\n",
    "    #df_ct = model.history['train_loss_epoch'].join(model.history['validation_loss'])\n",
    "    model_dict[model_dir_name] = model"
   ]
  },
  {
   "cell_type": "code",
   "execution_count": null,
   "id": "f6b1635d",
   "metadata": {},
   "outputs": [],
   "source": [
    "base_package_version_path = h.return_package_version_local_path(drive=drive)\n",
    "h.save_package_versions(base_package_version_path,pre,do_print = True)\n",
    "h.print_main_versions()"
   ]
  }
 ],
 "metadata": {
  "kernelspec": {
   "display_name": "Python 3 (ipykernel)",
   "language": "python",
   "name": "python3"
  },
  "language_info": {
   "codemirror_mode": {
    "name": "ipython",
    "version": 3
   },
   "file_extension": ".py",
   "mimetype": "text/x-python",
   "name": "python",
   "nbconvert_exporter": "python",
   "pygments_lexer": "ipython3",
   "version": "3.8.17"
  }
 },
 "nbformat": 4,
 "nbformat_minor": 5
}
