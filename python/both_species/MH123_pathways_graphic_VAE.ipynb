{
 "cells": [
  {
   "cell_type": "code",
   "execution_count": null,
   "id": "8d951095-5903-40ff-9304-4c10d8362a5a",
   "metadata": {},
   "outputs": [],
   "source": [
    "import numpy as np\n",
    "import scanpy as sc\n",
    "import seaborn as sns\n",
    "import os\n",
    "import pandas as pd\n",
    "import matplotlib.pyplot as plt\n",
    "import warnings\n",
    "import sys\n",
    "import pickle as pkl\n",
    "path_helper = [\"C:\\\\\",\"Users\",\"vfriedrich\",\"projects\",\"monkey_IZI\",\"git_documentation\",\"scRNAseq_cross_species_primate_human\",\"analysis\",\"helper\"]\n",
    "sys.path.append(os.path.join(*path_helper))\n",
    "import helperVDF as h\n",
    "#import decoupler\n",
    "print(sys.executable)\n",
    "import gseapy\n",
    "from gseapy.plot import barplot, dotplot\n",
    "warnings.filterwarnings(\"ignore\")\n",
    "import re\n",
    "from matplotlib.colors import Normalize"
   ]
  },
  {
   "cell_type": "code",
   "execution_count": null,
   "id": "b8e4079c-b450-4992-8b9e-898dd585bfc9",
   "metadata": {},
   "outputs": [],
   "source": [
    "pre = \"MH123\"\n",
    "drive = 'F'\n",
    "base_model_path,base_table_path,base_plots_path,base_anndata_objects = h.return_local_paths(drive = drive,\n",
    "                                                                                            pre = pre,\n",
    "                                                                                            add_path = True)\n",
    "def remove_go(term):\n",
    "    # Use regular expression to find and replace GO terms, ensuring the string is treated as a raw string\n",
    "    new_term = re.sub(r'\\s*\\(GO:\\d+\\)', '', term)  # Corrected regex finds the GO term pattern and removes it\n",
    "    return new_term.strip() \n",
    "\n",
    "col_human =  \"#e35e28\"\n",
    "col_cyno =\"#31c7ba\"\n",
    "_,base_table_path_MH115,_,_ = h.return_local_paths(drive = drive,pre = 'MH115',add_path = True)\n",
    "_,base_table_path_MH122,_,_ = h.return_local_paths(drive = drive,pre = 'MH122',add_path = True)"
   ]
  },
  {
   "cell_type": "code",
   "execution_count": null,
   "id": "bad952e0-30da-42ae-a5b7-05d6207841ff",
   "metadata": {},
   "outputs": [],
   "source": [
    "celltypes_cyno_DGE = ['CD4_T', 'CD14_Mono', 'NKProliferating', 'CD8_T', 'B', 'MAIT', 'dnT']\n",
    "celltypes_human_DGE = ['CD4_T', 'CD14_Mono', 'NKProliferating', 'CD8_T', 'B', 'MAIT']\n",
    "conditions  = ['timepoints06hr','timepoints24hr']"
   ]
  },
  {
   "cell_type": "code",
   "execution_count": null,
   "id": "1a5cf18f-a42d-49f9-8d83-88ac145e4995",
   "metadata": {},
   "outputs": [],
   "source": [
    "unfiltered_pathways_DGE = []\n",
    "for celltype in celltypes_cyno_DGE:\n",
    "    for condition in conditions:\n",
    "        df_all_df = pd.read_csv(os.path.join(base_table_path_MH115,\n",
    "                                             'MH115' + '_df_pathways_' + str(celltype) + '_' + str(condition) + '_' +'cyno' + '.csv'),\n",
    "                                index_col=0)\n",
    "        unfiltered_pathways_DGE.append(df_all_df)\n",
    "\n",
    "for celltype in celltypes_human_DGE:\n",
    "    for condition in conditions:\n",
    "        df_all_df = pd.read_csv(os.path.join(base_table_path_MH115,\n",
    "                                             'MH115' + '_df_pathways_' + str(celltype) + '_' + str(condition) + '_' +'human' + '.csv'),\n",
    "                                index_col=0)\n",
    "        unfiltered_pathways_DGE.append(df_all_df)"
   ]
  },
  {
   "cell_type": "code",
   "execution_count": null,
   "id": "01457bea-7f50-4673-8b85-57a02bdf5db6",
   "metadata": {},
   "outputs": [],
   "source": [
    "df_unfiltered_pathways_DGE = pd.concat(unfiltered_pathways_DGE,ignore_index=True)\n",
    "df_unfiltered_pathways_DGE['Log Odds Ratio'] = np.log(df_unfiltered_pathways_DGE['Odds Ratio'])\n",
    "df_unfiltered_pathways_DGE['celltype'] = df_unfiltered_pathways_DGE['celltype'].replace({\n",
    "    'NKProliferating': 'NK+Proliferating',\n",
    "    'CD14_Mono': 'CD14 Mono',\n",
    "    'CD4_T': 'CD4 T',\n",
    "    'CD8_T': 'CD8 T'\n",
    "})\n",
    "df_unfiltered_pathways_DGE.to_csv(os.path.join(base_table_path,pre + '_df_unfiltered_pathways_DGE.csv'))"
   ]
  },
  {
   "cell_type": "code",
   "execution_count": null,
   "id": "79cb8c8c-b3a4-42de-b5f0-ff93ec43b3d5",
   "metadata": {},
   "outputs": [],
   "source": [
    "#df_all_pathways = pd.read_csv(os.path.join(base_table_path_MH115,'MH115_all_df_pathways_.csv'),index_col=0)"
   ]
  },
  {
   "cell_type": "code",
   "execution_count": null,
   "id": "f3ffc499-37b6-474c-b48f-310f0c158ea4",
   "metadata": {},
   "outputs": [],
   "source": [
    "df_all_pathways_VAE = pd.read_csv(os.path.join(base_table_path_MH122,'MH122_df_all_pathways_VAE.csv'),index_col=0)"
   ]
  },
  {
   "cell_type": "code",
   "execution_count": null,
   "id": "b9f5b0fd-053c-4542-97b0-896f4c0f8f74",
   "metadata": {},
   "outputs": [],
   "source": [
    "df_all_pathways_VAE_ct = df_all_pathways_VAE[df_all_pathways_VAE['celltype'] == celltype]"
   ]
  },
  {
   "cell_type": "code",
   "execution_count": null,
   "id": "7e45bd09-078a-4878-bcd8-8b29301291a8",
   "metadata": {},
   "outputs": [],
   "source": [
    "pathway_comp_VAE_DGE = []\n",
    "for celltype in ['B', 'CD14 Mono', 'CD16 Mono', 'CD4 T', 'CD8 T', 'MAIT','NK+Proliferating']:\n",
    "    df_all_pathways_VAE_ct = df_all_pathways_VAE[df_all_pathways_VAE['celltype'] == celltype]\n",
    "    #df_all_pathways_VAE_ct = df_all_pathways_VAE_ct.drop_duplicates(subset=['Genes'], keep='first')\n",
    "    df_all_pathways_VAE_ct_top5 = df_all_pathways_VAE_ct.head(5)\n",
    "    df_all_pathways_VAE_ct_top5 = df_all_pathways_VAE_ct_top5.rename(columns={\n",
    "        'Genes': 'Genes_VAE',\n",
    "        'Log Odds Ratio': 'Log Odds Ratio_VAE',\n",
    "        'Adjusted P-value': 'Adjusted P-value_VAE',\n",
    "        'short_term': 'short_term_VAE'\n",
    "    })\n",
    "    for species in ['human','cyno']:\n",
    "        for condition in ['timepoints06hr','timepoints24hr']:\n",
    "            # Filter df_all_pathways to only include rows matching specific species and comparison\n",
    "            filtered_df_all_pathways = df_unfiltered_pathways_DGE[\n",
    "                (df_unfiltered_pathways_DGE['species'] == species) &\n",
    "                (df_unfiltered_pathways_DGE['comparison.vs.00hr'] == condition) &\n",
    "                (df_unfiltered_pathways_DGE['celltype'] == celltype)\n",
    "            ]\n",
    "            \n",
    "            df_all_pathways_VAE_ct_top5 = pd.merge(\n",
    "                df_all_pathways_VAE_ct_top5,\n",
    "                filtered_df_all_pathways[['Genes','Term', 'Log Odds Ratio','Adjusted P-value']],  # Include only necessary columns\n",
    "                on='Term',\n",
    "                how='left'\n",
    "            )\n",
    "            \n",
    "            df_all_pathways_VAE_ct_top5 = df_all_pathways_VAE_ct_top5.rename(columns={\n",
    "                'Genes': 'Genes_'+species + '_'+condition[-4:],\n",
    "                'Log Odds Ratio': 'Log Odds Ratio_' + species + '_'+condition[-4:],\n",
    "                'Adjusted P-value': 'Adjusted P-value_' + species + '_'+condition[-4:]\n",
    "            })\n",
    "    pathway_comp_VAE_DGE.append(df_all_pathways_VAE_ct_top5)\n",
    "df_pathway_comp_VAE_DGE=pd.concat(pathway_comp_VAE_DGE,ignore_index=True)"
   ]
  },
  {
   "cell_type": "code",
   "execution_count": null,
   "id": "85e2f3b8-be3b-483b-a57c-8dd6bb92a230",
   "metadata": {},
   "outputs": [],
   "source": [
    "df_pathway_comp_VAE_DGE=pd.concat(pathway_comp_VAE_DGE,ignore_index=True)\n",
    "df_pathway_comp_VAE_DGE.to_csv(os.path.join(base_table_path,pre + '_df_pathway_comp_VAE_DGE.csv'))"
   ]
  },
  {
   "cell_type": "code",
   "execution_count": null,
   "id": "98e0d949-224d-4d4c-90d5-9cc85d62337d",
   "metadata": {},
   "outputs": [],
   "source": [
    "columns_heatmap = ['celltype','short_term_VAE','Log Odds Ratio_cyno_06hr','Log Odds Ratio_human_06hr','Log Odds Ratio_cyno_24hr','Log Odds Ratio_human_24hr']"
   ]
  },
  {
   "cell_type": "code",
   "execution_count": null,
   "id": "205c3232-3ccf-4d16-ba1e-063a493a42ff",
   "metadata": {},
   "outputs": [],
   "source": [
    "heatmap_data_all = df_pathway_comp_VAE_DGE[columns_heatmap]\n",
    "heatmap_data_all.set_index('short_term_VAE',inplace=True)"
   ]
  },
  {
   "cell_type": "code",
   "execution_count": null,
   "id": "90aa9e77-6f6a-445f-86dc-f0a1e53205a9",
   "metadata": {},
   "outputs": [],
   "source": [
    "plt.figure(figsize=(7, 10))\n",
    "norm = Normalize(vmin=0, vmax=5)\n",
    "\n",
    "# Prepare the heatmap without the 'celltype' column\n",
    "heatmap_ax = sns.heatmap(heatmap_data_all.drop('celltype', axis=1), cmap='Reds', annot=False, linewidths=.8, linecolor='black',norm=norm)\n",
    "\n",
    "# Set the tick rotation\n",
    "plt.xticks(rotation=90)\n",
    "plt.yticks(rotation=0)\n",
    "\n",
    "# Set y-tick labels to be bold\n",
    "plt.gca().set_yticklabels(plt.gca().get_yticklabels(), fontweight='bold')\n",
    "\n",
    "# Create a color bar with a title\n",
    "cbar = heatmap_ax.collections[0].colorbar\n",
    "cbar.set_label('log odds ratio',labelpad=10)  \n",
    "plt.savefig(os.path.join(base_plots_path,pre + '_heatmap_pathways.pdf'),bbox_inches='tight')\n",
    "plt.show()"
   ]
  },
  {
   "cell_type": "markdown",
   "id": "30a801f6-a594-4524-941a-a401a3a7670b",
   "metadata": {},
   "source": [
    "save session"
   ]
  },
  {
   "cell_type": "code",
   "execution_count": null,
   "id": "6555b562-ec24-4cc8-8a34-cfa4fafd904f",
   "metadata": {},
   "outputs": [],
   "source": [
    "base_package_version_path = h.return_package_version_local_path(drive=drive)\n",
    "h.save_package_versions(base_package_version_path,pre,do_print = True)\n",
    "h.print_main_versions()"
   ]
  }
 ],
 "metadata": {
  "kernelspec": {
   "display_name": "Python 3 (ipykernel)",
   "language": "python",
   "name": "python3"
  },
  "language_info": {
   "codemirror_mode": {
    "name": "ipython",
    "version": 3
   },
   "file_extension": ".py",
   "mimetype": "text/x-python",
   "name": "python",
   "nbconvert_exporter": "python",
   "pygments_lexer": "ipython3",
   "version": "3.8.19"
  }
 },
 "nbformat": 4,
 "nbformat_minor": 5
}
