{
 "cells": [
  {
   "cell_type": "code",
   "execution_count": null,
   "id": "615f3cdc-2797-405c-932a-ffd9bb747038",
   "metadata": {},
   "outputs": [],
   "source": [
    "from imports_LDVAE_local import * #imports_scgen_local have to be in same folder"
   ]
  },
  {
   "cell_type": "code",
   "execution_count": null,
   "id": "957e05ad-ec23-4b3b-8ac3-26e2f37af216",
   "metadata": {},
   "outputs": [],
   "source": []
  },
  {
   "cell_type": "code",
   "execution_count": null,
   "id": "5c55599a-6799-4373-aec3-37b337b7976b",
   "metadata": {},
   "outputs": [],
   "source": [
    "pre = \"MH79\"\n",
    "drive = 'F'\n",
    "base_model_path,base_table_path,base_plots_path,base_anndata_objects = h.return_local_paths(drive = drive,\n",
    "                                                                              pre = pre,\n",
    "                                                                              add_path = True)"
   ]
  },
  {
   "cell_type": "code",
   "execution_count": null,
   "id": "57f303e9-9b25-4818-a391-d639dbcc166b",
   "metadata": {},
   "outputs": [],
   "source": [
    "base_model_path_MH52,_,_,_ = h.return_local_paths(drive = drive,pre = 'MH52',add_path = False)"
   ]
  },
  {
   "cell_type": "code",
   "execution_count": null,
   "id": "1fc3b94e-4355-4e84-b392-1584c1667fe2",
   "metadata": {},
   "outputs": [],
   "source": [
    "model_dir_names = os.listdir(base_model_path_MH52)"
   ]
  },
  {
   "cell_type": "code",
   "execution_count": null,
   "id": "b2e01df5-0306-4833-9984-ca8d94d675d7",
   "metadata": {},
   "outputs": [],
   "source": [
    "warnings.filterwarnings(\"ignore\")\n",
    "model_dict = {}\n",
    "for model_name in model_dir_names:\n",
    "    load_string = os.path.join(base_model_path_MH52,model_name) \n",
    "    model = scvi.model.LinearSCVI.load(load_string)\n",
    "    model_dict[model_name.split('_')[3].split('.')[0]] = model"
   ]
  },
  {
   "cell_type": "code",
   "execution_count": null,
   "id": "975c993e-369e-47e3-9d3a-e04154d3085b",
   "metadata": {},
   "outputs": [],
   "source": [
    "celltypes = list(model_dict.keys())"
   ]
  },
  {
   "cell_type": "code",
   "execution_count": null,
   "id": "f57f38c9-efb4-460b-96cf-b1898a5657d4",
   "metadata": {},
   "outputs": [],
   "source": [
    "celltype = model_dir_names[0]\n",
    "color_00hr = \"#d7aca1\"\n",
    "color_06hr = \"#34b6c6\"\n",
    "color_24hr =\"#4063a3\"\n",
    "color_human = '#178F92'\n",
    "color_cyno = \"#094568\"\n",
    "\n",
    "color_cyno1 = \"#134130\"\n",
    "color_cyno2 = \"#8cae9e\"\n",
    "color_human1 = \"#508ca7\"\n",
    "color_human2 = \"#0f252f\"\n",
    "\n",
    "color_human = '#178F92'\n",
    "color_cyno = \"#094568\"\n",
    "\n",
    "palette_species = [color_human,color_cyno]\n",
    "palette_timepoints = [color_00hr,color_06hr,color_24hr]\n",
    "palette_individual = [color_cyno1,color_cyno2,color_human1,color_human2]"
   ]
  },
  {
   "cell_type": "code",
   "execution_count": null,
   "id": "ac42b74f-3428-4e7c-be71-8f6a8b53d25b",
   "metadata": {},
   "outputs": [],
   "source": [
    "main_folder_path = os.path.join(base_plots_path,\"MH52\")\n",
    "if not os.path.exists(main_folder_path):\n",
    "    os.mkdir(main_folder_path)"
   ]
  },
  {
   "cell_type": "code",
   "execution_count": null,
   "id": "99d6e80e-ca5c-44c7-8db8-830595a4df68",
   "metadata": {},
   "outputs": [],
   "source": [
    "for celltype in celltypes:\n",
    "    adata = model_dict[celltype].adata\n",
    "    adata.obs.rename(columns={'species_x': 'species'}, inplace=True)\n",
    "    adata.obs['scvi_clusters'] = adata.obs['scvi_clusters'].astype('category')\n",
    "    h.prepare_umap(adata)\n",
    "    \n",
    "    # Define a list of configurations for the subplots\n",
    "    plot_configs = [\n",
    "        {\"color\": \"timepoint\", \"palette\": palette_timepoints, \"title\": \"Timepoint\"},\n",
    "        {\"color\": \"species\", \"palette\": palette_species, \"title\": \"Species\"},\n",
    "        {\"color\": \"scvi_clusters\", \"palette\": None, \"title\": \"Clusters\"},\n",
    "        {\"color\": \"individual\", \"palette\": palette_individual, \"title\": \"Individual\"}\n",
    "    ]\n",
    "    \n",
    "    # Create a figure with subplots\n",
    "    fig, axes = plt.subplots(1, len(plot_configs), figsize=(20, 5), constrained_layout=True)\n",
    "    fig.suptitle(f\"UMAP {celltype}\", fontsize=16)\n",
    "\n",
    "    # Generate plots for each configuration\n",
    "    for ax, config in zip(axes, plot_configs):\n",
    "        h.umap_plot_palette_with_ax(\n",
    "            adata=adata,\n",
    "            color=config[\"color\"],\n",
    "            base_plots_path=None,  # Skip saving individual plots\n",
    "            plot_name=None,        # Skip saving individual plots\n",
    "            show_in_nb=False,\n",
    "            frameon=False,\n",
    "            palette=config[\"palette\"],\n",
    "            ax=ax  # Pass the subplot axis\n",
    "        )\n",
    "        ax.set_title(config[\"title\"])\n",
    "    \n",
    "    # Show the combined plot in the notebook\n",
    "    plt.savefig(os.path.join(main_folder_path,pre + 'UMAPs_GE_space_' + str(celltype) + '.pdf'),\n",
    "                dpi=300,\n",
    "                bbox_inches = 'tight')\n",
    "    plt.show()"
   ]
  },
  {
   "cell_type": "code",
   "execution_count": null,
   "id": "74756c56-91f1-4df9-9528-2be40570ed85",
   "metadata": {},
   "outputs": [],
   "source": [
    "# Define the number of cell types and configurations\n",
    "num_celltypes = len(model_dir_names)  # 8 in this case\n",
    "num_configs = 4  # timepoint, species, clusters, individual\n",
    "\n",
    "\n",
    "fig, axes = plt.subplots(num_celltypes, num_configs, figsize=(20, 3 * num_celltypes), constrained_layout=True)\n",
    "#fig.suptitle(\"UMAPs for All Cell Types\", fontsize=20)\n",
    "\n",
    "# Iterate through cell types and their corresponding rows\n",
    "for row_idx, celltype in enumerate(celltypes):\n",
    "    adata = model_dict[celltype].adata\n",
    "    adata.obs.rename(columns={'species_x': 'species'}, inplace=True)\n",
    "    adata.obs['scvi_clusters'] = adata.obs['scvi_clusters'].astype('category')\n",
    "    h.prepare_umap(adata)\n",
    "    \n",
    "    # Define configurations for each column\n",
    "    plot_configs = [\n",
    "        {\"color\": \"timepoint\", \"palette\": palette_timepoints, \"title\": \"timepoint\"},\n",
    "        {\"color\": \"species\", \"palette\": palette_species, \"title\": \"species\"},\n",
    "        {\"color\": \"scvi_clusters\", \"palette\": None, \"title\": \"clusters\"},\n",
    "        {\"color\": \"individual\", \"palette\": palette_individual, \"title\": \"individual\"}\n",
    "    ]\n",
    "    \n",
    "    # Generate plots for the current cell type\n",
    "    for col_idx, config in enumerate(plot_configs):\n",
    "        ax = axes[row_idx, col_idx]  # Select subplot\n",
    "        h.umap_plot_palette_with_ax(\n",
    "            adata=adata,\n",
    "            color=config[\"color\"],\n",
    "            base_plots_path=None,  # Skip saving individual plots\n",
    "            plot_name=None,        # Skip saving individual plots\n",
    "            show_in_nb=False,\n",
    "            frameon=False,\n",
    "            palette=config[\"palette\"],\n",
    "            ax=ax  # Pass the subplot axis\n",
    "        )\n",
    "        # Set titles for the first row and row labels\n",
    "        if row_idx == 0:\n",
    "            ax.set_title(config[\"title\"], fontsize=14)\n",
    "        if col_idx == 0:\n",
    "            ax.set_ylabel(celltype, fontsize=12, rotation=90, labelpad=1)\n",
    "plt.tight_layout()\n",
    "# Save the entire figure as a PDF\n",
    "plt.savefig(os.path.join(main_folder_path, pre + 'UMAPs_GE_space_all_celltypes.pdf'),\n",
    "            dpi=300,\n",
    "            bbox_inches='tight')\n",
    "plt.show()"
   ]
  },
  {
   "cell_type": "markdown",
   "id": "9621ac03-cd3a-4f92-b162-562ad846d063",
   "metadata": {},
   "source": [
    "## Latent space"
   ]
  },
  {
   "cell_type": "code",
   "execution_count": null,
   "id": "c2369bd6-c1ee-4b2c-91f8-824bb4312cd2",
   "metadata": {},
   "outputs": [],
   "source": [
    "# Define the number of cell types and configurations\n",
    "num_celltypes = len(model_dir_names)  # Number of rows\n",
    "num_configs = 4  # timepoint, species, clusters, individual\n",
    "\n",
    "# Create the figure\n",
    "fig, axes = plt.subplots(num_celltypes, num_configs, figsize=(20, 2.5 * num_celltypes), constrained_layout=True)\n",
    "#fig.suptitle(\"Latent UMAPs for All Cell Types\", fontsize=20)\n",
    "\n",
    "# Iterate through cell types and plot configurations\n",
    "for row_idx, celltype in enumerate(celltypes):\n",
    "    adata = model_dict[celltype].adata\n",
    "    adata.obs.rename(columns={'species_x': 'species'}, inplace=True)\n",
    "    adata.obs['scvi_clusters'] = adata.obs['scvi_clusters'].astype('category')\n",
    "\n",
    "    # Get latent representation and prepare UMAP\n",
    "    model = model_dict[celltype]\n",
    "    latent_adata = h.latent_embedding_LDVAE(network=model,adata=model.adata)\n",
    "    h.prepare_umap(latent_adata)\n",
    "\n",
    "    # Define configurations for each column\n",
    "    plot_configs = [\n",
    "        {\"color\": \"timepoint\", \"palette\": palette_timepoints, \"title\": \"timepoint\"},\n",
    "        {\"color\": \"species\", \"palette\": palette_species, \"title\": \"species\"},\n",
    "        {\"color\": \"scvi_clusters\", \"palette\": None, \"title\": \"clusters\"},\n",
    "        {\"color\": \"individual\", \"palette\": palette_individual, \"title\": \"individual\"}\n",
    "    ]\n",
    "\n",
    "    # Generate subplots for this cell type\n",
    "    for col_idx, config in enumerate(plot_configs):\n",
    "        ax = axes[row_idx, col_idx]  # Select the subplot\n",
    "        h.umap_plot_palette_with_ax(\n",
    "            adata=latent_adata,\n",
    "            color=config[\"color\"],\n",
    "            base_plots_path=None,  # Skip saving individual plots\n",
    "            plot_name=None,        # Skip saving individual plots\n",
    "            show_in_nb=False,\n",
    "            frameon=False,\n",
    "            palette=config[\"palette\"],\n",
    "            ax=ax\n",
    "        )\n",
    "        # Set the title for the first row and row labels\n",
    "        if row_idx == 0:\n",
    "            ax.set_title(config[\"title\"], fontsize=14)\n",
    "        if col_idx == 0:\n",
    "            ax.set_ylabel(celltype, fontsize=12, rotation=90, labelpad=10)\n",
    "\n",
    "plt.savefig(os.path.join(main_folder_path, pre + 'UMAPs_latent_space_all_celltypes.pdf'),\n",
    "            dpi=300,\n",
    "            bbox_inches='tight')\n",
    "plt.show()"
   ]
  },
  {
   "cell_type": "code",
   "execution_count": null,
   "id": "91deb368-7876-4627-8623-7822184e0e4b",
   "metadata": {},
   "outputs": [],
   "source": [
    "base_package_version_path = h.return_package_version_local_path(drive=drive)\n",
    "h.save_package_versions(base_package_version_path,pre,do_print = True)\n",
    "h.print_main_versions()"
   ]
  }
 ],
 "metadata": {
  "kernelspec": {
   "display_name": "Python 3 (ipykernel)",
   "language": "python",
   "name": "python3"
  },
  "language_info": {
   "codemirror_mode": {
    "name": "ipython",
    "version": 3
   },
   "file_extension": ".py",
   "mimetype": "text/x-python",
   "name": "python",
   "nbconvert_exporter": "python",
   "pygments_lexer": "ipython3",
   "version": "3.8.19"
  }
 },
 "nbformat": 4,
 "nbformat_minor": 5
}
