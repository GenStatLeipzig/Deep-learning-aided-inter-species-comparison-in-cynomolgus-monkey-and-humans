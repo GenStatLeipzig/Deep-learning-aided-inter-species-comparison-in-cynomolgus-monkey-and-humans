{
 "cells": [
  {
   "cell_type": "code",
   "execution_count": null,
   "id": "300fba73-3fd6-4ef3-85b4-283443ca3c39",
   "metadata": {},
   "outputs": [],
   "source": [
    "import numpy as np\n",
    "import scanpy as sc\n",
    "import seaborn as sns\n",
    "import os\n",
    "import pandas as pd\n",
    "import matplotlib.pyplot as plt\n",
    "import warnings\n",
    "import sys\n",
    "import pickle as pkl\n",
    "path_helper = [\"C:\\\\\",\"Users\",\"vfriedrich\",\"projects\",\"monkey_IZI\",\"git_documentation\",\"scRNAseq_cross_species_primate_human\",\"analysis\",\"helper\"]\n",
    "sys.path.append(os.path.join(*path_helper))\n",
    "import helperVDF as h\n",
    "#import decoupler\n",
    "print(sys.executable)\n",
    "import gseapy\n",
    "from gseapy.plot import barplot, dotplot\n",
    "warnings.filterwarnings(\"ignore\")\n",
    "import re\n",
    "from matplotlib.colors import Normalize"
   ]
  },
  {
   "cell_type": "code",
   "execution_count": null,
   "id": "1c31258a-a15e-4a0e-a41f-f81b83a153ee",
   "metadata": {},
   "outputs": [],
   "source": [
    "pre = \"MH128\"\n",
    "drive = 'F'\n",
    "base_model_path,base_table_path,base_plots_path,base_anndata_objects = h.return_local_paths(drive = drive,\n",
    "                                                                                            pre = pre,\n",
    "                                                                                            add_path = True)\n",
    "def remove_go(term):\n",
    "    # Use regular expression to find and replace GO terms, ensuring the string is treated as a raw string\n",
    "    new_term = re.sub(r'\\s*\\(GO:\\d+\\)', '', term)  # Corrected regex finds the GO term pattern and removes it\n",
    "    return new_term.strip() \n",
    "\n",
    "def intersect_over_union(set1, set2):\n",
    "    intersection = set1.intersection(set2)\n",
    "    union = set1.union(set2)\n",
    "    return len(intersection) / len(union)\n",
    "\n",
    "col_human =  \"#e35e28\"\n",
    "col_cyno =\"#31c7ba\"\n",
    "_,base_table_path_MH115,_,_ = h.return_local_paths(drive = drive,pre = 'MH115',add_path = True)"
   ]
  },
  {
   "cell_type": "code",
   "execution_count": null,
   "id": "05a87ac0-b4d6-4514-a432-386f1deece3f",
   "metadata": {},
   "outputs": [],
   "source": [
    "df_all_pathways = pd.read_csv(os.path.join(base_table_path_MH115,'MH115_all_df_pathways_.csv'),index_col=0)"
   ]
  },
  {
   "cell_type": "code",
   "execution_count": null,
   "id": "f6b86858-1665-4de1-91fd-4cb921cd603f",
   "metadata": {},
   "outputs": [],
   "source": [
    "conditions  = ['timepoints06hr','timepoints24hr']\n",
    "celltypes_cyno = ['CD4_T', 'CD14_Mono', 'NKProliferating', 'CD8_T', 'B', 'MAIT', 'dnT']\n",
    "celltypes_human = ['CD4_T', 'CD14_Mono', 'NKProliferating', 'CD8_T', 'B', 'MAIT']\n",
    "celltypes_both = list(set(celltypes_human)&set(celltypes_cyno))"
   ]
  },
  {
   "cell_type": "code",
   "execution_count": null,
   "id": "17d0c191-886b-419f-9252-bfef3119fb35",
   "metadata": {},
   "outputs": [],
   "source": [
    "foreground_dfs = []\n",
    "for celltype in celltypes_both:\n",
    "    for condition in conditions:\n",
    "        df_filt_cyno = df_all_pathways[(df_all_pathways['species'] == 'cyno')&(df_all_pathways['celltype'] == celltype)&(df_all_pathways['comparison.vs.00hr'] == condition)]\n",
    "        df_filt_human = df_all_pathways[(df_all_pathways['species'] == 'human')&(df_all_pathways['celltype'] == celltype)&(df_all_pathways['comparison.vs.00hr'] == condition)]\n",
    "        list_coenriched_cyno_human = list(set(list(df_filt_human['Term']))&set(list(df_filt_cyno['Term'])))\n",
    "        if len(list_coenriched_cyno_human) > 0:\n",
    "            df_filt_cyno = df_filt_cyno[df_filt_cyno['Term'].isin(list_coenriched_cyno_human)]\n",
    "            df_filt_human = df_filt_human[df_filt_human['Term'].isin(list_coenriched_cyno_human)]\n",
    "            df_filt_cyno.rename(columns={'Genes': 'Genes_cyno', 'Foreground Count': 'Foreground Count_cyno'}, inplace=True)\n",
    "            df_filt_human.rename(columns={'Genes': 'Genes_human', 'Foreground Count': 'Foreground Count_human'}, inplace=True)\n",
    "            \n",
    "            df_foreground_ct = pd.merge(df_filt_cyno[['Term','Genes_cyno','Foreground Count_cyno']],df_filt_human[['Term','Genes_human','Foreground Count_human']],\n",
    "                     on='Term')\n",
    "            df_foreground_ct['Genes_cyno'] = df_foreground_ct['Genes_cyno'].str.split(';')\n",
    "            df_foreground_ct['Genes_human'] = df_foreground_ct['Genes_human'].str.split(';')\n",
    "            \n",
    "            df_foreground_ct['IoU'] = df_foreground_ct.apply(lambda row: intersect_over_union(set(row['Genes_cyno']), set(row['Genes_human'])), axis=1)\n",
    "            \n",
    "            df_foreground_ct['celltype'] = celltype\n",
    "            df_foreground_ct['condition'] = condition[-4:]\n",
    "            foreground_dfs.append(df_foreground_ct)"
   ]
  },
  {
   "cell_type": "code",
   "execution_count": null,
   "id": "cd83c2ae-edf6-43f5-8462-c47ae22a9a3e",
   "metadata": {},
   "outputs": [],
   "source": [
    "foreground_dfs_all = pd.concat(foreground_dfs)"
   ]
  },
  {
   "cell_type": "code",
   "execution_count": null,
   "id": "67b73ad5-3a14-4a8d-af4e-ad404f8459e7",
   "metadata": {},
   "outputs": [],
   "source": [
    "foreground_dfs_all.to_csv(os.path.join(base_table_path,pre + '_foreground_dfs_all.csv'))"
   ]
  },
  {
   "cell_type": "code",
   "execution_count": null,
   "id": "764a5e0b-42ed-44fd-97e5-35e729acb3aa",
   "metadata": {},
   "outputs": [],
   "source": [
    "condition_order = ['06hr', '24hr']\n",
    "celltype_order = ['NKProliferating','B','CD4_T', 'MAIT','CD14_Mono','CD8_T']"
   ]
  },
  {
   "cell_type": "code",
   "execution_count": null,
   "id": "12e5b5bf-934d-49f6-847c-f4375969612a",
   "metadata": {},
   "outputs": [],
   "source": [
    "plt.figure(figsize=(10, 6))\n",
    "ax =sns.boxplot(x='celltype', y='IoU',hue='condition', hue_order=condition_order,data=foreground_dfs_all,boxprops=dict(alpha=.7),palette=\"tab10\",order=celltype_order)  \n",
    "sns.stripplot(x='celltype', y='IoU',hue='condition', data=foreground_dfs_all,hue_order=condition_order, jitter=True, size=3.5, alpha=0.9,dodge=True,order=celltype_order) \n",
    "plt.title('Jaccard Index for foreground gene sets in co-enriched pathways')\n",
    "plt.ylabel('Jaccard Index')\n",
    "plt.grid(False)\n",
    "handles, labels = ax.get_legend_handles_labels()\n",
    "legend = ax.legend(handles[:2], labels[:2], title='Condition', loc='upper left', bbox_to_anchor=(1, 1))  \n",
    "plt.savefig(os.path.join(base_plots_path,pre + '_boxplot_Jaccard_Index_coenriched_pathways.pdf'),bbox_inches = 'tight') \n",
    "plt.show()"
   ]
  },
  {
   "cell_type": "markdown",
   "id": "9fe6fc1c-2a67-4519-bb67-12ebc61c457f",
   "metadata": {},
   "source": [
    "## Comparison with VAE"
   ]
  },
  {
   "cell_type": "code",
   "execution_count": null,
   "id": "c36d59ba-7912-4922-87df-2da712b83376",
   "metadata": {},
   "outputs": [],
   "source": [
    "_,base_table_path_MH123,_,_ = h.return_local_paths(drive = drive,pre = 'MH123',add_path = True)"
   ]
  },
  {
   "cell_type": "code",
   "execution_count": null,
   "id": "24f0a14a-4d46-4856-9642-51e213fe774b",
   "metadata": {},
   "outputs": [],
   "source": [
    "df_pathway_comp_VAE_DGE = pd.read_csv(os.path.join(base_table_path_MH123,'MH123_df_pathway_comp_VAE_DGE.csv'),index_col=0)"
   ]
  },
  {
   "cell_type": "markdown",
   "id": "50f589cd-ec7a-434f-9c64-3edb1343b700",
   "metadata": {},
   "source": [
    "#### cyno 06hr & VAE"
   ]
  },
  {
   "cell_type": "code",
   "execution_count": null,
   "id": "2ea0c4bf-f62b-4d10-8558-adc67c75d1a0",
   "metadata": {},
   "outputs": [],
   "source": [
    "df_VAE_06 = df_pathway_comp_VAE_DGE[df_pathway_comp_VAE_DGE['Genes_cyno_06hr'].notna()][['Term','Genes_VAE','Genes_cyno_06hr']]\n",
    "\n",
    "df_VAE_06['IoU'] = df_VAE_06.apply(lambda row: intersect_over_union(set(row['Genes_VAE']), set(row['Genes_cyno_06hr'])), axis=1)\n",
    "\n",
    "np.median(df_VAE_06['IoU'])"
   ]
  },
  {
   "cell_type": "code",
   "execution_count": null,
   "id": "e33cf796-4690-4f3b-9719-4144aa6bdd7f",
   "metadata": {},
   "outputs": [],
   "source": [
    "df_VAE_06"
   ]
  },
  {
   "cell_type": "markdown",
   "id": "0cf767c4-f0d4-49e3-8166-698160112db0",
   "metadata": {},
   "source": [
    "#### cyno 24hr & VAE"
   ]
  },
  {
   "cell_type": "code",
   "execution_count": null,
   "id": "1d1b77c4-6ad9-4bf8-8945-544498effca4",
   "metadata": {},
   "outputs": [],
   "source": [
    "df_VAE_24 = df_pathway_comp_VAE_DGE[df_pathway_comp_VAE_DGE['Genes_cyno_24hr'].notna()][['Term','Genes_VAE','Genes_cyno_24hr']]\n",
    "\n",
    "df_VAE_24['IoU'] = df_VAE_24.apply(lambda row: intersect_over_union(set(row['Genes_VAE']), set(row['Genes_cyno_24hr'])), axis=1)\n",
    "\n",
    "np.median(df_VAE_24['IoU'])"
   ]
  },
  {
   "cell_type": "code",
   "execution_count": null,
   "id": "536da5b3-efc1-4b39-9b48-8f72f54b2346",
   "metadata": {},
   "outputs": [],
   "source": [
    "df_VAE_24"
   ]
  },
  {
   "cell_type": "markdown",
   "id": "a0bb3239-7256-4c16-b1b8-546814a7adea",
   "metadata": {},
   "source": [
    "#### human 06hr & VAE"
   ]
  },
  {
   "cell_type": "code",
   "execution_count": null,
   "id": "8a7d7bdc-d35e-44c3-a603-70a6c5f05f44",
   "metadata": {},
   "outputs": [],
   "source": [
    "df_VAE_06_human = df_pathway_comp_VAE_DGE[df_pathway_comp_VAE_DGE['Genes_human_06hr'].notna()][['Term','Genes_VAE','Genes_human_06hr']]\n",
    "\n",
    "df_VAE_06_human['IoU'] = df_VAE_06_human.apply(lambda row: intersect_over_union(set(row['Genes_VAE']), set(row['Genes_human_06hr'])), axis=1)\n",
    "\n",
    "np.median(df_VAE_06_human['IoU'])"
   ]
  },
  {
   "cell_type": "code",
   "execution_count": null,
   "id": "8b2de15a-bb76-4543-9a40-f9c92ef680d5",
   "metadata": {},
   "outputs": [],
   "source": [
    "df_VAE_06_human"
   ]
  },
  {
   "cell_type": "markdown",
   "id": "9d537982-a9e3-45a9-a2b6-913f732a1e92",
   "metadata": {},
   "source": [
    "#### human 24hr & VAE"
   ]
  },
  {
   "cell_type": "code",
   "execution_count": null,
   "id": "e1ca13ef-e9ce-47aa-a77c-1c3b03c5e2a1",
   "metadata": {},
   "outputs": [],
   "source": [
    "df_VAE_24_human = df_pathway_comp_VAE_DGE[df_pathway_comp_VAE_DGE['Genes_human_24hr'].notna()][['Term','Genes_VAE','Genes_human_24hr']]\n",
    "\n",
    "df_VAE_24_human['IoU'] = df_VAE_24_human.apply(lambda row: intersect_over_union(set(row['Genes_VAE']), set(row['Genes_human_24hr'])), axis=1)\n",
    "\n",
    "np.median(df_VAE_24_human['IoU'])"
   ]
  },
  {
   "cell_type": "code",
   "execution_count": null,
   "id": "618a3d89-f5c7-47c6-a7e3-26f67e1e5714",
   "metadata": {},
   "outputs": [],
   "source": [
    "df_VAE_24_human"
   ]
  },
  {
   "cell_type": "markdown",
   "id": "3c924440-be52-4d3f-a68d-6dcf9f9fa7af",
   "metadata": {},
   "source": [
    "save session "
   ]
  },
  {
   "cell_type": "code",
   "execution_count": null,
   "id": "35a2167b-b99a-43a1-82c6-3342578cc56b",
   "metadata": {},
   "outputs": [],
   "source": [
    "base_package_version_path = h.return_package_version_local_path(drive=drive)\n",
    "h.save_package_versions(base_package_version_path,pre,do_print = True)\n",
    "h.print_main_versions()"
   ]
  }
 ],
 "metadata": {
  "kernelspec": {
   "display_name": "Python 3 (ipykernel)",
   "language": "python",
   "name": "python3"
  },
  "language_info": {
   "codemirror_mode": {
    "name": "ipython",
    "version": 3
   },
   "file_extension": ".py",
   "mimetype": "text/x-python",
   "name": "python",
   "nbconvert_exporter": "python",
   "pygments_lexer": "ipython3",
   "version": "3.8.19"
  }
 },
 "nbformat": 4,
 "nbformat_minor": 5
}
