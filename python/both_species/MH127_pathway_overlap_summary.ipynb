{
 "cells": [
  {
   "cell_type": "code",
   "execution_count": null,
   "id": "300fba73-3fd6-4ef3-85b4-283443ca3c39",
   "metadata": {},
   "outputs": [],
   "source": [
    "import numpy as np\n",
    "import scanpy as sc\n",
    "import seaborn as sns\n",
    "import os\n",
    "import pandas as pd\n",
    "import matplotlib.pyplot as plt\n",
    "import warnings\n",
    "import sys\n",
    "import pickle as pkl\n",
    "path_helper = [\"C:\\\\\",\"Users\",\"vfriedrich\",\"projects\",\"monkey_IZI\",\"git_documentation\",\"scRNAseq_cross_species_primate_human\",\"analysis\",\"helper\"]\n",
    "sys.path.append(os.path.join(*path_helper))\n",
    "import helperVDF as h\n",
    "#import decoupler\n",
    "print(sys.executable)\n",
    "import gseapy\n",
    "from gseapy.plot import barplot, dotplot\n",
    "warnings.filterwarnings(\"ignore\")\n",
    "import re\n",
    "from matplotlib.colors import Normalize"
   ]
  },
  {
   "cell_type": "code",
   "execution_count": null,
   "id": "1c31258a-a15e-4a0e-a41f-f81b83a153ee",
   "metadata": {},
   "outputs": [],
   "source": [
    "pre = \"MH127\"\n",
    "drive = 'F'\n",
    "base_model_path,base_table_path,base_plots_path,base_anndata_objects = h.return_local_paths(drive = drive,\n",
    "                                                                                            pre = pre,\n",
    "                                                                                            add_path = True)\n",
    "def remove_go(term):\n",
    "    # Use regular expression to find and replace GO terms, ensuring the string is treated as a raw string\n",
    "    new_term = re.sub(r'\\s*\\(GO:\\d+\\)', '', term)  # Corrected regex finds the GO term pattern and removes it\n",
    "    return new_term.strip() \n",
    "\n",
    "def intersect_over_union(set1, set2):\n",
    "    intersection = set1.intersection(set2)\n",
    "    union = set1.union(set2)\n",
    "    return len(intersection) / len(union)\n",
    "\n",
    "col_human =  \"#e35e28\"\n",
    "col_cyno =\"#31c7ba\"\n",
    "_,base_table_path_MH115,_,_ = h.return_local_paths(drive = drive,pre = 'MH115',add_path = True)"
   ]
  },
  {
   "cell_type": "code",
   "execution_count": null,
   "id": "05a87ac0-b4d6-4514-a432-386f1deece3f",
   "metadata": {},
   "outputs": [],
   "source": [
    "df_all_pathways = pd.read_csv(os.path.join(base_table_path_MH115,'MH115_all_df_pathways_.csv'),index_col=0)"
   ]
  },
  {
   "cell_type": "code",
   "execution_count": null,
   "id": "f6b86858-1665-4de1-91fd-4cb921cd603f",
   "metadata": {},
   "outputs": [],
   "source": [
    "conditions  = ['timepoints06hr','timepoints24hr']\n",
    "celltypes_cyno = ['CD4_T', 'CD14_Mono', 'NKProliferating', 'CD8_T', 'B', 'MAIT', 'dnT']\n",
    "celltypes_human = ['CD4_T', 'CD14_Mono', 'NKProliferating', 'CD8_T', 'B', 'MAIT']\n",
    "celltypes_both = list(set(celltypes_human)&set(celltypes_cyno))"
   ]
  },
  {
   "cell_type": "code",
   "execution_count": null,
   "id": "6f443f5d-9b44-489e-95d1-25c499254d6c",
   "metadata": {},
   "outputs": [],
   "source": [
    "celltype = 'CD8_T'\n",
    "condition = 'timepoints24hr'"
   ]
  },
  {
   "cell_type": "code",
   "execution_count": null,
   "id": "17d0c191-886b-419f-9252-bfef3119fb35",
   "metadata": {},
   "outputs": [],
   "source": [
    "foreground_dfs = []\n",
    "for celltype in celltypes_both:\n",
    "    for condition in conditions:\n",
    "        df_filt_cyno = df_all_pathways[(df_all_pathways['species'] == 'cyno')&(df_all_pathways['celltype'] == celltype)&(df_all_pathways['comparison.vs.00hr'] == condition)]\n",
    "        df_filt_human = df_all_pathways[(df_all_pathways['species'] == 'human')&(df_all_pathways['celltype'] == celltype)&(df_all_pathways['comparison.vs.00hr'] == condition)]\n",
    "        list_coenriched_cyno_human = list(set(list(df_filt_human['Term']))&set(list(df_filt_cyno['Term'])))\n",
    "        if len(list_coenriched_cyno_human) > 0:\n",
    "            df_filt_cyno = df_filt_cyno[df_filt_cyno['Term'].isin(list_coenriched_cyno_human)]\n",
    "            df_filt_human = df_filt_human[df_filt_human['Term'].isin(list_coenriched_cyno_human)]\n",
    "            df_filt_cyno.rename(columns={'Genes': 'Genes_cyno', 'Foreground Count': 'Foreground Count_cyno'}, inplace=True)\n",
    "            df_filt_human.rename(columns={'Genes': 'Genes_human', 'Foreground Count': 'Foreground Count_human'}, inplace=True)\n",
    "            \n",
    "            df_foreground_ct = pd.merge(df_filt_cyno[['Term','Genes_cyno','Foreground Count_cyno']],df_filt_human[['Term','Genes_human','Foreground Count_human']],\n",
    "                     on='Term')\n",
    "            df_foreground_ct['Genes_cyno'] = df_foreground_ct['Genes_cyno'].str.split(';')\n",
    "            df_foreground_ct['Genes_human'] = df_foreground_ct['Genes_human'].str.split(';')\n",
    "            \n",
    "            df_foreground_ct['IoU'] = df_foreground_ct.apply(lambda row: intersect_over_union(set(row['Genes_cyno']), set(row['Genes_human'])), axis=1)\n",
    "            \n",
    "            df_foreground_ct['celltype'] = celltype\n",
    "            df_foreground_ct['condition'] = condition[-4:]\n",
    "            foreground_dfs.append(df_foreground_ct)"
   ]
  },
  {
   "cell_type": "code",
   "execution_count": null,
   "id": "cd83c2ae-edf6-43f5-8462-c47ae22a9a3e",
   "metadata": {},
   "outputs": [],
   "source": [
    "foreground_dfs_all = pd.concat(foreground_dfs)"
   ]
  },
  {
   "cell_type": "code",
   "execution_count": null,
   "id": "0874e867-c5ec-40cd-9fe4-ed5ad61e33f9",
   "metadata": {},
   "outputs": [],
   "source": [
    "np.median(foreground_dfs_all['IoU'])"
   ]
  },
  {
   "cell_type": "code",
   "execution_count": null,
   "id": "b89f2734-9eae-4f92-b51c-586572265d1b",
   "metadata": {},
   "outputs": [],
   "source": [
    "np.mean(foreground_dfs_all['IoU'])"
   ]
  },
  {
   "cell_type": "code",
   "execution_count": null,
   "id": "bcf1767e-de81-4de5-90d1-b11c88cd5bbd",
   "metadata": {},
   "outputs": [],
   "source": [
    "foreground_dfs_all_24hr = foreground_dfs_all[foreground_dfs_all['condition'] == '24hr'] "
   ]
  },
  {
   "cell_type": "code",
   "execution_count": null,
   "id": "98b774ae-07eb-43af-9c72-8e27ccc0c98a",
   "metadata": {},
   "outputs": [],
   "source": [
    "foreground_dfs_all_06hr = foreground_dfs_all[foreground_dfs_all['condition'] == '06hr']"
   ]
  },
  {
   "cell_type": "code",
   "execution_count": null,
   "id": "71e39306-3c8b-4930-9fad-d12679279299",
   "metadata": {},
   "outputs": [],
   "source": [
    "np.median(foreground_dfs_all_24hr['IoU'])"
   ]
  },
  {
   "cell_type": "code",
   "execution_count": null,
   "id": "b9a46525-4e29-4f5b-9ff2-c769736eaf5d",
   "metadata": {},
   "outputs": [],
   "source": [
    "len(foreground_dfs_all_24hr)"
   ]
  },
  {
   "cell_type": "code",
   "execution_count": null,
   "id": "d1f6bc95-cae8-4330-9f11-14b2ff11fc34",
   "metadata": {},
   "outputs": [],
   "source": [
    "np.mean(foreground_dfs_all_24hr['IoU'])"
   ]
  },
  {
   "cell_type": "code",
   "execution_count": null,
   "id": "d66fd249-9d1e-4ccc-86ae-edad81db253f",
   "metadata": {},
   "outputs": [],
   "source": [
    "np.median(foreground_dfs_all_06hr['IoU'])"
   ]
  },
  {
   "cell_type": "code",
   "execution_count": null,
   "id": "3e7e8459-3576-425f-a1c9-28958e86e78f",
   "metadata": {},
   "outputs": [],
   "source": [
    "np.mean(foreground_dfs_all_06hr['IoU'])"
   ]
  },
  {
   "cell_type": "code",
   "execution_count": null,
   "id": "3af70160-3c47-4c58-8b7e-d37043c235e6",
   "metadata": {},
   "outputs": [],
   "source": [
    "len(foreground_dfs_all_06hr)"
   ]
  },
  {
   "cell_type": "markdown",
   "id": "89c52b2e-f3f5-4c20-b523-679ed197bf84",
   "metadata": {},
   "source": [
    "on all pathways"
   ]
  },
  {
   "cell_type": "code",
   "execution_count": null,
   "id": "d93d1c72-9619-447c-8b82-4dfc8e9e945a",
   "metadata": {},
   "outputs": [],
   "source": [
    "sum(foreground_dfs_all['IoU'] == 1)"
   ]
  },
  {
   "cell_type": "code",
   "execution_count": null,
   "id": "f7b4dab2-a3c1-4691-b846-af3dd5c1a86b",
   "metadata": {},
   "outputs": [],
   "source": [
    "sum(foreground_dfs_all['IoU'] == 1)"
   ]
  },
  {
   "cell_type": "code",
   "execution_count": null,
   "id": "47c39211-4237-4b5d-ae83-92c58b9b1c76",
   "metadata": {},
   "outputs": [],
   "source": [
    "foreground_dfs_all[foreground_dfs_all['IoU'] == 1].sort_values(by='Foreground Count_human',ascending=False)"
   ]
  },
  {
   "cell_type": "code",
   "execution_count": null,
   "id": "d903835f-6ec3-4417-82c7-fa55fc649ac9",
   "metadata": {},
   "outputs": [],
   "source": [
    "sum(foreground_dfs_all['IoU'] == 0)"
   ]
  },
  {
   "cell_type": "code",
   "execution_count": null,
   "id": "72c28503-4792-44fc-af17-5298b09830f1",
   "metadata": {},
   "outputs": [],
   "source": [
    "foreground_dfs_all[foreground_dfs_all['IoU'] == 0]"
   ]
  },
  {
   "cell_type": "code",
   "execution_count": null,
   "id": "065474f9-04c4-4e66-9d1b-46d23f294a44",
   "metadata": {},
   "outputs": [],
   "source": [
    "len(foreground_dfs_all)"
   ]
  },
  {
   "cell_type": "markdown",
   "id": "ba43d509-165e-47de-89e1-45300d800f1c",
   "metadata": {},
   "source": [
    "### Shown pathways"
   ]
  },
  {
   "cell_type": "code",
   "execution_count": null,
   "id": "89d51dee-6ebc-4f5a-af45-8a61986e70dd",
   "metadata": {},
   "outputs": [],
   "source": [
    "foreground_dfs_all['short_term'] = foreground_dfs_all['Term'].apply(remove_go)"
   ]
  },
  {
   "cell_type": "code",
   "execution_count": null,
   "id": "0b7b04b1-4422-4caa-9998-7bec9f3a8c90",
   "metadata": {},
   "outputs": [],
   "source": [
    "_,base_table_path_MH120,_,_ = h.return_local_paths(drive = drive,pre = 'MH120',add_path = True)"
   ]
  },
  {
   "cell_type": "code",
   "execution_count": null,
   "id": "450335ff-f5ab-4abf-b4a4-c8428279d52f",
   "metadata": {},
   "outputs": [],
   "source": [
    "pd.read_csv(os.path.join(base_table_path_MH120,'MH120_heatmap_data_all.csv'),index_col=0) "
   ]
  },
  {
   "cell_type": "code",
   "execution_count": null,
   "id": "0af1f73b-868b-4a8f-ae12-12589e3b5a2d",
   "metadata": {},
   "outputs": [],
   "source": [
    "triples = [\n",
    "    ['IkBA Variant Leads to EDA-ID','NKProliferating','06hr'],\n",
    "    ['Interleukin-27-Mediated Signaling Pathway','NKProliferating','24hr'],\n",
    "    ['ISG15-protein Conjugation','B','24hr'],\n",
    "    ['Immune Response To Tuberculosis WP4197','B','06hr'],\n",
    "    ['Immune Response To Tuberculosis WP4197','B','24hr'],\n",
    "    ['Interleukin-27-Mediated Signaling Pathway','B','24hr'],\n",
    "    ['COVID 19 Adverse Outcome Pathway WP4891','CD4_T','24hr'],\n",
    "    ['Tryptophan Catabolic Process','CD4_T','24hr'],\n",
    "    ['Folding of Actin by CCT TriC','MAIT','24hr'],\n",
    "    ['HIF1A And PPARG Regulation Of Glycolysis WP2456','MAIT','24hr'],\n",
    "    ['Interleukin-27-Mediated Signaling Pathway','MAIT','24hr'],\n",
    "    ['COVID 19 Adverse Outcome Pathway WP4891','CD14_Mono','06hr'],\n",
    "    ['IDO Metabolic Pathway WP5414','CD14_Mono','06hr'],\n",
    "    ['IDO Metabolic Pathway WP5414','CD14_Mono','24hr'],\n",
    "    ['RUNX1 and FOXP3 Control the Development of Regulatory T Lymphocytes (Tregs)','CD14_Mono','24hr'],\n",
    "    ['Regulation Of Natural Killer Cell Chemotaxis','CD14_Mono','24hr'],\n",
    "    ['Mitotic DNA Replication','CD8_T','24hr'],\n",
    "    ['Regulation Of Natural Killer Cell Chemotaxis','CD8_T','24hr']\n",
    "]"
   ]
  },
  {
   "cell_type": "code",
   "execution_count": null,
   "id": "3283405a-0998-4e11-bd9c-99ef2cd06d32",
   "metadata": {},
   "outputs": [],
   "source": [
    "len(triples)"
   ]
  },
  {
   "cell_type": "code",
   "execution_count": null,
   "id": "a0205ce8-f9c8-49b2-9692-4c915c6c100d",
   "metadata": {},
   "outputs": [],
   "source": [
    "# foreground_dfs_all"
   ]
  },
  {
   "cell_type": "code",
   "execution_count": null,
   "id": "e9e31ec5-9759-4088-a462-a2767cf84b9e",
   "metadata": {},
   "outputs": [],
   "source": [
    "df_foreground_heatmap_all = []\n",
    "for triple in triples:\n",
    "    df_temp = foreground_dfs_all[(foreground_dfs_all['short_term'] == triple[0])&\n",
    "    (foreground_dfs_all['celltype'] == triple[1])&\n",
    "    (foreground_dfs_all['condition'] == triple[2])]\n",
    "    df_foreground_heatmap_all=df_temp.append(df_foreground_heatmap_all)"
   ]
  },
  {
   "cell_type": "code",
   "execution_count": null,
   "id": "e408f740-6ec1-43ca-9048-6456c19a3cf1",
   "metadata": {},
   "outputs": [],
   "source": [
    "df_foreground_heatmap_all.sort_values(by='IoU',ascending=False)"
   ]
  },
  {
   "cell_type": "code",
   "execution_count": null,
   "id": "49eaf179-1917-47ec-ba90-0d2aac5369d8",
   "metadata": {},
   "outputs": [],
   "source": [
    "len(df_foreground_heatmap_all)"
   ]
  },
  {
   "cell_type": "code",
   "execution_count": null,
   "id": "83540676-4206-47c6-ba2d-ff2e02f9c066",
   "metadata": {},
   "outputs": [],
   "source": [
    "np.mean(df_foreground_heatmap_all['IoU'])"
   ]
  },
  {
   "cell_type": "code",
   "execution_count": null,
   "id": "8b83708c-be2d-46e6-b930-3d26c387f92d",
   "metadata": {},
   "outputs": [],
   "source": [
    "np.median(df_foreground_heatmap_all['IoU'])"
   ]
  },
  {
   "cell_type": "markdown",
   "id": "9fe6fc1c-2a67-4519-bb67-12ebc61c457f",
   "metadata": {},
   "source": [
    "## Comparison with VAE"
   ]
  },
  {
   "cell_type": "code",
   "execution_count": null,
   "id": "c36d59ba-7912-4922-87df-2da712b83376",
   "metadata": {},
   "outputs": [],
   "source": [
    "_,base_table_path_MH123,_,_ = h.return_local_paths(drive = drive,pre = 'MH123',add_path = True)"
   ]
  },
  {
   "cell_type": "code",
   "execution_count": null,
   "id": "24f0a14a-4d46-4856-9642-51e213fe774b",
   "metadata": {},
   "outputs": [],
   "source": [
    "df_pathway_comp_VAE_DGE = pd.read_csv(os.path.join(base_table_path_MH123,'MH123_df_pathway_comp_VAE_DGE.csv'),index_col=0)"
   ]
  },
  {
   "cell_type": "markdown",
   "id": "50f589cd-ec7a-434f-9c64-3edb1343b700",
   "metadata": {},
   "source": [
    "#### cyno 06hr & VAE"
   ]
  },
  {
   "cell_type": "code",
   "execution_count": null,
   "id": "2ea0c4bf-f62b-4d10-8558-adc67c75d1a0",
   "metadata": {},
   "outputs": [],
   "source": [
    "df_VAE_06 = df_pathway_comp_VAE_DGE[df_pathway_comp_VAE_DGE['Genes_cyno_06hr'].notna()][['Term','Genes_VAE','Genes_cyno_06hr']]\n",
    "\n",
    "df_VAE_06['IoU'] = df_VAE_06.apply(lambda row: intersect_over_union(set(row['Genes_VAE']), set(row['Genes_cyno_06hr'])), axis=1)\n",
    "\n",
    "np.median(df_VAE_06['IoU'])"
   ]
  },
  {
   "cell_type": "code",
   "execution_count": null,
   "id": "e33cf796-4690-4f3b-9719-4144aa6bdd7f",
   "metadata": {},
   "outputs": [],
   "source": [
    "df_VAE_06"
   ]
  },
  {
   "cell_type": "markdown",
   "id": "0cf767c4-f0d4-49e3-8166-698160112db0",
   "metadata": {},
   "source": [
    "#### cyno 24hr & VAE"
   ]
  },
  {
   "cell_type": "code",
   "execution_count": null,
   "id": "1d1b77c4-6ad9-4bf8-8945-544498effca4",
   "metadata": {},
   "outputs": [],
   "source": [
    "df_VAE_24 = df_pathway_comp_VAE_DGE[df_pathway_comp_VAE_DGE['Genes_cyno_24hr'].notna()][['Term','Genes_VAE','Genes_cyno_24hr']]\n",
    "\n",
    "df_VAE_24['IoU'] = df_VAE_24.apply(lambda row: intersect_over_union(set(row['Genes_VAE']), set(row['Genes_cyno_24hr'])), axis=1)\n",
    "\n",
    "np.median(df_VAE_24['IoU'])"
   ]
  },
  {
   "cell_type": "code",
   "execution_count": null,
   "id": "536da5b3-efc1-4b39-9b48-8f72f54b2346",
   "metadata": {},
   "outputs": [],
   "source": [
    "df_VAE_24"
   ]
  },
  {
   "cell_type": "markdown",
   "id": "a0bb3239-7256-4c16-b1b8-546814a7adea",
   "metadata": {},
   "source": [
    "#### human 06hr & VAE"
   ]
  },
  {
   "cell_type": "code",
   "execution_count": null,
   "id": "8a7d7bdc-d35e-44c3-a603-70a6c5f05f44",
   "metadata": {},
   "outputs": [],
   "source": [
    "df_VAE_06_human = df_pathway_comp_VAE_DGE[df_pathway_comp_VAE_DGE['Genes_human_06hr'].notna()][['Term','Genes_VAE','Genes_human_06hr']]\n",
    "\n",
    "df_VAE_06_human['IoU'] = df_VAE_06_human.apply(lambda row: intersect_over_union(set(row['Genes_VAE']), set(row['Genes_human_06hr'])), axis=1)\n",
    "\n",
    "np.median(df_VAE_06_human['IoU'])"
   ]
  },
  {
   "cell_type": "code",
   "execution_count": null,
   "id": "8b2de15a-bb76-4543-9a40-f9c92ef680d5",
   "metadata": {},
   "outputs": [],
   "source": [
    "df_VAE_06_human"
   ]
  },
  {
   "cell_type": "markdown",
   "id": "9d537982-a9e3-45a9-a2b6-913f732a1e92",
   "metadata": {},
   "source": [
    "#### human 24hr & VAE"
   ]
  },
  {
   "cell_type": "code",
   "execution_count": null,
   "id": "e1ca13ef-e9ce-47aa-a77c-1c3b03c5e2a1",
   "metadata": {},
   "outputs": [],
   "source": [
    "df_VAE_24_human = df_pathway_comp_VAE_DGE[df_pathway_comp_VAE_DGE['Genes_human_24hr'].notna()][['Term','Genes_VAE','Genes_human_24hr']]\n",
    "\n",
    "df_VAE_24_human['IoU'] = df_VAE_24_human.apply(lambda row: intersect_over_union(set(row['Genes_VAE']), set(row['Genes_human_24hr'])), axis=1)\n",
    "\n",
    "np.median(df_VAE_24_human['IoU'])"
   ]
  },
  {
   "cell_type": "code",
   "execution_count": null,
   "id": "618a3d89-f5c7-47c6-a7e3-26f67e1e5714",
   "metadata": {},
   "outputs": [],
   "source": [
    "df_VAE_24_human"
   ]
  },
  {
   "cell_type": "markdown",
   "id": "3c924440-be52-4d3f-a68d-6dcf9f9fa7af",
   "metadata": {},
   "source": [
    "save session "
   ]
  },
  {
   "cell_type": "code",
   "execution_count": null,
   "id": "35a2167b-b99a-43a1-82c6-3342578cc56b",
   "metadata": {},
   "outputs": [],
   "source": [
    "base_package_version_path = h.return_package_version_local_path(drive=drive)\n",
    "h.save_package_versions(base_package_version_path,pre,do_print = True)\n",
    "h.print_main_versions()"
   ]
  }
 ],
 "metadata": {
  "kernelspec": {
   "display_name": "Python 3 (ipykernel)",
   "language": "python",
   "name": "python3"
  },
  "language_info": {
   "codemirror_mode": {
    "name": "ipython",
    "version": 3
   },
   "file_extension": ".py",
   "mimetype": "text/x-python",
   "name": "python",
   "nbconvert_exporter": "python",
   "pygments_lexer": "ipython3",
   "version": "3.8.19"
  }
 },
 "nbformat": 4,
 "nbformat_minor": 5
}
