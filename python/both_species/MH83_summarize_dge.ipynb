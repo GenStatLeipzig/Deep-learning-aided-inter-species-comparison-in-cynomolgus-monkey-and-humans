{
 "cells": [
  {
   "cell_type": "code",
   "execution_count": null,
   "id": "b4c2bbb0-bd6a-464b-9006-6f7389d70486",
   "metadata": {},
   "outputs": [],
   "source": [
    "import numpy as np\n",
    "import scanpy as sc\n",
    "import seaborn as sns\n",
    "import os\n",
    "import pandas as pd\n",
    "import matplotlib.pyplot as plt\n",
    "import warnings\n",
    "import sys\n",
    "path_helper = [\"C:\\\\\",\"Users\",\"vfriedrich\",\"projects\",\"monkey_IZI\",\"git_documentation\",\"scRNAseq_cross_species_primate_human\",\"analysis\",\"helper\"]\n",
    "sys.path.append(os.path.join(*path_helper))\n",
    "import helperVDF as h\n",
    "print(sys.executable)\n",
    "from matplotlib.colors import Normalize"
   ]
  },
  {
   "cell_type": "code",
   "execution_count": null,
   "id": "186308bc-3521-47fc-963d-bd82360082c2",
   "metadata": {},
   "outputs": [],
   "source": [
    "pre = \"MH83\"\n",
    "drive = 'F'\n",
    "species = 'cyno'\n",
    "base_model_path,base_table_path,base_plots_path,base_anndata_objects = h.return_local_paths(drive = drive,\n",
    "                                                                                            pre = pre,\n",
    "                                                                                            add_path = True)"
   ]
  },
  {
   "cell_type": "markdown",
   "id": "eb917385-fb95-435d-b0d0-ad8b5586378c",
   "metadata": {},
   "source": [
    "### Cyno"
   ]
  },
  {
   "cell_type": "code",
   "execution_count": null,
   "id": "dd1f4e14-0ef8-49ec-97ae-fe17e5a8060d",
   "metadata": {},
   "outputs": [],
   "source": [
    "species = 'cyno'\n",
    "\n",
    "_,base_table_path_M82,_,_ = h.return_local_paths(drive = drive,pre = \"M82\",add_path = False)\n",
    "\n",
    "df_dge = pd.read_csv(os.path.join(base_table_path_M82,'M82_dge_tab_edgeR.csv'),index_col=0)\n",
    "\n",
    "df_dge['FDR_0.25'] = df_dge['FDR'] <= 0.25\n",
    "df_dge['FDR_0.5'] = df_dge['FDR'] <= 0.5\n",
    "df_dge['FDR_0.2'] = df_dge['FDR'] <= 0.2\n",
    "\n",
    "df_fraction_reg = pd.DataFrame(df_dge.groupby(['celltype','comparison.vs.00hr'])['FDR_0.2'].apply(lambda x: x.sum()/len(x)))\n",
    "df_fraction_reg = df_fraction_reg.reset_index()\n",
    "\n",
    "df_pivot = df_fraction_reg.pivot('comparison.vs.00hr', 'celltype', 'FDR_0.2').T\n"
   ]
  },
  {
   "cell_type": "code",
   "execution_count": null,
   "id": "84a52440-2807-46fc-9f8d-132d8844bc56",
   "metadata": {},
   "outputs": [],
   "source": [
    "plt.figure(figsize=(5, 4))\n",
    "sns.heatmap(df_pivot, annot=True, cmap=\"Reds\",norm=Normalize(vmin=0, vmax=1), cbar_kws={'label': '% significantly regulated'})\n",
    "\n",
    "# Set titles and labels\n",
    "plt.title('Cyno')\n",
    "plt.xlabel('control vs.')\n",
    "plt.ylabel('celltype')\n",
    "plt.savefig(os.path.join(base_plots_path,pre + '_cyno_diff_FDR02.pdf'),bbox_inches = 'tight')\n",
    "# Show the heatmap\n",
    "plt.show()"
   ]
  },
  {
   "cell_type": "markdown",
   "id": "86b8f49a-ad95-4623-ac9a-a4629c4ec465",
   "metadata": {},
   "source": [
    "### Human"
   ]
  },
  {
   "cell_type": "code",
   "execution_count": null,
   "id": "0b5a69fb-3c8e-447d-9b0e-d096664898f2",
   "metadata": {},
   "outputs": [],
   "source": [
    "species = 'human'"
   ]
  },
  {
   "cell_type": "code",
   "execution_count": null,
   "id": "52a92a9c-6ab4-4fc2-aa47-39707cf8adf3",
   "metadata": {},
   "outputs": [],
   "source": [
    "_,base_table_path_H82,_,_ = h.return_local_paths(drive = drive,pre = \"H82\",add_path = False)\n",
    "\n",
    "df_dge = pd.read_csv(os.path.join(base_table_path_H82,'H82_dge_tab_edgeR.csv'),index_col=0)\n",
    "\n",
    "df_dge['FDR_0.25'] = df_dge['FDR'] <= 0.25\n",
    "df_dge['FDR_0.5'] = df_dge['FDR'] <= 0.5\n",
    "df_dge['FDR_0.2'] = df_dge['FDR'] <= 0.2\n",
    "\n",
    "df_fraction_reg = pd.DataFrame(df_dge.groupby(['celltype','comparison.vs.00hr'])['FDR_0.2'].apply(lambda x: x.sum()/len(x)))\n",
    "df_fraction_reg = df_fraction_reg.reset_index()\n",
    "\n",
    "df_pivot = df_fraction_reg.pivot('comparison.vs.00hr', 'celltype', 'FDR_0.2').T"
   ]
  },
  {
   "cell_type": "code",
   "execution_count": null,
   "id": "a9181763-d3ea-4659-9e29-a0933d5c90da",
   "metadata": {},
   "outputs": [],
   "source": [
    "plt.figure(figsize=(5, 4))\n",
    "sns.heatmap(df_pivot, annot=True, cmap=\"Reds\",norm=Normalize(vmin=0, vmax=1), cbar_kws={'label': '% significantly regulated'})\n",
    "\n",
    "# Set titles and labels\n",
    "plt.title('Human')\n",
    "plt.xlabel('control vs.')\n",
    "plt.ylabel('celltype')\n",
    "plt.savefig(os.path.join(base_plots_path,pre + '_human_diff_FDR02.pdf'),bbox_inches = 'tight')\n",
    "# Show the heatmap\n",
    "plt.show()"
   ]
  },
  {
   "cell_type": "code",
   "execution_count": null,
   "id": "fc302853-5adc-4a3e-862e-b16f7e69570f",
   "metadata": {},
   "outputs": [],
   "source": [
    "base_package_version_path = h.return_package_version_local_path(drive=drive)\n",
    "h.save_package_versions(base_package_version_path,pre,do_print = True)\n",
    "h.print_main_versions()"
   ]
  },
  {
   "cell_type": "code",
   "execution_count": null,
   "id": "2e7c6047-a9af-413c-9cbd-f911bec19a9f",
   "metadata": {},
   "outputs": [],
   "source": []
  }
 ],
 "metadata": {
  "kernelspec": {
   "display_name": "Python 3 (ipykernel)",
   "language": "python",
   "name": "python3"
  },
  "language_info": {
   "codemirror_mode": {
    "name": "ipython",
    "version": 3
   },
   "file_extension": ".py",
   "mimetype": "text/x-python",
   "name": "python",
   "nbconvert_exporter": "python",
   "pygments_lexer": "ipython3",
   "version": "3.8.19"
  }
 },
 "nbformat": 4,
 "nbformat_minor": 5
}
