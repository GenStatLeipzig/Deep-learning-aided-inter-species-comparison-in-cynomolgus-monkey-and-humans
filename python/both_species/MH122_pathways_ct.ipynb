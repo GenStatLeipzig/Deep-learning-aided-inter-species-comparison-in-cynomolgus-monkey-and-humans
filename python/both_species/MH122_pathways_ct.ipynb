{
 "cells": [
  {
   "cell_type": "code",
   "execution_count": null,
   "id": "8d951095-5903-40ff-9304-4c10d8362a5a",
   "metadata": {},
   "outputs": [],
   "source": [
    "import numpy as np\n",
    "import scanpy as sc\n",
    "import seaborn as sns\n",
    "import os\n",
    "import pandas as pd\n",
    "import matplotlib.pyplot as plt\n",
    "import warnings\n",
    "import sys\n",
    "import pickle as pkl\n",
    "path_helper = [\"C:\\\\\",\"Users\",\"vfriedrich\",\"projects\",\"monkey_IZI\",\"git_documentation\",\"scRNAseq_cross_species_primate_human\",\"analysis\",\"helper\"]\n",
    "sys.path.append(os.path.join(*path_helper))\n",
    "import helperVDF as h\n",
    "#import decoupler\n",
    "print(sys.executable)\n",
    "import gseapy\n",
    "from gseapy.plot import barplot, dotplot\n",
    "warnings.filterwarnings(\"ignore\")\n",
    "import re"
   ]
  },
  {
   "cell_type": "code",
   "execution_count": null,
   "id": "b8e4079c-b450-4992-8b9e-898dd585bfc9",
   "metadata": {},
   "outputs": [],
   "source": [
    "pre = \"MH122\"\n",
    "drive = 'F'\n",
    "base_model_path,base_table_path,base_plots_path,base_anndata_objects = h.return_local_paths(drive = drive,\n",
    "                                                                                            pre = pre,\n",
    "                                                                                            add_path = True)\n",
    "def remove_go(term):\n",
    "    # Use regular expression to find and replace GO terms, ensuring the string is treated as a raw string\n",
    "    new_term = re.sub(r'\\s*\\(GO:\\d+\\)', '', term)  # Corrected regex finds the GO term pattern and removes it\n",
    "    return new_term.strip() \n",
    "\n"
   ]
  },
  {
   "cell_type": "code",
   "execution_count": null,
   "id": "bc72ccbc-6819-4284-afdf-209f10e7a736",
   "metadata": {},
   "outputs": [],
   "source": [
    "_,base_table_path_MH68,_,_ = h.return_local_paths(drive = drive,pre = 'MH68',add_path = True)\n",
    "df_feature_importance_VAE = pd.read_csv(os.path.join(base_table_path_MH68,'MH68df_pert_all.csv'),index_col=0)\n",
    "celltypes = ['B', 'CD14 Mono', 'CD16 Mono', 'CD4 T', 'CD8 T', 'MAIT','NK+Proliferating']\n",
    "\n",
    "all_pathways_VAE = []\n",
    "for celltype in celltypes:\n",
    "    celltypes_filtered = df_feature_importance_VAE[df_feature_importance_VAE['celltype'] == celltype] \n",
    "    \n",
    "    celltypes_filtered_sorted = celltypes_filtered.sort_values('mean_perturbation_effect', ascending=False)\n",
    "    \n",
    "    top_genes = list(celltypes_filtered_sorted.head(200)['mean_perturbation_effect'].index)\n",
    "    \n",
    "    celltypes_filtered_sorted['human_gene_name'] = [gene.split('--')[0] for gene in celltypes_filtered_sorted['mean_perturbation_effect'].index] \n",
    "    \n",
    "    top_genes = list(celltypes_filtered_sorted.head(200)['human_gene_name'].value_counts().index)\n",
    "    \n",
    "    enrichment = gseapy.enrichr(gene_list=top_genes,\n",
    "                 gene_sets=['Reactome_Pathways_2024','WikiPathway_2023_Human','GO_Biological_Process_2023','KEGG_2021_Human','KEGG_2016'],\n",
    "                 organism='Human', \n",
    "                 cutoff=1\n",
    "                 )\n",
    "    \n",
    "    df = enrichment.results\n",
    "    \n",
    "    df['celltype'] = celltype\n",
    "    df.to_csv(os.path.join(base_table_path,pre + '_df_pathways_VAE_' + str(celltype) + '.csv'))\n",
    "    filtered_df = df[df['Adjusted P-value'] < 0.05]\n",
    "    filtered_df['Foreground Count'] = filtered_df['Overlap'].apply(lambda x: int(x.split('/')[0]))\n",
    "    filtered_df = filtered_df[filtered_df['Foreground Count'] >= 2]\n",
    "    filtered_df = filtered_df.sort_values(by='Odds Ratio', ascending=False)\n",
    "    filtered_df['Log Odds Ratio'] = np.log(filtered_df['Odds Ratio'])\n",
    "    filtered_df['short_term'] = filtered_df['Term'].apply(remove_go)\n",
    "    filtered_df.to_csv(os.path.join(base_table_path,pre + '_filtered_df_pathways_VAE_' + str(celltype) + '.csv'))\n",
    "    all_pathways_VAE.append(filtered_df)\n",
    "df_all_pathways_VAE = pd.concat(all_pathways_VAE,ignore_index=True)\n",
    "df_all_pathways_VAE.to_csv(os.path.join(base_table_path,pre + '_df_all_pathways_VAE.csv'))"
   ]
  },
  {
   "cell_type": "markdown",
   "id": "30a801f6-a594-4524-941a-a401a3a7670b",
   "metadata": {},
   "source": [
    "save session"
   ]
  },
  {
   "cell_type": "code",
   "execution_count": null,
   "id": "81b6745f-7245-4ee6-aaa8-9aed7b8a93a6",
   "metadata": {},
   "outputs": [],
   "source": [
    "np.max(df['P-value'])"
   ]
  },
  {
   "cell_type": "code",
   "execution_count": null,
   "id": "6555b562-ec24-4cc8-8a34-cfa4fafd904f",
   "metadata": {},
   "outputs": [],
   "source": [
    "base_package_version_path = h.return_package_version_local_path(drive=drive)\n",
    "h.save_package_versions(base_package_version_path,pre,do_print = True)\n",
    "h.print_main_versions()"
   ]
  }
 ],
 "metadata": {
  "kernelspec": {
   "display_name": "Python 3 (ipykernel)",
   "language": "python",
   "name": "python3"
  },
  "language_info": {
   "codemirror_mode": {
    "name": "ipython",
    "version": 3
   },
   "file_extension": ".py",
   "mimetype": "text/x-python",
   "name": "python",
   "nbconvert_exporter": "python",
   "pygments_lexer": "ipython3",
   "version": "3.8.19"
  }
 },
 "nbformat": 4,
 "nbformat_minor": 5
}
