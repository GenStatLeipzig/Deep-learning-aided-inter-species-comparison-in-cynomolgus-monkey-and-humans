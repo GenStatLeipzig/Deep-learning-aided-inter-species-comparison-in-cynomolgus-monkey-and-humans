{
 "cells": [
  {
   "cell_type": "code",
   "execution_count": null,
   "id": "a3068938",
   "metadata": {},
   "outputs": [],
   "source": [
    "import pandas as pd\n",
    "from imports_scgen_local import * #imports_scgen_local have to be in same folder"
   ]
  },
  {
   "cell_type": "markdown",
   "id": "df9a2504",
   "metadata": {},
   "source": [
    "Annotation based on s0140_clusteranno_scvi.txt.gz with 'NK' and 'NK Proliferating' as one group. This annotation was used for scgen runs 49_c and following."
   ]
  },
  {
   "cell_type": "code",
   "execution_count": null,
   "id": "d62721c7",
   "metadata": {},
   "outputs": [],
   "source": [
    "def make_df_annotation_azimut1_5_scanvi_v2(df):\n",
    "    df['cluster_azimut1_5_scanvi_v2'] = df['cluster_azimut1_5_scanvi'].replace(\n",
    "    {'NK': 'NK+Proliferating', 'NK Proliferating': 'NK+Proliferating'})\n",
    "    return df"
   ]
  },
  {
   "cell_type": "code",
   "execution_count": null,
   "id": "7d856739",
   "metadata": {},
   "outputs": [],
   "source": [
    "pre = 'MH70'\n",
    "drive = 'F'\n",
    "base_model_path,base_table_path,base_plots_path,base_anndata_objects = h.return_local_paths(drive = drive,\n",
    "                                                                              pre = pre,\n",
    "                                                                              add_path = True)"
   ]
  },
  {
   "cell_type": "code",
   "execution_count": null,
   "id": "7b2c9e0a",
   "metadata": {},
   "outputs": [],
   "source": [
    "path_clusteranno_s0140 = 'F:\\\\monkey_IZI\\\\analysis\\\\tables\\\\s0140_clusteranno_scvi.txt.gz'\n",
    "clusteranno_s0140 = pd.read_csv(path_clusteranno_s0140,compression = 'gzip',index_col=0)\n",
    "cluster_anno = make_df_annotation_azimut1_5_scanvi_v2(clusteranno_s0140)"
   ]
  },
  {
   "cell_type": "code",
   "execution_count": null,
   "id": "82987215",
   "metadata": {},
   "outputs": [],
   "source": [
    "cluster_anno.to_csv(os.path.join(base_table_path,pre + '_cluster_anno.csv'))"
   ]
  },
  {
   "cell_type": "code",
   "execution_count": null,
   "id": "bbd25e53",
   "metadata": {},
   "outputs": [],
   "source": [
    "base_package_version_path = h.return_package_version_local_path(drive=drive)\n",
    "h.save_package_versions(base_package_version_path,pre,do_print = True)"
   ]
  }
 ],
 "metadata": {
  "kernelspec": {
   "display_name": "Python 3 (ipykernel)",
   "language": "python",
   "name": "python3"
  },
  "language_info": {
   "codemirror_mode": {
    "name": "ipython",
    "version": 3
   },
   "file_extension": ".py",
   "mimetype": "text/x-python",
   "name": "python",
   "nbconvert_exporter": "python",
   "pygments_lexer": "ipython3",
   "version": "3.8.17"
  }
 },
 "nbformat": 4,
 "nbformat_minor": 5
}
