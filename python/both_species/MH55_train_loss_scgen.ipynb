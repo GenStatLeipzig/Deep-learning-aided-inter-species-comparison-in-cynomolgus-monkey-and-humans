{
 "cells": [
  {
   "cell_type": "code",
   "execution_count": null,
   "id": "801599b7",
   "metadata": {},
   "outputs": [],
   "source": [
    "import numpy as np\n",
    "import scanpy as sc\n",
    "import seaborn as sns\n",
    "import os\n",
    "import pandas as pd\n",
    "import matplotlib.pyplot as plt\n",
    "import warnings\n",
    "import sys\n",
    "path_helper = [\"C:\\\\\",\"Users\",\"vfriedrich\",\"projects\",\"monkey_IZI\",\"git_documentation\",\"scRNAseq_cross_species_primate_human\",\"analysis\",\"helper\"]\n",
    "sys.path.append(os.path.join(*path_helper))\n",
    "import helperVDF as h\n",
    "#import decoupler\n",
    "print(sys.executable)\n",
    "import torchmetrics\n",
    "#import scgen\n",
    "import numpy as np\n",
    "import scanpy as sc\n",
    "import seaborn as sns\n",
    "import os\n",
    "import pandas as pd\n",
    "import matplotlib.pyplot as plt\n",
    "import scipy.sparse as sp\n",
    "from scipy.spatial.distance import cdist\n",
    "import warnings\n",
    "\n",
    "import sys\n",
    "print(sys.executable)\n",
    "import scgen"
   ]
  },
  {
   "cell_type": "code",
   "execution_count": null,
   "id": "69387a39",
   "metadata": {},
   "outputs": [],
   "source": [
    "pre = \"MH55\"\n",
    "drive = 'F'\n",
    "base_model_path,base_table_path,base_plots_path,base_anndata_objects = h.return_local_paths(drive = drive,\n",
    "                                                                              pre = pre,\n",
    "                                                                              add_path = True)"
   ]
  },
  {
   "cell_type": "markdown",
   "id": "0d945746",
   "metadata": {},
   "source": [
    "### MH49_c"
   ]
  },
  {
   "cell_type": "code",
   "execution_count": null,
   "id": "948791c4",
   "metadata": {},
   "outputs": [],
   "source": [
    "model_path = os.path.join(*[\"F:\\\\\",\"monkey_IZI\",\"analysis\",\"cluster_runs\",\"workspace-runVAE\",\n",
    "                            \"output\",\"MH49_c\",\"models\"])\n",
    "model_dir_names = os.listdir(model_path)"
   ]
  },
  {
   "cell_type": "code",
   "execution_count": null,
   "id": "0a6dbbcb",
   "metadata": {},
   "outputs": [],
   "source": [
    "warnings.filterwarnings(\"ignore\")\n",
    "df_hyper = {}\n",
    "for model_dir_name in model_dir_names:\n",
    "    load_string = os.path.join(model_path,model_dir_name,'MH49_c_scgen_model_' + str(model_dir_name)+'.pt')\n",
    "    model = scgen.SCGEN.load(load_string)\n",
    "    df_ct = model.history['train_loss_epoch'].join(model.history['validation_loss'])\n",
    "    df_hyper[model_dir_name] = df_ct"
   ]
  },
  {
   "cell_type": "code",
   "execution_count": null,
   "id": "b8a0af1d",
   "metadata": {},
   "outputs": [],
   "source": [
    "col_train = \"#e78429\"\n",
    "col_val = \"#381a61\""
   ]
  },
  {
   "cell_type": "code",
   "execution_count": null,
   "id": "193ea714",
   "metadata": {},
   "outputs": [],
   "source": [
    "fig, axs = plt.subplots(2, 4, figsize=(12, 6))\n",
    "axs = axs.flatten()\n",
    "for loc, key in enumerate(df_hyper):\n",
    "    axs[loc].plot(df_hyper[key]['train_loss_epoch'], label='train', color=col_train)\n",
    "    axs[loc].plot(df_hyper[key]['validation_loss'], label='validation', color=col_val)\n",
    "    axs[loc].set_xlabel('epoch', fontsize=11)\n",
    "    axs[loc].set_ylabel('loss', fontsize=11)\n",
    "    axs[loc].legend()\n",
    "    #nlat = key.split('nlat')[1].split('_')[0]\n",
    "    #bs = key.split('bs')[1].split('.')[0]\n",
    "    axs[loc].set_title(key.split('.')[0].split('_')[-1]) \n",
    "    \n",
    "plt.tight_layout()\n",
    "plt.savefig(os.path.join(base_plots_path,pre + 'loss_curves_scgen_all_MH49_c.pdf'),bbox_inches = 'tight')"
   ]
  },
  {
   "cell_type": "markdown",
   "id": "985ed9d3",
   "metadata": {},
   "source": [
    "### MH50_c"
   ]
  },
  {
   "cell_type": "code",
   "execution_count": null,
   "id": "e5519583",
   "metadata": {},
   "outputs": [],
   "source": [
    "model_path = os.path.join(*[\"F:\\\\\",\"monkey_IZI\",\"analysis\",\"cluster_runs\",\"workspace-runVAE\",\n",
    "                            \"output\",\"MH50_c\",\"models\"])\n",
    "model_dir_names = os.listdir(model_path)"
   ]
  },
  {
   "cell_type": "code",
   "execution_count": null,
   "id": "92bf33d0",
   "metadata": {},
   "outputs": [],
   "source": [
    "warnings.filterwarnings(\"ignore\")\n",
    "df_hyper = {}\n",
    "for model_dir_name in model_dir_names:\n",
    "    load_string = os.path.join(model_path,model_dir_name,'MH50_c_scgen_model_' + str(model_dir_name)+'.pt')\n",
    "    model = scgen.SCGEN.load(load_string)\n",
    "    df_ct = model.history['train_loss_epoch'].join(model.history['validation_loss'])\n",
    "    df_hyper[model_dir_name] = df_ct"
   ]
  },
  {
   "cell_type": "code",
   "execution_count": null,
   "id": "fb6f92c9",
   "metadata": {},
   "outputs": [],
   "source": [
    "fig, axs = plt.subplots(2, 4, figsize=(12, 6))\n",
    "axs = axs.flatten()\n",
    "for loc, key in enumerate(df_hyper):\n",
    "    axs[loc].plot(df_hyper[key]['train_loss_epoch'], label='train', color=col_train)\n",
    "    axs[loc].plot(df_hyper[key]['validation_loss'], label='validation', color=col_val)\n",
    "    axs[loc].set_xlabel('epoch', fontsize=11)\n",
    "    axs[loc].set_ylabel('loss', fontsize=11)\n",
    "    axs[loc].legend()\n",
    "    #nlat = key.split('nlat')[1].split('_')[0]\n",
    "    #bs = key.split('bs')[1].split('.')[0]\n",
    "    axs[loc].set_title(key.split('.')[0].split('_')[-1]) \n",
    "    \n",
    "plt.tight_layout()\n",
    "plt.savefig(os.path.join(base_plots_path,pre + 'loss_curves_scgen_pp_rep_MH50_c.pdf'),bbox_inches = 'tight')"
   ]
  },
  {
   "cell_type": "markdown",
   "id": "9a8b7ca6",
   "metadata": {},
   "source": [
    "## MH51_c"
   ]
  },
  {
   "cell_type": "code",
   "execution_count": null,
   "id": "0669aad8",
   "metadata": {},
   "outputs": [],
   "source": [
    "model_path = os.path.join(*[\"F:\\\\\",\"monkey_IZI\",\"analysis\",\"cluster_runs\",\"workspace-runVAE\",\n",
    "                            \"output\",\"MH51_c\",\"models\"])\n",
    "model_dir_names = os.listdir(model_path)"
   ]
  },
  {
   "cell_type": "code",
   "execution_count": null,
   "id": "508aae36",
   "metadata": {},
   "outputs": [],
   "source": [
    "warnings.filterwarnings(\"ignore\")\n",
    "df_hyper = {}\n",
    "for model_dir_name in model_dir_names:\n",
    "    load_string = os.path.join(model_path,model_dir_name,'MH51_c_scgen_model_' + str(model_dir_name)+'.pt')\n",
    "    model = scgen.SCGEN.load(load_string)\n",
    "    df_ct = model.history['train_loss_epoch'].join(model.history['validation_loss'])\n",
    "    df_hyper[model_dir_name] = df_ct"
   ]
  },
  {
   "cell_type": "code",
   "execution_count": null,
   "id": "ff1098a5",
   "metadata": {},
   "outputs": [],
   "source": [
    "fig, axs = plt.subplots(2, 4, figsize=(12, 6))\n",
    "axs = axs.flatten()\n",
    "for loc, key in enumerate(df_hyper):\n",
    "    axs[loc].plot(df_hyper[key]['train_loss_epoch'], label='train', color=col_train)\n",
    "    axs[loc].plot(df_hyper[key]['validation_loss'], label='validation', color=col_val)\n",
    "    axs[loc].set_xlabel('epoch', fontsize=11)\n",
    "    axs[loc].set_ylabel('loss', fontsize=11)\n",
    "    axs[loc].legend()\n",
    "    #nlat = key.split('nlat')[1].split('_')[0]\n",
    "    #bs = key.split('bs')[1].split('.')[0]\n",
    "    axs[loc].set_title(key.split('.')[0].split('_')[-1]) \n",
    "    \n",
    "plt.tight_layout()\n",
    "plt.savefig(os.path.join(base_plots_path,pre + 'loss_curves_scgen_pp_ran_MH51_c.pdf'),bbox_inches = 'tight')"
   ]
  },
  {
   "cell_type": "code",
   "execution_count": null,
   "id": "8bbb2edc",
   "metadata": {},
   "outputs": [],
   "source": [
    "base_package_version_path = h.return_package_version_local_path(drive=drive)\n",
    "h.save_package_versions(base_package_version_path,pre,do_print = True)\n",
    "h.print_main_versions()"
   ]
  }
 ],
 "metadata": {
  "kernelspec": {
   "display_name": "Python 3 (ipykernel)",
   "language": "python",
   "name": "python3"
  },
  "language_info": {
   "codemirror_mode": {
    "name": "ipython",
    "version": 3
   },
   "file_extension": ".py",
   "mimetype": "text/x-python",
   "name": "python",
   "nbconvert_exporter": "python",
   "pygments_lexer": "ipython3",
   "version": "3.8.17"
  }
 },
 "nbformat": 4,
 "nbformat_minor": 5
}
