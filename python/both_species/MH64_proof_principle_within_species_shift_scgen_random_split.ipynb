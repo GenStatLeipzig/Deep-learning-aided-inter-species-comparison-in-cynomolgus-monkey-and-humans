{
 "cells": [
  {
   "cell_type": "code",
   "execution_count": null,
   "id": "76537243",
   "metadata": {},
   "outputs": [],
   "source": [
    "from imports_scgen_local import * #imports_scgen_local have to be in same folder"
   ]
  },
  {
   "cell_type": "code",
   "execution_count": null,
   "id": "dfa8f41e",
   "metadata": {},
   "outputs": [],
   "source": [
    "pre = \"MH64\"\n",
    "drive = 'F'\n",
    "base_model_path,base_table_path,base_plots_path,base_anndata_objects = h.return_local_paths(drive = drive,\n",
    "                                                                              pre = pre,\n",
    "                                                                              add_path = True)"
   ]
  },
  {
   "cell_type": "markdown",
   "id": "e212d233",
   "metadata": {},
   "source": [
    "### load train / train test sets from MH50_c"
   ]
  },
  {
   "cell_type": "code",
   "execution_count": null,
   "id": "ce5eab7c",
   "metadata": {},
   "outputs": [],
   "source": [
    "celltypes = ['B',\n",
    " 'CD14 Mono',\n",
    " #'CD16 Mono',\n",
    " 'CD4 T',\n",
    " 'CD8 T',\n",
    " 'MAIT',\n",
    " 'NK+Proliferating']"
   ]
  },
  {
   "cell_type": "code",
   "execution_count": null,
   "id": "1df5c480",
   "metadata": {},
   "outputs": [],
   "source": [
    "base_anndata_objects_MH51_c = os.path.join('F:\\\\monkey_IZI\\\\analysis','cluster_runs',\n",
    "                                    'workspace-runVAE','output','MH51_c','anndata_objects')\n",
    "\n",
    "adata_train_all_ct = sc.read_h5ad(os.path.join(base_anndata_objects_MH51_c,'MH51_c_adata_train.h5ad'))\n",
    "adata_test_all_ct = sc.read_h5ad(os.path.join(base_anndata_objects_MH51_c,'MH51_c_adata_test.h5ad'))\n",
    "\n",
    "adata_train_all_ct.obs.rename(columns={'species_x': 'species'}, inplace=True)\n",
    "adata_test_all_ct.obs.rename(columns={'species_x': 'species'}, inplace=True)\n",
    "\n",
    "adata_train_all_ct.obs['cluster_azimut1_5_scanvi_v2'] = adata_train_all_ct.obs['cluster_azimut1_5_scanvi'].replace(\n",
    "    {'NK': 'NK+Proliferating', 'NK Proliferating': 'NK+Proliferating'})\n",
    "\n",
    "adata_test_all_ct.obs['cluster_azimut1_5_scanvi_v2'] = adata_test_all_ct.obs['cluster_azimut1_5_scanvi'].replace(\n",
    "    {'NK': 'NK+Proliferating', 'NK Proliferating': 'NK+Proliferating'})"
   ]
  },
  {
   "cell_type": "code",
   "execution_count": null,
   "id": "322feae6",
   "metadata": {},
   "outputs": [],
   "source": [
    "model_path = os.path.join(*[\"F:\\\\\",\"monkey_IZI\",\"analysis\",\"cluster_runs\",\"workspace-runVAE\",\n",
    "                            \"output\",\"MH51_c\",\"models\"])\n",
    "model_dir_names = os.listdir(model_path)\n",
    "\n",
    "warnings.filterwarnings(\"ignore\")\n",
    "model_dict = {}\n",
    "for model_dir_name in model_dir_names:\n",
    "    load_string = os.path.join(model_path,model_dir_name,'MH51_c_scgen_model_' + str(model_dir_name)+'.pt')\n",
    "    model = scgen.SCGEN.load(load_string)\n",
    "    model_dict[model_dir_name] = model"
   ]
  },
  {
   "cell_type": "markdown",
   "id": "5a4428ce",
   "metadata": {},
   "source": [
    "### Human"
   ]
  },
  {
   "cell_type": "code",
   "execution_count": null,
   "id": "0ea549f4",
   "metadata": {},
   "outputs": [],
   "source": [
    "celltype_col = 'cluster_azimut1_5_scanvi_v2'\n",
    "dict_adata_comp_06hr_human = {}\n",
    "dict_adata_comp_24hr_human = {}\n",
    "dict_mean_exp_dict_human = {}\n",
    "dict_r2_dict_human = {}\n",
    "for celltype in celltypes:\n",
    "    print(celltype)\n",
    "    model = model_dict[celltype]\n",
    "    model.adata.obs.rename(columns={'species_x': 'species'}, inplace=True)\n",
    "    adata_test_human_ct = hscg.filter_multiple_adata_obs(adata=adata_test_all_ct,\n",
    "                                                         col_names=[celltype_col,'species'],\n",
    "                                                         val_names=[celltype,'human'])\n",
    "    adata_comp_06hr_human,adata_comp_24hr_human,mean_exp_dict,r2_dict = hscg.proof_principle_within_species_human(model = model,\n",
    "                                                                                                                  adata_test = adata_test_human_ct,\n",
    "                                                                                                                  celltype_col = celltype_col,\n",
    "                                                                                                                  celltype = celltype)\n",
    "    dict_adata_comp_06hr_human[celltype] = adata_comp_06hr_human\n",
    "    dict_adata_comp_24hr_human[celltype] = adata_comp_24hr_human\n",
    "    dict_mean_exp_dict_human[celltype] = mean_exp_dict\n",
    "    dict_r2_dict_human[celltype] =  r2_dict"
   ]
  },
  {
   "cell_type": "code",
   "execution_count": null,
   "id": "fefbbc8c",
   "metadata": {},
   "outputs": [],
   "source": [
    "celltype_col = 'cluster_azimut1_5_scanvi_v2'\n",
    "dict_adata_comp_06hr_human = {}\n",
    "dict_adata_comp_24hr_human = {}\n",
    "dict_mean_exp_dict_human = {}\n",
    "dict_r2_dict_human = {}\n",
    "for celltype in celltypes:\n",
    "    print(celltype)\n",
    "    model = model_dict[celltype]\n",
    "    model.adata.obs.rename(columns={'species_x': 'species'}, inplace=True)\n",
    "    adata_test_human_ct = hscg.filter_multiple_adata_obs(adata=adata_test_all_ct,\n",
    "                                                         col_names=[celltype_col,'species'],\n",
    "                                                         val_names=[celltype,'human'])\n",
    "    adata_comp_06hr_human,adata_comp_24hr_human,mean_exp_dict,r2_dict = hscg.proof_principle_within_species_human(model = model,\n",
    "                                                                                                                  adata_test = adata_test_human_ct,\n",
    "                                                                                                                  celltype_col = celltype_col,\n",
    "                                                                                                                  celltype = celltype)\n",
    "    dict_adata_comp_06hr_human[celltype] = adata_comp_06hr_human\n",
    "    dict_adata_comp_24hr_human[celltype] = adata_comp_24hr_human\n",
    "    dict_mean_exp_dict_human[celltype] = mean_exp_dict\n",
    "    dict_r2_dict_human[celltype] =  r2_dict"
   ]
  },
  {
   "cell_type": "markdown",
   "id": "98ed60e1",
   "metadata": {},
   "source": [
    "### Cyno"
   ]
  },
  {
   "cell_type": "code",
   "execution_count": null,
   "id": "62b45ef1",
   "metadata": {},
   "outputs": [],
   "source": [
    "celltypes = ['B',\n",
    " 'CD14 Mono',\n",
    " #'CD16 Mono',\n",
    " 'CD4 T',\n",
    " 'CD8 T',\n",
    " 'MAIT',\n",
    " 'NK+Proliferating']"
   ]
  },
  {
   "cell_type": "code",
   "execution_count": null,
   "id": "c01fa29f",
   "metadata": {},
   "outputs": [],
   "source": [
    "celltype_col = 'cluster_azimut1_5_scanvi_v2'\n",
    "dict_adata_comp_06hr_cyno = {}\n",
    "dict_adata_comp_24hr_cyno = {}\n",
    "dict_mean_exp_dict_cyno = {}\n",
    "dict_r2_dict_cyno = {}\n",
    "for celltype in celltypes:\n",
    "    print(celltype)\n",
    "    model = model_dict[celltype]\n",
    "    model.adata.obs.rename(columns={'species_x': 'species'}, inplace=True)\n",
    "    adata_test_cyno_ct = hscg.filter_multiple_adata_obs(adata=adata_test_all_ct,\n",
    "                                                         col_names=[celltype_col,'species'],\n",
    "                                                         val_names=[celltype,'cyno'])\n",
    "    adata_comp_06hr_cyno,adata_comp_24hr_cyno,mean_exp_dict,r2_dict = hscg.proof_principle_within_species_cyno(model = model,\n",
    "                                                                                                                  adata_test = adata_test_cyno_ct,\n",
    "                                                                                                                  celltype_col = celltype_col,\n",
    "                                                                                                                  celltype = celltype)\n",
    "    dict_adata_comp_06hr_cyno[celltype] = adata_comp_06hr_cyno\n",
    "    dict_adata_comp_24hr_cyno[celltype] = adata_comp_24hr_cyno\n",
    "    dict_mean_exp_dict_cyno[celltype] = mean_exp_dict\n",
    "    dict_r2_dict_cyno[celltype] =  r2_dict"
   ]
  },
  {
   "cell_type": "markdown",
   "id": "fd19ae35",
   "metadata": {},
   "source": [
    "### Spearman R comparison"
   ]
  },
  {
   "cell_type": "code",
   "execution_count": null,
   "id": "970ab4d5",
   "metadata": {},
   "outputs": [],
   "source": [
    "df_spearman_06hr_human = pd.DataFrame(columns = ['sp_00hr','sp_06hr_pred','celltype'])\n",
    "for celltype in celltypes:\n",
    "    GE_06hr_pred_human = dict_mean_exp_dict_human[celltype]['mean_exp_decoded_adata_test_06hr_human_pred']\n",
    "    GE_00hr_human = dict_mean_exp_dict_human[celltype]['mean_exp_adata_test_00hr_human']\n",
    "    GE_06hr_human = dict_mean_exp_dict_human[celltype]['mean_exp_adata_test_06hr_human']\n",
    "    sp_00hr = spearmanr(GE_00hr_human,GE_06hr_human)[0]\n",
    "    sp_06hr_pred = spearmanr(GE_06hr_pred_human,GE_06hr_human)[0]\n",
    "    df_spearman_06hr_human = df_spearman_06hr_human.append(\n",
    "         pd.DataFrame([sp_00hr,sp_06hr_pred,celltype],\n",
    "                      index = ['sp_00hr','sp_06hr_pred','celltype']).T)  "
   ]
  },
  {
   "cell_type": "code",
   "execution_count": null,
   "id": "420cae40",
   "metadata": {},
   "outputs": [],
   "source": [
    "df_spearman_24hr_human = pd.DataFrame(columns = ['sp_00hr','sp_24hr_pred','celltype'])\n",
    "for celltype in celltypes:\n",
    "    GE_24hr_pred_human = dict_mean_exp_dict_human[celltype]['mean_exp_decoded_adata_test_24hr_human_pred']\n",
    "    GE_00hr_human = dict_mean_exp_dict_human[celltype]['mean_exp_adata_test_00hr_human']\n",
    "    GE_24hr_human = dict_mean_exp_dict_human[celltype]['mean_exp_adata_test_24hr_human']\n",
    "    sp_00hr = spearmanr(GE_00hr_human,GE_24hr_human)[0]\n",
    "    sp_24hr_pred = spearmanr(GE_24hr_pred_human,GE_24hr_human)[0]\n",
    "    df_spearman_24hr_human = df_spearman_24hr_human.append(\n",
    "         pd.DataFrame([sp_00hr,sp_24hr_pred,celltype],\n",
    "                      index = ['sp_00hr','sp_24hr_pred','celltype']).T)  "
   ]
  },
  {
   "cell_type": "code",
   "execution_count": null,
   "id": "7d9110a8",
   "metadata": {},
   "outputs": [],
   "source": [
    "df_spearman_06hr_cyno = pd.DataFrame(columns = ['sp_00hr','sp_06hr_pred','celltype'])\n",
    "for celltype in celltypes:\n",
    "    GE_06hr_pred_cyno = dict_mean_exp_dict_cyno[celltype]['mean_exp_decoded_adata_test_06hr_cyno_pred']\n",
    "    GE_00hr_cyno = dict_mean_exp_dict_cyno[celltype]['mean_exp_adata_test_00hr_cyno']\n",
    "    GE_06hr_cyno = dict_mean_exp_dict_cyno[celltype]['mean_exp_adata_test_06hr_cyno']\n",
    "    sp_00hr = spearmanr(GE_00hr_cyno,GE_06hr_cyno)[0]\n",
    "    sp_06hr_pred = spearmanr(GE_06hr_pred_cyno,GE_06hr_cyno)[0]\n",
    "    df_spearman_06hr_cyno = df_spearman_06hr_cyno.append(\n",
    "         pd.DataFrame([sp_00hr,sp_06hr_pred,celltype],\n",
    "                      index = ['sp_00hr','sp_06hr_pred','celltype']).T)  "
   ]
  },
  {
   "cell_type": "code",
   "execution_count": null,
   "id": "2accc66c",
   "metadata": {},
   "outputs": [],
   "source": [
    "df_spearman_24hr_cyno = pd.DataFrame(columns = ['sp_00hr','sp_24hr_pred','celltype'])\n",
    "for celltype in celltypes:\n",
    "    GE_24hr_pred_cyno = dict_mean_exp_dict_cyno[celltype]['mean_exp_decoded_adata_test_24hr_cyno_pred']\n",
    "    GE_00hr_cyno = dict_mean_exp_dict_cyno[celltype]['mean_exp_adata_test_00hr_cyno']\n",
    "    GE_24hr_cyno = dict_mean_exp_dict_cyno[celltype]['mean_exp_adata_test_24hr_cyno']\n",
    "    sp_00hr = spearmanr(GE_00hr_cyno,GE_24hr_cyno)[0]\n",
    "    sp_24hr_pred = spearmanr(GE_24hr_pred_cyno,GE_24hr_cyno)[0]\n",
    "    df_spearman_24hr_cyno = df_spearman_24hr_cyno.append(\n",
    "         pd.DataFrame([sp_00hr,sp_24hr_pred,celltype],\n",
    "                      index = ['sp_00hr','sp_24hr_pred','celltype']).T) "
   ]
  },
  {
   "cell_type": "code",
   "execution_count": null,
   "id": "44aa6bf7",
   "metadata": {},
   "outputs": [],
   "source": [
    "#Save\n",
    "df_spearman_06hr_human.to_csv(os.path.join(base_table_path,pre +'_df_spearman_06hr_human.csv'))\n",
    "\n",
    "df_spearman_24hr_human.to_csv(os.path.join(base_table_path,pre +'_df_spearman_24hr_human.csv'))\n",
    "\n",
    "df_spearman_06hr_cyno.to_csv(os.path.join(base_table_path,pre +'_df_spearman_06hr_cyno.csv'))\n",
    "\n",
    "df_spearman_24hr_cyno.to_csv(os.path.join(base_table_path,pre +'_df_spearman_24hr_cyno.csv'))"
   ]
  },
  {
   "cell_type": "code",
   "execution_count": null,
   "id": "4498cf0d",
   "metadata": {},
   "outputs": [],
   "source": [
    "df_spearman_24hr_human['sp_00hr'] = pd.to_numeric(df_spearman_24hr_human['sp_00hr'],errors='coerce')\n",
    "\n",
    "df_spearman_24hr_human['sp_24hr_pred'] = pd.to_numeric(df_spearman_24hr_human['sp_24hr_pred'], errors='coerce')\n",
    "\n",
    "\n",
    "# Reshape the DataFrame\n",
    "df_melted = df_spearman_24hr_human.melt(id_vars=['celltype'], value_vars=['sp_00hr', 'sp_24hr_pred'],\n",
    "                    var_name='r_type', value_name='value')\n",
    "\n",
    "# Pivot the melted DataFrame\n",
    "df_pivot = df_melted.pivot('r_type', 'celltype', 'value')\n",
    "\n",
    "# Plot heatmap\n",
    "plt.figure(figsize=(10, 3))\n",
    "sns.heatmap(df_pivot, annot=True, cmap=\"Greens\",\n",
    "            cbar_kws={'label': 'Spearman rank correlation'},linecolor='grey',\n",
    "            linewidths=0.05,\n",
    "           norm=Normalize(vmin=0.2, vmax=1))\n",
    "plt.title('R2 similarity with 24hr human')\n",
    "plt.yticks(rotation=0)\n",
    "plt.savefig(os.path.join(base_plots_path,pre + '_df_spearman_24hr_human.pdf'),bbox_inches='tight')\n",
    "plt.show()"
   ]
  },
  {
   "cell_type": "code",
   "execution_count": null,
   "id": "27c73f7e",
   "metadata": {},
   "outputs": [],
   "source": [
    "df_spearman_06hr_human['sp_00hr'] = pd.to_numeric(df_spearman_06hr_human['sp_00hr'],errors='coerce')\n",
    "\n",
    "df_spearman_06hr_human['sp_06hr_pred'] = pd.to_numeric(df_spearman_06hr_human['sp_06hr_pred'], errors='coerce')\n",
    "\n",
    "\n",
    "# Reshape the DataFrame\n",
    "df_melted = df_spearman_06hr_human.melt(id_vars=['celltype'], value_vars=['sp_00hr', 'sp_06hr_pred'],\n",
    "                    var_name='r_type', value_name='value')\n",
    "\n",
    "# Pivot the melted DataFrame\n",
    "df_pivot = df_melted.pivot('r_type', 'celltype', 'value')\n",
    "\n",
    "# Plot heatmap\n",
    "plt.figure(figsize=(10, 3))\n",
    "sns.heatmap(df_pivot, annot=True, cmap=\"Greens\",\n",
    "            cbar_kws={'label': 'Spearman rank correlation'},\n",
    "           norm=Normalize(vmin=0.2, vmax=1),linecolor='grey',\n",
    "            linewidths=0.05)\n",
    "plt.title('R2 similarity with 06hr human')\n",
    "plt.yticks(rotation=0)\n",
    "plt.savefig(os.path.join(base_plots_path,pre + '_df_spearman_06hr_human.pdf'),bbox_inches='tight')\n",
    "plt.show()"
   ]
  },
  {
   "cell_type": "code",
   "execution_count": null,
   "id": "826b1015",
   "metadata": {},
   "outputs": [],
   "source": [
    "df_spearman_06hr_cyno['sp_00hr'] = pd.to_numeric(df_spearman_06hr_cyno['sp_00hr'],errors='coerce')\n",
    "\n",
    "df_spearman_06hr_cyno['sp_06hr_pred'] = pd.to_numeric(df_spearman_06hr_cyno['sp_06hr_pred'], errors='coerce')\n",
    "\n",
    "\n",
    "# Reshape the DataFrame\n",
    "df_melted = df_spearman_06hr_cyno.melt(id_vars=['celltype'], value_vars=['sp_00hr', 'sp_06hr_pred'],\n",
    "                    var_name='r_type', value_name='value')\n",
    "\n",
    "# Pivot the melted DataFrame\n",
    "df_pivot = df_melted.pivot('r_type', 'celltype', 'value')\n",
    "\n",
    "# Plot heatmap\n",
    "plt.figure(figsize=(10, 3))\n",
    "sns.heatmap(df_pivot, annot=False, cmap=\"Greens\",\n",
    "            cbar_kws={'label': 'Spearman rank correlation'},\n",
    "           norm=Normalize(vmin=0.5, vmax=1),linecolor='grey',\n",
    "            linewidths=0.05)\n",
    "plt.title('R2 similarity with 06hr cyno')\n",
    "plt.yticks(rotation=0)\n",
    "plt.savefig(os.path.join(base_plots_path,pre + '_df_spearman_06hr_cyno.pdf'),bbox_inches='tight')\n",
    "plt.show()"
   ]
  },
  {
   "cell_type": "code",
   "execution_count": null,
   "id": "5aad34d0",
   "metadata": {},
   "outputs": [],
   "source": [
    "df_spearman_24hr_cyno['sp_00hr'] = pd.to_numeric(df_spearman_24hr_cyno['sp_00hr'],errors='coerce')\n",
    "\n",
    "df_spearman_24hr_cyno['sp_24hr_pred'] = pd.to_numeric(df_spearman_24hr_cyno['sp_24hr_pred'], errors='coerce')\n",
    "\n",
    "\n",
    "# Reshape the DataFrame\n",
    "df_melted = df_spearman_24hr_cyno.melt(id_vars=['celltype'], value_vars=['sp_00hr', 'sp_24hr_pred'],\n",
    "                    var_name='r_type', value_name='value')\n",
    "\n",
    "# Pivot the melted DataFrame\n",
    "df_pivot = df_melted.pivot('r_type', 'celltype', 'value')\n",
    "\n",
    "# Plot heatmap\n",
    "plt.figure(figsize=(10, 3))\n",
    "sns.heatmap(df_pivot, annot=False, cmap=\"Greens\",\n",
    "            cbar_kws={'label': 'Spearman rank correlation'},\n",
    "           norm=Normalize(vmin=0.5, vmax=1),linecolor='grey',\n",
    "            linewidths=0.05)\n",
    "plt.title('R2 similarity with 24hr cyno')\n",
    "plt.yticks(rotation=0)\n",
    "plt.savefig(os.path.join(base_plots_path,pre + '_df_spearman_24hr_cyno.pdf'),bbox_inches='tight')\n",
    "plt.show()"
   ]
  },
  {
   "cell_type": "markdown",
   "id": "0df57ef2",
   "metadata": {},
   "source": [
    "### R2 similarity"
   ]
  },
  {
   "cell_type": "code",
   "execution_count": null,
   "id": "b7a5ea09",
   "metadata": {},
   "outputs": [],
   "source": [
    "df_r2_06hr_human = pd.DataFrame(columns = ['r_00hr','r_06hr_pred','celltype'])\n",
    "for celltype in celltypes:\n",
    "    GE_06hr_pred_human = dict_mean_exp_dict_human[celltype]['mean_exp_decoded_adata_test_06hr_human_pred']\n",
    "    GE_00hr_human = dict_mean_exp_dict_human[celltype]['mean_exp_adata_test_00hr_human']\n",
    "    GE_06hr_human = dict_mean_exp_dict_human[celltype]['mean_exp_adata_test_06hr_human']\n",
    "    r_00hr = r2_score(GE_00hr_human,GE_06hr_human)\n",
    "    sp_06hr_pred = r2_score(GE_06hr_pred_human,GE_06hr_human)\n",
    "    df_r2_06hr_human = df_r2_06hr_human.append(\n",
    "         pd.DataFrame([r_00hr,sp_06hr_pred,celltype],\n",
    "                      index = ['r_00hr','r_06hr_pred','celltype']).T) "
   ]
  },
  {
   "cell_type": "code",
   "execution_count": null,
   "id": "7eb58af8",
   "metadata": {},
   "outputs": [],
   "source": [
    "df_r2_24hr_human = pd.DataFrame(columns = ['r_00hr','r_24hr_pred','celltype'])\n",
    "for celltype in celltypes:\n",
    "    GE_24hr_pred_human = dict_mean_exp_dict_human[celltype]['mean_exp_decoded_adata_test_24hr_human_pred']\n",
    "    GE_00hr_human = dict_mean_exp_dict_human[celltype]['mean_exp_adata_test_00hr_human']\n",
    "    GE_24hr_human = dict_mean_exp_dict_human[celltype]['mean_exp_adata_test_24hr_human']\n",
    "    r_00hr = r2_score(GE_00hr_human,GE_24hr_human)\n",
    "    sp_24hr_pred = r2_score(GE_24hr_pred_human,GE_24hr_human)\n",
    "    df_r2_24hr_human = df_r2_24hr_human.append(\n",
    "         pd.DataFrame([r_00hr,sp_24hr_pred,celltype],\n",
    "                      index = ['r_00hr','r_24hr_pred','celltype']).T) "
   ]
  },
  {
   "cell_type": "code",
   "execution_count": null,
   "id": "58a52d06",
   "metadata": {},
   "outputs": [],
   "source": [
    "df_r2_06hr_cyno = pd.DataFrame(columns = ['r_00hr','r_06hr_pred','celltype'])\n",
    "for celltype in celltypes:\n",
    "    GE_06hr_pred_cyno = dict_mean_exp_dict_cyno[celltype]['mean_exp_decoded_adata_test_06hr_cyno_pred']\n",
    "    GE_00hr_cyno = dict_mean_exp_dict_cyno[celltype]['mean_exp_adata_test_00hr_cyno']\n",
    "    GE_06hr_cyno = dict_mean_exp_dict_cyno[celltype]['mean_exp_adata_test_06hr_cyno']\n",
    "    r_00hr = r2_score(GE_00hr_cyno,GE_06hr_cyno)\n",
    "    sp_06hr_pred = r2_score(GE_06hr_pred_cyno,GE_06hr_cyno)\n",
    "    df_r2_06hr_cyno = df_r2_06hr_cyno.append(\n",
    "         pd.DataFrame([r_00hr,sp_06hr_pred,celltype],\n",
    "                      index = ['r_00hr','r_06hr_pred','celltype']).T) "
   ]
  },
  {
   "cell_type": "code",
   "execution_count": null,
   "id": "4b0ea157",
   "metadata": {},
   "outputs": [],
   "source": [
    "df_r2_24hr_cyno = pd.DataFrame(columns = ['r_00hr','r_24hr_pred','celltype'])\n",
    "for celltype in celltypes:\n",
    "    GE_24hr_pred_cyno = dict_mean_exp_dict_cyno[celltype]['mean_exp_decoded_adata_test_24hr_cyno_pred']\n",
    "    GE_00hr_cyno = dict_mean_exp_dict_cyno[celltype]['mean_exp_adata_test_00hr_cyno']\n",
    "    GE_24hr_cyno = dict_mean_exp_dict_cyno[celltype]['mean_exp_adata_test_24hr_cyno']\n",
    "    sp_00hr = r2_score(GE_00hr_cyno,GE_24hr_cyno)\n",
    "    sp_24hr_pred = r2_score(GE_24hr_pred_cyno,GE_24hr_cyno)\n",
    "    df_r2_24hr_cyno = df_r2_24hr_cyno.append(\n",
    "         pd.DataFrame([sp_00hr,sp_24hr_pred,celltype],\n",
    "                      index = ['r_00hr','r_24hr_pred','celltype']).T) "
   ]
  },
  {
   "cell_type": "code",
   "execution_count": null,
   "id": "30a48fe8",
   "metadata": {},
   "outputs": [],
   "source": [
    "#Save\n",
    "df_r2_06hr_human.to_csv(os.path.join(base_table_path,pre +'_df_r2_06hr_human.csv'))\n",
    "\n",
    "df_r2_24hr_human.to_csv(os.path.join(base_table_path,pre +'_df_r2_24hr_human.csv'))\n",
    "\n",
    "df_r2_06hr_cyno.to_csv(os.path.join(base_table_path,pre +'_df_r2_06hr_cyno.csv'))\n",
    "\n",
    "df_r2_24hr_cyno.to_csv(os.path.join(base_table_path,pre +'_df_r2_24hr_cyno.csv'))"
   ]
  },
  {
   "cell_type": "code",
   "execution_count": null,
   "id": "42a9f324",
   "metadata": {},
   "outputs": [],
   "source": [
    "df_r2_24hr_cyno['r_00hr'] = pd.to_numeric(df_r2_24hr_cyno['r_00hr'],errors='coerce')\n",
    "\n",
    "df_r2_24hr_cyno['r_24hr_pred'] = pd.to_numeric(df_r2_24hr_cyno['r_24hr_pred'], errors='coerce')\n",
    "\n",
    "\n",
    "# Reshape the DataFrame\n",
    "df_melted = df_r2_24hr_cyno.melt(id_vars=['celltype'], value_vars=['r_00hr', 'r_24hr_pred'],\n",
    "                    var_name='r_type', value_name='value')\n",
    "\n",
    "# Pivot the melted DataFrame\n",
    "df_pivot = df_melted.pivot('r_type', 'celltype', 'value')\n",
    "\n",
    "# Plot heatmap\n",
    "plt.figure(figsize=(10, 3))\n",
    "sns.heatmap(df_pivot, annot=True, cmap=\"Purples\",\n",
    "            cbar_kws={'label': 'R2'},\n",
    "           norm=Normalize(vmin=-0.2, vmax=1),linecolor='grey',\n",
    "            linewidths=0.05)\n",
    "plt.title('R2 similarity with 24hr cyno')\n",
    "plt.yticks(rotation=0)\n",
    "plt.savefig(os.path.join(base_plots_path,pre + '_df_r2_24hr_cyno.pdf'),bbox_inches='tight')\n",
    "plt.show()"
   ]
  },
  {
   "cell_type": "code",
   "execution_count": null,
   "id": "cf01c1f8",
   "metadata": {},
   "outputs": [],
   "source": [
    "df_r2_06hr_cyno['r_00hr'] = pd.to_numeric(df_r2_06hr_cyno['r_00hr'],errors='coerce')\n",
    "\n",
    "df_r2_06hr_cyno['r_06hr_pred'] = pd.to_numeric(df_r2_06hr_cyno['r_06hr_pred'], errors='coerce')\n",
    "\n",
    "\n",
    "# Reshape the DataFrame\n",
    "df_melted = df_r2_06hr_cyno.melt(id_vars=['celltype'], value_vars=['r_00hr', 'r_06hr_pred'],\n",
    "                    var_name='r_type', value_name='value')\n",
    "\n",
    "# Pivot the melted DataFrame\n",
    "df_pivot = df_melted.pivot('r_type', 'celltype', 'value')\n",
    "\n",
    "# Plot heatmap\n",
    "plt.figure(figsize=(10, 3))\n",
    "sns.heatmap(df_pivot, annot=True, cmap=\"Purples\",\n",
    "           norm=Normalize(vmin=-0.2, vmax=1),linecolor='grey',\n",
    "            linewidths=0.05)\n",
    "plt.title('R2 similarity with 06hr cyno')\n",
    "plt.yticks(rotation=0)\n",
    "plt.savefig(os.path.join(base_plots_path,pre + '_df_r2_06hr_cyno.pdf'),bbox_inches='tight')\n",
    "plt.show()"
   ]
  },
  {
   "cell_type": "code",
   "execution_count": null,
   "id": "c6ddc223",
   "metadata": {},
   "outputs": [],
   "source": [
    "df_r2_24hr_human['r_00hr'] = pd.to_numeric(df_r2_24hr_human['r_00hr'],errors='coerce')\n",
    "\n",
    "df_r2_24hr_human['r_24hr_pred'] = pd.to_numeric(df_r2_24hr_human['r_24hr_pred'], errors='coerce')\n",
    "\n",
    "\n",
    "# Reshape the DataFrame\n",
    "df_melted = df_r2_24hr_human.melt(id_vars=['celltype'], value_vars=['r_00hr', 'r_24hr_pred'],\n",
    "                    var_name='r_type', value_name='value')\n",
    "\n",
    "# Pivot the melted DataFrame\n",
    "df_pivot = df_melted.pivot('r_type', 'celltype', 'value')\n",
    "\n",
    "# Plot heatmap\n",
    "plt.figure(figsize=(10, 3))\n",
    "sns.heatmap(df_pivot, annot=True, cmap=\"Purples\",\n",
    "            cbar_kws={'label': 'R2'},\n",
    "           norm=Normalize(vmin=-0.2, vmax=1),linecolor='grey',\n",
    "            linewidths=0.05)\n",
    "plt.title('R2 similarity with 24hr human')\n",
    "plt.savefig(os.path.join(base_plots_path,pre + '_df_r2_24hr_human.pdf'),bbox_inches='tight')\n",
    "plt.yticks(rotation=0)\n",
    "plt.show()"
   ]
  },
  {
   "cell_type": "code",
   "execution_count": null,
   "id": "1e8c8120",
   "metadata": {},
   "outputs": [],
   "source": [
    "df_r2_06hr_human['r_00hr'] = pd.to_numeric(df_r2_06hr_human['r_00hr'],errors='coerce')\n",
    "\n",
    "df_r2_06hr_human['r_06hr_pred'] = pd.to_numeric(df_r2_06hr_human['r_06hr_pred'], errors='coerce')\n",
    "\n",
    "\n",
    "# Reshape the DataFrame\n",
    "df_melted = df_r2_06hr_human.melt(id_vars=['celltype'], value_vars=['r_00hr', 'r_06hr_pred'],\n",
    "                    var_name='r_type', value_name='value')\n",
    "\n",
    "# Pivot the melted DataFrame\n",
    "df_pivot = df_melted.pivot('r_type', 'celltype', 'value')\n",
    "\n",
    "# Plot heatmap\n",
    "plt.figure(figsize=(10, 3))\n",
    "sns.heatmap(df_pivot, annot=True, cmap=\"Purples\",\n",
    "           norm=Normalize(vmin=-0.2, vmax=1),linecolor='grey',\n",
    "            linewidths=0.05)\n",
    "plt.title('R2 similarity with 06hr human')\n",
    "plt.yticks(rotation=0)\n",
    "plt.savefig(os.path.join(base_plots_path,pre + '_df_r2_06hr_human.pdf'),bbox_inches='tight')\n",
    "plt.show()"
   ]
  },
  {
   "cell_type": "code",
   "execution_count": null,
   "id": "ad2e8729",
   "metadata": {},
   "outputs": [],
   "source": [
    "base_package_version_path = h.return_package_version_local_path(drive=drive)\n",
    "h.save_package_versions(base_package_version_path,pre,do_print = True)\n",
    "h.print_main_versions()"
   ]
  }
 ],
 "metadata": {
  "kernelspec": {
   "display_name": "Python 3 (ipykernel)",
   "language": "python",
   "name": "python3"
  },
  "language_info": {
   "codemirror_mode": {
    "name": "ipython",
    "version": 3
   },
   "file_extension": ".py",
   "mimetype": "text/x-python",
   "name": "python",
   "nbconvert_exporter": "python",
   "pygments_lexer": "ipython3",
   "version": "3.8.17"
  }
 },
 "nbformat": 4,
 "nbformat_minor": 5
}
