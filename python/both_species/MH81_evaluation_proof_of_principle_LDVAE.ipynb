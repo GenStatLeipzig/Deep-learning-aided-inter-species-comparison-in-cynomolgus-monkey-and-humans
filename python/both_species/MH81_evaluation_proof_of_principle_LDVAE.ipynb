{
 "cells": [
  {
   "cell_type": "code",
   "execution_count": null,
   "id": "5d2649f5-e91b-483b-bbb6-c7779164bd91",
   "metadata": {},
   "outputs": [],
   "source": [
    "from imports_LDVAE_local import *\n",
    "from scipy.stats import spearmanr\n",
    "from matplotlib.colors import Normalize"
   ]
  },
  {
   "cell_type": "code",
   "execution_count": null,
   "id": "185a1b54-bab0-4ee0-896c-55febc1eb1b3",
   "metadata": {},
   "outputs": [],
   "source": [
    "pre = \"MH81\"\n",
    "drive = 'F'\n",
    "base_model_path,base_table_path,base_plots_path,base_anndata_objects = h.return_local_paths(drive = drive,\n",
    "                                                                              pre = pre,\n",
    "                                                                              add_path = True)"
   ]
  },
  {
   "cell_type": "code",
   "execution_count": null,
   "id": "5ddd12c9-df0c-4bc6-be7e-8985a9b101b3",
   "metadata": {},
   "outputs": [],
   "source": [
    "#load proof of principle results from MH80\n",
    "_,base_table_path_MH80,_,_ = h.return_local_paths(drive = drive,pre = 'MH80',add_path = False)"
   ]
  },
  {
   "cell_type": "code",
   "execution_count": null,
   "id": "c18f136d-460d-4c10-be96-499da2625ef8",
   "metadata": {},
   "outputs": [],
   "source": [
    "set_types = ['train','test']\n",
    "celltypes = ['B',\n",
    " 'CD14 Mono',\n",
    " 'CD16 Mono',\n",
    " 'CD4 T',\n",
    " 'CD8 T',\n",
    " 'MAIT',\n",
    " 'NK+Proliferating']"
   ]
  },
  {
   "cell_type": "code",
   "execution_count": null,
   "id": "99e3bda3-252f-47c6-b957-bd5c1bd94f87",
   "metadata": {},
   "outputs": [],
   "source": [
    "df_spearman = pd.DataFrame(columns = ['r_cyno_human','r_cyno_shifted_human','set_type','celltype'])\n",
    "for set_type in set_types:\n",
    "    for celltype in celltypes:\n",
    "        df_temp = pd.read_csv(os.path.join(base_table_path_MH80,'MH80_df_ct_mean_expr_' + str(set_type) + '_' + str(celltype) + '.csv'),index_col=0).T\n",
    "\n",
    "        df_temp['rank_00hr_cyno_'+ str(set_type) ] = df_temp['mean_expression_00hr_cyno_'+ str(set_type) ].rank(method='dense', ascending=False).astype(int)\n",
    "\n",
    "        df_temp['rank_00hr_human_'+ str(set_type) ] = df_temp['mean_expression_00hr_human_'+ str(set_type) ].rank(method='dense', ascending=False).astype(int)\n",
    "\n",
    "        df_temp['rank_00hr_cyno_shifted_'+ str(set_type) ] =  df_temp['mean_expression_00hr_cyno_shifted_'+ str(set_type) ].rank(method='dense', ascending=False).astype(int)\n",
    "\n",
    "        r_cyno_human = spearmanr(df_temp['rank_00hr_cyno_'+ str(set_type)],df_temp['rank_00hr_human_'+ str(set_type)])[0]\n",
    "\n",
    "        r_cyno_shifted_human = spearmanr(df_temp['rank_00hr_cyno_shifted_'+ str(set_type)],df_temp['rank_00hr_human_'+ str(set_type)])[0]\n",
    "        df_spearman = df_spearman.append(pd.DataFrame([r_cyno_human,r_cyno_shifted_human,set_type,celltype],index = ['r_cyno_human','r_cyno_shifted_human','set_type','celltype']).T)  "
   ]
  },
  {
   "cell_type": "code",
   "execution_count": null,
   "id": "2a91e17a-fb23-4053-9bc8-8685247744be",
   "metadata": {},
   "outputs": [],
   "source": [
    "df_spearman['set_type+celltype'] = df_spearman['set_type'].astype(str) + '_' + df_spearman['celltype'].astype(str)\n",
    "\n",
    "df_spearman['r_cyno_shifted_human'] = pd.to_numeric(df_spearman['r_cyno_shifted_human'],errors='coerce')\n",
    "\n",
    "df_spearman['r_cyno_human'] = pd.to_numeric(df_spearman['r_cyno_human'], errors='coerce')\n",
    "\n",
    "df_pivot_r_cyno_human = df_spearman.pivot(index='set_type', columns='celltype', values='r_cyno_human')\n",
    "df_pivot_r_cyno_shifted_human = df_spearman.pivot(index='set_type', columns='celltype', values='r_cyno_shifted_human')\n",
    "\n",
    "df_pivot_r_cyno_shifted_human = df_pivot_r_cyno_shifted_human.reindex(['train', 'test'])\n",
    "\n",
    "df_pivot_r_cyno_human = df_pivot_r_cyno_human.reindex(['train', 'test'])\n",
    "\n",
    "df_pivot_r_cyno_human = df_pivot_r_cyno_human.reindex(['train', 'test'])\n",
    "\n",
    "df_all = df_pivot_r_cyno_human.append(df_pivot_r_cyno_shifted_human)"
   ]
  },
  {
   "cell_type": "code",
   "execution_count": null,
   "id": "43340550-0a1a-4520-add5-a977db8db51d",
   "metadata": {},
   "outputs": [],
   "source": [
    "df_all.index =['train_human_cyno', 'test_human_cyno', 'train_human_shifted_cyno', 'test_human_shifted_cyno']\n",
    "df_all.to_csv(os.path.join(base_table_path,pre + '_df_all_spearman.csv'))"
   ]
  },
  {
   "cell_type": "code",
   "execution_count": null,
   "id": "1ebdd8b1-d30b-4799-8dec-a72205820d2d",
   "metadata": {},
   "outputs": [],
   "source": [
    "plt.figure(figsize=(10, 6))\n",
    "sns.heatmap(df_all, cmap=\"RdYlGn\", annot=True, fmt=\".2f\",\n",
    "           cbar_kws={'label': 'Spearman rank correlation'},\n",
    "            norm=Normalize(vmin=0.1, vmax=1),\n",
    "           linecolor='grey',\n",
    "            linewidths=0.05)\n",
    "\n",
    "plt.title('Rank correlation proof principle')\n",
    "plt.yticks(rotation=0)\n",
    "plt.savefig(os.path.join(base_plots_path,pre + '_heatmap_rank_correlation_annot.pdf'),bbox_inches='tight')\n",
    "plt.show()"
   ]
  },
  {
   "cell_type": "code",
   "execution_count": null,
   "id": "f11ebdc7-ef83-4657-89cc-74ddb41bb83f",
   "metadata": {},
   "outputs": [],
   "source": [
    "df_all_only_test = df_all.T[['test_human_cyno','test_human_shifted_cyno']].T"
   ]
  },
  {
   "cell_type": "code",
   "execution_count": null,
   "id": "188c04f3-5f92-4e4a-ab6b-3b2dff3e9829",
   "metadata": {},
   "outputs": [],
   "source": [
    "df_all.to_csv(os.path.join(base_table_path,pre + '_df_all_only_test_spearman.csv'))"
   ]
  },
  {
   "cell_type": "code",
   "execution_count": null,
   "id": "3c1f1368-d9d1-4a89-953f-71dcad3c11fb",
   "metadata": {},
   "outputs": [],
   "source": [
    "plt.figure(figsize=(10, 3))\n",
    "sns.heatmap(df_all_only_test, cmap=\"PuBuGn\", annot=True, fmt=\".2f\",\n",
    "           cbar_kws={'label': 'Spearman rank correlation'},\n",
    "            norm=Normalize(vmin=0.1, vmax=1),\n",
    "           linecolor='grey',\n",
    "            linewidths=0.05)\n",
    "\n",
    "plt.title('Rank correlation proof principle')\n",
    "plt.yticks(rotation=0)\n",
    "plt.savefig(os.path.join(base_plots_path,pre + '_only_test_heatmap_rank_correlation_annot.pdf'),bbox_inches='tight')\n",
    "plt.show()"
   ]
  },
  {
   "cell_type": "code",
   "execution_count": null,
   "id": "936dbcff-27fe-472e-9fa6-6791948555e2",
   "metadata": {},
   "outputs": [],
   "source": [
    "base_package_version_path = h.return_package_version_local_path(drive=drive)\n",
    "h.save_package_versions(base_package_version_path,pre,do_print = True)"
   ]
  }
 ],
 "metadata": {
  "kernelspec": {
   "display_name": "Python 3 (ipykernel)",
   "language": "python",
   "name": "python3"
  },
  "language_info": {
   "codemirror_mode": {
    "name": "ipython",
    "version": 3
   },
   "file_extension": ".py",
   "mimetype": "text/x-python",
   "name": "python",
   "nbconvert_exporter": "python",
   "pygments_lexer": "ipython3",
   "version": "3.8.19"
  }
 },
 "nbformat": 4,
 "nbformat_minor": 5
}
