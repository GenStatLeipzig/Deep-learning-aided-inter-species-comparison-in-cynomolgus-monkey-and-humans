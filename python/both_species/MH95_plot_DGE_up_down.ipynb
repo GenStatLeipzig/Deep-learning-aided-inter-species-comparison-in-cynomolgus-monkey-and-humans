{
 "cells": [
  {
   "cell_type": "code",
   "execution_count": null,
   "id": "324ee6c8-c555-493f-a37d-6ffc20643232",
   "metadata": {},
   "outputs": [],
   "source": [
    "import numpy as np\n",
    "import scanpy as sc\n",
    "import seaborn as sns\n",
    "import os\n",
    "import pandas as pd\n",
    "import matplotlib.pyplot as plt\n",
    "import warnings\n",
    "import sys\n",
    "path_helper = [\"C:\\\\\",\"Users\",\"vfriedrich\",\"projects\",\"monkey_IZI\",\"git_documentation\",\"scRNAseq_cross_species_primate_human\",\"analysis\",\"helper\"]\n",
    "sys.path.append(os.path.join(*path_helper))\n",
    "import helperVDF as h\n",
    "print(sys.executable)\n",
    "from matplotlib.colors import Normalize"
   ]
  },
  {
   "cell_type": "code",
   "execution_count": null,
   "id": "7fb3ef31-0e82-4d82-b1c4-9e2316c9aaf1",
   "metadata": {},
   "outputs": [],
   "source": [
    "pre = \"MH95\"\n",
    "drive = 'F'\n",
    "#species = 'cyno'\n",
    "base_model_path,base_table_path,base_plots_path,base_anndata_objects = h.return_local_paths(drive = drive,\n",
    "                                                                                            pre = pre,\n",
    "                                                                                            add_path = True)"
   ]
  },
  {
   "cell_type": "markdown",
   "id": "879e6644-2a7a-4f97-ac33-3b210f08536c",
   "metadata": {},
   "source": [
    "read in from previous calculations"
   ]
  },
  {
   "cell_type": "code",
   "execution_count": null,
   "id": "6c0ddaa5-3f89-4410-9fd4-039217b3f7cb",
   "metadata": {},
   "outputs": [],
   "source": [
    "_,base_table_path_MH93,_,_ = h.return_local_paths(drive = drive,pre = 'MH93',add_path = True)"
   ]
  },
  {
   "cell_type": "code",
   "execution_count": null,
   "id": "3258d678-907a-4810-b868-d25df927da74",
   "metadata": {},
   "outputs": [],
   "source": [
    "_,base_table_path_MH94,_,_ = h.return_local_paths(drive = drive,pre = 'MH94',add_path = True)"
   ]
  },
  {
   "cell_type": "code",
   "execution_count": null,
   "id": "370e332d-1bf3-41f6-8b4b-c916249e139c",
   "metadata": {},
   "outputs": [],
   "source": [
    "_,base_table_path_H82,_,_ = h.return_local_paths(drive = drive,pre = \"H82\",add_path = False)\n",
    "df_dge_H = pd.read_csv(os.path.join(base_table_path_H82,'H82_dge_tab_edgeR.csv'),index_col=0)\n",
    "df_dge_H['FDR_0.25'] = df_dge_H['FDR'] <= 0.25\n",
    "df_dge_H['FDR_0.5'] = df_dge_H['FDR'] <= 0.5\n",
    "df_dge_H['FDR_0.2'] = df_dge_H['FDR'] <= 0.2"
   ]
  },
  {
   "cell_type": "code",
   "execution_count": null,
   "id": "3760865f-7f78-4e3c-8d6b-1dc8db852aa5",
   "metadata": {},
   "outputs": [],
   "source": [
    "df_dge_M_final = pd.read_csv(os.path.join(base_table_path_MH93,'MH93' + '_'+ 'df_dge_M_final.csv'),index_col=0)"
   ]
  },
  {
   "cell_type": "code",
   "execution_count": null,
   "id": "306a3c23-b617-4bc4-b9e2-390b6f8841de",
   "metadata": {},
   "outputs": [],
   "source": [
    "df_DGE_processed = pd.read_csv(os.path.join(base_table_path_MH93,'MH93' + '_df_DGE_processed.csv'),index_col=0)"
   ]
  },
  {
   "cell_type": "code",
   "execution_count": null,
   "id": "7efbb66f-b8cc-4296-80f4-a2a1f1349684",
   "metadata": {},
   "outputs": [],
   "source": [
    "results_df_prop = pd.read_csv(os.path.join(base_table_path_MH94,'MH94' + '_results_df_prop_test.csv'),index_col=0)"
   ]
  },
  {
   "cell_type": "code",
   "execution_count": null,
   "id": "78d8db3f-4684-4029-96da-f5ae389fd5e0",
   "metadata": {},
   "outputs": [],
   "source": [
    "results_df_prop"
   ]
  },
  {
   "cell_type": "code",
   "execution_count": null,
   "id": "755bda6e-4b91-42b2-a9c3-c044e2331488",
   "metadata": {},
   "outputs": [],
   "source": [
    "results_df_prop['ident'] = results_df_prop['celltype'] + results_df_prop['comp_M'] + results_df_prop['comp_H']"
   ]
  },
  {
   "cell_type": "code",
   "execution_count": null,
   "id": "790bf74b-35d4-41c7-b432-560282564a8b",
   "metadata": {},
   "outputs": [],
   "source": [
    "df_DGE_processed['ident'] = df_DGE_processed['celltype'] + [item[-4:] for item in df_DGE_processed['comparison_vs_00hr_H']] + [item[-4:] for item in df_DGE_processed['comparison_vs_00hr_M']]"
   ]
  },
  {
   "cell_type": "code",
   "execution_count": null,
   "id": "88a30c25-34c6-46fa-ad3b-1442485dd9f8",
   "metadata": {},
   "outputs": [],
   "source": [
    "df_DGE_processed_with_prop = pd.merge(df_DGE_processed, results_df_prop, on='ident', how='inner')"
   ]
  },
  {
   "cell_type": "code",
   "execution_count": null,
   "id": "485c4f0f-9193-4dc1-b565-2cb0f8c24cfb",
   "metadata": {},
   "outputs": [],
   "source": [
    "df_DGE_processed_with_prop.rename(columns={'celltype_x':'celltype'},inplace=True)"
   ]
  },
  {
   "cell_type": "code",
   "execution_count": null,
   "id": "baff7a64-941f-4cb0-98e7-3b53c73ee259",
   "metadata": {},
   "outputs": [],
   "source": [
    "def map_significance(p_value):\n",
    "    if p_value <= 0.0001:\n",
    "        return '****'\n",
    "    elif p_value <= 0.001:\n",
    "        return '***'\n",
    "    elif p_value <= 0.01:\n",
    "        return '**'\n",
    "    elif p_value <= 0.05:\n",
    "        return '*'\n",
    "    else:\n",
    "        return ''\n",
    "\n",
    "df_DGE_processed_with_prop['significance_star'] = df_DGE_processed_with_prop['p_value_prop_test'].apply(map_significance)"
   ]
  },
  {
   "cell_type": "code",
   "execution_count": null,
   "id": "61ebb12e-74ea-4867-9fcf-d5c037863c73",
   "metadata": {},
   "outputs": [],
   "source": [
    "df_DGE_processed_with_prop.to_csv(os.path.join(base_table_path,pre+ '_df_DGE_processed_with_prop.csv'))"
   ]
  },
  {
   "cell_type": "code",
   "execution_count": null,
   "id": "daae9ad4-5d4f-4817-be0f-9449255d2607",
   "metadata": {},
   "outputs": [],
   "source": [
    "plt.figure(figsize=(14, 4))\n",
    "# Set the aesthetic style of the plots\n",
    "sns.set(style=\"whitegrid\")\n",
    "\n",
    "# Create a scatter plot with seaborn for categorical H and M\n",
    "scatter = sns.scatterplot(\n",
    "    x='ct+comp_00hr_H',\n",
    "    y='comp_00hr_M',\n",
    "    size='nr_FDR_both',\n",
    "    hue='fraction_same_direction',\n",
    "    data=df_DGE_processed_with_prop,\n",
    "    palette='Purples',\n",
    "    sizes=(100, 800),\n",
    "    #alpha=1-df_DGE_processed_with_prop['p_value_prop_test'],\n",
    "    edgecolor='black',\n",
    "    legend=True\n",
    ")\n",
    "\n",
    "ax = plt.gca()\n",
    "# Add color bar for 'fraction_same_direction'\n",
    "#norm = plt.Normalize(0,1)\n",
    "sm = plt.cm.ScalarMappable(cmap=\"Purples\")\n",
    "#sm.set_array([])\n",
    "#cbar = plt.colorbar(sm, ax=ax)\n",
    "#cbar.set_label('Fraction Same Direction')\n",
    "#plt.colorbar(sm, label='Fraction Same Direction')\n",
    "ax.set_ylim(-0.5, 1.5)\n",
    "# Add labels and title\n",
    "\n",
    "categories = sorted(df_DGE_processed_with_prop['comp_00hr_M'].unique())\n",
    "category_to_position = {cat: i for i, cat in enumerate(categories)}\n",
    "\n",
    "for i, row in df_DGE_processed_with_prop.iterrows():\n",
    "    x_coord = row['ct+comp_00hr_H']\n",
    "    y_coord = category_to_position[row['comp_00hr_M']]  # Map categorical value to numeric position\n",
    "    \n",
    "    # Retrieve the significance stars from the 'significance' column\n",
    "    significance = row['significance_star']\n",
    "    \n",
    "    # Only annotate if there's a significance value (non-empty string)\n",
    "    if significance:\n",
    "        ax.text(\n",
    "            x_coord, \n",
    "            y_coord + 0.18,  # Offset the numeric position for annotation\n",
    "            significance, \n",
    "            ha='center', \n",
    "            va='bottom', \n",
    "            fontsize=14, \n",
    "            color='black'\n",
    "        )\n",
    "\n",
    "\n",
    "ax.set_ylim(-0.5, len(categories) - 0.5)\n",
    "\n",
    "plt.xlabel('Human')\n",
    "plt.ylabel('Cyno')\n",
    "plt.title('DGE summary')\n",
    "ax.legend(bbox_to_anchor=(1.05, 1))\n",
    "plt.xticks(rotation=90)\n",
    "plt.subplots_adjust(right=0.75)\n",
    "plt.tight_layout()\n",
    "plt.savefig(os.path.join(base_plots_path,pre + '_scatter_same_direction_nr_FDR_both.pdf'),bbox_inches='tight')\n",
    "plt.show()"
   ]
  },
  {
   "cell_type": "code",
   "execution_count": null,
   "id": "d8f79750-53dc-4550-ae85-dcb8751679cd",
   "metadata": {},
   "outputs": [],
   "source": [
    "import matplotlib.lines as mlines\n",
    "import matplotlib.pyplot as plt\n",
    "\n",
    "# Create a blank figure\n",
    "plt.figure(figsize=(2, 2))\n",
    "ax = plt.gca()\n",
    "\n",
    "# Add a custom legend for significance stars\n",
    "star_legend = [\n",
    "    mlines.Line2D([], [], color='black', marker='', linestyle='none', label='**** $p \\leq 0.0001$'),\n",
    "    mlines.Line2D([], [], color='black', marker='', linestyle='none', label='***  $p \\leq 0.001$'),\n",
    "    mlines.Line2D([], [], color='black', marker='', linestyle='none', label='**   $p \\leq 0.01$'),\n",
    "    mlines.Line2D([], [], color='black', marker='', linestyle='none', label='*    $p \\leq 0.05$'),\n",
    "]\n",
    "\n",
    "# Add the legend to the plot\n",
    "ax.legend(handles=star_legend, loc='center', title='significance (prop.test)')\n",
    "\n",
    "# Remove axes for clarity\n",
    "ax.axis('off')\n",
    "\n",
    "# Show the plot\n",
    "plt.tight_layout()\n",
    "plt.savefig(os.path.join(base_plots_path,pre + '_significance_legend.pdf'),bbox_inches='tight')\n",
    "plt.show()"
   ]
  },
  {
   "cell_type": "code",
   "execution_count": null,
   "id": "fe85e33e-e91e-453a-ad7d-8162bc64a224",
   "metadata": {},
   "outputs": [],
   "source": [
    "base_package_version_path = h.return_package_version_local_path(drive=drive)\n",
    "h.save_package_versions(base_package_version_path,pre,do_print = True)\n",
    "h.print_main_versions()"
   ]
  }
 ],
 "metadata": {
  "kernelspec": {
   "display_name": "Python 3 (ipykernel)",
   "language": "python",
   "name": "python3"
  },
  "language_info": {
   "codemirror_mode": {
    "name": "ipython",
    "version": 3
   },
   "file_extension": ".py",
   "mimetype": "text/x-python",
   "name": "python",
   "nbconvert_exporter": "python",
   "pygments_lexer": "ipython3",
   "version": "3.8.19"
  }
 },
 "nbformat": 4,
 "nbformat_minor": 5
}
