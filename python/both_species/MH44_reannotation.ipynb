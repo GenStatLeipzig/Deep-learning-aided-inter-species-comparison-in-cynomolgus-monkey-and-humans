{
 "cells": [
  {
   "cell_type": "code",
   "execution_count": null,
   "id": "4d4aafe7",
   "metadata": {},
   "outputs": [],
   "source": [
    "import numpy as np\n",
    "import anndata as ad\n",
    "import scanpy as sc\n",
    "import seaborn as sns\n",
    "import os\n",
    "import pandas as pd\n",
    "import matplotlib.pyplot as plt\n",
    "import warnings\n",
    "import sys\n",
    "path_helper = [\"C:\\\\\",\"Users\",\"vfriedrich\",\"projects\",\"monkey_IZI\",\"git_documentation\",\"scRNAseq_cross_species_primate_human\",\"analysis\",\"helper\"]\n",
    "sys.path.append(os.path.join(*path_helper))\n",
    "import helperVDF as h\n",
    "#import helper_scgen as hscg\n",
    "print(sys.executable)\n",
    "import anndata as ad\n",
    "import time\n",
    "h.print_main_versions()\n"
   ]
  },
  {
   "cell_type": "code",
   "execution_count": null,
   "id": "52e7c689",
   "metadata": {},
   "outputs": [],
   "source": [
    "pre = \"MH44\"\n",
    "drive = 'F'\n",
    "base_model_path,base_table_path,base_plots_path,base_anndata_objects = h.return_local_paths(drive = drive,\n",
    "                                                                              pre = pre,\n",
    "                                                                              add_path = True)\n",
    "\n",
    "_,_,_,base_anndata_objects_MH39 = h.return_local_paths(drive = drive,pre = \"MH39\",add_path = True)"
   ]
  },
  {
   "cell_type": "code",
   "execution_count": null,
   "id": "2e85e639-1d51-4dda-bda6-5a187bfc7876",
   "metadata": {},
   "outputs": [],
   "source": [
    "adata = sc.read_h5ad(os.path.join(base_anndata_objects_MH39,\"MH39_joined_gene_nomenclatureVAE.h5ad\"))"
   ]
  },
  {
   "cell_type": "code",
   "execution_count": null,
   "id": "9cd2051d-2680-4128-86e0-29f558f052c9",
   "metadata": {},
   "outputs": [],
   "source": [
    "path_clusteranno_s0140 = 'F:\\\\monkey_IZI\\\\analysis\\\\tables\\\\s0140_clusteranno_scvi.txt.gz'"
   ]
  },
  {
   "cell_type": "code",
   "execution_count": null,
   "id": "f3e437ed-3295-47f2-a492-4a2beb95c975",
   "metadata": {},
   "outputs": [],
   "source": [
    "clusteranno_s0140 = pd.read_csv(path_clusteranno_s0140,compression = 'gzip',index_col=0)\n"
   ]
  },
  {
   "cell_type": "code",
   "execution_count": null,
   "id": "ee8a76f9-c125-4c78-a685-8342922735e3",
   "metadata": {},
   "outputs": [],
   "source": [
    "adata.obs = pd.merge(adata.obs, clusteranno_s0140, left_index=True, right_index=True)\n",
    "\n",
    "adata.write(os.path.join(base_anndata_objects,pre + '_clusterannoVAE.h5ad'))"
   ]
  },
  {
   "cell_type": "markdown",
   "id": "6b3f9092-e2e3-46ad-b798-b9296ac8a4c1",
   "metadata": {},
   "source": [
    "### Save session"
   ]
  },
  {
   "cell_type": "code",
   "execution_count": null,
   "id": "473b6413-9dda-401a-99c1-fbb38bb98dcb",
   "metadata": {},
   "outputs": [],
   "source": [
    "base_package_version_path = h.return_package_version_local_path(drive=drive)\n",
    "h.save_package_versions(base_package_version_path,pre,do_print = True)\n",
    "h.print_main_versions()"
   ]
  }
 ],
 "metadata": {
  "kernelspec": {
   "display_name": "Python 3 (ipykernel)",
   "language": "python",
   "name": "python3"
  },
  "language_info": {
   "codemirror_mode": {
    "name": "ipython",
    "version": 3
   },
   "file_extension": ".py",
   "mimetype": "text/x-python",
   "name": "python",
   "nbconvert_exporter": "python",
   "pygments_lexer": "ipython3",
   "version": "3.8.17"
  }
 },
 "nbformat": 4,
 "nbformat_minor": 5
}
