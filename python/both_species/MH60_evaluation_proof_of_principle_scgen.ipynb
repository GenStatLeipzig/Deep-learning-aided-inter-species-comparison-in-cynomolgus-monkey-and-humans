{
 "cells": [
  {
   "cell_type": "code",
   "execution_count": null,
   "id": "a71b414b",
   "metadata": {},
   "outputs": [],
   "source": [
    "from imports_scgen_local import * #imports_scgen_local have to be in same folder"
   ]
  },
  {
   "cell_type": "code",
   "execution_count": null,
   "id": "e49060da",
   "metadata": {},
   "outputs": [],
   "source": [
    "pre = \"MH60\"\n",
    "drive = 'F'\n",
    "base_model_path,base_table_path,base_plots_path,base_anndata_objects = h.return_local_paths(drive = drive,\n",
    "                                                                              pre = pre,\n",
    "                                                                              add_path = True)"
   ]
  },
  {
   "cell_type": "code",
   "execution_count": null,
   "id": "eabc55fd",
   "metadata": {},
   "outputs": [],
   "source": [
    "#load proof of principle results from MH59\n",
    "_,base_table_path_MH59,_,_ = h.return_local_paths(drive = drive,pre = 'MH59',add_path = False)"
   ]
  },
  {
   "cell_type": "code",
   "execution_count": null,
   "id": "7aa9ea4c",
   "metadata": {},
   "outputs": [],
   "source": [
    "set_types = ['train','test']\n",
    "celltypes = ['B',\n",
    " 'CD14 Mono',\n",
    " 'CD16 Mono',\n",
    " 'CD4 T',\n",
    " 'CD8 T',\n",
    " 'MAIT',\n",
    " 'NK+Proliferating']"
   ]
  },
  {
   "cell_type": "code",
   "execution_count": null,
   "id": "16ec07ac",
   "metadata": {},
   "outputs": [],
   "source": [
    "df_spearman = pd.DataFrame(columns = ['r_cyno_human','r_cyno_shifted_human','set_type','celltype'])\n",
    "for set_type in set_types:\n",
    "    for celltype in celltypes:\n",
    "        df_temp = pd.read_csv(os.path.join(base_table_path_MH59,'MH59_df_ct_mean_expr_' + str(set_type) + '_' + str(celltype) + '.csv'),index_col=0).T\n",
    "\n",
    "        df_temp['rank_00hr_cyno_'+ str(set_type) ] = df_temp['mean_expression_00hr_cyno_'+ str(set_type) ].rank(method='dense', ascending=False).astype(int)\n",
    "\n",
    "        df_temp['rank_00hr_human_'+ str(set_type) ] = df_temp['mean_expression_00hr_human_'+ str(set_type) ].rank(method='dense', ascending=False).astype(int)\n",
    "\n",
    "        df_temp['rank_00hr_cyno_shifted_'+ str(set_type) ] =  df_temp['mean_expression_00hr_cyno_shifted_'+ str(set_type) ].rank(method='dense', ascending=False).astype(int)\n",
    "\n",
    "        r_cyno_human = spearmanr(df_temp['rank_00hr_cyno_'+ str(set_type)],df_temp['rank_00hr_human_'+ str(set_type)])[0]\n",
    "\n",
    "        r_cyno_shifted_human = spearmanr(df_temp['rank_00hr_cyno_shifted_'+ str(set_type)],df_temp['rank_00hr_human_'+ str(set_type)])[0]\n",
    "        df_spearman = df_spearman.append(pd.DataFrame([r_cyno_human,r_cyno_shifted_human,set_type,celltype],index = ['r_cyno_human','r_cyno_shifted_human','set_type','celltype']).T)  "
   ]
  },
  {
   "cell_type": "code",
   "execution_count": null,
   "id": "145487d1",
   "metadata": {},
   "outputs": [],
   "source": [
    "df_spearman['set_type+celltype'] = df_spearman['set_type'].astype(str) + '_' + df_spearman['celltype'].astype(str)\n",
    "\n",
    "df_spearman['r_cyno_shifted_human'] = pd.to_numeric(df_spearman['r_cyno_shifted_human'],errors='coerce')\n",
    "\n",
    "df_spearman['r_cyno_human'] = pd.to_numeric(df_spearman['r_cyno_human'], errors='coerce')\n",
    "\n",
    "df_pivot_r_cyno_human = df_spearman.pivot(index='set_type', columns='celltype', values='r_cyno_human')\n",
    "df_pivot_r_cyno_shifted_human = df_spearman.pivot(index='set_type', columns='celltype', values='r_cyno_shifted_human')\n",
    "\n",
    "df_pivot_r_cyno_shifted_human = df_pivot_r_cyno_shifted_human.reindex(['train', 'test'])\n",
    "\n",
    "df_pivot_r_cyno_human = df_pivot_r_cyno_human.reindex(['train', 'test'])\n",
    "\n",
    "df_pivot_r_cyno_human = df_pivot_r_cyno_human.reindex(['train', 'test'])\n",
    "\n",
    "df_all = df_pivot_r_cyno_human.append(df_pivot_r_cyno_shifted_human)"
   ]
  },
  {
   "cell_type": "code",
   "execution_count": null,
   "id": "e4af6177",
   "metadata": {},
   "outputs": [],
   "source": [
    "df_all.index =['train_human_cyno', 'test_human_cyno', 'train_human_shifted_cyno', 'test_human_shifted_cyno']"
   ]
  },
  {
   "cell_type": "code",
   "execution_count": null,
   "id": "681fdcfa",
   "metadata": {},
   "outputs": [],
   "source": [
    "df_all.to_csv(os.path.join(base_table_path,pre + '_df_all_spearman.csv'))"
   ]
  },
  {
   "cell_type": "code",
   "execution_count": null,
   "id": "0fcd92d6",
   "metadata": {},
   "outputs": [],
   "source": [
    "plt.figure(figsize=(10, 6))\n",
    "sns.heatmap(df_all, cmap=\"RdYlGn\", annot=True, fmt=\".2f\",\n",
    "           cbar_kws={'label': 'Spearman rank correlation'},\n",
    "            norm=Normalize(vmin=0.6, vmax=1),\n",
    "           linecolor='grey',\n",
    "            linewidths=0.05)\n",
    "\n",
    "plt.title('Rank correlation proof principle')\n",
    "plt.yticks(rotation=0)\n",
    "#plt.savefig(os.path.join(base_plots_path,pre + '_heatmap_rank_correlation_annot.pdf'),bbox_inches='tight')\n",
    "plt.show()"
   ]
  },
  {
   "cell_type": "code",
   "execution_count": null,
   "id": "6967a58c",
   "metadata": {},
   "outputs": [],
   "source": [
    "plt.figure(figsize=(10, 6))\n",
    "sns.heatmap(df_all, cmap=\"RdYlGn\", annot=False, fmt=\".2f\",\n",
    "           cbar_kws={'label': 'Spearman rank correlation'},\n",
    "            norm=Normalize(vmin=0.6, vmax=1),\n",
    "           linecolor='grey',\n",
    "            linewidths=0.05)\n",
    "\n",
    "plt.title('Rank correlation proof principle')\n",
    "plt.yticks(rotation=0)\n",
    "#plt.savefig(os.path.join(base_plots_path,pre + '_heatmap_rank_correlation_annot.pdf'),bbox_inches='tight')\n",
    "plt.show()"
   ]
  },
  {
   "cell_type": "code",
   "execution_count": null,
   "id": "015c156d",
   "metadata": {},
   "outputs": [],
   "source": [
    "df_all_only_test = df_all.T[['test_human_cyno','test_human_shifted_cyno']].T"
   ]
  },
  {
   "cell_type": "code",
   "execution_count": null,
   "id": "2c89e5fc",
   "metadata": {},
   "outputs": [],
   "source": [
    "df_all.to_csv(os.path.join(base_table_path,pre + '_df_all_only_test_spearman.csv'))"
   ]
  },
  {
   "cell_type": "code",
   "execution_count": null,
   "id": "40763cba",
   "metadata": {},
   "outputs": [],
   "source": [
    "plt.figure(figsize=(10, 3))\n",
    "sns.heatmap(df_all_only_test, cmap=\"PuBuGn\", annot=True, fmt=\".2f\",\n",
    "           cbar_kws={'label': 'Spearman rank correlation'},\n",
    "            norm=Normalize(vmin=0.65, vmax=1),\n",
    "           linecolor='grey',\n",
    "            linewidths=0.05)\n",
    "\n",
    "plt.title('Rank correlation proof principle')\n",
    "plt.yticks(rotation=0)\n",
    "#plt.savefig(os.path.join(base_plots_path,pre + '_only_test_heatmap_rank_correlation_annot.pdf'),bbox_inches='tight')\n",
    "plt.show()"
   ]
  },
  {
   "cell_type": "code",
   "execution_count": null,
   "id": "2578bb90",
   "metadata": {},
   "outputs": [],
   "source": [
    "plt.figure(figsize=(10, 3))\n",
    "sns.heatmap(df_all_only_test, cmap=\"PuBuGn\", annot=False, fmt=\".2f\",\n",
    "           cbar_kws={'label': 'Spearman rank correlation'},\n",
    "            norm=Normalize(vmin=0.65, vmax=1),\n",
    "           linecolor='grey',\n",
    "            linewidths=0.05)\n",
    "\n",
    "plt.title('Rank correlation proof principle')\n",
    "plt.yticks(rotation=0)\n",
    "#plt.savefig(os.path.join(base_plots_path,pre + '_only_test_heatmap_rank_correlation_annot.pdf'),bbox_inches='tight')\n",
    "plt.show()"
   ]
  },
  {
   "cell_type": "markdown",
   "id": "68b6f0bd",
   "metadata": {},
   "source": [
    "### Save session"
   ]
  },
  {
   "cell_type": "code",
   "execution_count": null,
   "id": "7e0df631",
   "metadata": {},
   "outputs": [],
   "source": [
    "base_package_version_path = h.return_package_version_local_path(drive=drive)\n",
    "h.save_package_versions(base_package_version_path,pre,do_print = True)"
   ]
  }
 ],
 "metadata": {
  "kernelspec": {
   "display_name": "Python 3 (ipykernel)",
   "language": "python",
   "name": "python3"
  },
  "language_info": {
   "codemirror_mode": {
    "name": "ipython",
    "version": 3
   },
   "file_extension": ".py",
   "mimetype": "text/x-python",
   "name": "python",
   "nbconvert_exporter": "python",
   "pygments_lexer": "ipython3",
   "version": "3.8.17"
  }
 },
 "nbformat": 4,
 "nbformat_minor": 5
}
