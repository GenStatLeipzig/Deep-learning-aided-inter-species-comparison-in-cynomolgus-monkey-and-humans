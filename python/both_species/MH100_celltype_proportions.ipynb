{
 "cells": [
  {
   "cell_type": "code",
   "execution_count": null,
   "id": "0f54f06b-996a-45eb-bccf-8a9bb9c36b20",
   "metadata": {},
   "outputs": [],
   "source": [
    "import numpy as np\n",
    "import scanpy as sc\n",
    "import seaborn as sns\n",
    "import os\n",
    "import pandas as pd\n",
    "import matplotlib.pyplot as plt\n",
    "import warnings\n",
    "import sys\n",
    "import pickle as pkl\n",
    "path_helper = [\"C:\\\\\",\"Users\",\"vfriedrich\",\"projects\",\"monkey_IZI\",\"git_documentation\",\"scRNAseq_cross_species_primate_human\",\"analysis\",\"helper\"]\n",
    "sys.path.append(os.path.join(*path_helper))\n",
    "import helperVDF as h\n",
    "#import decoupler\n",
    "print(sys.executable)\n"
   ]
  },
  {
   "cell_type": "code",
   "execution_count": null,
   "id": "d58bb39a-5c62-472e-b3d0-f6f8b8b78c41",
   "metadata": {},
   "outputs": [],
   "source": [
    "pre = \"MH100\"\n",
    "drive = 'F'\n",
    "base_model_path,base_table_path,base_plots_path,base_anndata_objects = h.return_local_paths(drive = drive,\n",
    "                                                                                            pre = pre,\n",
    "                                                                                            add_path = True)"
   ]
  },
  {
   "cell_type": "code",
   "execution_count": null,
   "id": "b8174b52-51df-423a-929b-9ace90d2a044",
   "metadata": {},
   "outputs": [],
   "source": [
    "import sccoda\n",
    "from sccoda.util import comp_ana as mod\n",
    "from sccoda.util import cell_composition_data as dat\n",
    "from sccoda.util import data_visualization as viz\n",
    "import sccoda.datasets as scd"
   ]
  },
  {
   "cell_type": "markdown",
   "id": "4d0d480f-eaf9-41b2-94bf-4225ee3c4422",
   "metadata": {},
   "source": [
    "### Human"
   ]
  },
  {
   "cell_type": "code",
   "execution_count": null,
   "id": "91b36fb9-ae18-47a8-a995-d22545bc63b9",
   "metadata": {},
   "outputs": [],
   "source": [
    "def make_df_annotation_azimut1_5_scanvi_v2(df):\n",
    "    df['cluster_azimut1_5_scanvi_v2'] = df['cluster_azimut1_5_scanvi'].replace(\n",
    "    {'NK': 'NK+Proliferating', 'NK Proliferating': 'NK+Proliferating'})\n",
    "    return df"
   ]
  },
  {
   "cell_type": "code",
   "execution_count": null,
   "id": "8fdfbbdb-6d0f-4160-a880-a33835368595",
   "metadata": {},
   "outputs": [],
   "source": [
    "path_clusteranno_s0140 = 'F:\\\\monkey_IZI\\\\analysis\\\\tables\\\\s0140_clusteranno_scvi.txt.gz'\n",
    "clusteranno_s0140 = pd.read_csv(path_clusteranno_s0140,compression = 'gzip',index_col=0)\n",
    "adata_human.obs = pd.merge(adata_human.obs, clusteranno_s0140, left_index=True, right_index=True)"
   ]
  },
  {
   "cell_type": "code",
   "execution_count": null,
   "id": "d547c0d4-0b2b-48f5-8061-e83d3aab1940",
   "metadata": {},
   "outputs": [],
   "source": [
    "species = 'human'\n",
    "_,_,_,base_anndata_objects_H24 = h.return_local_paths(drive,pre='H24',add_path = False)\n",
    "adata_human = sc.read_h5ad(os.path.join(base_anndata_objects_H24,'H24' + '_' + species + '_anno_celltypes_v0.h5ad'))\n",
    "\n",
    "path_clusteranno_s0140 = 'F:\\\\monkey_IZI\\\\analysis\\\\tables\\\\s0140_clusteranno_scvi.txt.gz'\n",
    "clusteranno_s0140 = pd.read_csv(path_clusteranno_s0140,compression = 'gzip',index_col=0)\n",
    "adata_human.obs = pd.merge(adata_human.obs, clusteranno_s0140, left_index=True, right_index=True)\n",
    "adata_human.obs = make_df_annotation_azimut1_5_scanvi_v2(adata_human.obs)\n",
    "adata_human.obs.rename(columns={\"timepoint_x\": \"timepoint\", \"individual_x\": \"individual\",\"species_x\" : \"species\"}, inplace=True)\n",
    "ct_column = 'cluster_azimut1_5_scanvi_v2'\n",
    "df_human =  adata_human.obs[[ct_column,'timepoint','individual']]\n",
    "cell_counts_human = df_human.groupby([ct_column,'timepoint']).size().reset_index(name='count')\n",
    "\n",
    "cell_counts_pivot_human = cell_counts_human.pivot(index='timepoint',columns = ct_column,values = 'count').reset_index()"
   ]
  },
  {
   "cell_type": "code",
   "execution_count": null,
   "id": "eaa07777-6887-47b6-8d54-adb3688ded88",
   "metadata": {},
   "outputs": [],
   "source": [
    "scoda_obj_human = dat.from_scanpy(\n",
    "    adata_human,\n",
    "    cell_type_identifier=ct_column,\n",
    "    sample_identifier=\"timepoint\",\n",
    "    )\n",
    "\n",
    "#viz.stacked_barplot(data_scanpy_1 , feature_name=\"samples\")"
   ]
  },
  {
   "cell_type": "code",
   "execution_count": null,
   "id": "65db5438-a9af-4634-85c4-cd1ba4b253ef",
   "metadata": {},
   "outputs": [],
   "source": [
    "save_path_human_h5ad = os.path.join(base_anndata_objects,pre + '_scoda_obj_human.h5ad')\n",
    "scoda_obj_human.write_h5ad(save_path_human_h5ad)"
   ]
  },
  {
   "cell_type": "code",
   "execution_count": null,
   "id": "0719cc35-db0e-45b7-8073-f4d65eebd213",
   "metadata": {},
   "outputs": [],
   "source": [
    "df_all_human = pd.DataFrame(scoda_obj_human.X,columns = scoda_obj_human.var.index,index = scoda_obj_human.obs.index)\n",
    "proportions = df_all_human.div(df_all_human.sum(axis=1), axis=0)\n",
    "proportions = proportions.T\n",
    "\n",
    "proportions.to_csv(os.path.join(base_table_path,pre + '_proportions_human.csv'))"
   ]
  },
  {
   "cell_type": "code",
   "execution_count": null,
   "id": "12e82bed-618c-44bb-8b87-34fe5d4059d1",
   "metadata": {},
   "outputs": [],
   "source": [
    "color_timepoints = [\"#3b7c70\", \"#ce9642\",  \"#3b3a3e\"] \n",
    "proportions.plot(kind='bar', figsize=(8, 6), width=0.8, color=color_timepoints)\n",
    "plt.title('Cell type proportions - Human')\n",
    "plt.xlabel('Cell type')\n",
    "plt.ylabel('Proportion')\n",
    "plt.xticks(rotation=90)\n",
    "plt.ylim([0,0.7])\n",
    "plt.savefig(os.path.join(base_plots_path,pre + '_composition_barplot_human.pdf'),bbox_inches = 'tight')"
   ]
  },
  {
   "cell_type": "code",
   "execution_count": null,
   "id": "a3dd4ce8-c3c5-44a3-85e4-c3cd16ab9b7f",
   "metadata": {},
   "outputs": [],
   "source": [
    "plt.figure()\n",
    "viz.stacked_barplot(scoda_obj_human , feature_name=\"samples\")\n",
    "plt.title('human')\n",
    "plt.savefig(os.path.join(base_plots_path,pre + '_scoda_composition_human.pdf'),bbox_inches = 'tight')\n",
    "plt.show()"
   ]
  },
  {
   "cell_type": "code",
   "execution_count": null,
   "id": "1a2d2c1a-8e19-4884-a7e7-3b1dadf53809",
   "metadata": {},
   "outputs": [],
   "source": [
    "scoda_obj_human.obs['Condition'] = scoda_obj_human.obs.index \n",
    "scoda_model = mod.CompositionalAnalysis(scoda_obj_human, formula=\"Condition\", reference_cell_type=\"automatic\")\n",
    "\n",
    "sim_results = scoda_model.sample_hmc()\n",
    "\n",
    "sim_results.summary() \n",
    "\n",
    "sim_results.set_fdr(est_fdr=0.25)\n",
    "print(sim_results.summary())\n",
    "\n",
    "print(sim_results.credible_effects())\n",
    "\n",
    "# saving\n",
    "save_path = os.path.join(base_table_path,pre + '_scoda_sim_results_human.pkl')\n",
    "sim_results.save(save_path)\n",
    "\n",
    "'''\n",
    "# loading\n",
    "with open(path, \"rb\") as f:\n",
    "    sim_results_loaded = pkl.load(f)\n",
    "'''    "
   ]
  },
  {
   "cell_type": "markdown",
   "id": "33535cd0-8c84-4210-ae88-f2aa0041ff1f",
   "metadata": {},
   "source": [
    "### Cyno"
   ]
  },
  {
   "cell_type": "code",
   "execution_count": null,
   "id": "2d6d1979-f4b0-4e9e-939c-57af608eac97",
   "metadata": {},
   "outputs": [],
   "source": [
    "species = 'cyno'\n",
    "_,_,_,base_anndata_objects_M24 = h.return_local_paths(drive,pre='M24',add_path = False)\n",
    "adata_cyno = sc.read_h5ad(os.path.join(base_anndata_objects_M24,'M24' + '_' + species + '_anno_celltypes_v0.h5ad'))"
   ]
  },
  {
   "cell_type": "code",
   "execution_count": null,
   "id": "05feb6bb-9f0c-4c32-928e-7ae8c9d02506",
   "metadata": {},
   "outputs": [],
   "source": [
    "path_clusteranno_s0140 = 'F:\\\\monkey_IZI\\\\analysis\\\\tables\\\\s0140_clusteranno_scvi.txt.gz'\n",
    "clusteranno_s0140 = pd.read_csv(path_clusteranno_s0140,compression = 'gzip',index_col=0)\n",
    "adata_cyno.obs = pd.merge(adata_cyno.obs, clusteranno_s0140, left_index=True, right_index=True)\n",
    "adata_cyno.obs = make_df_annotation_azimut1_5_scanvi_v2(adata_cyno.obs)\n",
    "adata_cyno.obs.rename(columns={\"timepoint_x\": \"timepoint\", \"individual_x\": \"individual\",\"species_x\" : \"species\"}, inplace=True)"
   ]
  },
  {
   "cell_type": "code",
   "execution_count": null,
   "id": "9e4268be-115f-47cd-9147-12e9ab369c67",
   "metadata": {},
   "outputs": [],
   "source": [
    "ct_column = 'cluster_azimut1_5_scanvi_v2'"
   ]
  },
  {
   "cell_type": "code",
   "execution_count": null,
   "id": "44ed5301-fd0e-442a-80f7-d9c6b22411c2",
   "metadata": {},
   "outputs": [],
   "source": [
    "df_cyno =  adata_cyno.obs[[ct_column,'timepoint','individual']]\n",
    "cell_counts_cyno = df_cyno.groupby([ct_column,'timepoint']).size().reset_index(name='count')\n",
    "\n",
    "cell_counts_pivot_cyno = cell_counts_cyno.pivot(index='timepoint',columns = ct_column,values = 'count').reset_index()"
   ]
  },
  {
   "cell_type": "code",
   "execution_count": null,
   "id": "84b6960a-57fe-4246-85c7-f6ce7d5e44eb",
   "metadata": {},
   "outputs": [],
   "source": [
    "scoda_obj_cyno = dat.from_scanpy(\n",
    "    adata_cyno,\n",
    "    cell_type_identifier=ct_column,\n",
    "    sample_identifier=\"timepoint\",\n",
    "    )\n"
   ]
  },
  {
   "cell_type": "code",
   "execution_count": null,
   "id": "35669a88-5828-487d-b349-5cd067579d91",
   "metadata": {},
   "outputs": [],
   "source": [
    "save_path_cyno_h5ad = os.path.join(base_anndata_objects,pre + '_scoda_obj_cyno.h5ad')\n",
    "scoda_obj_cyno.write_h5ad(save_path_cyno_h5ad)"
   ]
  },
  {
   "cell_type": "code",
   "execution_count": null,
   "id": "2f35a4ac-476f-4ac3-ad00-533e3b0048c8",
   "metadata": {},
   "outputs": [],
   "source": [
    "df_all_cyno = pd.DataFrame(scoda_obj_cyno.X,columns = scoda_obj_cyno.var.index,index = scoda_obj_cyno.obs.index)\n",
    "proportions = df_all_cyno.div(df_all_cyno.sum(axis=1), axis=0)\n",
    "proportions = proportions.T\n",
    "\n",
    "proportions.to_csv(os.path.join(base_table_path,pre + '_proportions_cyno.csv'))"
   ]
  },
  {
   "cell_type": "code",
   "execution_count": null,
   "id": "dda83a3d-86fb-480a-a548-d117977f70e8",
   "metadata": {},
   "outputs": [],
   "source": [
    "color_timepoints = [\"#3b7c70\", \"#ce9642\",  \"#3b3a3e\"] \n",
    "proportions.plot(kind='bar', figsize=(8, 6), width=0.8, color=color_timepoints)\n",
    "plt.title('Cell type proportions - cyno')\n",
    "plt.xlabel('Cell type')\n",
    "plt.ylabel('Proportion')\n",
    "plt.xticks(rotation=90)\n",
    "plt.ylim([0,0.7])\n",
    "plt.savefig(os.path.join(base_plots_path,pre + '_composition_barplot_cyno.pdf'),bbox_inches = 'tight')"
   ]
  },
  {
   "cell_type": "code",
   "execution_count": null,
   "id": "93222a9a-3fbb-4925-ae09-d0929370f7f9",
   "metadata": {},
   "outputs": [],
   "source": [
    "plt.figure()\n",
    "viz.stacked_barplot(scoda_obj_cyno , feature_name=\"samples\")\n",
    "plt.title('cyno')\n",
    "plt.savefig(os.path.join(base_plots_path,pre + '_scoda_composition_cyno.pdf'),bbox_inches = 'tight')\n",
    "plt.show()"
   ]
  },
  {
   "cell_type": "markdown",
   "id": "533e6f75-c767-4126-85b6-6fab74a71b3f",
   "metadata": {},
   "source": [
    "### Fitting sccoda model"
   ]
  },
  {
   "cell_type": "code",
   "execution_count": null,
   "id": "5feb1c86-4503-4eed-a49d-334dc70d6149",
   "metadata": {},
   "outputs": [],
   "source": [
    "scoda_obj_cyno.obs['Condition'] = scoda_obj_cyno.obs.index \n",
    "scoda_model = mod.CompositionalAnalysis(scoda_obj_cyno, formula=\"Condition\", reference_cell_type=\"automatic\")\n",
    "\n",
    "sim_results = scoda_model.sample_hmc()\n",
    "\n",
    "sim_results.summary() \n",
    "\n",
    "sim_results.set_fdr(est_fdr=0.25)\n",
    "print(sim_results.summary())\n",
    "\n",
    "print(sim_results.credible_effects())\n",
    "\n",
    "# saving\n",
    "save_path = os.path.join(base_table_path,pre + '_scoda_sim_results_cyno.pkl')\n",
    "sim_results.save(save_path)\n",
    "\n",
    "'''\n",
    "# loading\n",
    "with open(path, \"rb\") as f:\n",
    "    sim_results_loaded = pkl.load(f)\n",
    "'''    "
   ]
  },
  {
   "cell_type": "code",
   "execution_count": null,
   "id": "9bb3a290-c4cf-4dca-af99-f6805ef0327d",
   "metadata": {},
   "outputs": [],
   "source": [
    "# Save session"
   ]
  },
  {
   "cell_type": "code",
   "execution_count": null,
   "id": "64116753-18dd-446f-9acc-991fdcc23471",
   "metadata": {},
   "outputs": [],
   "source": [
    "base_package_version_path = h.return_package_version_local_path(drive=drive)\n",
    "h.save_package_versions(base_package_version_path,pre,do_print = True)\n",
    "h.print_main_versions()"
   ]
  }
 ],
 "metadata": {
  "kernelspec": {
   "display_name": "Python 3 (ipykernel)",
   "language": "python",
   "name": "python3"
  },
  "language_info": {
   "codemirror_mode": {
    "name": "ipython",
    "version": 3
   },
   "file_extension": ".py",
   "mimetype": "text/x-python",
   "name": "python",
   "nbconvert_exporter": "python",
   "pygments_lexer": "ipython3",
   "version": "3.8.19"
  }
 },
 "nbformat": 4,
 "nbformat_minor": 5
}
