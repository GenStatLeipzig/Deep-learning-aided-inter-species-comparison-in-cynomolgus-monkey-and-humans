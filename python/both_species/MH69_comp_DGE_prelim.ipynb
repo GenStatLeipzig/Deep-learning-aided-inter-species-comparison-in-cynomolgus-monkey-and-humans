{
 "cells": [
  {
   "cell_type": "code",
   "execution_count": null,
   "id": "ddead897",
   "metadata": {},
   "outputs": [],
   "source": [
    "from imports_scgen_local import * #imports_scgen_local have to be in same folder"
   ]
  },
  {
   "cell_type": "markdown",
   "id": "a9ba8788",
   "metadata": {},
   "source": [
    "## To Do update with new DGE Table"
   ]
  },
  {
   "cell_type": "code",
   "execution_count": null,
   "id": "e2ab9e31",
   "metadata": {},
   "outputs": [],
   "source": [
    "pre = 'MH69'\n",
    "drive = 'F'\n",
    "base_model_path,base_table_path,base_plots_path,base_anndata_objects = h.return_local_paths(drive = drive,\n",
    "                                                                              pre = pre,\n",
    "                                                                              add_path = True)"
   ]
  },
  {
   "cell_type": "code",
   "execution_count": null,
   "id": "6f05cba6",
   "metadata": {},
   "outputs": [],
   "source": [
    "_,base_table_path_MH68,_,_ = h.return_local_paths(drive = drive,pre = 'MH68',add_path = True)"
   ]
  },
  {
   "cell_type": "code",
   "execution_count": null,
   "id": "e81a425d",
   "metadata": {},
   "outputs": [],
   "source": [
    "_,base_table_path_M25_v2,_,_ = h.return_local_paths(drive = drive,pre = \"M25_v2\",add_path = False)\n",
    "_,base_table_path_H25_v2,_,_ = h.return_local_paths(drive = drive,pre = \"H25_v2\",add_path = False)"
   ]
  },
  {
   "cell_type": "code",
   "execution_count": null,
   "id": "f5b0e6d6",
   "metadata": {},
   "outputs": [],
   "source": [
    "df_dge_M = pd.read_csv(os.path.join(base_table_path_M25_v2,'M25_v2_dge_tab_edgeR.csv'),index_col=0)\n",
    "df_dge_H = pd.read_csv(os.path.join(base_table_path_H25_v2,'H25_v2_dge_tab_edgeR.csv'),index_col=0)"
   ]
  },
  {
   "cell_type": "code",
   "execution_count": null,
   "id": "6f117ea4",
   "metadata": {},
   "outputs": [],
   "source": [
    "df_pert_all = pd.read_csv(os.path.join(base_table_path_MH68,'MH68df_pert_all.csv'))"
   ]
  },
  {
   "cell_type": "code",
   "execution_count": null,
   "id": "7a37ebf0",
   "metadata": {},
   "outputs": [],
   "source": [
    "df_pert_all['human_gene_name'] = df_pert_all['gene'].str.split('--').str[0]\n",
    "df_pert_all['cyno_gene_name'] = df_pert_all['gene'].str.split('--').str[1]"
   ]
  },
  {
   "cell_type": "code",
   "execution_count": null,
   "id": "c5f25504",
   "metadata": {},
   "outputs": [],
   "source": [
    "comps_DGE = ['timepoints06hr', 'timepoints24hr']"
   ]
  },
  {
   "cell_type": "code",
   "execution_count": null,
   "id": "deecc8a6",
   "metadata": {},
   "outputs": [],
   "source": [
    "df_dge_H['celltype'] =df_dge_H['celltype'].str.replace('CD4_T','CD4 T')\n",
    "df_dge_H['celltype'] =df_dge_H['celltype'].str.replace('CD8_T','CD8 T')\n",
    "df_dge_H['celltype'] =df_dge_H['celltype'].str.replace('other_T','other T')"
   ]
  },
  {
   "cell_type": "code",
   "execution_count": null,
   "id": "b54b905b",
   "metadata": {},
   "outputs": [],
   "source": [
    "df_dge_M['celltype'] =df_dge_M['celltype'].str.replace('CD4_T','CD4 T')\n",
    "df_dge_M['celltype'] =df_dge_M['celltype'].str.replace('CD8_T','CD8 T')\n",
    "df_dge_M['celltype'] =df_dge_M['celltype'].str.replace('other_T','other T')"
   ]
  },
  {
   "cell_type": "code",
   "execution_count": null,
   "id": "8b98130d",
   "metadata": {},
   "outputs": [],
   "source": [
    "columns = ['species','celltype','cond_diff_exp' ,'spearman_correlation', 'spearman_pval','fraction_top_100']\n",
    "df_spearman = pd.DataFrame(columns=columns)\n",
    "\n",
    "for celltype in ['CD4 T','CD8 T','B']:\n",
    "    for comp_DGE in comps_DGE:\n",
    "        #human\n",
    "        df_pert_all_ct = df_pert_all[df_pert_all['celltype']== celltype]\n",
    "        df_dge_H_ct = df_dge_H[(df_dge_H['celltype'] == celltype)&(df_dge_H['comparison.vs.00hr'] == comp_DGE)]\n",
    "        df_dge_H_ct = df_dge_H_ct.rename(columns={'genes': 'human_gene_name'})\n",
    "        df_dge_H_ct = df_dge_H_ct[df_dge_H_ct[\"FDR\"] <= 1]\n",
    "        intersect_genes = set(list(df_pert_all_ct['human_gene_name'])) & set(list(df_dge_H_ct ['human_gene_name'])) \n",
    "        df_pert_all_ct = df_pert_all_ct[df_pert_all_ct['human_gene_name'].isin(intersect_genes)]\n",
    "        df_dge_H_ct =df_dge_H_ct[df_dge_H_ct['human_gene_name'].isin(intersect_genes)]\n",
    "        df_pert_all_ct['rank_VAE'] = df_pert_all_ct['mean_perturbation_effect'].rank(method='dense', ascending=False).astype(int)\n",
    "        df_dge_H_ct['rank_diff_exp'] = df_dge_H_ct['PValue'].rank(method='dense', ascending=True).astype(int)\n",
    "        merged_df_H = pd.merge(df_pert_all_ct,df_dge_H_ct, on='human_gene_name', how='inner')\n",
    "        merged_df_H.to_csv(os.path.join(base_table_path,pre + '_Human_' + celltype +'_' + comp_DGE + '.csv'))\n",
    "        spearman_res_H = spearmanr(merged_df_H['rank_diff_exp'], merged_df_H['rank_VAE'])\n",
    "        fraction_top_100_H = sum(merged_df_H[merged_df_H['rank_diff_exp']<=100]['rank_VAE'] <= 100)/len(merged_df_H[merged_df_H['rank_diff_exp']<=100])\n",
    "        row_to_add = ['human',celltype,comp_DGE,spearman_res_H.correlation,spearman_res_H.pvalue,fraction_top_100_H]\n",
    "        df_spearman = df_spearman.append(pd.Series(row_to_add, index=df_spearman.columns), ignore_index=True)\n",
    "       \n",
    "\n",
    "        #cyno\n",
    "        df_pert_all_ct = df_pert_all[df_pert_all['celltype']== celltype]\n",
    "        df_dge_M_ct = df_dge_M[(df_dge_M['celltype'] == celltype)&(df_dge_M['comparison.vs.00hr'] == comp_DGE)]\n",
    "        df_dge_M_ct = df_dge_M_ct.rename(columns={'genes': 'human_gene_name'})\n",
    "        df_dge_M_ct = df_dge_M_ct[df_dge_M_ct[\"FDR\"] <= 1]\n",
    "        intersect_genes = set(list(df_pert_all_ct['human_gene_name'])) & set(list(df_dge_M_ct ['human_gene_name'])) \n",
    "        df_pert_all_ct = df_pert_all_ct[df_pert_all_ct['human_gene_name'].isin(intersect_genes)]\n",
    "        df_dge_M_ct =df_dge_M_ct[df_dge_M_ct['human_gene_name'].isin(intersect_genes)]\n",
    "        df_pert_all_ct['rank_VAE'] = df_pert_all_ct['mean_perturbation_effect'].rank(method='dense', ascending=False).astype(int)\n",
    "        df_dge_M_ct['rank_diff_exp'] = df_dge_M_ct['PValue'].rank(method='dense', ascending=True).astype(int)\n",
    "        merged_df_M = pd.merge(df_pert_all_ct,df_dge_M_ct, on='human_gene_name', how='inner')\n",
    "        merged_df_M.to_csv(os.path.join(base_table_path,pre + '_cyno_' + celltype +'_' + comp_DGE + '.csv'))\n",
    "        spearman_res_M = spearmanr(merged_df_M['rank_diff_exp'], merged_df_M['rank_VAE'])\n",
    "        fraction_top_100_M = sum(merged_df_M[merged_df_M['rank_diff_exp']<=100]['rank_VAE'] <= 100)/len(merged_df_M[merged_df_M['rank_diff_exp']<=100])\n",
    "        row_to_add = ['cyno',celltype,comp_DGE,spearman_res_M.correlation,spearman_res_M.pvalue,fraction_top_100_M]\n",
    "        df_spearman = df_spearman.append(pd.Series(row_to_add, index=df_spearman.columns), ignore_index=True)"
   ]
  },
  {
   "cell_type": "code",
   "execution_count": null,
   "id": "17547dc1",
   "metadata": {},
   "outputs": [],
   "source": [
    "df_spearman['cond_diff_exp+species'] = df_spearman['cond_diff_exp'].astype(str) + df_spearman['species'].astype(str)\n",
    "df_spearman['abs_spearman_correlation'] = np.abs(df_spearman['spearman_correlation']) \n",
    "df_spearman['signum'] = np.sign(df_spearman['spearman_correlation'])"
   ]
  },
  {
   "cell_type": "code",
   "execution_count": null,
   "id": "c5828188",
   "metadata": {},
   "outputs": [],
   "source": [
    "df_spearman.to_csv(os.path.join(base_table_path,pre + '_df_spearman.csv'))"
   ]
  },
  {
   "cell_type": "code",
   "execution_count": null,
   "id": "cd3993de",
   "metadata": {},
   "outputs": [],
   "source": [
    "plt.figure\n",
    "scatter = sns.scatterplot(\n",
    "    data=df_spearman,\n",
    "    y='cond_diff_exp+species',\n",
    "    x='celltype',\n",
    "    size='abs_spearman_correlation',\n",
    "    sizes=(10, 800),  # Adjust size range\n",
    "    edgecolor='w',\n",
    "    style='signum',\n",
    "    markers={1: '^', -1: 'v'},\n",
    "    hue='spearman_pval',\n",
    "    palette='Purples_r'\n",
    "    #legend=True  # Hide the automatic legend\n",
    "    )\n",
    "plt.legend(bbox_to_anchor=(1.05, 1), loc=2, borderaxespad=0.)\n",
    "plt.savefig(os.path.join(base_plots_path,pre + '_correlation_VAE_DGE_rank.pdf'),bbox_inches='tight')\n",
    "plt.show()"
   ]
  },
  {
   "cell_type": "code",
   "execution_count": null,
   "id": "0fc1909a",
   "metadata": {},
   "outputs": [],
   "source": [
    "base_package_version_path = h.return_package_version_local_path(drive=drive)\n",
    "h.save_package_versions(base_package_version_path,pre,do_print = True)"
   ]
  }
 ],
 "metadata": {
  "kernelspec": {
   "display_name": "Python 3 (ipykernel)",
   "language": "python",
   "name": "python3"
  },
  "language_info": {
   "codemirror_mode": {
    "name": "ipython",
    "version": 3
   },
   "file_extension": ".py",
   "mimetype": "text/x-python",
   "name": "python",
   "nbconvert_exporter": "python",
   "pygments_lexer": "ipython3",
   "version": "3.8.17"
  }
 },
 "nbformat": 4,
 "nbformat_minor": 5
}
