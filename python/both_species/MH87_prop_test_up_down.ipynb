{
 "cells": [
  {
   "cell_type": "code",
   "execution_count": null,
   "id": "5b6ab492-5f62-4aa2-a8ec-58a15680dab0",
   "metadata": {},
   "outputs": [],
   "source": [
    "import rpy2.rinterface_lib.callbacks\n",
    "import anndata2ri\n",
    "import logging\n",
    "from rpy2.robjects import pandas2ri\n",
    "from rpy2.robjects import r\n",
    "import rpy2.rinterface_lib.callbacks\n",
    "import anndata2ri\n",
    "import pkg_resources\n",
    "import logging\n",
    "#import sc_toolbox\n",
    "%load_ext rpy2.ipython\n",
    "import numpy as np\n",
    "import scanpy as sc\n",
    "import seaborn as sns\n",
    "import warnings\n",
    "import os\n",
    "import pandas as pd\n",
    "import matplotlib.pyplot as plt\n",
    "import sys\n",
    "path_helper = [\"C:\\\\\",\"Users\",\"vfriedrich\",\"projects\",\"monkey_IZI\",\"git_documentation\",\"scRNAseq_cross_species_primate_human\",\"analysis\",\"helper\"]\n",
    "sys.path.append(os.path.join(*path_helper))\n",
    "import helper_edgeR as heR\n",
    "print(sys.executable)\n",
    "def return_local_paths(drive,pre,add_path = True):\n",
    "    #drive: e.g. \"F\" - identifier for external drive\n",
    "    #pre: unique script identifier, e.g. 'M10'\n",
    "    #add_path: True oder \n",
    "    base_model_path = os.path.join(drive + \":\\\\\",\"monkey_IZI\",\"analysis\",\"models\",pre)\n",
    "    base_table_path = os.path.join(drive + \":\\\\\",\"monkey_IZI\",\"analysis\",\"tables\",pre)\n",
    "    base_plots_path = os.path.join(drive + \":\\\\\",\"monkey_IZI\",\"analysis\",\"plots\",pre)\n",
    "    base_anndata_objects = os.path.join(drive + \":\\\\\",\"monkey_IZI\",\"analysis\",\"anndata_objects\",pre)\n",
    "    paths = [base_model_path,base_table_path,base_plots_path,base_anndata_objects]\n",
    "    if add_path:\n",
    "        for path in paths:\n",
    "            if not os.path.exists(path):\n",
    "                os.mkdir(path)\n",
    "    return base_model_path,base_table_path,base_plots_path,base_anndata_objects"
   ]
  },
  {
   "cell_type": "code",
   "execution_count": null,
   "id": "602bfb49-037a-407b-9e56-3435231e594b",
   "metadata": {},
   "outputs": [],
   "source": [
    "pre = \"MH87\"\n",
    "drive = 'F'\n",
    "base_model_path,base_table_path,base_plots_path,base_anndata_objects = return_local_paths(drive = drive,\n",
    "                                                                                            pre = pre,\n",
    "                                                                                            add_path = True)"
   ]
  },
  {
   "cell_type": "code",
   "execution_count": null,
   "id": "75cc1fe5-d9d5-4936-98ea-5024ddc4a985",
   "metadata": {},
   "outputs": [],
   "source": [
    "_,base_table_path_MH86,_,_ = return_local_paths(drive = drive,pre = \"MH86\",add_path = True)"
   ]
  },
  {
   "cell_type": "code",
   "execution_count": null,
   "id": "50492f96-6b52-413b-81cd-ba03328a10a6",
   "metadata": {},
   "outputs": [],
   "source": [
    "celltypes = ['B','CD14_Mono','CD4_T','CD8_T','MAIT','MAIT','NKProliferating']\n",
    "comps_M = ['06hr','24hr']\n",
    "comps_H = ['06hr','24hr']"
   ]
  },
  {
   "cell_type": "code",
   "execution_count": null,
   "id": "e0f9c82f-7320-443c-b6c2-6ddee3195994",
   "metadata": {},
   "outputs": [],
   "source": [
    "dfs = []\n",
    "for celltype in celltypes:\n",
    "    for comp_M in comps_M:\n",
    "        for comp_H in comps_H:\n",
    "            df = pd.read_csv(os.path.join(base_table_path_MH86,'MH86_' + str(celltype) + '_M_' + comp_M + '_H_' + comp_H + '.csv'),index_col=0)\n",
    "            df['celltype'] = celltype\n",
    "            df['comp_M'] = comp_M\n",
    "            df['comp_H'] = comp_H\n",
    "            dfs.append(df)\n",
    "dfs_all = pd.concat(dfs)"
   ]
  },
  {
   "cell_type": "code",
   "execution_count": null,
   "id": "1d31e752-a0ef-4f9c-8d4f-ae4f704eea7e",
   "metadata": {},
   "outputs": [],
   "source": [
    "dfs_all.to_csv(os.path.join(base_table_path,pre + '_dfs_all.csv'))"
   ]
  },
  {
   "cell_type": "code",
   "execution_count": null,
   "id": "72afa2f1-11b4-42c6-b032-d1b57a9450c4",
   "metadata": {},
   "outputs": [],
   "source": [
    "%%R -i dfs_all -o results_df\n",
    "results_df <- data.frame(\n",
    "  celltype = character(),\n",
    "  comp_M = character(),\n",
    "  comp_H = character(),\n",
    "  matching_sign = numeric(),\n",
    "  no_matching_sign = numeric(),\n",
    "  nr_genes = numeric(),\n",
    "  p_value = numeric(),\n",
    "  stringsAsFactors = FALSE\n",
    ")\n",
    "for (celltype in unique(dfs_all$celltype)) {\n",
    "    for (comp_m in unique(dfs_all$comp_M)) {\n",
    "        for (comp_h in unique(dfs_all$comp_H)) {\n",
    "            data_ct_comp <- dfs_all[dfs_all$celltype == celltype & dfs_all$comp_M == comp_m & dfs_all$comp_H == comp_h, ]\n",
    "            matching_sign <- sum(data_ct_comp$logFC_M == data_ct_comp$logFC_H)\n",
    "            no_matching_sign <- sum(data_ct_comp$logFC_M != data_ct_comp$logFC_H)\n",
    "            nr_genes <- nrow(data_ct_comp)\n",
    "            # Count where values are different\n",
    "            #df = df[,-1]\n",
    "            res <- prop.test(x=matching_sign,n = nr_genes,alternative = \"two.sided\",conf.level = 0.95)\n",
    "            #print(res)\n",
    "            \n",
    "            results_df <- rbind(results_df, data.frame(\n",
    "          celltype = celltype,\n",
    "          comp_M = comp_m,\n",
    "          comp_H = comp_h,\n",
    "          matching_sign = matching_sign,\n",
    "          no_matching_sign = no_matching_sign,\n",
    "          nr_genes = nr_genes,\n",
    "          p_value = res$p.value\n",
    "        ))\n",
    "    }\n",
    "    }\n",
    "}"
   ]
  },
  {
   "cell_type": "code",
   "execution_count": null,
   "id": "a2e4f405-c691-4591-af1c-88e1981994ce",
   "metadata": {},
   "outputs": [],
   "source": [
    "results_df.rename(columns={'p_value': 'p_value_prop_test'}, inplace=True)\n",
    "results_df.to_csv(os.path.join(base_table_path,pre + '_results_df_prop_test.csv'))"
   ]
  },
  {
   "cell_type": "code",
   "execution_count": null,
   "id": "70289c74-a462-4ca9-9b9b-2782d480e928",
   "metadata": {},
   "outputs": [],
   "source": [
    "def return_package_version_local_path(drive):\n",
    "    return os.path.join(drive + \":\\\\\",\"monkey_IZI\",\"analysis\",\"package_versions\")\n",
    "\n",
    "def save_package_versions(base_package_version_path,pre,do_print = True):\n",
    "    #base_package_version_path: path to folder where to save all package versions\n",
    "    #pre: unique script/notebook identifier, e.g. 'M10'\n",
    "    with open(os.path.join(base_package_version_path, pre + '_package_versions.txt'), \"w\") as file:\n",
    "        for package in pkg_resources.working_set:\n",
    "            file.write(f\"{package.key}=={package.version}\\n\")\n",
    "            if do_print:\n",
    "                print(f\"{package.key}=={package.version}\")\n",
    "def print_main_versions():\n",
    "    sc.logging.print_header()\n",
    "\n",
    "base_package_version_path = return_package_version_local_path(drive=drive)\n",
    "save_package_versions(base_package_version_path,pre,do_print = True)\n",
    "print_main_versions()"
   ]
  }
 ],
 "metadata": {
  "kernelspec": {
   "display_name": "Python 3 (ipykernel)",
   "language": "python",
   "name": "python3"
  },
  "language_info": {
   "codemirror_mode": {
    "name": "ipython",
    "version": 3
   },
   "file_extension": ".py",
   "mimetype": "text/x-python",
   "name": "python",
   "nbconvert_exporter": "python",
   "pygments_lexer": "ipython3",
   "version": "3.11.7"
  }
 },
 "nbformat": 4,
 "nbformat_minor": 5
}
