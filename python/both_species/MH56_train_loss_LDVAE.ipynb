{
 "cells": [
  {
   "cell_type": "code",
   "execution_count": null,
   "id": "55052cc2-1882-430a-b952-40388918e444",
   "metadata": {},
   "outputs": [],
   "source": [
    "import numpy as np\n",
    "import scanpy as sc\n",
    "import seaborn as sns\n",
    "import os\n",
    "import pandas as pd\n",
    "import matplotlib.pyplot as plt\n",
    "import warnings\n",
    "import sys\n",
    "path_helper = [\"C:\\\\\",\"Users\",\"vfriedrich\",\"projects\",\"monkey_IZI\",\"git_documentation\",\"scRNAseq_cross_species_primate_human\",\"analysis\",\"helper\"]\n",
    "sys.path.append(os.path.join(*path_helper))\n",
    "import helperVDF as h\n",
    "#import decoupler\n",
    "print(sys.executable)\n",
    "import torchmetrics\n",
    "#import scgen\n",
    "import numpy as np\n",
    "import scanpy as sc\n",
    "import seaborn as sns\n",
    "import os\n",
    "import pandas as pd\n",
    "import matplotlib.pyplot as plt\n",
    "import scipy.sparse as sp\n",
    "from scipy.spatial.distance import cdist\n",
    "\n",
    "def mean_euclidean_distance(embedding1,embedding2):\n",
    "    return np.mean(np.linalg.norm(embedding1 - embedding2,axis=1))\n",
    "\n",
    "import warnings\n",
    "\n",
    "import sys\n",
    "print(sys.executable)\n",
    "import scvi"
   ]
  },
  {
   "cell_type": "code",
   "execution_count": null,
   "id": "a42b6b9f-3abb-4ff3-8b92-66718b431aae",
   "metadata": {},
   "outputs": [],
   "source": [
    "pre = \"MH56\"\n",
    "drive = 'F'\n",
    "base_model_path,base_table_path,base_plots_path,base_anndata_objects = h.return_local_paths(drive = drive,\n",
    "                                                                              pre = pre,\n",
    "                                                                              add_path = True)"
   ]
  },
  {
   "cell_type": "markdown",
   "id": "fb3f05d2-d4dd-4c43-9045-af201bddc028",
   "metadata": {},
   "source": [
    "### MH52\n",
    "celltype specific - all replicates"
   ]
  },
  {
   "cell_type": "code",
   "execution_count": null,
   "id": "3d901253-fb80-4d6c-863d-6af15aa60f66",
   "metadata": {},
   "outputs": [],
   "source": [
    "base_model_path_MH52,_,_,_ = h.return_local_paths(drive = drive,pre = 'MH52',add_path = False)"
   ]
  },
  {
   "cell_type": "code",
   "execution_count": null,
   "id": "dd653525-6f03-4753-979e-c52e8b54a1bf",
   "metadata": {},
   "outputs": [],
   "source": [
    "model_names = os.listdir(base_model_path_MH52)"
   ]
  },
  {
   "cell_type": "code",
   "execution_count": null,
   "id": "8362af27-0180-4f46-aada-f6ad490d5780",
   "metadata": {},
   "outputs": [],
   "source": [
    "warnings.filterwarnings(\"ignore\")\n",
    "df_hyper = {}\n",
    "for model_name in model_names:\n",
    "    load_string = os.path.join(base_model_path_MH52,model_name) \n",
    "    model = scvi.model.LinearSCVI.load(load_string)\n",
    "    df_ct = model.history['train_loss_epoch'].join(model.history['validation_loss'])\n",
    "    df_hyper[model_name] = df_ct"
   ]
  },
  {
   "cell_type": "code",
   "execution_count": null,
   "id": "6604b15e-a78a-41f9-82ab-e41e949e32b9",
   "metadata": {},
   "outputs": [],
   "source": [
    "col_train = \"#e78429\"\n",
    "col_val = \"#381a61\""
   ]
  },
  {
   "cell_type": "code",
   "execution_count": null,
   "id": "cb1bbe71-2eee-4202-80be-9a7140769e02",
   "metadata": {},
   "outputs": [],
   "source": [
    "fig, axs = plt.subplots(2, 4, figsize=(12, 6))\n",
    "axs = axs.flatten()\n",
    "for loc, key in enumerate(df_hyper):\n",
    "    axs[loc].plot(df_hyper[key]['train_loss_epoch'], label='train', color=col_train)\n",
    "    axs[loc].plot(df_hyper[key]['validation_loss'], label='validation', color=col_val)\n",
    "    axs[loc].set_xlabel('epoch', fontsize=11)\n",
    "    axs[loc].set_ylabel('loss', fontsize=11)\n",
    "    axs[loc].legend()\n",
    "    #nlat = key.split('nlat')[1].split('_')[0]\n",
    "    #bs = key.split('bs')[1].split('.')[0]\n",
    "    axs[loc].set_title(key.split('.')[0].split('_')[-1]) \n",
    "    \n",
    "plt.tight_layout()\n",
    "plt.savefig(os.path.join(base_plots_path,pre + 'loss_curves_LDVAEall_MH52.pdf'),bbox_inches = 'tight')"
   ]
  },
  {
   "cell_type": "markdown",
   "id": "1ec30925-9cc6-449e-b853-e94cc8930e2e",
   "metadata": {},
   "source": [
    "### MH53\n",
    "proof of principle - train test split according to replicates"
   ]
  },
  {
   "cell_type": "code",
   "execution_count": null,
   "id": "33fbc051-603b-497f-8008-9de4efa43e4c",
   "metadata": {},
   "outputs": [],
   "source": [
    "base_model_path_MH53,_,_,_ = h.return_local_paths(drive = drive,pre = 'MH53',add_path = False)"
   ]
  },
  {
   "cell_type": "code",
   "execution_count": null,
   "id": "448b7d53-010f-41ab-8f11-ce07f0a5b4ef",
   "metadata": {},
   "outputs": [],
   "source": [
    "model_names = os.listdir(base_model_path_MH53)"
   ]
  },
  {
   "cell_type": "code",
   "execution_count": null,
   "id": "de57f0bd-b131-479f-a039-827d846b88f3",
   "metadata": {},
   "outputs": [],
   "source": [
    "warnings.filterwarnings(\"ignore\")\n",
    "df_hyper = {}\n",
    "for model_name in model_names:\n",
    "    load_string = os.path.join(base_model_path_MH53,model_name) \n",
    "    model = scvi.model.LinearSCVI.load(load_string)\n",
    "    df_ct = model.history['train_loss_epoch'].join(model.history['validation_loss'])\n",
    "    df_hyper[model_name] = df_ct"
   ]
  },
  {
   "cell_type": "code",
   "execution_count": null,
   "id": "9ae3ea41-f78e-4146-b9eb-496109430cd2",
   "metadata": {},
   "outputs": [],
   "source": [
    "fig, axs = plt.subplots(2, 4, figsize=(12, 6))\n",
    "axs = axs.flatten()\n",
    "for loc, key in enumerate(df_hyper):\n",
    "    axs[loc].plot(df_hyper[key]['train_loss_epoch'], label='train', color=col_train)\n",
    "    axs[loc].plot(df_hyper[key]['validation_loss'], label='validation', color=col_val)\n",
    "    axs[loc].set_xlabel('epoch', fontsize=11)\n",
    "    axs[loc].set_ylabel('loss', fontsize=11)\n",
    "    axs[loc].legend()\n",
    "    #nlat = key.split('nlat')[1].split('_')[0]\n",
    "    #bs = key.split('bs')[1].split('.')[0]\n",
    "    axs[loc].set_title(key.split('.')[0].split('_')[-1]) \n",
    "    \n",
    "plt.tight_layout()\n",
    "plt.savefig(os.path.join(base_plots_path,pre + 'loss_curves_LDVAEpp_rep_MH53.pdf'),bbox_inches = 'tight')"
   ]
  },
  {
   "cell_type": "markdown",
   "id": "636756a4-edfd-4c5d-8bb6-31b8b4b19574",
   "metadata": {},
   "source": [
    "### MH54\n",
    "proof of principle - train test split according to replicates"
   ]
  },
  {
   "cell_type": "code",
   "execution_count": null,
   "id": "81a39815-488f-4687-ab0a-648db0e06c00",
   "metadata": {},
   "outputs": [],
   "source": [
    "base_model_path_MH54,_,_,_ = h.return_local_paths(drive = drive,pre = 'MH54',add_path = False)"
   ]
  },
  {
   "cell_type": "code",
   "execution_count": null,
   "id": "a5c9c9ee-a57c-4db0-b5c9-094cc2127cc7",
   "metadata": {},
   "outputs": [],
   "source": [
    "model_names = os.listdir(base_model_path_MH54)"
   ]
  },
  {
   "cell_type": "code",
   "execution_count": null,
   "id": "650c4ae9-6889-4522-a0a5-9a1cd2cd1aaa",
   "metadata": {},
   "outputs": [],
   "source": [
    "warnings.filterwarnings(\"ignore\")\n",
    "df_hyper = {}\n",
    "for model_name in model_names:\n",
    "    load_string = os.path.join(base_model_path_MH54,model_name) \n",
    "    model = scvi.model.LinearSCVI.load(load_string)\n",
    "    df_ct = model.history['train_loss_epoch'].join(model.history['validation_loss'])\n",
    "    df_hyper[model_name] = df_ct"
   ]
  },
  {
   "cell_type": "code",
   "execution_count": null,
   "id": "7b944d93-c646-47a8-a625-274f1e59a2d3",
   "metadata": {},
   "outputs": [],
   "source": [
    "fig, axs = plt.subplots(2, 4, figsize=(12, 6))\n",
    "axs = axs.flatten()\n",
    "for loc, key in enumerate(df_hyper):\n",
    "    axs[loc].plot(df_hyper[key]['train_loss_epoch'], label='train', color=col_train)\n",
    "    axs[loc].plot(df_hyper[key]['validation_loss'], label='validation', color=col_val)\n",
    "    axs[loc].set_xlabel('epoch', fontsize=11)\n",
    "    axs[loc].set_ylabel('loss', fontsize=11)\n",
    "    axs[loc].legend()\n",
    "    #nlat = key.split('nlat')[1].split('_')[0]\n",
    "    #bs = key.split('bs')[1].split('.')[0]\n",
    "    axs[loc].set_title(key.split('.')[0].split('_')[-1]) \n",
    "    \n",
    "plt.tight_layout()\n",
    "plt.savefig(os.path.join(base_plots_path,pre + 'loss_curves_LDVAEpp_rep_MH54.pdf'),bbox_inches = 'tight')"
   ]
  }
 ],
 "metadata": {
  "kernelspec": {
   "display_name": "Python 3 (ipykernel)",
   "language": "python",
   "name": "python3"
  },
  "language_info": {
   "codemirror_mode": {
    "name": "ipython",
    "version": 3
   },
   "file_extension": ".py",
   "mimetype": "text/x-python",
   "name": "python",
   "nbconvert_exporter": "python",
   "pygments_lexer": "ipython3",
   "version": "3.8.19"
  }
 },
 "nbformat": 4,
 "nbformat_minor": 5
}
