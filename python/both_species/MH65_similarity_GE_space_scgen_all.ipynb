{
 "cells": [
  {
   "cell_type": "code",
   "execution_count": null,
   "id": "21649401",
   "metadata": {},
   "outputs": [],
   "source": [
    "from imports_scgen_local import * #imports_scgen_local have to be in same folder"
   ]
  },
  {
   "cell_type": "code",
   "execution_count": null,
   "id": "39ff3cba",
   "metadata": {},
   "outputs": [],
   "source": [
    "pre = \"MH65\"\n",
    "drive = 'F'\n",
    "base_model_path,base_table_path,base_plots_path,base_anndata_objects = h.return_local_paths(drive = drive,\n",
    "                                                                              pre = pre,\n",
    "                                                                              add_path = True)"
   ]
  },
  {
   "cell_type": "code",
   "execution_count": null,
   "id": "fb1123ab",
   "metadata": {},
   "outputs": [],
   "source": [
    "celltypes = ['B',\n",
    " 'CD14 Mono',\n",
    " #'CD16 Mono',\n",
    " 'CD4 T',\n",
    " 'CD8 T',\n",
    " 'MAIT',\n",
    " 'NK+Proliferating']"
   ]
  },
  {
   "cell_type": "code",
   "execution_count": null,
   "id": "8f6f4a8a",
   "metadata": {},
   "outputs": [],
   "source": [
    "model_path = os.path.join(*[\"F:\\\\\",\"monkey_IZI\",\"analysis\",\"cluster_runs\",\"workspace-runVAE\",\n",
    "                            \"output\",\"MH49_c\",\"models\"])\n"
   ]
  },
  {
   "cell_type": "code",
   "execution_count": null,
   "id": "749bd7d0",
   "metadata": {},
   "outputs": [],
   "source": [
    "all_species = ['cyno','human']\n",
    "all_conditions = ['00hr','06hr','24hr']\n",
    "n_latent = 10\n",
    "shifts_within_species = ['00hr->06hr','00hr->24hr','06hr->24hr']\n"
   ]
  },
  {
   "cell_type": "code",
   "execution_count": null,
   "id": "b48efac3",
   "metadata": {},
   "outputs": [],
   "source": [
    "warnings.filterwarnings(\"ignore\")\n",
    "adata_comps_06hr = {}\n",
    "r2_dicts_06hr = {}\n",
    "mean_exp_dicts_06hr = {}\n",
    "gene_names_dict_06hr = {}\n",
    "model_dict_06hr = {}\n",
    "for model_dir_name in celltypes:\n",
    "    load_string = os.path.join(model_path,model_dir_name,'MH49_c_scgen_model_' + str(model_dir_name)+'.pt')\n",
    "    model = scgen.SCGEN.load(load_string)\n",
    "    model.adata.obs.rename(columns={'species_x': 'species'}, inplace=True)\n",
    "    model.adata.obs = h.make_annotation_azimut1_5_scanvi_v2(model.adata)\n",
    "    #if model_dir_name == 'CD4 T':\n",
    "    #    model.adata = model.adata[(model.adata.obs['scvi_clusters'] != 41)&(model.adata.obs['scvi_clusters'] != 53)]\n",
    "    model_dict_06hr[model_dir_name] = model\n",
    "    adata_comp,r2_dict,mean_exp_dict = hscg.similarity_GE_after_shift_06hr(model=model,\n",
    "                                   adata_train=model.adata,\n",
    "                                   adata_test=model.adata,\n",
    "                                   celltype_col= 'cluster_azimut1_5_scanvi_v2',\n",
    "                                   celltype=model_dir_name)\n",
    "    adata_comps_06hr[model_dir_name] = adata_comp\n",
    "    r2_dicts_06hr[model_dir_name] = r2_dict\n",
    "    mean_exp_dicts_06hr[model_dir_name] = mean_exp_dict\n",
    "    gene_names_dict_06hr[model_dir_name] = model.adata.var.index.values"
   ]
  },
  {
   "cell_type": "code",
   "execution_count": null,
   "id": "0f03d16e",
   "metadata": {},
   "outputs": [],
   "source": [
    "df_test_06hr = pd.DataFrame(index = ['rank_00hr_human', 'rank_06hr_human', 'rank_24hr_human'])\n",
    "for celltype in celltypes:\n",
    "    df_ct = hscg.make_rank_df_06hr(mean_exp_dicts_06hr,adata_comps_06hr,celltype=celltype)\n",
    "    df_test_06hr=df_test_06hr.join(df_ct)"
   ]
  },
  {
   "cell_type": "code",
   "execution_count": null,
   "id": "f0d331a7",
   "metadata": {},
   "outputs": [],
   "source": [
    "df_test_06hr.index = ['00hr', '06hr', '24hr']\n",
    "\n",
    "plt.figure()\n",
    "sns.heatmap(df_test_06hr.T, annot=True, cmap=\"PuBuGn\", \n",
    "            cbar_kws={'label': 'Spearman rank correlation \\n predicted human 06hr from cyno 06hr'},\n",
    "            norm=Normalize(vmin=0.4, vmax=1),\n",
    "            linecolor='grey',\n",
    "            linewidths=0.05)\n",
    "plt.yticks(rotation=0)\n",
    "plt.savefig(os.path.join(base_plots_path, pre + '_heatmap_rank_06hr.pdf'),bbox_inches='tight')\n",
    "plt.show()"
   ]
  },
  {
   "cell_type": "code",
   "execution_count": null,
   "id": "dbe4d79a",
   "metadata": {},
   "outputs": [],
   "source": [
    "warnings.filterwarnings(\"ignore\")\n",
    "adata_comps_24hr = {}\n",
    "r2_dicts_24hr = {}\n",
    "mean_exp_dicts_24hr = {}\n",
    "gene_names_dict_24hr = {}\n",
    "model_dict_24hr = {}\n",
    "for model_dir_name in celltypes:\n",
    "    load_string = os.path.join(model_path,model_dir_name,'MH49_c_scgen_model_' + str(model_dir_name)+'.pt')\n",
    "    model = scgen.SCGEN.load(load_string)\n",
    "    model.adata.obs.rename(columns={'species_x': 'species'}, inplace=True)\n",
    "    model.adata.obs = h.make_annotation_azimut1_5_scanvi_v2(model.adata)\n",
    "    #if model_dir_name == 'CD4 T':\n",
    "    #    model.adata = model.adata[(model.adata.obs['scvi_clusters'] != 41)&(model.adata.obs['scvi_clusters'] != 53)]\n",
    "    model_dict_24hr[model_dir_name] = model\n",
    "    adata_comp,r2_dict,mean_exp_dict = hscg.similarity_GE_after_shift_24hr(model=model,\n",
    "                                   adata_train=model.adata,\n",
    "                                   adata_test=model.adata,\n",
    "                                   celltype_col= 'cluster_azimut1_5_scanvi_v2',\n",
    "                                   celltype=model_dir_name)\n",
    "    adata_comps_24hr[model_dir_name] = adata_comp\n",
    "    r2_dicts_24hr[model_dir_name] = r2_dict\n",
    "    mean_exp_dicts_24hr[model_dir_name] = mean_exp_dict\n",
    "    gene_names_dict_24hr[model_dir_name] = model.adata.var.index.values"
   ]
  },
  {
   "cell_type": "code",
   "execution_count": null,
   "id": "757262a3",
   "metadata": {},
   "outputs": [],
   "source": [
    "df_test_24hr = pd.DataFrame(index = ['rank_00hr_human', 'rank_06hr_human', 'rank_24hr_human'])\n",
    "for celltype in celltypes:\n",
    "    df_ct = hscg.make_rank_df_24hr(mean_exp_dicts_24hr,adata_comps_24hr,celltype=celltype)\n",
    "    df_test_24hr=df_test_24hr.join(df_ct)"
   ]
  },
  {
   "cell_type": "code",
   "execution_count": null,
   "id": "9f7a84c2",
   "metadata": {},
   "outputs": [],
   "source": [
    "df_test_24hr.index = ['00hr', '06hr', '24hr']\n",
    "plt.figure()\n",
    "sns.heatmap(df_test_24hr.T, annot=True, cmap=\"PuBuGn\", \n",
    "            cbar_kws={'label': 'Spearman rank correlation \\n predicted human 24hr from cyno 24hr'},\n",
    "            norm=Normalize(vmin=0.4, vmax=1),\n",
    "            linecolor='grey',\n",
    "            linewidths=0.05)\n",
    "plt.yticks(rotation=0)\n",
    "plt.savefig(os.path.join(base_plots_path, pre + '_heatmap_rank_24hr.pdf'),bbox_inches='tight')\n",
    "plt.show()"
   ]
  },
  {
   "cell_type": "code",
   "execution_count": null,
   "id": "3158afc5",
   "metadata": {},
   "outputs": [],
   "source": [
    "for celltype in celltypes:\n",
    "    df_rank_06hr_ct = h.calculate_df_rank_ct_06hr(mean_exp_dicts_06hr=mean_exp_dicts_06hr,celltype=celltype,\n",
    "                                                  adata_comps_06hr=adata_comps_06hr)\n",
    "    df_rank_24hr_ct = h.calculate_df_rank_ct_24hr(mean_exp_dicts_24hr=mean_exp_dicts_24hr,celltype=celltype,\n",
    "                                                 adata_comps_24hr=adata_comps_24hr)\n",
    "    for timepoint in ['06hr','24hr']:\n",
    "        if timepoint == '06hr':\n",
    "            df_plot,std,mean,upper_bound_99,lower_bound_99,upper_bound_95,lower_bound_95 = h.prepare_bland_altman_plot_06hr_ct(\n",
    "                df_rank_06hr_ct=df_rank_06hr_ct)\n",
    "            df_plot.to_csv(os.path.join(base_table_path,'df_bland_altman_' + str(celltype) + '_' + timepoint + '.csv'))\n",
    "            save=os.path.join(base_plots_path,'plot_bland_altman_' + str(celltype) + '_' + timepoint + '_99.pdf')\n",
    "            h.do_bland_altman_plot_99(df_plot,lower_bound_99,upper_bound_99,celltype,timepoint,save=save,show=True)\n",
    "\n",
    "            save=os.path.join(base_plots_path,'plot_bland_altman_' + str(celltype) + '_' + timepoint + '_95.pdf')\n",
    "            h.do_bland_altman_plot_95(df_plot,lower_bound_95,upper_bound_95,celltype,timepoint,save=save,show=True)\n",
    "        if timepoint == '24hr':\n",
    "            df_plot,std,mean,upper_bound_99,lower_bound_99,upper_bound_95,lower_bound_95 = h.prepare_bland_altman_plot_24hr_ct(\n",
    "                df_rank_24hr_ct=df_rank_24hr_ct)    \n",
    "            df_plot.to_csv(os.path.join(base_table_path,'df_bland_altman_' + str(celltype) + '_' + timepoint + '.csv'))\n",
    "            save=os.path.join(base_plots_path,'plot_bland_altman_' + str(celltype) + '_' + timepoint + '_99.pdf')\n",
    "            h.do_bland_altman_plot_99(df_plot,lower_bound_99,upper_bound_99,celltype,timepoint,save=save,show=True)\n",
    "\n",
    "            save=os.path.join(base_plots_path,'plot_bland_altman_' + str(celltype) + '_' + timepoint + '_95.pdf')\n",
    "            h.do_bland_altman_plot_95(df_plot,lower_bound_95,upper_bound_95,celltype,timepoint,save=save,show=True)"
   ]
  },
  {
   "cell_type": "markdown",
   "id": "bb6c459d",
   "metadata": {},
   "source": [
    "### Compare Magnitudes of shifts"
   ]
  },
  {
   "cell_type": "code",
   "execution_count": null,
   "id": "2daaca57",
   "metadata": {},
   "outputs": [],
   "source": [
    "celltypes"
   ]
  },
  {
   "cell_type": "code",
   "execution_count": null,
   "id": "3df9c26f",
   "metadata": {},
   "outputs": [],
   "source": [
    "df_shifts = {}\n",
    "for model_dir_name in celltypes:\n",
    "    load_string = os.path.join(model_path,model_dir_name,'MH49_c_scgen_model_' + str(model_dir_name)+'.pt')\n",
    "    model = scgen.SCGEN.load(load_string)\n",
    "    model.adata.obs.rename(columns={'species_x': 'species'}, inplace=True)\n",
    "    model.adata.obs = h.make_annotation_azimut1_5_scanvi_v2(model.adata)\n",
    "    latent_adata = hscg.get_latent_representation_object(model=model,adata=model.adata)\n",
    "\n",
    "    # prepare anndata objects for shifting\n",
    "    adatas_latent_dict = {}\n",
    "    for species in all_species:\n",
    "        for condition in all_conditions:\n",
    "            adatas_latent_dict[species + '_' +condition] = h.filter_multiple_adata_obs(adata=latent_adata,\n",
    "                                                            col_names = ['species','timepoint'],\n",
    "                                                            val_names=[species,condition])\n",
    "\n",
    "    delta_df_human = hscg.make_delta_df_within_species(adatas_latent_dict=adatas_latent_dict,\n",
    "                                               species='human',\n",
    "                                               celltype=model_dir_name,\n",
    "                                               n_latent=n_latent)\n",
    "\n",
    "    delta_df_cyno = hscg.make_delta_df_within_species(adatas_latent_dict=adatas_latent_dict,\n",
    "                                               species='cyno',\n",
    "                                               celltype=model_dir_name,\n",
    "                                               n_latent=n_latent)\n",
    "\n",
    "    shifts_within_species = ['00hr->06hr','00hr->24hr','06hr->24hr']\n",
    "\n",
    "    df_shift = pd.DataFrame(columns = ['shift_human','shift_cyno','euclidean_distance','cosine_similarity'])\n",
    "    for human_shift in shifts_within_species:\n",
    "        for cyno_shift in shifts_within_species:\n",
    "            delta_cyno = delta_df_cyno.loc[human_shift].filter(regex='^latent_dim_').values\n",
    "            delta_human = delta_df_human.loc[cyno_shift].filter(regex='^latent_dim_').values\n",
    "            eucl_dist_diff = np.linalg.norm(delta_human - delta_cyno)\n",
    "            cos_sim = cosine_similarity(delta_cyno[np.newaxis,:],delta_human[np.newaxis,:])\n",
    "            df_shift = df_shift.append(pd.DataFrame([human_shift,cyno_shift,eucl_dist_diff,cos_sim[0][0]],\n",
    "                                                    index = ['shift_human','shift_cyno','euclidean_distance','cosine_similarity']).T)\n",
    "            df_shift.to_csv(os.path.join(base_table_path, pre + '_' +'shift_eucl_dist_' + model_dir_name + '.csv'))\n",
    "    df_shifts[model_dir_name] = df_shift"
   ]
  },
  {
   "cell_type": "code",
   "execution_count": null,
   "id": "5ce5935e",
   "metadata": {},
   "outputs": [],
   "source": [
    "delta_dfs_cyno = {}\n",
    "delta_dfs_human = {}\n",
    "for model_dir_name in celltypes:\n",
    "    load_string = os.path.join(model_path,model_dir_name,'MH49_c_scgen_model_' + str(model_dir_name)+'.pt')\n",
    "    model = scgen.SCGEN.load(load_string)\n",
    "    model.adata.obs.rename(columns={'species_x': 'species'}, inplace=True)\n",
    "    model.adata.obs = h.make_annotation_azimut1_5_scanvi_v2(model.adata)\n",
    "    latent_adata = hscg.get_latent_representation_object(model=model,adata=model.adata)\n",
    "\n",
    "\n",
    "    # prepare anndata objects for shifting\n",
    "    adatas_latent_dict = {}\n",
    "    for species in all_species:\n",
    "        for condition in all_conditions:\n",
    "            adatas_latent_dict[species + '_' +condition] = h.filter_multiple_adata_obs(adata=latent_adata,\n",
    "                                                            col_names = ['species','timepoint'],\n",
    "                                                            val_names=[species,condition])\n",
    "\n",
    "    delta_df_human = hscg.make_delta_df_within_species(adatas_latent_dict=adatas_latent_dict,\n",
    "                                               species='human',\n",
    "                                               celltype=model_dir_name,\n",
    "                                               n_latent=n_latent)\n",
    "\n",
    "    delta_df_cyno = hscg.make_delta_df_within_species(adatas_latent_dict=adatas_latent_dict,\n",
    "                                               species='cyno',\n",
    "                                               celltype=model_dir_name,\n",
    "                                               n_latent=n_latent)\n",
    "\n",
    "    delta_dfs_cyno[model_dir_name] = delta_df_cyno\n",
    "    delta_dfs_human[model_dir_name] = delta_df_human"
   ]
  },
  {
   "cell_type": "code",
   "execution_count": null,
   "id": "783af6ff",
   "metadata": {},
   "outputs": [],
   "source": [
    "species = 'cyno'\n",
    "df_magnitude_cyno = pd.DataFrame(columns = ['shift','species','celltype','magnitude','factor_00_06'])\n",
    "for celltype in celltypes:\n",
    "    delta_df_cyno = delta_dfs_cyno[celltype]\n",
    "    for shift in ['00hr->06hr','00hr->24hr']:\n",
    "        mag = np.linalg.norm(delta_df_cyno.loc[shift].filter(regex='^latent_dim_').values)\n",
    "        if shift == '00hr->06hr':\n",
    "            factor_temp = mag.copy()\n",
    "            df_magnitude_cyno = df_magnitude_cyno.append(pd.DataFrame([shift,species,celltype,mag,1],\n",
    "                                                            index = ['shift','species','celltype','magnitude','factor_00_06']).T)\n",
    "        if shift == '00hr->24hr':\n",
    "            factor = mag/factor_temp\n",
    "            df_magnitude_cyno = df_magnitude_cyno.append(pd.DataFrame([shift,species,celltype,mag,factor],\n",
    "                                                            index = ['shift','species','celltype','magnitude','factor_00_06']).T)"
   ]
  },
  {
   "cell_type": "code",
   "execution_count": null,
   "id": "df6a0de2",
   "metadata": {},
   "outputs": [],
   "source": [
    "species = 'human'\n",
    "df_magnitude_human = pd.DataFrame(columns = ['shift','species','celltype','magnitude','factor_00_06'])\n",
    "for celltype in celltypes:\n",
    "    delta_df_human = delta_dfs_human[celltype]\n",
    "    for shift in ['00hr->06hr','00hr->24hr']:\n",
    "        mag = np.linalg.norm(delta_df_human.loc[shift].filter(regex='^latent_dim_').values)\n",
    "        if shift == '00hr->06hr':\n",
    "            factor_temp = mag.copy()\n",
    "            df_magnitude_human = df_magnitude_human.append(pd.DataFrame([shift,species,celltype,mag,1],\n",
    "                                                            index = ['shift','species','celltype','magnitude','factor_00_06']).T)\n",
    "        if shift == '00hr->24hr':\n",
    "            factor = mag/factor_temp\n",
    "            df_magnitude_human = df_magnitude_human.append(pd.DataFrame([shift,species,celltype,mag,factor],\n",
    "                                                            index = ['shift','species','celltype','magnitude','factor_00_06']).T)"
   ]
  },
  {
   "cell_type": "code",
   "execution_count": null,
   "id": "1af608af",
   "metadata": {},
   "outputs": [],
   "source": [
    "df_magnitude = df_magnitude_cyno.append(df_magnitude_human)\n",
    "df_magnitude['shift+species'] = df_magnitude['shift'] + str('_') + df_magnitude['species']  \n",
    "\n",
    "df_magnitude.to_csv(os.path.join(base_table_path,pre + '_df_magnitude_latent.csv'))"
   ]
  },
  {
   "cell_type": "code",
   "execution_count": null,
   "id": "d8ee50c6",
   "metadata": {},
   "outputs": [],
   "source": [
    "df_magnitude['magnitude'] = pd.to_numeric(df_magnitude['magnitude'], errors='coerce')\n",
    "\n",
    "df_pivot_cyno = df_magnitude.pivot('shift+species', 'celltype', 'magnitude').T\n",
    "\n",
    "# Plot heatmap\n",
    "plt.figure()\n",
    "sns.heatmap(df_pivot_cyno, annot=True, cmap='Oranges',fmt='.4f', linewidths=0.05,linecolor='grey')\n",
    "plt.title('Magnitude shift in latent space')\n",
    "plt.ylabel('Celltype')\n",
    "plt.xlabel('Shift')\n",
    "plt.yticks(rotation=0)\n",
    "plt.savefig(os.path.join(base_plots_path,pre +'heatmap_magnitude_latent_plot.pdf'),bbox_inches='tight')\n",
    "plt.show()"
   ]
  },
  {
   "cell_type": "markdown",
   "id": "8984fee3",
   "metadata": {},
   "source": [
    "Cosine similarity between shift magnitude of shifts"
   ]
  },
  {
   "cell_type": "code",
   "execution_count": null,
   "id": "bbde4023",
   "metadata": {},
   "outputs": [],
   "source": [
    "df_shift_cos = pd.DataFrame(index = ['00hr->06hr','00hr->24hr','06hr->24hr'])\n",
    "for celltype in celltypes:\n",
    "    cos_00hr_06hr = df_shifts[celltype][(df_shifts[celltype]['shift_human'] ==  '00hr->06hr')\n",
    "                        & (df_shifts[celltype]['shift_cyno'] ==  '00hr->06hr')]['cosine_similarity'][0] \n",
    "\n",
    "    cos_00hr_24hr = df_shifts[celltype][(df_shifts[celltype]['shift_human'] ==  '00hr->24hr')\n",
    "                        & (df_shifts[celltype]['shift_cyno'] ==  '00hr->24hr')]['cosine_similarity'][0] \n",
    "\n",
    "    cos_06hr_24hr = df_shifts[celltype][(df_shifts[celltype]['shift_human'] ==  '06hr->24hr')\n",
    "                        & (df_shifts[celltype]['shift_cyno'] ==  '06hr->24hr')]['cosine_similarity'][0] \n",
    "\n",
    "    df_shift_cos = df_shift_cos.join(pd.DataFrame([cos_00hr_06hr,cos_00hr_24hr,cos_06hr_24hr],index = ['00hr->06hr','00hr->24hr','06hr->24hr'],columns=[celltype]))\n",
    "df_shift_cos.to_csv(os.path.join(base_table_path,pre + 'df_cos.csv'))"
   ]
  },
  {
   "cell_type": "code",
   "execution_count": null,
   "id": "569f5627",
   "metadata": {},
   "outputs": [],
   "source": [
    "df_shift_eucl = pd.DataFrame(index = ['00hr->06hr','00hr->24hr','06hr->24hr'])\n",
    "for celltype in celltypes:\n",
    "    eucl_00hr_06hr = df_shifts[celltype][(df_shifts[celltype]['shift_human'] ==  '00hr->06hr')\n",
    "                        & (df_shifts[celltype]['shift_cyno'] ==  '00hr->06hr')]['euclidean_distance'][0] \n",
    "\n",
    "    eucl_00hr_24hr = df_shifts[celltype][(df_shifts[celltype]['shift_human'] ==  '00hr->24hr')\n",
    "                        & (df_shifts[celltype]['shift_cyno'] ==  '00hr->24hr')]['euclidean_distance'][0] \n",
    "\n",
    "    eucl_06hr_24hr = df_shifts[celltype][(df_shifts[celltype]['shift_human'] ==  '06hr->24hr')\n",
    "                        & (df_shifts[celltype]['shift_cyno'] ==  '06hr->24hr')]['euclidean_distance'][0] \n",
    "\n",
    "    df_shift_eucl = df_shift_eucl.join(pd.DataFrame([eucl_00hr_06hr,eucl_00hr_24hr,eucl_06hr_24hr],index = ['00hr->06hr','00hr->24hr','06hr->24hr'],columns=[celltype]))\n",
    "    \n",
    "df_shift_eucl.to_csv(os.path.join(base_table_path,pre + 'df_eucl.csv'))"
   ]
  },
  {
   "cell_type": "code",
   "execution_count": null,
   "id": "fae95505",
   "metadata": {},
   "outputs": [],
   "source": [
    "plt.figure()\n",
    "sns.heatmap(df_shift_cos.T, annot=True,fmt='.4f', cmap=\"Blues\", \n",
    "            cbar_kws={'label': 'cosine similarity \\nbetween latent shift vectors'},\n",
    "            linecolor='grey',norm=Normalize(vmin=0, vmax=1),\n",
    "            linewidths=0.05)\n",
    "plt.yticks(rotation=0)\n",
    "plt.savefig(os.path.join(base_plots_path, pre + '_heatmap_cosine_sim_shifts.pdf'),bbox_inches='tight')\n",
    "plt.show()"
   ]
  },
  {
   "cell_type": "code",
   "execution_count": null,
   "id": "db23e6db",
   "metadata": {},
   "outputs": [],
   "source": [
    "plt.figure()\n",
    "sns.heatmap(df_shift_eucl.T, annot=True,fmt='.4f', cmap=\"Purples_r\", \n",
    "            cbar_kws={'label': 'Euclidean distance \\nbetween latent shift vectors'},\n",
    "            linecolor='grey',\n",
    "            linewidths=0.05)\n",
    "plt.yticks(rotation=0)\n",
    "plt.savefig(os.path.join(base_plots_path, pre + '_heatmap_euclidean_shifts.pdf'),bbox_inches='tight')\n",
    "plt.show()"
   ]
  },
  {
   "cell_type": "code",
   "execution_count": null,
   "id": "b001addb",
   "metadata": {},
   "outputs": [],
   "source": [
    "base_package_version_path = h.return_package_version_local_path(drive=drive)\n",
    "h.save_package_versions(base_package_version_path,pre,do_print = True)\n",
    "h.print_main_versions()"
   ]
  }
 ],
 "metadata": {
  "kernelspec": {
   "display_name": "Python 3 (ipykernel)",
   "language": "python",
   "name": "python3"
  },
  "language_info": {
   "codemirror_mode": {
    "name": "ipython",
    "version": 3
   },
   "file_extension": ".py",
   "mimetype": "text/x-python",
   "name": "python",
   "nbconvert_exporter": "python",
   "pygments_lexer": "ipython3",
   "version": "3.8.17"
  }
 },
 "nbformat": 4,
 "nbformat_minor": 5
}
