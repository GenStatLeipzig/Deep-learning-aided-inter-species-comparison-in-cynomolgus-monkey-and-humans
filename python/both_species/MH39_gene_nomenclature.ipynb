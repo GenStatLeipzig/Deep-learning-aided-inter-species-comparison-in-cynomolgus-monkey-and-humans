{
 "cells": [
  {
   "cell_type": "code",
   "execution_count": null,
   "id": "5875f399-e15b-4e17-b0c0-1407b110161f",
   "metadata": {},
   "outputs": [],
   "source": [
    "import numpy as np\n",
    "import scanpy as sc\n",
    "import seaborn as sns\n",
    "import os\n",
    "import pandas as pd\n",
    "import matplotlib.pyplot as plt\n",
    "import warnings\n",
    "import sys\n",
    "path_helper = [\"C:\\\\\",\"Users\",\"vfriedrich\",\"projects\",\"monkey_IZI\",\"git_documentation\",\"scRNAseq_cross_species_primate_human\",\"analysis\",\"helper\"]\n",
    "sys.path.append(os.path.join(*path_helper))\n",
    "import helperVDF as h\n",
    "print(sys.executable)\n",
    "import anndata as ad\n",
    "import time"
   ]
  },
  {
   "cell_type": "markdown",
   "id": "d4fce1fc-2685-4d99-8f9d-9a46024b9442",
   "metadata": {},
   "source": [
    "### Orthotable\n",
    "read in m to n orthotable"
   ]
  },
  {
   "cell_type": "code",
   "execution_count": null,
   "id": "75b97752-e5f4-4b43-b1bc-c922eea0696a",
   "metadata": {},
   "outputs": [],
   "source": [
    "ortho_tab_s0120_nm_path = os.path.join(*[\"C:\\\\\",\"Users\",\"vfriedrich\",\"projects\",\"monkey_IZI\",\"git_documentation\",\"scRNAseq_cross_species_primate_human\",\"analysisR\",\n",
    " \"results_GIT\",\"s0120_cyno2human_n_to_m_orthologues.csv.gz\"])"
   ]
  },
  {
   "cell_type": "code",
   "execution_count": null,
   "id": "95508088-bffe-4967-8363-55d6ae10f919",
   "metadata": {},
   "outputs": [],
   "source": [
    "pre = \"MH39\"\n",
    "drive = 'F'"
   ]
  },
  {
   "cell_type": "code",
   "execution_count": null,
   "id": "cf1b5d20-0311-40fe-be5f-7e91f320b550",
   "metadata": {},
   "outputs": [],
   "source": [
    "df_ortho_tab_s0120_nm = pd.read_csv(ortho_tab_s0120_nm_path, compression='gzip')"
   ]
  },
  {
   "cell_type": "code",
   "execution_count": null,
   "id": "0c9fdd2d-3e42-4cff-8d2f-8d854c6ba4cf",
   "metadata": {},
   "outputs": [],
   "source": [
    "_,_,_,base_anndata_objects_M24 = h.return_local_paths(drive,pre='M24',add_path = False)\n",
    "adata_cyno = sc.read_h5ad(os.path.join(base_anndata_objects_M24,'M24' + '_' + 'cyno' + '_anno_celltypes_v0.h5ad'))"
   ]
  },
  {
   "cell_type": "code",
   "execution_count": null,
   "id": "8acdf76b-c0ad-447f-b57c-3701f5a3ea3c",
   "metadata": {},
   "outputs": [],
   "source": [
    "_,_,_,base_anndata_objects_H24 = h.return_local_paths(drive,pre='H24',add_path = False)\n",
    "adata_human = sc.read_h5ad(os.path.join(base_anndata_objects_H24,'H24' + '_' + 'human' + '_anno_celltypes_v0.h5ad'))"
   ]
  },
  {
   "cell_type": "code",
   "execution_count": null,
   "id": "48fb1bb9-78f0-4039-93b0-b5ac5977d934",
   "metadata": {},
   "outputs": [],
   "source": [
    "n_top_genes_per_species = 2000\n",
    "base_model_path,base_table_path,base_plots_path,base_anndata_objects = h.return_local_paths(drive = drive,\n",
    "                                                                                            pre = pre,\n",
    "                                                                                            add_path = True)"
   ]
  },
  {
   "cell_type": "code",
   "execution_count": null,
   "id": "28d5b676-359c-40ed-b09c-4318de34e710",
   "metadata": {},
   "outputs": [],
   "source": [
    "sc.pp.highly_variable_genes(adata_cyno,n_top_genes=n_top_genes_per_species,flavor='seurat_v3',inplace=True)\n",
    "\n",
    "adata_cyno_hv = adata_cyno[:,adata_cyno.var['highly_variable'] ==True]\n"
   ]
  },
  {
   "cell_type": "code",
   "execution_count": null,
   "id": "af490d25-b6d1-4aef-9e5b-339a7b5d83bf",
   "metadata": {},
   "outputs": [],
   "source": [
    "adata_cyno_hv_obs = adata_cyno_hv.obs.copy()"
   ]
  },
  {
   "cell_type": "code",
   "execution_count": null,
   "id": "d74b9510-d16c-4a4d-8a58-bd82bdd25a2e",
   "metadata": {},
   "outputs": [],
   "source": [
    "for cyno_gene in adata_cyno_hv.var.index:\n",
    "    tab = df_ortho_tab_s0120_nm[df_ortho_tab_s0120_nm['seurat_gene'] == cyno_gene]\n",
    "    gene_idx = adata_cyno_hv.var_names.get_loc(cyno_gene)\n",
    "    human_gene_names = tab[tab['Human gene name'].notna()]['Human gene name'].values\n",
    "    for human_gene_name in list(human_gene_names):\n",
    "        tab_exact = tab[tab['Human gene name'] == human_gene_name]\n",
    "        new_gene_name = (tab_exact['Human gene name'].values + '--' + tab_exact['seurat_gene'].values)[0] \n",
    "        if tab_exact['ortho_1to1_cyno2human'].values[0] == True:\n",
    "            ind_list = list(adata_cyno_hv.var.index) \n",
    "            ind_list[gene_idx] = new_gene_name\n",
    "            adata_cyno_hv.var.index = ind_list\n",
    "        else:\n",
    "            single_gene_anndata = adata_cyno_hv[:, gene_idx].copy()\n",
    "            single_gene_anndata.var.index = [new_gene_name]\n",
    "            adata_cyno_hv = ad.concat([adata_cyno_hv,single_gene_anndata],axis =1)\n"
   ]
  },
  {
   "cell_type": "code",
   "execution_count": null,
   "id": "78a85525-3793-4ef1-8ea8-24e8681deabb",
   "metadata": {},
   "outputs": [],
   "source": [
    "adata_cyno_hv.obs = adata_cyno_hv.obs.merge(adata_cyno_hv_obs, left_index=True, right_index=True, how='left')\n",
    "adata_cyno_hv.write(os.path.join(base_anndata_objects,pre + '_cyno_hv_nomenclatureVAE.h5ad'))  "
   ]
  },
  {
   "cell_type": "markdown",
   "id": "01c1b692-86bb-464b-9fdb-5f73264e87ba",
   "metadata": {},
   "source": [
    "### Human"
   ]
  },
  {
   "cell_type": "code",
   "execution_count": null,
   "id": "6b1f5a4b-98a8-4410-8d61-fe87ad4dfdd7",
   "metadata": {},
   "outputs": [],
   "source": [
    "\n",
    "sc.pp.highly_variable_genes(adata_human,n_top_genes=n_top_genes_per_species,flavor='seurat_v3',inplace=True)\n",
    "\n",
    "adata_human_hv = adata_human[:,adata_human.var['highly_variable'] ==True]"
   ]
  },
  {
   "cell_type": "code",
   "execution_count": null,
   "id": "ff6ff442-2355-4752-9e35-43b8cb4fa6e9",
   "metadata": {},
   "outputs": [],
   "source": [
    "adata_human_hv_obs = adata_human_hv.obs.copy()"
   ]
  },
  {
   "cell_type": "code",
   "execution_count": null,
   "id": "772d233c-2e86-416e-8518-c63e1f044f77",
   "metadata": {},
   "outputs": [],
   "source": [
    "for human_gene in adata_human_hv.var.index:\n",
    "    tab = df_ortho_tab_s0120_nm[df_ortho_tab_s0120_nm['Human gene name']== human_gene]\n",
    "    gene_idx = adata_human_hv.var_names.get_loc(human_gene)\n",
    "    cyno_gene_names = tab[tab['seurat_gene'].notna()]['seurat_gene'].values\n",
    "    for cyno_gene_name in list(cyno_gene_names):\n",
    "            tab_exact = tab[tab['seurat_gene'] == cyno_gene_name]\n",
    "            new_gene_name = (tab_exact['Human gene name'].values + '--' + tab_exact['seurat_gene'].values)[0] \n",
    "            if tab_exact['ortho_1to1_human2cyno'].values[0] == True:\n",
    "                ind_list = list(adata_human_hv.var.index) \n",
    "                ind_list[gene_idx] = new_gene_name\n",
    "                adata_human_hv.var.index = ind_list\n",
    "            else:\n",
    "                single_gene_anndata = adata_human_hv[:, gene_idx].copy()\n",
    "                single_gene_anndata.var.index = [new_gene_name]\n",
    "                adata_human_hv = ad.concat([adata_human_hv,single_gene_anndata],axis =1)"
   ]
  },
  {
   "cell_type": "code",
   "execution_count": null,
   "id": "183ab949-7acd-4120-9f9c-b53627904b41",
   "metadata": {},
   "outputs": [],
   "source": [
    "adata_human_hv.obs = adata_human_hv.obs.merge(adata_human_hv_obs, left_index=True, right_index=True, how='left')"
   ]
  },
  {
   "cell_type": "code",
   "execution_count": null,
   "id": "d5074c9c-5fd8-4501-bacc-473a23290f0d",
   "metadata": {},
   "outputs": [],
   "source": [
    "adata_human_hv.write(os.path.join(base_anndata_objects,pre + '_human_hv_nomenclatureVAE.h5ad'))  "
   ]
  },
  {
   "cell_type": "markdown",
   "id": "147dd3ea-e6ef-47f4-a427-f55672f9ded6",
   "metadata": {},
   "source": [
    "### Joined"
   ]
  },
  {
   "cell_type": "code",
   "execution_count": null,
   "id": "8e0e59fc-98dd-42af-aae3-3a88c3f253d0",
   "metadata": {},
   "outputs": [],
   "source": [
    "adatas_hv = [adata_cyno_hv,adata_human_hv]\n",
    "adata_hv = ad.concat(adatas_hv)\n",
    "adata_hv.write(os.path.join(base_anndata_objects,pre + '_joined_gene_nomenclatureVAE.h5ad'))"
   ]
  },
  {
   "cell_type": "markdown",
   "id": "09ceb7ce-9d35-4da3-8e4e-1c87a6925205",
   "metadata": {},
   "source": [
    "#### Save session"
   ]
  },
  {
   "cell_type": "code",
   "execution_count": null,
   "id": "126d9e64-c56b-4a9a-bd3d-fb7236ec1e9c",
   "metadata": {},
   "outputs": [],
   "source": [
    "base_package_version_path = h.return_package_version_local_path(drive=drive)\n",
    "h.save_package_versions(base_package_version_path,pre,do_print = True)\n",
    "h.print_main_versions()"
   ]
  }
 ],
 "metadata": {
  "kernelspec": {
   "display_name": "Python 3 (ipykernel)",
   "language": "python",
   "name": "python3"
  },
  "language_info": {
   "codemirror_mode": {
    "name": "ipython",
    "version": 3
   },
   "file_extension": ".py",
   "mimetype": "text/x-python",
   "name": "python",
   "nbconvert_exporter": "python",
   "pygments_lexer": "ipython3",
   "version": "3.8.19"
  }
 },
 "nbformat": 4,
 "nbformat_minor": 5
}
