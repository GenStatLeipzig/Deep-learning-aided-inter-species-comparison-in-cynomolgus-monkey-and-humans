{
 "cells": [
  {
   "cell_type": "code",
   "execution_count": null,
   "id": "b4c2bbb0-bd6a-464b-9006-6f7389d70486",
   "metadata": {},
   "outputs": [],
   "source": [
    "import numpy as np\n",
    "import scanpy as sc\n",
    "import seaborn as sns\n",
    "import os\n",
    "import pandas as pd\n",
    "import matplotlib.pyplot as plt\n",
    "import warnings\n",
    "import sys\n",
    "path_helper = [\"C:\\\\\",\"Users\",\"vfriedrich\",\"projects\",\"monkey_IZI\",\"git_documentation\",\"scRNAseq_cross_species_primate_human\",\"analysis\",\"helper\"]\n",
    "sys.path.append(os.path.join(*path_helper))\n",
    "import helperVDF as h\n",
    "print(sys.executable)\n",
    "from matplotlib.colors import Normalize"
   ]
  },
  {
   "cell_type": "code",
   "execution_count": null,
   "id": "186308bc-3521-47fc-963d-bd82360082c2",
   "metadata": {},
   "outputs": [],
   "source": [
    "pre = \"MH85\"\n",
    "drive = 'F'\n",
    "species = 'cyno'\n",
    "base_model_path,base_table_path,base_plots_path,base_anndata_objects = h.return_local_paths(drive = drive,\n",
    "                                                                                            pre = pre,\n",
    "                                                                                            add_path = True)"
   ]
  },
  {
   "cell_type": "markdown",
   "id": "9168b580",
   "metadata": {},
   "source": [
    "### read in eta1 calculation from R (MH84_c_R)"
   ]
  },
  {
   "cell_type": "code",
   "execution_count": null,
   "id": "d038e3a2",
   "metadata": {},
   "outputs": [],
   "source": [
    "_,base_table_path_MH84_c_R,_,_ = h.return_local_paths(drive = drive,pre = \"MH84_c_R\",add_path = False)"
   ]
  },
  {
   "cell_type": "code",
   "execution_count": null,
   "id": "45a227a8",
   "metadata": {},
   "outputs": [],
   "source": [
    "warnings.simplefilter(\"ignore\") \n",
    "eta1_human = pd.read_csv(os.path.join(base_table_path_MH84_c_R,'MH84_c_R_etahuman.csv'))\n",
    "\n",
    "eta1_cyno = pd.read_csv(os.path.join(base_table_path_MH84_c_R,'MH84_c_R_etacyno.csv'))\n",
    "\n",
    "eta1_cyno['param.eta1'] = 1-eta1_cyno['param.eta0']\n",
    "\n",
    "eta1_human['param.eta1'] = 1-eta1_human['param.eta0']\n",
    "\n",
    "eta1_human['comparison.vs.00hr']=eta1_human['comparison.vs.00hr'].str.replace('timepoints06hr','06hr')\n",
    "eta1_human['comparison.vs.00hr']=eta1_human['comparison.vs.00hr'].str.replace('timepoints24hr','24hr')\n",
    "\n",
    "eta1_cyno['comparison.vs.00hr']=eta1_cyno['comparison.vs.00hr'].str.replace('timepoints06hr','06hr')\n",
    "eta1_cyno['comparison.vs.00hr']=eta1_cyno['comparison.vs.00hr'].str.replace('timepoints24hr','24hr')\n",
    "\n",
    "\n",
    "\n",
    "eta1_human['comparison.vs.00hr']=eta1_human['comparison.vs.00hr'].str.replace('timepoints06hr','06hr')\n",
    "eta1_human['comparison.vs.00hr']=eta1_human['comparison.vs.00hr'].str.replace('timepoints24hr','24hr')\n",
    "\n",
    "eta1_cyno['comparison.vs.00hr']=eta1_cyno['comparison.vs.00hr'].str.replace('timepoints06hr','06hr')\n",
    "eta1_cyno['comparison.vs.00hr']=eta1_cyno['comparison.vs.00hr'].str.replace('timepoints24hr','24hr')\n",
    "\n",
    "\n",
    "eta1_human = eta1_human.append(pd.DataFrame(['dnT', '06hr', np.nan, np.nan, np.nan, np.nan,np.nan, np.nan],index=eta1_human.columns).T)\n",
    "eta1_human = eta1_human.append(pd.DataFrame(['dnT', '24hr', np.nan, np.nan, np.nan, np.nan,np.nan, np.nan],index=eta1_human.columns).T)\n"
   ]
  },
  {
   "cell_type": "code",
   "execution_count": null,
   "id": "9bc54421",
   "metadata": {},
   "outputs": [],
   "source": [
    "#make pivots\n",
    "df_pivot_cyno = eta1_cyno.pivot('comparison.vs.00hr', 'celltype', 'param.eta1').T\n",
    "df_pivot_cyno = df_pivot_cyno.apply(pd.to_numeric, errors='coerce')\n",
    "\n",
    "df_pivot_human = eta1_human.pivot('comparison.vs.00hr', 'celltype', 'param.eta1').T\n",
    "df_pivot_human = df_pivot_human.apply(pd.to_numeric, errors='coerce')\n",
    "\n",
    "df_pivot_human.to_csv(os.path.join(base_table_path,pre + '_df_pivot_human_eta1.csv'))\n",
    "\n",
    "df_pivot_cyno.to_csv(os.path.join(base_table_path,pre + '_df_pivot_cyno_eta1.csv'))"
   ]
  },
  {
   "cell_type": "code",
   "execution_count": null,
   "id": "4bb7c302",
   "metadata": {},
   "outputs": [],
   "source": [
    "#plt.savefig(os.path.join(base_plots_path,pre + '_heatmaps_eta1_human_cyno.pdf'),bbox_inches = 'tight')"
   ]
  },
  {
   "cell_type": "code",
   "execution_count": null,
   "id": "32a2b463",
   "metadata": {},
   "outputs": [],
   "source": [
    "fig, axes = plt.subplots(1, 2, figsize=(12, 5), sharey=True)\n",
    "\n",
    "# First heatmap\n",
    "sns.heatmap(df_pivot_human, annot=True, cmap=\"rocket_r\", \n",
    "            cbar_kws={'label': '% of genes \\nsignificantly up- or downregulated'},\n",
    "            norm=Normalize(vmin=0, vmax=1),\n",
    "            fmt=\".3f\",\n",
    "            mask=pd.isna(df_pivot_human),\n",
    "            linecolor='grey',\n",
    "            linewidths=0.05,\n",
    "            ax=axes[0])\n",
    "\n",
    "axes[0].set_title('Human')\n",
    "axes[0].set_xlabel('control vs.')\n",
    "axes[0].set_ylabel('celltype')\n",
    "axes[0].yaxis.set_tick_params(rotation=0)\n",
    "\n",
    "# Second heatmap\n",
    "sns.heatmap(df_pivot_cyno, annot=True, cmap=\"rocket_r\", \n",
    "            cbar_kws={'label': '% of genes \\nsignificantly up- or downregulated'},\n",
    "            norm=Normalize(vmin=0, vmax=1),\n",
    "            fmt=\".3f\",\n",
    "            mask=pd.isna(df_pivot_cyno),\n",
    "            linecolor='grey',\n",
    "            linewidths=0.05,\n",
    "            ax=axes[1])\n",
    "\n",
    "axes[1].set_title('Cyno')\n",
    "axes[1].set_xlabel('control vs.')\n",
    "#axes[1].set_ylabel('celltype')\n",
    "#axes[1].yaxis.set_tick_params(rotation=0)\n",
    "\n",
    "# Adjust layout to make room for the colorbars\n",
    "plt.tight_layout()\n",
    "plt.savefig(os.path.join(base_plots_path,pre + '_heatmaps_eta1_human_cyno.pdf'),bbox_inches = 'tight')\n",
    "# Show the combined heatmap\n",
    "plt.show()"
   ]
  },
  {
   "cell_type": "code",
   "execution_count": null,
   "id": "2e7c6047-a9af-413c-9cbd-f911bec19a9f",
   "metadata": {},
   "outputs": [],
   "source": [
    "base_package_version_path = h.return_package_version_local_path(drive=drive)\n",
    "h.save_package_versions(base_package_version_path,pre,do_print = True)\n",
    "h.print_main_versions()"
   ]
  }
 ],
 "metadata": {
  "kernelspec": {
   "display_name": "Python 3 (ipykernel)",
   "language": "python",
   "name": "python3"
  },
  "language_info": {
   "codemirror_mode": {
    "name": "ipython",
    "version": 3
   },
   "file_extension": ".py",
   "mimetype": "text/x-python",
   "name": "python",
   "nbconvert_exporter": "python",
   "pygments_lexer": "ipython3",
   "version": "3.8.19"
  }
 },
 "nbformat": 4,
 "nbformat_minor": 5
}
