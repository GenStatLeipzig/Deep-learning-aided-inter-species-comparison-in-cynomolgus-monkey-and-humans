{
 "cells": [
  {
   "cell_type": "code",
   "execution_count": null,
   "id": "017eba3c-fff1-42ab-99fd-c6a4da058af8",
   "metadata": {},
   "outputs": [],
   "source": [
    "from imports_LDVAE_local import *\n",
    "from scipy.stats import spearmanr\n",
    "from matplotlib.colors import Normalize\n",
    "warnings.filterwarnings('ignore')"
   ]
  },
  {
   "cell_type": "code",
   "execution_count": null,
   "id": "4c0c89ad-9a75-4fac-ad59-1a9ca85cfa4c",
   "metadata": {},
   "outputs": [],
   "source": [
    "pre = \"MH107\"\n",
    "drive = 'F'\n",
    "base_model_path,base_table_path,base_plots_path,base_anndata_objects = h.return_local_paths(drive = drive,\n",
    "                                                                              pre = pre,\n",
    "                                                                              add_path = True)"
   ]
  },
  {
   "cell_type": "code",
   "execution_count": null,
   "id": "8011c555-a8f1-492c-9d42-949b7cfafe6c",
   "metadata": {},
   "outputs": [],
   "source": [
    "#load proof of principle results from MH101\n",
    "_,base_table_path_MH101,_,_ = h.return_local_paths(drive = drive,pre = 'MH101',add_path = False)"
   ]
  },
  {
   "cell_type": "code",
   "execution_count": null,
   "id": "3fd32f98-3bd1-4915-95df-9cdbde6c2688",
   "metadata": {},
   "outputs": [],
   "source": [
    "#load proof of principle results from MH106\n",
    "_,base_table_path_MH106,_,_ = h.return_local_paths(drive = drive,pre = 'MH106',add_path = False)"
   ]
  },
  {
   "cell_type": "code",
   "execution_count": null,
   "id": "43b0b1d5-2925-433d-a1be-827dcd6bdf5a",
   "metadata": {},
   "outputs": [],
   "source": [
    "df_all_spearman_MH106 = pd.read_csv(os.path.join(base_table_path_MH106,'MH106_df_all_spearman.csv'),index_col=0) \n",
    "\n",
    "df_all_spearman_MH101 = pd.read_csv(os.path.join(base_table_path_MH101,'MH101_df_all_spearman.csv'),index_col=0)"
   ]
  },
  {
   "cell_type": "code",
   "execution_count": null,
   "id": "4004d6d5-c238-42a2-993d-eaa60fbca423",
   "metadata": {},
   "outputs": [],
   "source": [
    "\n",
    "col_LDVAE_test = \"#ffb242\"\n",
    "col_LDVAE_train =\"#ef8737\"\n",
    "\n",
    "col_scgen_test =\"#31c7ba\"\n",
    "col_scgen_train = \"#1c9d7c\"\n"
   ]
  },
  {
   "cell_type": "code",
   "execution_count": null,
   "id": "84ca96ef-24c2-4094-8119-f78e09c69ad2",
   "metadata": {},
   "outputs": [],
   "source": [
    "plt.figure(figsize=(7, 5))\n",
    "plt.plot(df_all_spearman_MH101.T['train_human_shifted_cyno'],'x',color = col_scgen_train,markersize=8)\n",
    "plt.plot(df_all_spearman_MH101.T['train_human_shifted_cyno'],'-',color =col_scgen_train,label='scGen - train',linewidth=2)\n",
    "plt.plot(df_all_spearman_MH101.T['test_human_shifted_cyno'],'x',color = col_scgen_test,markersize=8)\n",
    "plt.plot(df_all_spearman_MH101.T['test_human_shifted_cyno'],'-',color =col_scgen_test,label='scGen - test',linewidth=2)\n",
    "plt.plot(df_all_spearman_MH106.T['train_human_shifted_cyno'],'x',color = col_LDVAE_train,markersize=8)\n",
    "plt.plot(df_all_spearman_MH106.T['train_human_shifted_cyno'],'-',color =col_LDVAE_train,label='LDVAE - train',linewidth=2)\n",
    "plt.plot(df_all_spearman_MH106.T['test_human_shifted_cyno'],'x',color = col_LDVAE_test,markersize=8)\n",
    "plt.plot(df_all_spearman_MH106.T['test_human_shifted_cyno'],'-',color =col_LDVAE_test,label='LDVAE - test',linewidth=2)\n",
    "plt.ylim([0,1])\n",
    "plt.ylabel('spearman gene rank correlation \\n humanized cyno vs. human')\n",
    "plt.title('Proof-of-principle performance')\n",
    "plt.tight_layout()\n",
    "plt.legend()\n",
    "plt.savefig(os.path.join(base_plots_path,pre + '_comp_scgen_LDVAE_pp.pdf'),bbox_inches='tight')\n",
    "plt.show()"
   ]
  },
  {
   "cell_type": "markdown",
   "id": "f4f2d704-e2c9-4196-9524-63eea956d2e0",
   "metadata": {},
   "source": [
    "### Save session "
   ]
  },
  {
   "cell_type": "code",
   "execution_count": null,
   "id": "4e5a61e2-988d-42ac-acf1-f3e08dc7628c",
   "metadata": {},
   "outputs": [],
   "source": [
    "\n",
    "base_package_version_path = h.return_package_version_local_path(drive=drive)\n",
    "h.save_package_versions(base_package_version_path,pre,do_print = True)"
   ]
  }
 ],
 "metadata": {
  "kernelspec": {
   "display_name": "Python 3 (ipykernel)",
   "language": "python",
   "name": "python3"
  },
  "language_info": {
   "codemirror_mode": {
    "name": "ipython",
    "version": 3
   },
   "file_extension": ".py",
   "mimetype": "text/x-python",
   "name": "python",
   "nbconvert_exporter": "python",
   "pygments_lexer": "ipython3",
   "version": "3.8.19"
  }
 },
 "nbformat": 4,
 "nbformat_minor": 5
}
