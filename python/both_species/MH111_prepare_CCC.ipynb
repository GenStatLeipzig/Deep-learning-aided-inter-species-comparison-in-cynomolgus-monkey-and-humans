{
 "cells": [
  {
   "cell_type": "code",
   "execution_count": null,
   "id": "548a67a7-53b9-4514-afec-badeeb2b7cbe",
   "metadata": {},
   "outputs": [],
   "source": [
    "import numpy as np\n",
    "import scanpy as sc\n",
    "import seaborn as sns\n",
    "import os\n",
    "import pandas as pd\n",
    "import matplotlib.pyplot as plt\n",
    "import warnings\n",
    "import sys\n",
    "import anndata as ad\n",
    "path_helper = [\"C:\\\\\",\"Users\",\"vfriedrich\",\"projects\",\"monkey_IZI\",\"git_documentation\",\"scRNAseq_cross_species_primate_human\",\"analysis\",\"helper\"]\n",
    "sys.path.append(os.path.join(*path_helper))\n",
    "import helperVDF as h\n",
    "print(sys.executable)\n",
    "from matplotlib.colors import Normalize\n",
    "\n",
    "def make_df_annotation_azimut1_5_scanvi_v2(df):\n",
    "    df['cluster_azimut1_5_scanvi_v2'] = df['cluster_azimut1_5_scanvi'].replace(\n",
    "    {'NK': 'NK+Proliferating', 'NK Proliferating': 'NK+Proliferating'})\n",
    "    return df"
   ]
  },
  {
   "cell_type": "code",
   "execution_count": null,
   "id": "27787b44-2724-4b3f-89c4-7a50243331fa",
   "metadata": {},
   "outputs": [],
   "source": [
    "pre = \"MH111\"\n",
    "drive = 'F'\n",
    "base_model_path,base_table_path,base_plots_path,base_anndata_objects = h.return_local_paths(drive = drive,\n",
    "                                                                                            pre = pre,\n",
    "                                                                                            add_path = True)"
   ]
  },
  {
   "cell_type": "markdown",
   "id": "03749517-090c-4d00-b269-0fa533e14437",
   "metadata": {},
   "source": [
    "### Cyno"
   ]
  },
  {
   "cell_type": "code",
   "execution_count": null,
   "id": "a2dca609-db89-42c2-8c2d-092b17cac514",
   "metadata": {},
   "outputs": [],
   "source": [
    "species = 'cyno'"
   ]
  },
  {
   "cell_type": "code",
   "execution_count": null,
   "id": "a10c5e33-96e3-45ce-b78e-792abdaf302e",
   "metadata": {},
   "outputs": [],
   "source": [
    "_,_,_,base_anndata_objects_M24 = h.return_local_paths(drive,pre='M24',add_path = False)\n",
    "adata = sc.read_h5ad(os.path.join(base_anndata_objects_M24,'M24' + '_' + species + '_anno_celltypes_v0.h5ad'))"
   ]
  },
  {
   "cell_type": "markdown",
   "id": "039c12ea-cfc5-4b09-aba4-4df998a4bce3",
   "metadata": {},
   "source": [
    "- take background corrected counts\n",
    "- keep all genes \n",
    "- filter for QC cells\n",
    "- building analogous to M23 in first part\n",
    "- take cell type "
   ]
  },
  {
   "cell_type": "code",
   "execution_count": null,
   "id": "942d3dc6-06d0-4bce-98b7-f526338d2e5c",
   "metadata": {},
   "outputs": [],
   "source": [
    "species = 'cyno'\n",
    "warnings.filterwarnings(\"ignore\")\n",
    "IDs = h.return_cellranger_IDs(species)\n",
    "adata_all_cyno = h.read_bg_corrected_counts(drive,cellranger_IDs = IDs,pre_bg_correction = 'M05', species = species)\n",
    "#add MT nomenclature\n",
    "cynoanno = pd.read_csv(os.path.join(h.return_git_path_local(),\"preprocessing\",\"ensembl\",\"mart_export.txt.gz\"), compression='gzip')\n",
    "mt_genes_cyno = h.return_mt_genes_cyno(cynoanno)\n",
    "adata_all_cyno = h.add_MT_prefix(adata=adata_all_cyno,mt_genes=mt_genes_cyno)"
   ]
  },
  {
   "cell_type": "markdown",
   "id": "bd681d9b-7433-43b2-945d-d7ea1d1c49c9",
   "metadata": {},
   "source": [
    "- load in QC"
   ]
  },
  {
   "cell_type": "code",
   "execution_count": null,
   "id": "f88c6416-c57f-40eb-8ea2-c993510bd458",
   "metadata": {},
   "outputs": [],
   "source": [
    "_,base_table_path_M21,_,_ = h.return_local_paths(drive = drive,pre = \"M21\",add_path = False)"
   ]
  },
  {
   "cell_type": "code",
   "execution_count": null,
   "id": "c59c4bbf-88df-41a4-b905-8b37339afaa8",
   "metadata": {},
   "outputs": [],
   "source": [
    "anno_cyno = pd.read_csv((os.path.join(base_table_path_M21,'M21_'  + species + '_anno_QC.csv')),index_col=0)"
   ]
  },
  {
   "cell_type": "code",
   "execution_count": null,
   "id": "4e942ff5-eeea-4865-b666-bf9457123882",
   "metadata": {},
   "outputs": [],
   "source": [
    "adata_all_cyno = h.add_anno_to_adata(adata=adata_all_cyno,\n",
    "                  anno_df=anno_cyno,\n",
    "                  anno_columns_to_add=anno_cyno.columns,\n",
    "                  rsuffix='_R')"
   ]
  },
  {
   "cell_type": "code",
   "execution_count": null,
   "id": "f1ce38d4-34e5-47ee-be0b-b6c648cba16a",
   "metadata": {},
   "outputs": [],
   "source": [
    "adata_all_cyno = h.filter_adata_obs(adata_all_cyno,col_name='QC_summary',val='passed_QC')\n",
    "#adata_all_cyno.obs = adata_all_cyno.obs.loc[:, ~adata_all_cyno.obs.columns.duplicated()]"
   ]
  },
  {
   "cell_type": "code",
   "execution_count": null,
   "id": "b6c5454a-58d6-4d8d-a528-92e970620ea7",
   "metadata": {},
   "outputs": [],
   "source": [
    "scanpy_genes = pd.DataFrame(adata_all_cyno.var.index,columns = ['scanpy_gene'])\n",
    "scanpy_genes.to_csv(os.path.join(base_table_path,pre + '_scanpy_genes.csv'))"
   ]
  },
  {
   "cell_type": "markdown",
   "id": "1a196717-9553-4f3a-99d6-93cdcb9c7d0b",
   "metadata": {
    "jp-MarkdownHeadingCollapsed": true
   },
   "source": [
    "- add annotation"
   ]
  },
  {
   "cell_type": "code",
   "execution_count": null,
   "id": "44723616-578a-4f30-b583-a9fd8814819a",
   "metadata": {},
   "outputs": [],
   "source": [
    "path_clusteranno_s0140 = 'F:\\\\monkey_IZI\\\\analysis\\\\tables\\\\s0140_clusteranno_scvi.txt.gz'\n",
    "clusteranno_s0140 = pd.read_csv(path_clusteranno_s0140,compression = 'gzip',index_col=0)"
   ]
  },
  {
   "cell_type": "code",
   "execution_count": null,
   "id": "e560750e-78f2-4c6b-b66f-822ee5a0312a",
   "metadata": {},
   "outputs": [],
   "source": [
    "ortho_tab_s0135_nm_path = os.path.join(*[\"C:\\\\\",\"Users\",\"vfriedrich\",\"projects\",\"monkey_IZI\",\"git_documentation\",\"scRNAseq_cross_species_primate_human\",\"analysisR\",\n",
    " \"results_GIT\",\"s0135_cyno2human_n_to_m_orthologues_unfilteredApes.csv.gz\"])\n",
    "df_ortho_tab_s0135_nm = pd.read_csv(ortho_tab_s0135_nm_path, compression='gzip')"
   ]
  },
  {
   "cell_type": "code",
   "execution_count": null,
   "id": "d79c3fa9-0274-4f06-b19e-6cb1ecfcb0dd",
   "metadata": {},
   "outputs": [],
   "source": [
    "adata_duplicate_list = []\n",
    "original_index = adata_all_cyno.var.index.copy()  \n",
    "\n",
    "for cyno_gene in original_index:\n",
    "    if cyno_gene.endswith('-1'):\n",
    "        tab = df_ortho_tab_s0135_nm[df_ortho_tab_s0135_nm['seurat_gene'] == cyno_gene.split('-1')[0]]\n",
    "    else:\n",
    "        tab = df_ortho_tab_s0135_nm[df_ortho_tab_s0135_nm['seurat_gene'] == cyno_gene]\n",
    "    gene_idx = list(original_index).index(cyno_gene)  \n",
    "    human_gene_names = tab[tab['Human gene name'].notna()]['Human gene name'].values\n",
    "    \n",
    "    for q, human_gene_name in enumerate(human_gene_names):\n",
    "        if q == 0:\n",
    "            # Modify the main AnnData index for the first human gene name\n",
    "            ind_list = list(adata_all_cyno.var.index)\n",
    "            ind_list[gene_idx] = human_gene_name\n",
    "            adata_all_cyno.var.index = ind_list\n",
    "        else:\n",
    "            # Create a copy of the AnnData object for additional human gene names\n",
    "            single_gene_anndata = adata_all_cyno[:, gene_idx].copy()\n",
    "            single_gene_anndata.var.index = [human_gene_name]\n",
    "            adata_duplicate_list.append(single_gene_anndata)"
   ]
  },
  {
   "cell_type": "code",
   "execution_count": null,
   "id": "3df5d13f-b586-4926-8ff4-2b18ac2dbd6e",
   "metadata": {},
   "outputs": [],
   "source": [
    "adata_duplicates = ad.concat(adata_duplicate_list,axis=1)"
   ]
  },
  {
   "cell_type": "code",
   "execution_count": null,
   "id": "474f8915-21f9-4dd3-897c-54cdc04c32df",
   "metadata": {},
   "outputs": [],
   "source": [
    "adata_cyno_all = ad.concat([adata_duplicates,adata_all_cyno],axis=1)"
   ]
  },
  {
   "cell_type": "code",
   "execution_count": null,
   "id": "0f25a2c5-2855-40d7-929e-cc939ecee296",
   "metadata": {},
   "outputs": [],
   "source": [
    "gene_names = adata_cyno_all.var.index.values\n",
    "unique_genes, counts = np.unique(gene_names, return_counts=True)\n",
    "genes_appear_once = unique_genes[counts == 1]"
   ]
  },
  {
   "cell_type": "code",
   "execution_count": null,
   "id": "7eb744ca-15f6-4791-949c-50b8b855034e",
   "metadata": {},
   "outputs": [],
   "source": [
    "genes_to_sum = set(adata_cyno_all.var.index.values) - set(genes_appear_once)"
   ]
  },
  {
   "cell_type": "code",
   "execution_count": null,
   "id": "a729765f-7bd2-4c25-8a70-4d96335a0173",
   "metadata": {},
   "outputs": [],
   "source": [
    "list_adatas_to_sum = []\n",
    "for gene in genes_to_sum:\n",
    "    adata_to_sum = adata_cyno_all[:,adata_cyno_all.var.index == gene]\n",
    "    sum_from_duplicates = np.sum(pd.DataFrame.sparse.from_spmatrix(adata_to_sum.X),axis=1).values\n",
    "    sum_gene_anndata = adata_to_sum [:, 0].copy()\n",
    "    sum_gene_anndata.X = sum_from_duplicates\n",
    "    sum_gene_anndata.layers={}\n",
    "    list_adatas_to_sum.append(sum_gene_anndata)"
   ]
  },
  {
   "cell_type": "code",
   "execution_count": null,
   "id": "d8d5b0cc-87d6-4dea-9e9f-8fb5d753e9f4",
   "metadata": {},
   "outputs": [],
   "source": [
    "adatas_duplicates_summed = ad.concat(list_adatas_to_sum,axis=1)\n",
    "adata_single_genes = adata_cyno_all[:,adata_cyno_all.var.index.isin(genes_appear_once)]\n",
    "\n",
    "adata_cyno_final = ad.concat([adatas_duplicates_summed,adata_single_genes],axis=1)\n",
    "\n",
    "adata_cyno_final.obs = pd.merge(adata_cyno_final.obs, clusteranno_s0140, left_index=True, right_index=True)\n",
    "\n",
    "adata_cyno_final.write(os.path.join(base_anndata_objects,pre + '_adata_cyno_final_CCC.h5ad'))"
   ]
  },
  {
   "cell_type": "markdown",
   "id": "9c282e8d-801d-4766-bdc2-82f98b0e7953",
   "metadata": {},
   "source": [
    "### Human"
   ]
  },
  {
   "cell_type": "code",
   "execution_count": null,
   "id": "2cf38073-3459-4250-9460-bde1719c6d7f",
   "metadata": {},
   "outputs": [],
   "source": [
    "species = 'human'\n",
    "#human\n",
    "_,base_table_path_H21,_,_ = h.return_local_paths(drive = drive,pre = \"H21\",add_path = False)"
   ]
  },
  {
   "cell_type": "code",
   "execution_count": null,
   "id": "b9eb72a8-8e0c-4097-bdac-120c1ff20238",
   "metadata": {},
   "outputs": [],
   "source": [
    "#human\n",
    "species = 'human'\n",
    "warnings.filterwarnings(\"ignore\")\n",
    "IDs = h.return_cellranger_IDs(species)\n",
    "adata_all_human = h.read_bg_corrected_counts(drive,cellranger_IDs = IDs,pre_bg_correction = 'H05_01', species = species)"
   ]
  },
  {
   "cell_type": "code",
   "execution_count": null,
   "id": "55a07fae-2580-4ed9-aef4-6684db8090f5",
   "metadata": {},
   "outputs": [],
   "source": [
    "anno_human = pd.read_csv((os.path.join(base_table_path_H21,'H21_'  + species + '_anno_QC.csv')),index_col=0)"
   ]
  },
  {
   "cell_type": "code",
   "execution_count": null,
   "id": "4bbf96d9-1eec-4161-af88-f83e15f0441d",
   "metadata": {},
   "outputs": [],
   "source": [
    "adata_all_human = h.add_anno_to_adata(adata=adata_all_human,\n",
    "                  anno_df=anno_human,\n",
    "                  anno_columns_to_add=anno_human.columns,\n",
    "                  rsuffix='_R')"
   ]
  },
  {
   "cell_type": "code",
   "execution_count": null,
   "id": "cde98e08-c65f-4f3e-963c-93f00d270638",
   "metadata": {},
   "outputs": [],
   "source": [
    "scanpy_genes = pd.DataFrame(adata_all_human.var.index,columns = ['scanpy_gene'])\n",
    "scanpy_genes.to_csv(os.path.join(base_table_path,pre + 'human_scanpy_genes.csv'))"
   ]
  },
  {
   "cell_type": "code",
   "execution_count": null,
   "id": "2e5b6d33-cd33-41dd-9c58-2f92a660bb78",
   "metadata": {},
   "outputs": [],
   "source": [
    "adata_all_human = h.filter_adata_obs(adata_all_human,col_name='QC_summary',val='passed_QC')"
   ]
  },
  {
   "cell_type": "code",
   "execution_count": null,
   "id": "fa626b71-7ff4-47e8-afa1-7cdcceca76eb",
   "metadata": {},
   "outputs": [],
   "source": [
    "adata_all_human.obs = pd.DataFrame(index=adata_all_human.obs.index)"
   ]
  },
  {
   "cell_type": "code",
   "execution_count": null,
   "id": "2ec70b49-5b01-44e6-93a7-bd0f144f48c2",
   "metadata": {},
   "outputs": [],
   "source": [
    "adata_all_human.obs = pd.merge(adata_all_human.obs, clusteranno_s0140, left_index=True, right_index=True)"
   ]
  },
  {
   "cell_type": "code",
   "execution_count": null,
   "id": "b6c29abd-1224-4170-8e66-7cb81ef10c9c",
   "metadata": {},
   "outputs": [],
   "source": [
    "adata_all_human.write(os.path.join(base_anndata_objects,pre + '_adata_human_final_CCC.h5ad'))"
   ]
  },
  {
   "cell_type": "markdown",
   "id": "ceac1219-e6f3-4881-b027-641fd67cf984",
   "metadata": {},
   "source": [
    "## Save session"
   ]
  },
  {
   "cell_type": "code",
   "execution_count": null,
   "id": "99d2bd6d-1e9f-49b3-97c8-99396cb16e36",
   "metadata": {},
   "outputs": [],
   "source": [
    "base_package_version_path = h.return_package_version_local_path(drive=drive)\n",
    "h.save_package_versions(base_package_version_path,pre,do_print = True)\n",
    "h.print_main_versions()"
   ]
  },
  {
   "cell_type": "code",
   "execution_count": null,
   "id": "78a6f3b2-51c4-4898-8f29-f66ed1584744",
   "metadata": {},
   "outputs": [],
   "source": []
  }
 ],
 "metadata": {
  "kernelspec": {
   "display_name": "Python 3 (ipykernel)",
   "language": "python",
   "name": "python3"
  },
  "language_info": {
   "codemirror_mode": {
    "name": "ipython",
    "version": 3
   },
   "file_extension": ".py",
   "mimetype": "text/x-python",
   "name": "python",
   "nbconvert_exporter": "python",
   "pygments_lexer": "ipython3",
   "version": "3.8.19"
  }
 },
 "nbformat": 4,
 "nbformat_minor": 5
}
