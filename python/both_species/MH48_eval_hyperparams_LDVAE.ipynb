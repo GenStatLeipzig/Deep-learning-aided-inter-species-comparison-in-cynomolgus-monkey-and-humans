{
 "cells": [
  {
   "cell_type": "code",
   "execution_count": null,
   "id": "aa6e9812",
   "metadata": {},
   "outputs": [],
   "source": [
    "import numpy as np\n",
    "import torch\n",
    "import scanpy as sc\n",
    "import matplotlib.pyplot as plt\n",
    "#import torchmetrics\n",
    "from torchmetrics.utilities.data import dim_zero_sum \n",
    "import sys\n",
    "import os\n",
    "path_helper = [\"C:\\\\\",\"Users\",\"vfriedrich\",\"projects\",\"monkey_IZI\",\"git_documentation\",\"scRNAseq_cross_species_primate_human\",\"analysis\",\"helper\"]\n",
    "sys.path.append(os.path.join(*path_helper))\n",
    "import helperVDF as h\n",
    "print(sys.executable)\n",
    "#import scarches\n",
    "import anndata\n",
    "import pandas as pd\n",
    "import scvi"
   ]
  },
  {
   "cell_type": "code",
   "execution_count": null,
   "id": "f57b11bd",
   "metadata": {},
   "outputs": [],
   "source": [
    "pre = \"MH48\"\n",
    "drive = 'F'\n",
    "base_model_path,base_table_path,base_plots_path,base_anndata_objects = h.return_local_paths(drive = drive,\n",
    "                                                                              pre = pre,\n",
    "                                                                              add_path = True)"
   ]
  },
  {
   "cell_type": "code",
   "execution_count": null,
   "id": "99ad3a2c",
   "metadata": {},
   "outputs": [],
   "source": [
    "base_model_path_MH46,_,_,base_anndata_objects_MH46 = h.return_local_paths(drive = drive,\n",
    "                                                                              pre = 'MH46',\n",
    "                                                                              add_path = False)"
   ]
  },
  {
   "cell_type": "code",
   "execution_count": null,
   "id": "3ed3a797",
   "metadata": {},
   "outputs": [],
   "source": [
    "test_adata = sc.read_h5ad(os.path.join(base_anndata_objects_MH46,'MH46_test_adata_hyperparameter.h5ad'))"
   ]
  },
  {
   "cell_type": "code",
   "execution_count": null,
   "id": "f91a68c6",
   "metadata": {},
   "outputs": [],
   "source": [
    "n_latents = [6,8,10,12]\n",
    "batch_sizes = [8,16,32,64]"
   ]
  },
  {
   "cell_type": "code",
   "execution_count": null,
   "id": "e1d4c0b0",
   "metadata": {},
   "outputs": [],
   "source": [
    "df_eval = pd.DataFrame(columns = ['tool','n_latent','batch_size','MSE_test'])\n",
    "X = test_adata.X.toarray()\n",
    "for n_latent in n_latents:\n",
    "    for batch_size in batch_sizes:\n",
    "        load_string = os.path.join(\n",
    "            base_model_path_MH46,'MH46_LDVAE_model_nlat' + str(n_latent) + '_bs' + str(batch_size)  + '.pt')\n",
    "        model = scvi.model.LinearSCVI.load(load_string)\n",
    "        reconstructed_X = model.get_normalized_expression(adata = test_adata).values\n",
    "        mse = np.mean((X - reconstructed_X) ** 2)\n",
    "        row_to_add = pd.DataFrame(['LDVAE',n_latent,batch_size,mse],index = ['tool','n_latent','batch_size','MSE_test']).T\n",
    "        df_eval = df_eval.append(row_to_add) "
   ]
  },
  {
   "cell_type": "code",
   "execution_count": null,
   "id": "2fa9a88e",
   "metadata": {},
   "outputs": [],
   "source": [
    "df_eval['rank_MSE_test'] = df_eval['MSE_test'].rank(ascending=True).astype(int)\n",
    "df_eval.to_csv(os.path.join(base_table_path,pre + '_df_eval_hypserach_LDVAE.csv'))"
   ]
  },
  {
   "cell_type": "code",
   "execution_count": null,
   "id": "0ed3fdcd",
   "metadata": {},
   "outputs": [],
   "source": [
    "df_eval"
   ]
  },
  {
   "cell_type": "code",
   "execution_count": null,
   "id": "344ca442",
   "metadata": {},
   "outputs": [],
   "source": [
    "df_eval[df_eval['rank_MSE_test'] == 1]"
   ]
  },
  {
   "cell_type": "code",
   "execution_count": null,
   "id": "9fecc6f6",
   "metadata": {},
   "outputs": [],
   "source": [
    "base_package_version_path = h.return_package_version_local_path(drive=drive)\n",
    "h.save_package_versions(base_package_version_path,pre,do_print = True)\n",
    "h.print_main_versions()"
   ]
  }
 ],
 "metadata": {
  "kernelspec": {
   "display_name": "Python 3 (ipykernel)",
   "language": "python",
   "name": "python3"
  },
  "language_info": {
   "codemirror_mode": {
    "name": "ipython",
    "version": 3
   },
   "file_extension": ".py",
   "mimetype": "text/x-python",
   "name": "python",
   "nbconvert_exporter": "python",
   "pygments_lexer": "ipython3",
   "version": "3.8.19"
  }
 },
 "nbformat": 4,
 "nbformat_minor": 5
}
