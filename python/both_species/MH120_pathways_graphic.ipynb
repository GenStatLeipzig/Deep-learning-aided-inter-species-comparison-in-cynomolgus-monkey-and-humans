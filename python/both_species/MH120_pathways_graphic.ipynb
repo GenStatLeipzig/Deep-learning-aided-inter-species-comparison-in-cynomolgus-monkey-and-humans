{
 "cells": [
  {
   "cell_type": "code",
   "execution_count": null,
   "id": "8d951095-5903-40ff-9304-4c10d8362a5a",
   "metadata": {},
   "outputs": [],
   "source": [
    "import numpy as np\n",
    "import scanpy as sc\n",
    "import seaborn as sns\n",
    "import os\n",
    "import pandas as pd\n",
    "import matplotlib.pyplot as plt\n",
    "import warnings\n",
    "import sys\n",
    "import pickle as pkl\n",
    "path_helper = [\"C:\\\\\",\"Users\",\"vfriedrich\",\"projects\",\"monkey_IZI\",\"git_documentation\",\"scRNAseq_cross_species_primate_human\",\"analysis\",\"helper\"]\n",
    "sys.path.append(os.path.join(*path_helper))\n",
    "import helperVDF as h\n",
    "#import decoupler\n",
    "print(sys.executable)\n",
    "import gseapy\n",
    "from gseapy.plot import barplot, dotplot\n",
    "warnings.filterwarnings(\"ignore\")\n",
    "import re\n",
    "from matplotlib.colors import Normalize"
   ]
  },
  {
   "cell_type": "code",
   "execution_count": null,
   "id": "b8e4079c-b450-4992-8b9e-898dd585bfc9",
   "metadata": {},
   "outputs": [],
   "source": [
    "pre = \"MH120\"\n",
    "drive = 'F'\n",
    "base_model_path,base_table_path,base_plots_path,base_anndata_objects = h.return_local_paths(drive = drive,\n",
    "                                                                                            pre = pre,\n",
    "                                                                                            add_path = True)\n",
    "def remove_go(term):\n",
    "    # Use regular expression to find and replace GO terms, ensuring the string is treated as a raw string\n",
    "    new_term = re.sub(r'\\s*\\(GO:\\d+\\)', '', term)  # Corrected regex finds the GO term pattern and removes it\n",
    "    return new_term.strip() \n",
    "\n",
    "col_human =  \"#e35e28\"\n",
    "col_cyno =\"#31c7ba\"\n",
    "_,base_table_path_MH115,_,_ = h.return_local_paths(drive = drive,pre = 'MH115',add_path = True)"
   ]
  },
  {
   "cell_type": "code",
   "execution_count": null,
   "id": "97ca0e4e-1a9d-4f7d-9cdd-0df0d6adac67",
   "metadata": {},
   "outputs": [],
   "source": [
    "df_all_pathways = pd.read_csv(os.path.join(base_table_path_MH115,'MH115_all_df_pathways_.csv'),index_col=0)"
   ]
  },
  {
   "cell_type": "code",
   "execution_count": null,
   "id": "5bb88d91-f65d-4109-a82f-c62ef22a2ada",
   "metadata": {},
   "outputs": [],
   "source": [
    "#species = 'cyno'\n",
    "conditions  = ['timepoints06hr','timepoints24hr']\n",
    "celltypes_cyno = ['CD4_T', 'CD14_Mono', 'NKProliferating', 'CD8_T', 'B', 'MAIT', 'dnT']\n",
    "celltypes_human = ['CD4_T', 'CD14_Mono', 'NKProliferating', 'CD8_T', 'B', 'MAIT']\n",
    "celltypes_both = list(set(celltypes_human)&set(celltypes_cyno))\n",
    "\n",
    "celltypes_both  = ['NKProliferating', 'B', 'CD4_T','MAIT', 'CD14_Mono','CD8_T']"
   ]
  },
  {
   "cell_type": "code",
   "execution_count": null,
   "id": "42d8a88d-ff85-4226-b665-e81bd7deb761",
   "metadata": {},
   "outputs": [],
   "source": [
    "heatmap_datas = []\n",
    "for celltype in celltypes_both:\n",
    "    pathways_to_show_ct = []\n",
    "    for condition in conditions:\n",
    "        df_filt_cyno = df_all_pathways[(df_all_pathways['species'] == 'cyno')&(df_all_pathways['celltype'] == celltype)&(df_all_pathways['comparison.vs.00hr'] == condition)]\n",
    "        df_filt_human = df_all_pathways[(df_all_pathways['species'] == 'human')&(df_all_pathways['celltype'] == celltype)&(df_all_pathways['comparison.vs.00hr'] == condition)]\n",
    "        list_coenriched_cyno_human = list(set(list(df_filt_human['Term']))&set(list(df_filt_cyno['Term'])))\n",
    "        if len(list_coenriched_cyno_human) > 0:\n",
    "            df_filt_cyno = df_filt_cyno[df_filt_cyno['Term'].isin(list_coenriched_cyno_human)]\n",
    "            df_filt_human = df_filt_human[df_filt_human['Term'].isin(list_coenriched_cyno_human)]\n",
    "        if len(df_filt_human) > 0:\n",
    "            pathways_to_show_ct.append(df_filt_human.head(1).Term.values[0])\n",
    "        if len(df_filt_cyno) > 0:\n",
    "            pathways_to_show_ct.append(df_filt_cyno.head(1).Term.values[0])\n",
    "    \n",
    "    filtered_df = df_all_pathways[(df_all_pathways['celltype'] == celltype) & df_all_pathways['Term'].isin(pathways_to_show_ct)]\n",
    "    filtered_df['species_condition'] = filtered_df['species'] + ' - ' + filtered_df['comparison.vs.00hr'].apply(lambda x: x[-4:])\n",
    "    heatmap_data = filtered_df.pivot_table(index='short_term', columns='species_condition', values='Log Odds Ratio')\n",
    "    heatmap_data['celltype'] = celltype\n",
    "    heatmap_datas.append(heatmap_data) \n",
    "    \n",
    "    '''\n",
    "    plt.figure(figsize=(4, 1))\n",
    "    norm = Normalize(vmin=0, vmax=6)\n",
    "    sns.heatmap(heatmap_data, cmap='Reds', annot=True, linewidths=.8,linecolor = 'black',norm=norm)\n",
    "    plt.title(celltype)\n",
    "    plt.xticks(rotation=0)\n",
    "    plt.yticks(rotation=0)\n",
    "    plt.show()\n",
    "    '''"
   ]
  },
  {
   "cell_type": "code",
   "execution_count": null,
   "id": "8678e47e-2638-497e-a21d-e8b1b474e1de",
   "metadata": {},
   "outputs": [],
   "source": [
    "heatmap_datas"
   ]
  },
  {
   "cell_type": "code",
   "execution_count": null,
   "id": "5915c275-ac1f-4cfe-9fd1-9349d530f49d",
   "metadata": {},
   "outputs": [],
   "source": [
    "heatmap_data_all = pd.concat(heatmap_datas)"
   ]
  },
  {
   "cell_type": "code",
   "execution_count": null,
   "id": "451b0c83-7113-4808-a10e-9f1e9377f897",
   "metadata": {},
   "outputs": [],
   "source": [
    "heatmap_data_all"
   ]
  },
  {
   "cell_type": "code",
   "execution_count": null,
   "id": "b93dd7d4-c55c-4f11-a78d-36d401cd97c1",
   "metadata": {},
   "outputs": [],
   "source": [
    "columns_order = ['cyno - 06hr', 'human - 06hr', 'cyno - 24hr', 'human - 24hr','celltype']\n",
    "heatmap_data_all = heatmap_data_all[columns_order]"
   ]
  },
  {
   "cell_type": "code",
   "execution_count": null,
   "id": "1cd2fe32-b948-4188-91ef-e5e188f5c041",
   "metadata": {},
   "outputs": [],
   "source": [
    "heatmap_data_all.to_csv(os.path.join(base_table_path,pre + '_heatmap_data_all.csv')) "
   ]
  },
  {
   "cell_type": "code",
   "execution_count": null,
   "id": "f1963cba-3492-40cd-afe9-df8a26a70068",
   "metadata": {},
   "outputs": [],
   "source": [
    "plt.figure(figsize=(7, 6))\n",
    "norm = Normalize(vmin=0, vmax=12)\n",
    "\n",
    "# Prepare the heatmap without the 'celltype' column\n",
    "heatmap_ax = sns.heatmap(heatmap_data_all.drop('celltype', axis=1), cmap='Reds', annot=False, linewidths=.8, linecolor='black', norm=norm)\n",
    "\n",
    "# Set the tick rotation\n",
    "plt.xticks(rotation=0)\n",
    "plt.yticks(rotation=0)\n",
    "\n",
    "# Set y-tick labels to be bold\n",
    "plt.gca().set_yticklabels(plt.gca().get_yticklabels(), fontweight='bold')\n",
    "\n",
    "# Create a color bar with a title\n",
    "cbar = heatmap_ax.collections[0].colorbar\n",
    "cbar.set_label('log odds ratio',labelpad=10)  \n",
    "plt.savefig(os.path.join(base_plots_path,pre + '_heatmap_pathways.pdf'),bbox_inches='tight')\n",
    "plt.show()"
   ]
  },
  {
   "cell_type": "markdown",
   "id": "30a801f6-a594-4524-941a-a401a3a7670b",
   "metadata": {},
   "source": [
    "save session"
   ]
  },
  {
   "cell_type": "code",
   "execution_count": null,
   "id": "6555b562-ec24-4cc8-8a34-cfa4fafd904f",
   "metadata": {},
   "outputs": [],
   "source": [
    "base_package_version_path = h.return_package_version_local_path(drive=drive)\n",
    "h.save_package_versions(base_package_version_path,pre,do_print = True)\n",
    "h.print_main_versions()"
   ]
  }
 ],
 "metadata": {
  "kernelspec": {
   "display_name": "Python 3 (ipykernel)",
   "language": "python",
   "name": "python3"
  },
  "language_info": {
   "codemirror_mode": {
    "name": "ipython",
    "version": 3
   },
   "file_extension": ".py",
   "mimetype": "text/x-python",
   "name": "python",
   "nbconvert_exporter": "python",
   "pygments_lexer": "ipython3",
   "version": "3.8.19"
  }
 },
 "nbformat": 4,
 "nbformat_minor": 5
}
